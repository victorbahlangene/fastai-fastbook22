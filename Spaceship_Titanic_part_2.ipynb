{
  "nbformat": 4,
  "nbformat_minor": 0,
  "metadata": {
    "colab": {
      "provenance": [],
      "collapsed_sections": [],
      "toc_visible": true,
      "authorship_tag": "ABX9TyN2sU8X5eCrmaVro+lV38LS",
      "include_colab_link": true
    },
    "kernelspec": {
      "name": "python3",
      "display_name": "Python 3"
    },
    "language_info": {
      "name": "python"
    },
    "gpuClass": "standard",
    "accelerator": "GPU"
  },
  "cells": [
    {
      "cell_type": "markdown",
      "metadata": {
        "id": "view-in-github",
        "colab_type": "text"
      },
      "source": [
        "<a href=\"https://colab.research.google.com/github/victorbahlangene/fastai-fastbook22/blob/main/Spaceship_Titanic_part_2.ipynb\" target=\"_parent\"><img src=\"https://colab.research.google.com/assets/colab-badge.svg\" alt=\"Open In Colab\"/></a>"
      ]
    },
    {
      "cell_type": "markdown",
      "source": [
        "# setup"
      ],
      "metadata": {
        "id": "SgrHGZ1ftu5a"
      }
    },
    {
      "cell_type": "code",
      "source": [
        "# to use kaggle api #\n",
        "!pip install kaggle"
      ],
      "metadata": {
        "colab": {
          "base_uri": "https://localhost:8080/"
        },
        "id": "KSdOYFRZuCGl",
        "outputId": "f4ee464c-68fd-4b42-aea8-0bd890080938"
      },
      "execution_count": 7,
      "outputs": [
        {
          "output_type": "stream",
          "name": "stdout",
          "text": [
            "Looking in indexes: https://pypi.org/simple, https://us-python.pkg.dev/colab-wheels/public/simple/\n",
            "Requirement already satisfied: kaggle in /usr/local/lib/python3.7/dist-packages (1.5.12)\n",
            "Requirement already satisfied: tqdm in /usr/local/lib/python3.7/dist-packages (from kaggle) (4.64.0)\n",
            "Requirement already satisfied: python-slugify in /usr/local/lib/python3.7/dist-packages (from kaggle) (6.1.2)\n",
            "Requirement already satisfied: six>=1.10 in /usr/local/lib/python3.7/dist-packages (from kaggle) (1.15.0)\n",
            "Requirement already satisfied: requests in /usr/local/lib/python3.7/dist-packages (from kaggle) (2.23.0)\n",
            "Requirement already satisfied: urllib3 in /usr/local/lib/python3.7/dist-packages (from kaggle) (1.24.3)\n",
            "Requirement already satisfied: python-dateutil in /usr/local/lib/python3.7/dist-packages (from kaggle) (2.8.2)\n",
            "Requirement already satisfied: certifi in /usr/local/lib/python3.7/dist-packages (from kaggle) (2022.6.15)\n",
            "Requirement already satisfied: text-unidecode>=1.3 in /usr/local/lib/python3.7/dist-packages (from python-slugify->kaggle) (1.3)\n",
            "Requirement already satisfied: idna<3,>=2.5 in /usr/local/lib/python3.7/dist-packages (from requests->kaggle) (2.10)\n",
            "Requirement already satisfied: chardet<4,>=3.0.2 in /usr/local/lib/python3.7/dist-packages (from requests->kaggle) (3.0.4)\n"
          ]
        }
      ]
    },
    {
      "cell_type": "code",
      "source": [
        "# kaggle API creds #\n",
        "creds = '{\"username\":\"victorbahlangene\",\"key\":\"2cd1abe2f1c35ea3060e6a2f18a055ea\"}'"
      ],
      "metadata": {
        "id": "U_7rCnmZuB-W"
      },
      "execution_count": 8,
      "outputs": []
    },
    {
      "cell_type": "code",
      "source": [
        "from pathlib import Path\n",
        "\n",
        "cred_path = Path('~/.kaggle/kaggle.json').expanduser()\n",
        "if not cred_path.exists():\n",
        "    cred_path.parent.mkdir(exist_ok=True)\n",
        "    cred_path.write_text(creds)\n",
        "    cred_path.chmod(0o600)"
      ],
      "metadata": {
        "id": "Jxf0sGdluB3G"
      },
      "execution_count": 9,
      "outputs": []
    },
    {
      "cell_type": "code",
      "source": [
        "# install fastkaggle if not available\n",
        "try: import fastkaggle\n",
        "except ModuleNotFoundError:\n",
        "    !pip install -q fastkaggle\n",
        "\n",
        "from fastkaggle import *"
      ],
      "metadata": {
        "id": "rll_o8MmuBue"
      },
      "execution_count": 10,
      "outputs": []
    },
    {
      "cell_type": "code",
      "source": [
        "comp = 'spaceship-titanic'\n",
        "path = setup_comp(comp, install='\"fastcore>=1.4.5\" \"fastai>=2.7.1\" \"timm>=0.6.2.dev0\"')\n",
        "\n",
        "from fastai.tabular.all import *\n",
        "set_seed(42)"
      ],
      "metadata": {
        "id": "bV36g5e-ul7C"
      },
      "execution_count": 11,
      "outputs": []
    },
    {
      "cell_type": "code",
      "source": [
        "path"
      ],
      "metadata": {
        "colab": {
          "base_uri": "https://localhost:8080/"
        },
        "id": "hywzU9Bpu4vR",
        "outputId": "28c78c7d-9676-44cb-c3e0-729522ede7d3"
      },
      "execution_count": 12,
      "outputs": [
        {
          "output_type": "execute_result",
          "data": {
            "text/plain": [
              "Path('spaceship-titanic')"
            ]
          },
          "metadata": {},
          "execution_count": 12
        }
      ]
    },
    {
      "cell_type": "markdown",
      "source": [
        "# data"
      ],
      "metadata": {
        "id": "eDJSIXJltvwx"
      }
    },
    {
      "cell_type": "code",
      "source": [
        "path.ls()"
      ],
      "metadata": {
        "colab": {
          "base_uri": "https://localhost:8080/"
        },
        "id": "43nD7veNuDtx",
        "outputId": "56109679-be71-4d6b-bd28-01efcc95dbef"
      },
      "execution_count": 13,
      "outputs": [
        {
          "output_type": "execute_result",
          "data": {
            "text/plain": [
              "(#3) [Path('spaceship-titanic/train.csv'),Path('spaceship-titanic/test.csv'),Path('spaceship-titanic/sample_submission.csv')]"
            ]
          },
          "metadata": {},
          "execution_count": 13
        }
      ]
    },
    {
      "cell_type": "code",
      "source": [
        "df = pd.read_csv(path/\"train.csv\")\n",
        "df.head(20)"
      ],
      "metadata": {
        "colab": {
          "base_uri": "https://localhost:8080/",
          "height": 1000
        },
        "id": "1_FvUoScuDlV",
        "outputId": "7219fa10-9a72-4606-ea62-90cb531a62f6"
      },
      "execution_count": 14,
      "outputs": [
        {
          "output_type": "execute_result",
          "data": {
            "text/plain": [
              "   PassengerId HomePlanet CryoSleep  Cabin    Destination   Age    VIP  \\\n",
              "0      0001_01     Europa     False  B/0/P    TRAPPIST-1e  39.0  False   \n",
              "1      0002_01      Earth     False  F/0/S    TRAPPIST-1e  24.0  False   \n",
              "2      0003_01     Europa     False  A/0/S    TRAPPIST-1e  58.0   True   \n",
              "3      0003_02     Europa     False  A/0/S    TRAPPIST-1e  33.0  False   \n",
              "4      0004_01      Earth     False  F/1/S    TRAPPIST-1e  16.0  False   \n",
              "5      0005_01      Earth     False  F/0/P  PSO J318.5-22  44.0  False   \n",
              "6      0006_01      Earth     False  F/2/S    TRAPPIST-1e  26.0  False   \n",
              "7      0006_02      Earth      True  G/0/S    TRAPPIST-1e  28.0  False   \n",
              "8      0007_01      Earth     False  F/3/S    TRAPPIST-1e  35.0  False   \n",
              "9      0008_01     Europa      True  B/1/P    55 Cancri e  14.0  False   \n",
              "10     0008_02     Europa      True  B/1/P    TRAPPIST-1e  34.0  False   \n",
              "11     0008_03     Europa     False  B/1/P    55 Cancri e  45.0  False   \n",
              "12     0009_01       Mars     False  F/1/P    TRAPPIST-1e  32.0  False   \n",
              "13     0010_01      Earth     False  G/1/S    TRAPPIST-1e  48.0  False   \n",
              "14     0011_01      Earth     False  F/2/P    TRAPPIST-1e  28.0  False   \n",
              "15     0012_01      Earth     False    NaN    TRAPPIST-1e  31.0  False   \n",
              "16     0014_01       Mars     False  F/3/P    55 Cancri e  27.0  False   \n",
              "17     0015_01      Earth     False  F/4/P    55 Cancri e  24.0  False   \n",
              "18     0016_01       Mars      True  F/5/P    TRAPPIST-1e  45.0  False   \n",
              "19     0017_01      Earth     False  G/0/P    TRAPPIST-1e   0.0  False   \n",
              "\n",
              "    RoomService  FoodCourt  ShoppingMall     Spa  VRDeck                Name  \\\n",
              "0           0.0        0.0           0.0     0.0     0.0     Maham Ofracculy   \n",
              "1         109.0        9.0          25.0   549.0    44.0        Juanna Vines   \n",
              "2          43.0     3576.0           0.0  6715.0    49.0       Altark Susent   \n",
              "3           0.0     1283.0         371.0  3329.0   193.0        Solam Susent   \n",
              "4         303.0       70.0         151.0   565.0     2.0   Willy Santantines   \n",
              "5           0.0      483.0           0.0   291.0     0.0   Sandie Hinetthews   \n",
              "6          42.0     1539.0           3.0     0.0     0.0  Billex Jacostaffey   \n",
              "7           0.0        0.0           0.0     0.0     NaN  Candra Jacostaffey   \n",
              "8           0.0      785.0          17.0   216.0     0.0       Andona Beston   \n",
              "9           0.0        0.0           0.0     0.0     0.0      Erraiam Flatic   \n",
              "10          0.0        0.0           NaN     0.0     0.0      Altardr Flatic   \n",
              "11         39.0     7295.0         589.0   110.0   124.0       Wezena Flatic   \n",
              "12         73.0        0.0        1123.0     0.0   113.0        Berers Barne   \n",
              "13        719.0        1.0          65.0     0.0    24.0      Reney Baketton   \n",
              "14          8.0      974.0          12.0     2.0     7.0     Elle Bertsontry   \n",
              "15         32.0        0.0         876.0     0.0     0.0       Justie Pooles   \n",
              "16       1286.0      122.0           NaN     0.0     0.0         Flats Eccle   \n",
              "17          0.0        1.0           0.0     0.0   637.0     Carry Hughriend   \n",
              "18          0.0        0.0           0.0     0.0     0.0          Alus Upead   \n",
              "19          0.0        0.0           0.0     0.0     0.0       Lyde Brighttt   \n",
              "\n",
              "    Transported  \n",
              "0         False  \n",
              "1          True  \n",
              "2         False  \n",
              "3         False  \n",
              "4          True  \n",
              "5          True  \n",
              "6          True  \n",
              "7          True  \n",
              "8          True  \n",
              "9          True  \n",
              "10         True  \n",
              "11         True  \n",
              "12         True  \n",
              "13        False  \n",
              "14         True  \n",
              "15        False  \n",
              "16        False  \n",
              "17        False  \n",
              "18         True  \n",
              "19         True  "
            ],
            "text/html": [
              "\n",
              "  <div id=\"df-0fca25fc-facc-49d6-a29a-5f04718b1f8c\">\n",
              "    <div class=\"colab-df-container\">\n",
              "      <div>\n",
              "<style scoped>\n",
              "    .dataframe tbody tr th:only-of-type {\n",
              "        vertical-align: middle;\n",
              "    }\n",
              "\n",
              "    .dataframe tbody tr th {\n",
              "        vertical-align: top;\n",
              "    }\n",
              "\n",
              "    .dataframe thead th {\n",
              "        text-align: right;\n",
              "    }\n",
              "</style>\n",
              "<table border=\"1\" class=\"dataframe\">\n",
              "  <thead>\n",
              "    <tr style=\"text-align: right;\">\n",
              "      <th></th>\n",
              "      <th>PassengerId</th>\n",
              "      <th>HomePlanet</th>\n",
              "      <th>CryoSleep</th>\n",
              "      <th>Cabin</th>\n",
              "      <th>Destination</th>\n",
              "      <th>Age</th>\n",
              "      <th>VIP</th>\n",
              "      <th>RoomService</th>\n",
              "      <th>FoodCourt</th>\n",
              "      <th>ShoppingMall</th>\n",
              "      <th>Spa</th>\n",
              "      <th>VRDeck</th>\n",
              "      <th>Name</th>\n",
              "      <th>Transported</th>\n",
              "    </tr>\n",
              "  </thead>\n",
              "  <tbody>\n",
              "    <tr>\n",
              "      <th>0</th>\n",
              "      <td>0001_01</td>\n",
              "      <td>Europa</td>\n",
              "      <td>False</td>\n",
              "      <td>B/0/P</td>\n",
              "      <td>TRAPPIST-1e</td>\n",
              "      <td>39.0</td>\n",
              "      <td>False</td>\n",
              "      <td>0.0</td>\n",
              "      <td>0.0</td>\n",
              "      <td>0.0</td>\n",
              "      <td>0.0</td>\n",
              "      <td>0.0</td>\n",
              "      <td>Maham Ofracculy</td>\n",
              "      <td>False</td>\n",
              "    </tr>\n",
              "    <tr>\n",
              "      <th>1</th>\n",
              "      <td>0002_01</td>\n",
              "      <td>Earth</td>\n",
              "      <td>False</td>\n",
              "      <td>F/0/S</td>\n",
              "      <td>TRAPPIST-1e</td>\n",
              "      <td>24.0</td>\n",
              "      <td>False</td>\n",
              "      <td>109.0</td>\n",
              "      <td>9.0</td>\n",
              "      <td>25.0</td>\n",
              "      <td>549.0</td>\n",
              "      <td>44.0</td>\n",
              "      <td>Juanna Vines</td>\n",
              "      <td>True</td>\n",
              "    </tr>\n",
              "    <tr>\n",
              "      <th>2</th>\n",
              "      <td>0003_01</td>\n",
              "      <td>Europa</td>\n",
              "      <td>False</td>\n",
              "      <td>A/0/S</td>\n",
              "      <td>TRAPPIST-1e</td>\n",
              "      <td>58.0</td>\n",
              "      <td>True</td>\n",
              "      <td>43.0</td>\n",
              "      <td>3576.0</td>\n",
              "      <td>0.0</td>\n",
              "      <td>6715.0</td>\n",
              "      <td>49.0</td>\n",
              "      <td>Altark Susent</td>\n",
              "      <td>False</td>\n",
              "    </tr>\n",
              "    <tr>\n",
              "      <th>3</th>\n",
              "      <td>0003_02</td>\n",
              "      <td>Europa</td>\n",
              "      <td>False</td>\n",
              "      <td>A/0/S</td>\n",
              "      <td>TRAPPIST-1e</td>\n",
              "      <td>33.0</td>\n",
              "      <td>False</td>\n",
              "      <td>0.0</td>\n",
              "      <td>1283.0</td>\n",
              "      <td>371.0</td>\n",
              "      <td>3329.0</td>\n",
              "      <td>193.0</td>\n",
              "      <td>Solam Susent</td>\n",
              "      <td>False</td>\n",
              "    </tr>\n",
              "    <tr>\n",
              "      <th>4</th>\n",
              "      <td>0004_01</td>\n",
              "      <td>Earth</td>\n",
              "      <td>False</td>\n",
              "      <td>F/1/S</td>\n",
              "      <td>TRAPPIST-1e</td>\n",
              "      <td>16.0</td>\n",
              "      <td>False</td>\n",
              "      <td>303.0</td>\n",
              "      <td>70.0</td>\n",
              "      <td>151.0</td>\n",
              "      <td>565.0</td>\n",
              "      <td>2.0</td>\n",
              "      <td>Willy Santantines</td>\n",
              "      <td>True</td>\n",
              "    </tr>\n",
              "    <tr>\n",
              "      <th>5</th>\n",
              "      <td>0005_01</td>\n",
              "      <td>Earth</td>\n",
              "      <td>False</td>\n",
              "      <td>F/0/P</td>\n",
              "      <td>PSO J318.5-22</td>\n",
              "      <td>44.0</td>\n",
              "      <td>False</td>\n",
              "      <td>0.0</td>\n",
              "      <td>483.0</td>\n",
              "      <td>0.0</td>\n",
              "      <td>291.0</td>\n",
              "      <td>0.0</td>\n",
              "      <td>Sandie Hinetthews</td>\n",
              "      <td>True</td>\n",
              "    </tr>\n",
              "    <tr>\n",
              "      <th>6</th>\n",
              "      <td>0006_01</td>\n",
              "      <td>Earth</td>\n",
              "      <td>False</td>\n",
              "      <td>F/2/S</td>\n",
              "      <td>TRAPPIST-1e</td>\n",
              "      <td>26.0</td>\n",
              "      <td>False</td>\n",
              "      <td>42.0</td>\n",
              "      <td>1539.0</td>\n",
              "      <td>3.0</td>\n",
              "      <td>0.0</td>\n",
              "      <td>0.0</td>\n",
              "      <td>Billex Jacostaffey</td>\n",
              "      <td>True</td>\n",
              "    </tr>\n",
              "    <tr>\n",
              "      <th>7</th>\n",
              "      <td>0006_02</td>\n",
              "      <td>Earth</td>\n",
              "      <td>True</td>\n",
              "      <td>G/0/S</td>\n",
              "      <td>TRAPPIST-1e</td>\n",
              "      <td>28.0</td>\n",
              "      <td>False</td>\n",
              "      <td>0.0</td>\n",
              "      <td>0.0</td>\n",
              "      <td>0.0</td>\n",
              "      <td>0.0</td>\n",
              "      <td>NaN</td>\n",
              "      <td>Candra Jacostaffey</td>\n",
              "      <td>True</td>\n",
              "    </tr>\n",
              "    <tr>\n",
              "      <th>8</th>\n",
              "      <td>0007_01</td>\n",
              "      <td>Earth</td>\n",
              "      <td>False</td>\n",
              "      <td>F/3/S</td>\n",
              "      <td>TRAPPIST-1e</td>\n",
              "      <td>35.0</td>\n",
              "      <td>False</td>\n",
              "      <td>0.0</td>\n",
              "      <td>785.0</td>\n",
              "      <td>17.0</td>\n",
              "      <td>216.0</td>\n",
              "      <td>0.0</td>\n",
              "      <td>Andona Beston</td>\n",
              "      <td>True</td>\n",
              "    </tr>\n",
              "    <tr>\n",
              "      <th>9</th>\n",
              "      <td>0008_01</td>\n",
              "      <td>Europa</td>\n",
              "      <td>True</td>\n",
              "      <td>B/1/P</td>\n",
              "      <td>55 Cancri e</td>\n",
              "      <td>14.0</td>\n",
              "      <td>False</td>\n",
              "      <td>0.0</td>\n",
              "      <td>0.0</td>\n",
              "      <td>0.0</td>\n",
              "      <td>0.0</td>\n",
              "      <td>0.0</td>\n",
              "      <td>Erraiam Flatic</td>\n",
              "      <td>True</td>\n",
              "    </tr>\n",
              "    <tr>\n",
              "      <th>10</th>\n",
              "      <td>0008_02</td>\n",
              "      <td>Europa</td>\n",
              "      <td>True</td>\n",
              "      <td>B/1/P</td>\n",
              "      <td>TRAPPIST-1e</td>\n",
              "      <td>34.0</td>\n",
              "      <td>False</td>\n",
              "      <td>0.0</td>\n",
              "      <td>0.0</td>\n",
              "      <td>NaN</td>\n",
              "      <td>0.0</td>\n",
              "      <td>0.0</td>\n",
              "      <td>Altardr Flatic</td>\n",
              "      <td>True</td>\n",
              "    </tr>\n",
              "    <tr>\n",
              "      <th>11</th>\n",
              "      <td>0008_03</td>\n",
              "      <td>Europa</td>\n",
              "      <td>False</td>\n",
              "      <td>B/1/P</td>\n",
              "      <td>55 Cancri e</td>\n",
              "      <td>45.0</td>\n",
              "      <td>False</td>\n",
              "      <td>39.0</td>\n",
              "      <td>7295.0</td>\n",
              "      <td>589.0</td>\n",
              "      <td>110.0</td>\n",
              "      <td>124.0</td>\n",
              "      <td>Wezena Flatic</td>\n",
              "      <td>True</td>\n",
              "    </tr>\n",
              "    <tr>\n",
              "      <th>12</th>\n",
              "      <td>0009_01</td>\n",
              "      <td>Mars</td>\n",
              "      <td>False</td>\n",
              "      <td>F/1/P</td>\n",
              "      <td>TRAPPIST-1e</td>\n",
              "      <td>32.0</td>\n",
              "      <td>False</td>\n",
              "      <td>73.0</td>\n",
              "      <td>0.0</td>\n",
              "      <td>1123.0</td>\n",
              "      <td>0.0</td>\n",
              "      <td>113.0</td>\n",
              "      <td>Berers Barne</td>\n",
              "      <td>True</td>\n",
              "    </tr>\n",
              "    <tr>\n",
              "      <th>13</th>\n",
              "      <td>0010_01</td>\n",
              "      <td>Earth</td>\n",
              "      <td>False</td>\n",
              "      <td>G/1/S</td>\n",
              "      <td>TRAPPIST-1e</td>\n",
              "      <td>48.0</td>\n",
              "      <td>False</td>\n",
              "      <td>719.0</td>\n",
              "      <td>1.0</td>\n",
              "      <td>65.0</td>\n",
              "      <td>0.0</td>\n",
              "      <td>24.0</td>\n",
              "      <td>Reney Baketton</td>\n",
              "      <td>False</td>\n",
              "    </tr>\n",
              "    <tr>\n",
              "      <th>14</th>\n",
              "      <td>0011_01</td>\n",
              "      <td>Earth</td>\n",
              "      <td>False</td>\n",
              "      <td>F/2/P</td>\n",
              "      <td>TRAPPIST-1e</td>\n",
              "      <td>28.0</td>\n",
              "      <td>False</td>\n",
              "      <td>8.0</td>\n",
              "      <td>974.0</td>\n",
              "      <td>12.0</td>\n",
              "      <td>2.0</td>\n",
              "      <td>7.0</td>\n",
              "      <td>Elle Bertsontry</td>\n",
              "      <td>True</td>\n",
              "    </tr>\n",
              "    <tr>\n",
              "      <th>15</th>\n",
              "      <td>0012_01</td>\n",
              "      <td>Earth</td>\n",
              "      <td>False</td>\n",
              "      <td>NaN</td>\n",
              "      <td>TRAPPIST-1e</td>\n",
              "      <td>31.0</td>\n",
              "      <td>False</td>\n",
              "      <td>32.0</td>\n",
              "      <td>0.0</td>\n",
              "      <td>876.0</td>\n",
              "      <td>0.0</td>\n",
              "      <td>0.0</td>\n",
              "      <td>Justie Pooles</td>\n",
              "      <td>False</td>\n",
              "    </tr>\n",
              "    <tr>\n",
              "      <th>16</th>\n",
              "      <td>0014_01</td>\n",
              "      <td>Mars</td>\n",
              "      <td>False</td>\n",
              "      <td>F/3/P</td>\n",
              "      <td>55 Cancri e</td>\n",
              "      <td>27.0</td>\n",
              "      <td>False</td>\n",
              "      <td>1286.0</td>\n",
              "      <td>122.0</td>\n",
              "      <td>NaN</td>\n",
              "      <td>0.0</td>\n",
              "      <td>0.0</td>\n",
              "      <td>Flats Eccle</td>\n",
              "      <td>False</td>\n",
              "    </tr>\n",
              "    <tr>\n",
              "      <th>17</th>\n",
              "      <td>0015_01</td>\n",
              "      <td>Earth</td>\n",
              "      <td>False</td>\n",
              "      <td>F/4/P</td>\n",
              "      <td>55 Cancri e</td>\n",
              "      <td>24.0</td>\n",
              "      <td>False</td>\n",
              "      <td>0.0</td>\n",
              "      <td>1.0</td>\n",
              "      <td>0.0</td>\n",
              "      <td>0.0</td>\n",
              "      <td>637.0</td>\n",
              "      <td>Carry Hughriend</td>\n",
              "      <td>False</td>\n",
              "    </tr>\n",
              "    <tr>\n",
              "      <th>18</th>\n",
              "      <td>0016_01</td>\n",
              "      <td>Mars</td>\n",
              "      <td>True</td>\n",
              "      <td>F/5/P</td>\n",
              "      <td>TRAPPIST-1e</td>\n",
              "      <td>45.0</td>\n",
              "      <td>False</td>\n",
              "      <td>0.0</td>\n",
              "      <td>0.0</td>\n",
              "      <td>0.0</td>\n",
              "      <td>0.0</td>\n",
              "      <td>0.0</td>\n",
              "      <td>Alus Upead</td>\n",
              "      <td>True</td>\n",
              "    </tr>\n",
              "    <tr>\n",
              "      <th>19</th>\n",
              "      <td>0017_01</td>\n",
              "      <td>Earth</td>\n",
              "      <td>False</td>\n",
              "      <td>G/0/P</td>\n",
              "      <td>TRAPPIST-1e</td>\n",
              "      <td>0.0</td>\n",
              "      <td>False</td>\n",
              "      <td>0.0</td>\n",
              "      <td>0.0</td>\n",
              "      <td>0.0</td>\n",
              "      <td>0.0</td>\n",
              "      <td>0.0</td>\n",
              "      <td>Lyde Brighttt</td>\n",
              "      <td>True</td>\n",
              "    </tr>\n",
              "  </tbody>\n",
              "</table>\n",
              "</div>\n",
              "      <button class=\"colab-df-convert\" onclick=\"convertToInteractive('df-0fca25fc-facc-49d6-a29a-5f04718b1f8c')\"\n",
              "              title=\"Convert this dataframe to an interactive table.\"\n",
              "              style=\"display:none;\">\n",
              "        \n",
              "  <svg xmlns=\"http://www.w3.org/2000/svg\" height=\"24px\"viewBox=\"0 0 24 24\"\n",
              "       width=\"24px\">\n",
              "    <path d=\"M0 0h24v24H0V0z\" fill=\"none\"/>\n",
              "    <path d=\"M18.56 5.44l.94 2.06.94-2.06 2.06-.94-2.06-.94-.94-2.06-.94 2.06-2.06.94zm-11 1L8.5 8.5l.94-2.06 2.06-.94-2.06-.94L8.5 2.5l-.94 2.06-2.06.94zm10 10l.94 2.06.94-2.06 2.06-.94-2.06-.94-.94-2.06-.94 2.06-2.06.94z\"/><path d=\"M17.41 7.96l-1.37-1.37c-.4-.4-.92-.59-1.43-.59-.52 0-1.04.2-1.43.59L10.3 9.45l-7.72 7.72c-.78.78-.78 2.05 0 2.83L4 21.41c.39.39.9.59 1.41.59.51 0 1.02-.2 1.41-.59l7.78-7.78 2.81-2.81c.8-.78.8-2.07 0-2.86zM5.41 20L4 18.59l7.72-7.72 1.47 1.35L5.41 20z\"/>\n",
              "  </svg>\n",
              "      </button>\n",
              "      \n",
              "  <style>\n",
              "    .colab-df-container {\n",
              "      display:flex;\n",
              "      flex-wrap:wrap;\n",
              "      gap: 12px;\n",
              "    }\n",
              "\n",
              "    .colab-df-convert {\n",
              "      background-color: #E8F0FE;\n",
              "      border: none;\n",
              "      border-radius: 50%;\n",
              "      cursor: pointer;\n",
              "      display: none;\n",
              "      fill: #1967D2;\n",
              "      height: 32px;\n",
              "      padding: 0 0 0 0;\n",
              "      width: 32px;\n",
              "    }\n",
              "\n",
              "    .colab-df-convert:hover {\n",
              "      background-color: #E2EBFA;\n",
              "      box-shadow: 0px 1px 2px rgba(60, 64, 67, 0.3), 0px 1px 3px 1px rgba(60, 64, 67, 0.15);\n",
              "      fill: #174EA6;\n",
              "    }\n",
              "\n",
              "    [theme=dark] .colab-df-convert {\n",
              "      background-color: #3B4455;\n",
              "      fill: #D2E3FC;\n",
              "    }\n",
              "\n",
              "    [theme=dark] .colab-df-convert:hover {\n",
              "      background-color: #434B5C;\n",
              "      box-shadow: 0px 1px 3px 1px rgba(0, 0, 0, 0.15);\n",
              "      filter: drop-shadow(0px 1px 2px rgba(0, 0, 0, 0.3));\n",
              "      fill: #FFFFFF;\n",
              "    }\n",
              "  </style>\n",
              "\n",
              "      <script>\n",
              "        const buttonEl =\n",
              "          document.querySelector('#df-0fca25fc-facc-49d6-a29a-5f04718b1f8c button.colab-df-convert');\n",
              "        buttonEl.style.display =\n",
              "          google.colab.kernel.accessAllowed ? 'block' : 'none';\n",
              "\n",
              "        async function convertToInteractive(key) {\n",
              "          const element = document.querySelector('#df-0fca25fc-facc-49d6-a29a-5f04718b1f8c');\n",
              "          const dataTable =\n",
              "            await google.colab.kernel.invokeFunction('convertToInteractive',\n",
              "                                                     [key], {});\n",
              "          if (!dataTable) return;\n",
              "\n",
              "          const docLinkHtml = 'Like what you see? Visit the ' +\n",
              "            '<a target=\"_blank\" href=https://colab.research.google.com/notebooks/data_table.ipynb>data table notebook</a>'\n",
              "            + ' to learn more about interactive tables.';\n",
              "          element.innerHTML = '';\n",
              "          dataTable['output_type'] = 'display_data';\n",
              "          await google.colab.output.renderOutput(dataTable, element);\n",
              "          const docLink = document.createElement('div');\n",
              "          docLink.innerHTML = docLinkHtml;\n",
              "          element.appendChild(docLink);\n",
              "        }\n",
              "      </script>\n",
              "    </div>\n",
              "  </div>\n",
              "  "
            ]
          },
          "metadata": {},
          "execution_count": 14
        }
      ]
    },
    {
      "cell_type": "code",
      "source": [
        "df.info()"
      ],
      "metadata": {
        "colab": {
          "base_uri": "https://localhost:8080/"
        },
        "id": "aqfLd9smuDjo",
        "outputId": "644ab684-4ccc-41c6-e66d-bd934693d48c"
      },
      "execution_count": 15,
      "outputs": [
        {
          "output_type": "stream",
          "name": "stdout",
          "text": [
            "<class 'pandas.core.frame.DataFrame'>\n",
            "RangeIndex: 8693 entries, 0 to 8692\n",
            "Data columns (total 14 columns):\n",
            " #   Column        Non-Null Count  Dtype  \n",
            "---  ------        --------------  -----  \n",
            " 0   PassengerId   8693 non-null   object \n",
            " 1   HomePlanet    8492 non-null   object \n",
            " 2   CryoSleep     8476 non-null   object \n",
            " 3   Cabin         8494 non-null   object \n",
            " 4   Destination   8511 non-null   object \n",
            " 5   Age           8514 non-null   float64\n",
            " 6   VIP           8490 non-null   object \n",
            " 7   RoomService   8512 non-null   float64\n",
            " 8   FoodCourt     8510 non-null   float64\n",
            " 9   ShoppingMall  8485 non-null   float64\n",
            " 10  Spa           8510 non-null   float64\n",
            " 11  VRDeck        8505 non-null   float64\n",
            " 12  Name          8493 non-null   object \n",
            " 13  Transported   8693 non-null   bool   \n",
            "dtypes: bool(1), float64(6), object(7)\n",
            "memory usage: 891.5+ KB\n"
          ]
        }
      ]
    },
    {
      "cell_type": "code",
      "source": [
        "df.describe(include=(object))"
      ],
      "metadata": {
        "colab": {
          "base_uri": "https://localhost:8080/",
          "height": 175
        },
        "id": "8tGvxn56uDcj",
        "outputId": "ffe7a023-d107-453a-859e-fb521af73fb2"
      },
      "execution_count": 16,
      "outputs": [
        {
          "output_type": "execute_result",
          "data": {
            "text/plain": [
              "       PassengerId HomePlanet CryoSleep    Cabin  Destination    VIP  \\\n",
              "count         8693       8492      8476     8494         8511   8490   \n",
              "unique        8693          3         2     6560            3      2   \n",
              "top        0001_01      Earth     False  G/734/S  TRAPPIST-1e  False   \n",
              "freq             1       4602      5439        8         5915   8291   \n",
              "\n",
              "                  Name  \n",
              "count             8493  \n",
              "unique            8473  \n",
              "top     Gollux Reedall  \n",
              "freq                 2  "
            ],
            "text/html": [
              "\n",
              "  <div id=\"df-b024dfe5-7bbc-4cf4-ac7c-69fda404483d\">\n",
              "    <div class=\"colab-df-container\">\n",
              "      <div>\n",
              "<style scoped>\n",
              "    .dataframe tbody tr th:only-of-type {\n",
              "        vertical-align: middle;\n",
              "    }\n",
              "\n",
              "    .dataframe tbody tr th {\n",
              "        vertical-align: top;\n",
              "    }\n",
              "\n",
              "    .dataframe thead th {\n",
              "        text-align: right;\n",
              "    }\n",
              "</style>\n",
              "<table border=\"1\" class=\"dataframe\">\n",
              "  <thead>\n",
              "    <tr style=\"text-align: right;\">\n",
              "      <th></th>\n",
              "      <th>PassengerId</th>\n",
              "      <th>HomePlanet</th>\n",
              "      <th>CryoSleep</th>\n",
              "      <th>Cabin</th>\n",
              "      <th>Destination</th>\n",
              "      <th>VIP</th>\n",
              "      <th>Name</th>\n",
              "    </tr>\n",
              "  </thead>\n",
              "  <tbody>\n",
              "    <tr>\n",
              "      <th>count</th>\n",
              "      <td>8693</td>\n",
              "      <td>8492</td>\n",
              "      <td>8476</td>\n",
              "      <td>8494</td>\n",
              "      <td>8511</td>\n",
              "      <td>8490</td>\n",
              "      <td>8493</td>\n",
              "    </tr>\n",
              "    <tr>\n",
              "      <th>unique</th>\n",
              "      <td>8693</td>\n",
              "      <td>3</td>\n",
              "      <td>2</td>\n",
              "      <td>6560</td>\n",
              "      <td>3</td>\n",
              "      <td>2</td>\n",
              "      <td>8473</td>\n",
              "    </tr>\n",
              "    <tr>\n",
              "      <th>top</th>\n",
              "      <td>0001_01</td>\n",
              "      <td>Earth</td>\n",
              "      <td>False</td>\n",
              "      <td>G/734/S</td>\n",
              "      <td>TRAPPIST-1e</td>\n",
              "      <td>False</td>\n",
              "      <td>Gollux Reedall</td>\n",
              "    </tr>\n",
              "    <tr>\n",
              "      <th>freq</th>\n",
              "      <td>1</td>\n",
              "      <td>4602</td>\n",
              "      <td>5439</td>\n",
              "      <td>8</td>\n",
              "      <td>5915</td>\n",
              "      <td>8291</td>\n",
              "      <td>2</td>\n",
              "    </tr>\n",
              "  </tbody>\n",
              "</table>\n",
              "</div>\n",
              "      <button class=\"colab-df-convert\" onclick=\"convertToInteractive('df-b024dfe5-7bbc-4cf4-ac7c-69fda404483d')\"\n",
              "              title=\"Convert this dataframe to an interactive table.\"\n",
              "              style=\"display:none;\">\n",
              "        \n",
              "  <svg xmlns=\"http://www.w3.org/2000/svg\" height=\"24px\"viewBox=\"0 0 24 24\"\n",
              "       width=\"24px\">\n",
              "    <path d=\"M0 0h24v24H0V0z\" fill=\"none\"/>\n",
              "    <path d=\"M18.56 5.44l.94 2.06.94-2.06 2.06-.94-2.06-.94-.94-2.06-.94 2.06-2.06.94zm-11 1L8.5 8.5l.94-2.06 2.06-.94-2.06-.94L8.5 2.5l-.94 2.06-2.06.94zm10 10l.94 2.06.94-2.06 2.06-.94-2.06-.94-.94-2.06-.94 2.06-2.06.94z\"/><path d=\"M17.41 7.96l-1.37-1.37c-.4-.4-.92-.59-1.43-.59-.52 0-1.04.2-1.43.59L10.3 9.45l-7.72 7.72c-.78.78-.78 2.05 0 2.83L4 21.41c.39.39.9.59 1.41.59.51 0 1.02-.2 1.41-.59l7.78-7.78 2.81-2.81c.8-.78.8-2.07 0-2.86zM5.41 20L4 18.59l7.72-7.72 1.47 1.35L5.41 20z\"/>\n",
              "  </svg>\n",
              "      </button>\n",
              "      \n",
              "  <style>\n",
              "    .colab-df-container {\n",
              "      display:flex;\n",
              "      flex-wrap:wrap;\n",
              "      gap: 12px;\n",
              "    }\n",
              "\n",
              "    .colab-df-convert {\n",
              "      background-color: #E8F0FE;\n",
              "      border: none;\n",
              "      border-radius: 50%;\n",
              "      cursor: pointer;\n",
              "      display: none;\n",
              "      fill: #1967D2;\n",
              "      height: 32px;\n",
              "      padding: 0 0 0 0;\n",
              "      width: 32px;\n",
              "    }\n",
              "\n",
              "    .colab-df-convert:hover {\n",
              "      background-color: #E2EBFA;\n",
              "      box-shadow: 0px 1px 2px rgba(60, 64, 67, 0.3), 0px 1px 3px 1px rgba(60, 64, 67, 0.15);\n",
              "      fill: #174EA6;\n",
              "    }\n",
              "\n",
              "    [theme=dark] .colab-df-convert {\n",
              "      background-color: #3B4455;\n",
              "      fill: #D2E3FC;\n",
              "    }\n",
              "\n",
              "    [theme=dark] .colab-df-convert:hover {\n",
              "      background-color: #434B5C;\n",
              "      box-shadow: 0px 1px 3px 1px rgba(0, 0, 0, 0.15);\n",
              "      filter: drop-shadow(0px 1px 2px rgba(0, 0, 0, 0.3));\n",
              "      fill: #FFFFFF;\n",
              "    }\n",
              "  </style>\n",
              "\n",
              "      <script>\n",
              "        const buttonEl =\n",
              "          document.querySelector('#df-b024dfe5-7bbc-4cf4-ac7c-69fda404483d button.colab-df-convert');\n",
              "        buttonEl.style.display =\n",
              "          google.colab.kernel.accessAllowed ? 'block' : 'none';\n",
              "\n",
              "        async function convertToInteractive(key) {\n",
              "          const element = document.querySelector('#df-b024dfe5-7bbc-4cf4-ac7c-69fda404483d');\n",
              "          const dataTable =\n",
              "            await google.colab.kernel.invokeFunction('convertToInteractive',\n",
              "                                                     [key], {});\n",
              "          if (!dataTable) return;\n",
              "\n",
              "          const docLinkHtml = 'Like what you see? Visit the ' +\n",
              "            '<a target=\"_blank\" href=https://colab.research.google.com/notebooks/data_table.ipynb>data table notebook</a>'\n",
              "            + ' to learn more about interactive tables.';\n",
              "          element.innerHTML = '';\n",
              "          dataTable['output_type'] = 'display_data';\n",
              "          await google.colab.output.renderOutput(dataTable, element);\n",
              "          const docLink = document.createElement('div');\n",
              "          docLink.innerHTML = docLinkHtml;\n",
              "          element.appendChild(docLink);\n",
              "        }\n",
              "      </script>\n",
              "    </div>\n",
              "  </div>\n",
              "  "
            ]
          },
          "metadata": {},
          "execution_count": 16
        }
      ]
    },
    {
      "cell_type": "code",
      "source": [
        "df.describe(include=(object)).columns"
      ],
      "metadata": {
        "colab": {
          "base_uri": "https://localhost:8080/"
        },
        "id": "5rGIDCfTy927",
        "outputId": "fe895fc5-b80f-4a51-c2cd-3ef6b76d7d43"
      },
      "execution_count": 17,
      "outputs": [
        {
          "output_type": "execute_result",
          "data": {
            "text/plain": [
              "Index(['PassengerId', 'HomePlanet', 'CryoSleep', 'Cabin', 'Destination', 'VIP',\n",
              "       'Name'],\n",
              "      dtype='object')"
            ]
          },
          "metadata": {},
          "execution_count": 17
        }
      ]
    },
    {
      "cell_type": "code",
      "source": [
        "df.describe()"
      ],
      "metadata": {
        "colab": {
          "base_uri": "https://localhost:8080/",
          "height": 300
        },
        "id": "NVA9uR3huDa8",
        "outputId": "bda08eb1-9d73-4877-c694-18c61ab0c92e"
      },
      "execution_count": 18,
      "outputs": [
        {
          "output_type": "execute_result",
          "data": {
            "text/plain": [
              "               Age   RoomService     FoodCourt  ShoppingMall           Spa  \\\n",
              "count  8514.000000   8512.000000   8510.000000   8485.000000   8510.000000   \n",
              "mean     28.827930    224.687617    458.077203    173.729169    311.138778   \n",
              "std      14.489021    666.717663   1611.489240    604.696458   1136.705535   \n",
              "min       0.000000      0.000000      0.000000      0.000000      0.000000   \n",
              "25%      19.000000      0.000000      0.000000      0.000000      0.000000   \n",
              "50%      27.000000      0.000000      0.000000      0.000000      0.000000   \n",
              "75%      38.000000     47.000000     76.000000     27.000000     59.000000   \n",
              "max      79.000000  14327.000000  29813.000000  23492.000000  22408.000000   \n",
              "\n",
              "             VRDeck  \n",
              "count   8505.000000  \n",
              "mean     304.854791  \n",
              "std     1145.717189  \n",
              "min        0.000000  \n",
              "25%        0.000000  \n",
              "50%        0.000000  \n",
              "75%       46.000000  \n",
              "max    24133.000000  "
            ],
            "text/html": [
              "\n",
              "  <div id=\"df-5766e9bc-948d-4d06-858a-e8b7e9b97057\">\n",
              "    <div class=\"colab-df-container\">\n",
              "      <div>\n",
              "<style scoped>\n",
              "    .dataframe tbody tr th:only-of-type {\n",
              "        vertical-align: middle;\n",
              "    }\n",
              "\n",
              "    .dataframe tbody tr th {\n",
              "        vertical-align: top;\n",
              "    }\n",
              "\n",
              "    .dataframe thead th {\n",
              "        text-align: right;\n",
              "    }\n",
              "</style>\n",
              "<table border=\"1\" class=\"dataframe\">\n",
              "  <thead>\n",
              "    <tr style=\"text-align: right;\">\n",
              "      <th></th>\n",
              "      <th>Age</th>\n",
              "      <th>RoomService</th>\n",
              "      <th>FoodCourt</th>\n",
              "      <th>ShoppingMall</th>\n",
              "      <th>Spa</th>\n",
              "      <th>VRDeck</th>\n",
              "    </tr>\n",
              "  </thead>\n",
              "  <tbody>\n",
              "    <tr>\n",
              "      <th>count</th>\n",
              "      <td>8514.000000</td>\n",
              "      <td>8512.000000</td>\n",
              "      <td>8510.000000</td>\n",
              "      <td>8485.000000</td>\n",
              "      <td>8510.000000</td>\n",
              "      <td>8505.000000</td>\n",
              "    </tr>\n",
              "    <tr>\n",
              "      <th>mean</th>\n",
              "      <td>28.827930</td>\n",
              "      <td>224.687617</td>\n",
              "      <td>458.077203</td>\n",
              "      <td>173.729169</td>\n",
              "      <td>311.138778</td>\n",
              "      <td>304.854791</td>\n",
              "    </tr>\n",
              "    <tr>\n",
              "      <th>std</th>\n",
              "      <td>14.489021</td>\n",
              "      <td>666.717663</td>\n",
              "      <td>1611.489240</td>\n",
              "      <td>604.696458</td>\n",
              "      <td>1136.705535</td>\n",
              "      <td>1145.717189</td>\n",
              "    </tr>\n",
              "    <tr>\n",
              "      <th>min</th>\n",
              "      <td>0.000000</td>\n",
              "      <td>0.000000</td>\n",
              "      <td>0.000000</td>\n",
              "      <td>0.000000</td>\n",
              "      <td>0.000000</td>\n",
              "      <td>0.000000</td>\n",
              "    </tr>\n",
              "    <tr>\n",
              "      <th>25%</th>\n",
              "      <td>19.000000</td>\n",
              "      <td>0.000000</td>\n",
              "      <td>0.000000</td>\n",
              "      <td>0.000000</td>\n",
              "      <td>0.000000</td>\n",
              "      <td>0.000000</td>\n",
              "    </tr>\n",
              "    <tr>\n",
              "      <th>50%</th>\n",
              "      <td>27.000000</td>\n",
              "      <td>0.000000</td>\n",
              "      <td>0.000000</td>\n",
              "      <td>0.000000</td>\n",
              "      <td>0.000000</td>\n",
              "      <td>0.000000</td>\n",
              "    </tr>\n",
              "    <tr>\n",
              "      <th>75%</th>\n",
              "      <td>38.000000</td>\n",
              "      <td>47.000000</td>\n",
              "      <td>76.000000</td>\n",
              "      <td>27.000000</td>\n",
              "      <td>59.000000</td>\n",
              "      <td>46.000000</td>\n",
              "    </tr>\n",
              "    <tr>\n",
              "      <th>max</th>\n",
              "      <td>79.000000</td>\n",
              "      <td>14327.000000</td>\n",
              "      <td>29813.000000</td>\n",
              "      <td>23492.000000</td>\n",
              "      <td>22408.000000</td>\n",
              "      <td>24133.000000</td>\n",
              "    </tr>\n",
              "  </tbody>\n",
              "</table>\n",
              "</div>\n",
              "      <button class=\"colab-df-convert\" onclick=\"convertToInteractive('df-5766e9bc-948d-4d06-858a-e8b7e9b97057')\"\n",
              "              title=\"Convert this dataframe to an interactive table.\"\n",
              "              style=\"display:none;\">\n",
              "        \n",
              "  <svg xmlns=\"http://www.w3.org/2000/svg\" height=\"24px\"viewBox=\"0 0 24 24\"\n",
              "       width=\"24px\">\n",
              "    <path d=\"M0 0h24v24H0V0z\" fill=\"none\"/>\n",
              "    <path d=\"M18.56 5.44l.94 2.06.94-2.06 2.06-.94-2.06-.94-.94-2.06-.94 2.06-2.06.94zm-11 1L8.5 8.5l.94-2.06 2.06-.94-2.06-.94L8.5 2.5l-.94 2.06-2.06.94zm10 10l.94 2.06.94-2.06 2.06-.94-2.06-.94-.94-2.06-.94 2.06-2.06.94z\"/><path d=\"M17.41 7.96l-1.37-1.37c-.4-.4-.92-.59-1.43-.59-.52 0-1.04.2-1.43.59L10.3 9.45l-7.72 7.72c-.78.78-.78 2.05 0 2.83L4 21.41c.39.39.9.59 1.41.59.51 0 1.02-.2 1.41-.59l7.78-7.78 2.81-2.81c.8-.78.8-2.07 0-2.86zM5.41 20L4 18.59l7.72-7.72 1.47 1.35L5.41 20z\"/>\n",
              "  </svg>\n",
              "      </button>\n",
              "      \n",
              "  <style>\n",
              "    .colab-df-container {\n",
              "      display:flex;\n",
              "      flex-wrap:wrap;\n",
              "      gap: 12px;\n",
              "    }\n",
              "\n",
              "    .colab-df-convert {\n",
              "      background-color: #E8F0FE;\n",
              "      border: none;\n",
              "      border-radius: 50%;\n",
              "      cursor: pointer;\n",
              "      display: none;\n",
              "      fill: #1967D2;\n",
              "      height: 32px;\n",
              "      padding: 0 0 0 0;\n",
              "      width: 32px;\n",
              "    }\n",
              "\n",
              "    .colab-df-convert:hover {\n",
              "      background-color: #E2EBFA;\n",
              "      box-shadow: 0px 1px 2px rgba(60, 64, 67, 0.3), 0px 1px 3px 1px rgba(60, 64, 67, 0.15);\n",
              "      fill: #174EA6;\n",
              "    }\n",
              "\n",
              "    [theme=dark] .colab-df-convert {\n",
              "      background-color: #3B4455;\n",
              "      fill: #D2E3FC;\n",
              "    }\n",
              "\n",
              "    [theme=dark] .colab-df-convert:hover {\n",
              "      background-color: #434B5C;\n",
              "      box-shadow: 0px 1px 3px 1px rgba(0, 0, 0, 0.15);\n",
              "      filter: drop-shadow(0px 1px 2px rgba(0, 0, 0, 0.3));\n",
              "      fill: #FFFFFF;\n",
              "    }\n",
              "  </style>\n",
              "\n",
              "      <script>\n",
              "        const buttonEl =\n",
              "          document.querySelector('#df-5766e9bc-948d-4d06-858a-e8b7e9b97057 button.colab-df-convert');\n",
              "        buttonEl.style.display =\n",
              "          google.colab.kernel.accessAllowed ? 'block' : 'none';\n",
              "\n",
              "        async function convertToInteractive(key) {\n",
              "          const element = document.querySelector('#df-5766e9bc-948d-4d06-858a-e8b7e9b97057');\n",
              "          const dataTable =\n",
              "            await google.colab.kernel.invokeFunction('convertToInteractive',\n",
              "                                                     [key], {});\n",
              "          if (!dataTable) return;\n",
              "\n",
              "          const docLinkHtml = 'Like what you see? Visit the ' +\n",
              "            '<a target=\"_blank\" href=https://colab.research.google.com/notebooks/data_table.ipynb>data table notebook</a>'\n",
              "            + ' to learn more about interactive tables.';\n",
              "          element.innerHTML = '';\n",
              "          dataTable['output_type'] = 'display_data';\n",
              "          await google.colab.output.renderOutput(dataTable, element);\n",
              "          const docLink = document.createElement('div');\n",
              "          docLink.innerHTML = docLinkHtml;\n",
              "          element.appendChild(docLink);\n",
              "        }\n",
              "      </script>\n",
              "    </div>\n",
              "  </div>\n",
              "  "
            ]
          },
          "metadata": {},
          "execution_count": 18
        }
      ]
    },
    {
      "cell_type": "code",
      "source": [
        "df.describe().columns"
      ],
      "metadata": {
        "colab": {
          "base_uri": "https://localhost:8080/"
        },
        "id": "dfQYgK0VzFuA",
        "outputId": "5e813738-4768-434b-a3cf-fa76b73184ac"
      },
      "execution_count": 19,
      "outputs": [
        {
          "output_type": "execute_result",
          "data": {
            "text/plain": [
              "Index(['Age', 'RoomService', 'FoodCourt', 'ShoppingMall', 'Spa', 'VRDeck'], dtype='object')"
            ]
          },
          "metadata": {},
          "execution_count": 19
        }
      ]
    },
    {
      "cell_type": "markdown",
      "source": [
        "## Data cols"
      ],
      "metadata": {
        "id": "r1gTKPsXrlEs"
      }
    },
    {
      "cell_type": "markdown",
      "source": [
        "**PassengerId**"
      ],
      "metadata": {
        "id": "dWkrEarEsxe8"
      }
    },
    {
      "cell_type": "code",
      "source": [
        "#split column A into two columns: column A and column B\n",
        "df[['Passenger_Gp', 'Passenger_Gp_Nb']] = df['PassengerId'].str.split('_', 1, expand=True)"
      ],
      "metadata": {
        "id": "VBiMAzsWvjii"
      },
      "execution_count": 20,
      "outputs": []
    },
    {
      "cell_type": "code",
      "source": [
        "df[['Passenger_Gp', 'Passenger_Gp_Nb']].head()"
      ],
      "metadata": {
        "colab": {
          "base_uri": "https://localhost:8080/",
          "height": 206
        },
        "id": "QcPvBrPuvAAS",
        "outputId": "8e8971a5-efac-407f-8809-cd4139cede61"
      },
      "execution_count": 21,
      "outputs": [
        {
          "output_type": "execute_result",
          "data": {
            "text/plain": [
              "  Passenger_Gp Passenger_Gp_Nb\n",
              "0         0001              01\n",
              "1         0002              01\n",
              "2         0003              01\n",
              "3         0003              02\n",
              "4         0004              01"
            ],
            "text/html": [
              "\n",
              "  <div id=\"df-b0155baa-40b3-494f-ae6c-2db841a2afad\">\n",
              "    <div class=\"colab-df-container\">\n",
              "      <div>\n",
              "<style scoped>\n",
              "    .dataframe tbody tr th:only-of-type {\n",
              "        vertical-align: middle;\n",
              "    }\n",
              "\n",
              "    .dataframe tbody tr th {\n",
              "        vertical-align: top;\n",
              "    }\n",
              "\n",
              "    .dataframe thead th {\n",
              "        text-align: right;\n",
              "    }\n",
              "</style>\n",
              "<table border=\"1\" class=\"dataframe\">\n",
              "  <thead>\n",
              "    <tr style=\"text-align: right;\">\n",
              "      <th></th>\n",
              "      <th>Passenger_Gp</th>\n",
              "      <th>Passenger_Gp_Nb</th>\n",
              "    </tr>\n",
              "  </thead>\n",
              "  <tbody>\n",
              "    <tr>\n",
              "      <th>0</th>\n",
              "      <td>0001</td>\n",
              "      <td>01</td>\n",
              "    </tr>\n",
              "    <tr>\n",
              "      <th>1</th>\n",
              "      <td>0002</td>\n",
              "      <td>01</td>\n",
              "    </tr>\n",
              "    <tr>\n",
              "      <th>2</th>\n",
              "      <td>0003</td>\n",
              "      <td>01</td>\n",
              "    </tr>\n",
              "    <tr>\n",
              "      <th>3</th>\n",
              "      <td>0003</td>\n",
              "      <td>02</td>\n",
              "    </tr>\n",
              "    <tr>\n",
              "      <th>4</th>\n",
              "      <td>0004</td>\n",
              "      <td>01</td>\n",
              "    </tr>\n",
              "  </tbody>\n",
              "</table>\n",
              "</div>\n",
              "      <button class=\"colab-df-convert\" onclick=\"convertToInteractive('df-b0155baa-40b3-494f-ae6c-2db841a2afad')\"\n",
              "              title=\"Convert this dataframe to an interactive table.\"\n",
              "              style=\"display:none;\">\n",
              "        \n",
              "  <svg xmlns=\"http://www.w3.org/2000/svg\" height=\"24px\"viewBox=\"0 0 24 24\"\n",
              "       width=\"24px\">\n",
              "    <path d=\"M0 0h24v24H0V0z\" fill=\"none\"/>\n",
              "    <path d=\"M18.56 5.44l.94 2.06.94-2.06 2.06-.94-2.06-.94-.94-2.06-.94 2.06-2.06.94zm-11 1L8.5 8.5l.94-2.06 2.06-.94-2.06-.94L8.5 2.5l-.94 2.06-2.06.94zm10 10l.94 2.06.94-2.06 2.06-.94-2.06-.94-.94-2.06-.94 2.06-2.06.94z\"/><path d=\"M17.41 7.96l-1.37-1.37c-.4-.4-.92-.59-1.43-.59-.52 0-1.04.2-1.43.59L10.3 9.45l-7.72 7.72c-.78.78-.78 2.05 0 2.83L4 21.41c.39.39.9.59 1.41.59.51 0 1.02-.2 1.41-.59l7.78-7.78 2.81-2.81c.8-.78.8-2.07 0-2.86zM5.41 20L4 18.59l7.72-7.72 1.47 1.35L5.41 20z\"/>\n",
              "  </svg>\n",
              "      </button>\n",
              "      \n",
              "  <style>\n",
              "    .colab-df-container {\n",
              "      display:flex;\n",
              "      flex-wrap:wrap;\n",
              "      gap: 12px;\n",
              "    }\n",
              "\n",
              "    .colab-df-convert {\n",
              "      background-color: #E8F0FE;\n",
              "      border: none;\n",
              "      border-radius: 50%;\n",
              "      cursor: pointer;\n",
              "      display: none;\n",
              "      fill: #1967D2;\n",
              "      height: 32px;\n",
              "      padding: 0 0 0 0;\n",
              "      width: 32px;\n",
              "    }\n",
              "\n",
              "    .colab-df-convert:hover {\n",
              "      background-color: #E2EBFA;\n",
              "      box-shadow: 0px 1px 2px rgba(60, 64, 67, 0.3), 0px 1px 3px 1px rgba(60, 64, 67, 0.15);\n",
              "      fill: #174EA6;\n",
              "    }\n",
              "\n",
              "    [theme=dark] .colab-df-convert {\n",
              "      background-color: #3B4455;\n",
              "      fill: #D2E3FC;\n",
              "    }\n",
              "\n",
              "    [theme=dark] .colab-df-convert:hover {\n",
              "      background-color: #434B5C;\n",
              "      box-shadow: 0px 1px 3px 1px rgba(0, 0, 0, 0.15);\n",
              "      filter: drop-shadow(0px 1px 2px rgba(0, 0, 0, 0.3));\n",
              "      fill: #FFFFFF;\n",
              "    }\n",
              "  </style>\n",
              "\n",
              "      <script>\n",
              "        const buttonEl =\n",
              "          document.querySelector('#df-b0155baa-40b3-494f-ae6c-2db841a2afad button.colab-df-convert');\n",
              "        buttonEl.style.display =\n",
              "          google.colab.kernel.accessAllowed ? 'block' : 'none';\n",
              "\n",
              "        async function convertToInteractive(key) {\n",
              "          const element = document.querySelector('#df-b0155baa-40b3-494f-ae6c-2db841a2afad');\n",
              "          const dataTable =\n",
              "            await google.colab.kernel.invokeFunction('convertToInteractive',\n",
              "                                                     [key], {});\n",
              "          if (!dataTable) return;\n",
              "\n",
              "          const docLinkHtml = 'Like what you see? Visit the ' +\n",
              "            '<a target=\"_blank\" href=https://colab.research.google.com/notebooks/data_table.ipynb>data table notebook</a>'\n",
              "            + ' to learn more about interactive tables.';\n",
              "          element.innerHTML = '';\n",
              "          dataTable['output_type'] = 'display_data';\n",
              "          await google.colab.output.renderOutput(dataTable, element);\n",
              "          const docLink = document.createElement('div');\n",
              "          docLink.innerHTML = docLinkHtml;\n",
              "          element.appendChild(docLink);\n",
              "        }\n",
              "      </script>\n",
              "    </div>\n",
              "  </div>\n",
              "  "
            ]
          },
          "metadata": {},
          "execution_count": 21
        }
      ]
    },
    {
      "cell_type": "code",
      "source": [],
      "metadata": {
        "id": "b_xidwUAy6JV"
      },
      "execution_count": 21,
      "outputs": []
    },
    {
      "cell_type": "markdown",
      "source": [
        "number of unique elements, show unique elements, value of each unique element"
      ],
      "metadata": {
        "id": "vPZ4-sery7S0"
      }
    },
    {
      "cell_type": "code",
      "source": [
        "df[\"Passenger_Gp\"].nunique(), df[\"Passenger_Gp\"].unique(), df[\"Passenger_Gp\"].value_counts()"
      ],
      "metadata": {
        "colab": {
          "base_uri": "https://localhost:8080/"
        },
        "id": "phUXKMeZyxYS",
        "outputId": "faaa8e95-1143-4480-85f3-f6608ac4387e"
      },
      "execution_count": 22,
      "outputs": [
        {
          "output_type": "execute_result",
          "data": {
            "text/plain": [
              "(6217,\n",
              " array(['0001', '0002', '0003', ..., '9278', '9279', '9280'], dtype=object),\n",
              " 4498    8\n",
              " 8168    8\n",
              " 8728    8\n",
              " 8796    8\n",
              " 8956    8\n",
              "        ..\n",
              " 3483    1\n",
              " 3480    1\n",
              " 3478    1\n",
              " 3473    1\n",
              " 4620    1\n",
              " Name: Passenger_Gp, Length: 6217, dtype: int64)"
            ]
          },
          "metadata": {},
          "execution_count": 22
        }
      ]
    },
    {
      "cell_type": "code",
      "source": [
        "df[\"Passenger_Gp_Nb\"].nunique(), df[\"Passenger_Gp_Nb\"].unique(), df[\"Passenger_Gp_Nb\"].value_counts()"
      ],
      "metadata": {
        "colab": {
          "base_uri": "https://localhost:8080/"
        },
        "id": "y7OrTjgPu_cs",
        "outputId": "3cb62b1e-ed89-464b-8cd5-9dd55134d2d2"
      },
      "execution_count": 23,
      "outputs": [
        {
          "output_type": "execute_result",
          "data": {
            "text/plain": [
              "(8,\n",
              " array(['01', '02', '03', '04', '05', '06', '07', '08'], dtype=object),\n",
              " 01    6217\n",
              " 02    1412\n",
              " 03     571\n",
              " 04     231\n",
              " 05     128\n",
              " 06      75\n",
              " 07      46\n",
              " 08      13\n",
              " Name: Passenger_Gp_Nb, dtype: int64)"
            ]
          },
          "metadata": {},
          "execution_count": 23
        }
      ]
    },
    {
      "cell_type": "code",
      "source": [
        "df.info()"
      ],
      "metadata": {
        "colab": {
          "base_uri": "https://localhost:8080/"
        },
        "id": "JHSUcLn0xDO0",
        "outputId": "0530d690-39b1-49a2-96d3-f6b4a437f6f2"
      },
      "execution_count": 24,
      "outputs": [
        {
          "output_type": "stream",
          "name": "stdout",
          "text": [
            "<class 'pandas.core.frame.DataFrame'>\n",
            "RangeIndex: 8693 entries, 0 to 8692\n",
            "Data columns (total 16 columns):\n",
            " #   Column           Non-Null Count  Dtype  \n",
            "---  ------           --------------  -----  \n",
            " 0   PassengerId      8693 non-null   object \n",
            " 1   HomePlanet       8492 non-null   object \n",
            " 2   CryoSleep        8476 non-null   object \n",
            " 3   Cabin            8494 non-null   object \n",
            " 4   Destination      8511 non-null   object \n",
            " 5   Age              8514 non-null   float64\n",
            " 6   VIP              8490 non-null   object \n",
            " 7   RoomService      8512 non-null   float64\n",
            " 8   FoodCourt        8510 non-null   float64\n",
            " 9   ShoppingMall     8485 non-null   float64\n",
            " 10  Spa              8510 non-null   float64\n",
            " 11  VRDeck           8505 non-null   float64\n",
            " 12  Name             8493 non-null   object \n",
            " 13  Transported      8693 non-null   bool   \n",
            " 14  Passenger_Gp     8693 non-null   object \n",
            " 15  Passenger_Gp_Nb  8693 non-null   object \n",
            "dtypes: bool(1), float64(6), object(9)\n",
            "memory usage: 1.0+ MB\n"
          ]
        }
      ]
    },
    {
      "cell_type": "markdown",
      "source": [
        "**HomePlanet**"
      ],
      "metadata": {
        "id": "Iz0rjVZyzRGk"
      }
    },
    {
      "cell_type": "code",
      "source": [
        "df[\"HomePlanet\"].head()"
      ],
      "metadata": {
        "colab": {
          "base_uri": "https://localhost:8080/"
        },
        "id": "JzTdssEYxDL6",
        "outputId": "13063216-7569-4361-97bb-cbad78d9d441"
      },
      "execution_count": 25,
      "outputs": [
        {
          "output_type": "execute_result",
          "data": {
            "text/plain": [
              "0    Europa\n",
              "1     Earth\n",
              "2    Europa\n",
              "3    Europa\n",
              "4     Earth\n",
              "Name: HomePlanet, dtype: object"
            ]
          },
          "metadata": {},
          "execution_count": 25
        }
      ]
    },
    {
      "cell_type": "code",
      "source": [
        "df[\"HomePlanet\"].nunique(), df[\"HomePlanet\"].unique(), df[\"HomePlanet\"].value_counts()"
      ],
      "metadata": {
        "colab": {
          "base_uri": "https://localhost:8080/"
        },
        "id": "GOY67MTzxDJP",
        "outputId": "0e4deb33-b6b0-4c37-d1d2-28657a06429c"
      },
      "execution_count": 26,
      "outputs": [
        {
          "output_type": "execute_result",
          "data": {
            "text/plain": [
              "(3, array(['Europa', 'Earth', 'Mars', nan], dtype=object), Earth     4602\n",
              " Europa    2131\n",
              " Mars      1759\n",
              " Name: HomePlanet, dtype: int64)"
            ]
          },
          "metadata": {},
          "execution_count": 26
        }
      ]
    },
    {
      "cell_type": "markdown",
      "source": [
        "**CryoSleep**"
      ],
      "metadata": {
        "id": "bTWAVPqc1Yxc"
      }
    },
    {
      "cell_type": "code",
      "source": [
        "df[\"CryoSleep\"].head()"
      ],
      "metadata": {
        "colab": {
          "base_uri": "https://localhost:8080/"
        },
        "id": "HYZ2aoHnxDGm",
        "outputId": "2e14137c-3c01-448a-8069-e86ea21f5a3f"
      },
      "execution_count": 27,
      "outputs": [
        {
          "output_type": "execute_result",
          "data": {
            "text/plain": [
              "0    False\n",
              "1    False\n",
              "2    False\n",
              "3    False\n",
              "4    False\n",
              "Name: CryoSleep, dtype: object"
            ]
          },
          "metadata": {},
          "execution_count": 27
        }
      ]
    },
    {
      "cell_type": "code",
      "source": [
        "df[\"CryoSleep\"].nunique(), df[\"CryoSleep\"].unique(), df[\"CryoSleep\"].value_counts()"
      ],
      "metadata": {
        "colab": {
          "base_uri": "https://localhost:8080/"
        },
        "id": "VWKZ31LtxDEJ",
        "outputId": "6ee3d739-8fbb-4114-d14e-f0ef03b96c9d"
      },
      "execution_count": 28,
      "outputs": [
        {
          "output_type": "execute_result",
          "data": {
            "text/plain": [
              "(2, array([False, True, nan], dtype=object), False    5439\n",
              " True     3037\n",
              " Name: CryoSleep, dtype: int64)"
            ]
          },
          "metadata": {},
          "execution_count": 28
        }
      ]
    },
    {
      "cell_type": "markdown",
      "source": [
        "**Cabin**"
      ],
      "metadata": {
        "id": "C3oJsrxO1uFH"
      }
    },
    {
      "cell_type": "code",
      "source": [
        "df[\"Cabin\"].head()"
      ],
      "metadata": {
        "colab": {
          "base_uri": "https://localhost:8080/"
        },
        "id": "4d0P5gMR1xbr",
        "outputId": "6d72ae83-952b-4d29-ddd5-7894b8db5aa4"
      },
      "execution_count": 29,
      "outputs": [
        {
          "output_type": "execute_result",
          "data": {
            "text/plain": [
              "0    B/0/P\n",
              "1    F/0/S\n",
              "2    A/0/S\n",
              "3    A/0/S\n",
              "4    F/1/S\n",
              "Name: Cabin, dtype: object"
            ]
          },
          "metadata": {},
          "execution_count": 29
        }
      ]
    },
    {
      "cell_type": "code",
      "source": [
        "df[\"Cabin\"].nunique(), df[\"Cabin\"].unique(), df[\"Cabin\"].value_counts()"
      ],
      "metadata": {
        "colab": {
          "base_uri": "https://localhost:8080/"
        },
        "id": "327WVfzd1xSV",
        "outputId": "1e43e94b-1ed7-464c-f499-60b0ff449a91"
      },
      "execution_count": 30,
      "outputs": [
        {
          "output_type": "execute_result",
          "data": {
            "text/plain": [
              "(6560,\n",
              " array(['B/0/P', 'F/0/S', 'A/0/S', ..., 'G/1499/S', 'G/1500/S', 'E/608/S'],\n",
              "       dtype=object),\n",
              " G/734/S     8\n",
              " G/109/P     7\n",
              " B/201/P     7\n",
              " G/1368/P    7\n",
              " G/981/S     7\n",
              "            ..\n",
              " G/556/P     1\n",
              " E/231/S     1\n",
              " G/545/S     1\n",
              " G/543/S     1\n",
              " F/947/P     1\n",
              " Name: Cabin, Length: 6560, dtype: int64)"
            ]
          },
          "metadata": {},
          "execution_count": 30
        }
      ]
    },
    {
      "cell_type": "code",
      "source": [
        "df['Cabin'].str.split('/', 2, expand=True).head()"
      ],
      "metadata": {
        "colab": {
          "base_uri": "https://localhost:8080/",
          "height": 206
        },
        "id": "UdbgsfJM2wxq",
        "outputId": "92c4370a-570a-441b-c7b4-857dff8fba85"
      },
      "execution_count": 31,
      "outputs": [
        {
          "output_type": "execute_result",
          "data": {
            "text/plain": [
              "   0  1  2\n",
              "0  B  0  P\n",
              "1  F  0  S\n",
              "2  A  0  S\n",
              "3  A  0  S\n",
              "4  F  1  S"
            ],
            "text/html": [
              "\n",
              "  <div id=\"df-d6da70d8-52f4-4b1d-b89a-351ef838965c\">\n",
              "    <div class=\"colab-df-container\">\n",
              "      <div>\n",
              "<style scoped>\n",
              "    .dataframe tbody tr th:only-of-type {\n",
              "        vertical-align: middle;\n",
              "    }\n",
              "\n",
              "    .dataframe tbody tr th {\n",
              "        vertical-align: top;\n",
              "    }\n",
              "\n",
              "    .dataframe thead th {\n",
              "        text-align: right;\n",
              "    }\n",
              "</style>\n",
              "<table border=\"1\" class=\"dataframe\">\n",
              "  <thead>\n",
              "    <tr style=\"text-align: right;\">\n",
              "      <th></th>\n",
              "      <th>0</th>\n",
              "      <th>1</th>\n",
              "      <th>2</th>\n",
              "    </tr>\n",
              "  </thead>\n",
              "  <tbody>\n",
              "    <tr>\n",
              "      <th>0</th>\n",
              "      <td>B</td>\n",
              "      <td>0</td>\n",
              "      <td>P</td>\n",
              "    </tr>\n",
              "    <tr>\n",
              "      <th>1</th>\n",
              "      <td>F</td>\n",
              "      <td>0</td>\n",
              "      <td>S</td>\n",
              "    </tr>\n",
              "    <tr>\n",
              "      <th>2</th>\n",
              "      <td>A</td>\n",
              "      <td>0</td>\n",
              "      <td>S</td>\n",
              "    </tr>\n",
              "    <tr>\n",
              "      <th>3</th>\n",
              "      <td>A</td>\n",
              "      <td>0</td>\n",
              "      <td>S</td>\n",
              "    </tr>\n",
              "    <tr>\n",
              "      <th>4</th>\n",
              "      <td>F</td>\n",
              "      <td>1</td>\n",
              "      <td>S</td>\n",
              "    </tr>\n",
              "  </tbody>\n",
              "</table>\n",
              "</div>\n",
              "      <button class=\"colab-df-convert\" onclick=\"convertToInteractive('df-d6da70d8-52f4-4b1d-b89a-351ef838965c')\"\n",
              "              title=\"Convert this dataframe to an interactive table.\"\n",
              "              style=\"display:none;\">\n",
              "        \n",
              "  <svg xmlns=\"http://www.w3.org/2000/svg\" height=\"24px\"viewBox=\"0 0 24 24\"\n",
              "       width=\"24px\">\n",
              "    <path d=\"M0 0h24v24H0V0z\" fill=\"none\"/>\n",
              "    <path d=\"M18.56 5.44l.94 2.06.94-2.06 2.06-.94-2.06-.94-.94-2.06-.94 2.06-2.06.94zm-11 1L8.5 8.5l.94-2.06 2.06-.94-2.06-.94L8.5 2.5l-.94 2.06-2.06.94zm10 10l.94 2.06.94-2.06 2.06-.94-2.06-.94-.94-2.06-.94 2.06-2.06.94z\"/><path d=\"M17.41 7.96l-1.37-1.37c-.4-.4-.92-.59-1.43-.59-.52 0-1.04.2-1.43.59L10.3 9.45l-7.72 7.72c-.78.78-.78 2.05 0 2.83L4 21.41c.39.39.9.59 1.41.59.51 0 1.02-.2 1.41-.59l7.78-7.78 2.81-2.81c.8-.78.8-2.07 0-2.86zM5.41 20L4 18.59l7.72-7.72 1.47 1.35L5.41 20z\"/>\n",
              "  </svg>\n",
              "      </button>\n",
              "      \n",
              "  <style>\n",
              "    .colab-df-container {\n",
              "      display:flex;\n",
              "      flex-wrap:wrap;\n",
              "      gap: 12px;\n",
              "    }\n",
              "\n",
              "    .colab-df-convert {\n",
              "      background-color: #E8F0FE;\n",
              "      border: none;\n",
              "      border-radius: 50%;\n",
              "      cursor: pointer;\n",
              "      display: none;\n",
              "      fill: #1967D2;\n",
              "      height: 32px;\n",
              "      padding: 0 0 0 0;\n",
              "      width: 32px;\n",
              "    }\n",
              "\n",
              "    .colab-df-convert:hover {\n",
              "      background-color: #E2EBFA;\n",
              "      box-shadow: 0px 1px 2px rgba(60, 64, 67, 0.3), 0px 1px 3px 1px rgba(60, 64, 67, 0.15);\n",
              "      fill: #174EA6;\n",
              "    }\n",
              "\n",
              "    [theme=dark] .colab-df-convert {\n",
              "      background-color: #3B4455;\n",
              "      fill: #D2E3FC;\n",
              "    }\n",
              "\n",
              "    [theme=dark] .colab-df-convert:hover {\n",
              "      background-color: #434B5C;\n",
              "      box-shadow: 0px 1px 3px 1px rgba(0, 0, 0, 0.15);\n",
              "      filter: drop-shadow(0px 1px 2px rgba(0, 0, 0, 0.3));\n",
              "      fill: #FFFFFF;\n",
              "    }\n",
              "  </style>\n",
              "\n",
              "      <script>\n",
              "        const buttonEl =\n",
              "          document.querySelector('#df-d6da70d8-52f4-4b1d-b89a-351ef838965c button.colab-df-convert');\n",
              "        buttonEl.style.display =\n",
              "          google.colab.kernel.accessAllowed ? 'block' : 'none';\n",
              "\n",
              "        async function convertToInteractive(key) {\n",
              "          const element = document.querySelector('#df-d6da70d8-52f4-4b1d-b89a-351ef838965c');\n",
              "          const dataTable =\n",
              "            await google.colab.kernel.invokeFunction('convertToInteractive',\n",
              "                                                     [key], {});\n",
              "          if (!dataTable) return;\n",
              "\n",
              "          const docLinkHtml = 'Like what you see? Visit the ' +\n",
              "            '<a target=\"_blank\" href=https://colab.research.google.com/notebooks/data_table.ipynb>data table notebook</a>'\n",
              "            + ' to learn more about interactive tables.';\n",
              "          element.innerHTML = '';\n",
              "          dataTable['output_type'] = 'display_data';\n",
              "          await google.colab.output.renderOutput(dataTable, element);\n",
              "          const docLink = document.createElement('div');\n",
              "          docLink.innerHTML = docLinkHtml;\n",
              "          element.appendChild(docLink);\n",
              "        }\n",
              "      </script>\n",
              "    </div>\n",
              "  </div>\n",
              "  "
            ]
          },
          "metadata": {},
          "execution_count": 31
        }
      ]
    },
    {
      "cell_type": "code",
      "source": [
        "df['Cabin'].str.split('/', expand=True).head()"
      ],
      "metadata": {
        "colab": {
          "base_uri": "https://localhost:8080/",
          "height": 206
        },
        "id": "rDfEIiI03DNe",
        "outputId": "2998d997-f4ed-47cf-d7d3-7b105baee1f9"
      },
      "execution_count": 32,
      "outputs": [
        {
          "output_type": "execute_result",
          "data": {
            "text/plain": [
              "   0  1  2\n",
              "0  B  0  P\n",
              "1  F  0  S\n",
              "2  A  0  S\n",
              "3  A  0  S\n",
              "4  F  1  S"
            ],
            "text/html": [
              "\n",
              "  <div id=\"df-ae33df3e-1cc4-45f5-9fc9-65ffa8be9be5\">\n",
              "    <div class=\"colab-df-container\">\n",
              "      <div>\n",
              "<style scoped>\n",
              "    .dataframe tbody tr th:only-of-type {\n",
              "        vertical-align: middle;\n",
              "    }\n",
              "\n",
              "    .dataframe tbody tr th {\n",
              "        vertical-align: top;\n",
              "    }\n",
              "\n",
              "    .dataframe thead th {\n",
              "        text-align: right;\n",
              "    }\n",
              "</style>\n",
              "<table border=\"1\" class=\"dataframe\">\n",
              "  <thead>\n",
              "    <tr style=\"text-align: right;\">\n",
              "      <th></th>\n",
              "      <th>0</th>\n",
              "      <th>1</th>\n",
              "      <th>2</th>\n",
              "    </tr>\n",
              "  </thead>\n",
              "  <tbody>\n",
              "    <tr>\n",
              "      <th>0</th>\n",
              "      <td>B</td>\n",
              "      <td>0</td>\n",
              "      <td>P</td>\n",
              "    </tr>\n",
              "    <tr>\n",
              "      <th>1</th>\n",
              "      <td>F</td>\n",
              "      <td>0</td>\n",
              "      <td>S</td>\n",
              "    </tr>\n",
              "    <tr>\n",
              "      <th>2</th>\n",
              "      <td>A</td>\n",
              "      <td>0</td>\n",
              "      <td>S</td>\n",
              "    </tr>\n",
              "    <tr>\n",
              "      <th>3</th>\n",
              "      <td>A</td>\n",
              "      <td>0</td>\n",
              "      <td>S</td>\n",
              "    </tr>\n",
              "    <tr>\n",
              "      <th>4</th>\n",
              "      <td>F</td>\n",
              "      <td>1</td>\n",
              "      <td>S</td>\n",
              "    </tr>\n",
              "  </tbody>\n",
              "</table>\n",
              "</div>\n",
              "      <button class=\"colab-df-convert\" onclick=\"convertToInteractive('df-ae33df3e-1cc4-45f5-9fc9-65ffa8be9be5')\"\n",
              "              title=\"Convert this dataframe to an interactive table.\"\n",
              "              style=\"display:none;\">\n",
              "        \n",
              "  <svg xmlns=\"http://www.w3.org/2000/svg\" height=\"24px\"viewBox=\"0 0 24 24\"\n",
              "       width=\"24px\">\n",
              "    <path d=\"M0 0h24v24H0V0z\" fill=\"none\"/>\n",
              "    <path d=\"M18.56 5.44l.94 2.06.94-2.06 2.06-.94-2.06-.94-.94-2.06-.94 2.06-2.06.94zm-11 1L8.5 8.5l.94-2.06 2.06-.94-2.06-.94L8.5 2.5l-.94 2.06-2.06.94zm10 10l.94 2.06.94-2.06 2.06-.94-2.06-.94-.94-2.06-.94 2.06-2.06.94z\"/><path d=\"M17.41 7.96l-1.37-1.37c-.4-.4-.92-.59-1.43-.59-.52 0-1.04.2-1.43.59L10.3 9.45l-7.72 7.72c-.78.78-.78 2.05 0 2.83L4 21.41c.39.39.9.59 1.41.59.51 0 1.02-.2 1.41-.59l7.78-7.78 2.81-2.81c.8-.78.8-2.07 0-2.86zM5.41 20L4 18.59l7.72-7.72 1.47 1.35L5.41 20z\"/>\n",
              "  </svg>\n",
              "      </button>\n",
              "      \n",
              "  <style>\n",
              "    .colab-df-container {\n",
              "      display:flex;\n",
              "      flex-wrap:wrap;\n",
              "      gap: 12px;\n",
              "    }\n",
              "\n",
              "    .colab-df-convert {\n",
              "      background-color: #E8F0FE;\n",
              "      border: none;\n",
              "      border-radius: 50%;\n",
              "      cursor: pointer;\n",
              "      display: none;\n",
              "      fill: #1967D2;\n",
              "      height: 32px;\n",
              "      padding: 0 0 0 0;\n",
              "      width: 32px;\n",
              "    }\n",
              "\n",
              "    .colab-df-convert:hover {\n",
              "      background-color: #E2EBFA;\n",
              "      box-shadow: 0px 1px 2px rgba(60, 64, 67, 0.3), 0px 1px 3px 1px rgba(60, 64, 67, 0.15);\n",
              "      fill: #174EA6;\n",
              "    }\n",
              "\n",
              "    [theme=dark] .colab-df-convert {\n",
              "      background-color: #3B4455;\n",
              "      fill: #D2E3FC;\n",
              "    }\n",
              "\n",
              "    [theme=dark] .colab-df-convert:hover {\n",
              "      background-color: #434B5C;\n",
              "      box-shadow: 0px 1px 3px 1px rgba(0, 0, 0, 0.15);\n",
              "      filter: drop-shadow(0px 1px 2px rgba(0, 0, 0, 0.3));\n",
              "      fill: #FFFFFF;\n",
              "    }\n",
              "  </style>\n",
              "\n",
              "      <script>\n",
              "        const buttonEl =\n",
              "          document.querySelector('#df-ae33df3e-1cc4-45f5-9fc9-65ffa8be9be5 button.colab-df-convert');\n",
              "        buttonEl.style.display =\n",
              "          google.colab.kernel.accessAllowed ? 'block' : 'none';\n",
              "\n",
              "        async function convertToInteractive(key) {\n",
              "          const element = document.querySelector('#df-ae33df3e-1cc4-45f5-9fc9-65ffa8be9be5');\n",
              "          const dataTable =\n",
              "            await google.colab.kernel.invokeFunction('convertToInteractive',\n",
              "                                                     [key], {});\n",
              "          if (!dataTable) return;\n",
              "\n",
              "          const docLinkHtml = 'Like what you see? Visit the ' +\n",
              "            '<a target=\"_blank\" href=https://colab.research.google.com/notebooks/data_table.ipynb>data table notebook</a>'\n",
              "            + ' to learn more about interactive tables.';\n",
              "          element.innerHTML = '';\n",
              "          dataTable['output_type'] = 'display_data';\n",
              "          await google.colab.output.renderOutput(dataTable, element);\n",
              "          const docLink = document.createElement('div');\n",
              "          docLink.innerHTML = docLinkHtml;\n",
              "          element.appendChild(docLink);\n",
              "        }\n",
              "      </script>\n",
              "    </div>\n",
              "  </div>\n",
              "  "
            ]
          },
          "metadata": {},
          "execution_count": 32
        }
      ]
    },
    {
      "cell_type": "code",
      "source": [
        "#split column A into two columns: column A and column B\n",
        "df[['Cabin_Deck', 'Cabin_Num', \"Cabin_Side\"]] = df['Cabin'].str.split('/', expand=True)"
      ],
      "metadata": {
        "id": "8GdWym0A1xIF"
      },
      "execution_count": 33,
      "outputs": []
    },
    {
      "cell_type": "code",
      "source": [
        "df[['Cabin_Deck', 'Cabin_Num', \"Cabin_Side\"]].head()"
      ],
      "metadata": {
        "colab": {
          "base_uri": "https://localhost:8080/",
          "height": 206
        },
        "id": "AuZM5X5Q1xAR",
        "outputId": "bf19e9fa-59e7-4c40-b3c5-bb0d4ea8a902"
      },
      "execution_count": 34,
      "outputs": [
        {
          "output_type": "execute_result",
          "data": {
            "text/plain": [
              "  Cabin_Deck Cabin_Num Cabin_Side\n",
              "0          B         0          P\n",
              "1          F         0          S\n",
              "2          A         0          S\n",
              "3          A         0          S\n",
              "4          F         1          S"
            ],
            "text/html": [
              "\n",
              "  <div id=\"df-3fbb12a5-188a-4aee-a0e8-8bc5b0ff75d8\">\n",
              "    <div class=\"colab-df-container\">\n",
              "      <div>\n",
              "<style scoped>\n",
              "    .dataframe tbody tr th:only-of-type {\n",
              "        vertical-align: middle;\n",
              "    }\n",
              "\n",
              "    .dataframe tbody tr th {\n",
              "        vertical-align: top;\n",
              "    }\n",
              "\n",
              "    .dataframe thead th {\n",
              "        text-align: right;\n",
              "    }\n",
              "</style>\n",
              "<table border=\"1\" class=\"dataframe\">\n",
              "  <thead>\n",
              "    <tr style=\"text-align: right;\">\n",
              "      <th></th>\n",
              "      <th>Cabin_Deck</th>\n",
              "      <th>Cabin_Num</th>\n",
              "      <th>Cabin_Side</th>\n",
              "    </tr>\n",
              "  </thead>\n",
              "  <tbody>\n",
              "    <tr>\n",
              "      <th>0</th>\n",
              "      <td>B</td>\n",
              "      <td>0</td>\n",
              "      <td>P</td>\n",
              "    </tr>\n",
              "    <tr>\n",
              "      <th>1</th>\n",
              "      <td>F</td>\n",
              "      <td>0</td>\n",
              "      <td>S</td>\n",
              "    </tr>\n",
              "    <tr>\n",
              "      <th>2</th>\n",
              "      <td>A</td>\n",
              "      <td>0</td>\n",
              "      <td>S</td>\n",
              "    </tr>\n",
              "    <tr>\n",
              "      <th>3</th>\n",
              "      <td>A</td>\n",
              "      <td>0</td>\n",
              "      <td>S</td>\n",
              "    </tr>\n",
              "    <tr>\n",
              "      <th>4</th>\n",
              "      <td>F</td>\n",
              "      <td>1</td>\n",
              "      <td>S</td>\n",
              "    </tr>\n",
              "  </tbody>\n",
              "</table>\n",
              "</div>\n",
              "      <button class=\"colab-df-convert\" onclick=\"convertToInteractive('df-3fbb12a5-188a-4aee-a0e8-8bc5b0ff75d8')\"\n",
              "              title=\"Convert this dataframe to an interactive table.\"\n",
              "              style=\"display:none;\">\n",
              "        \n",
              "  <svg xmlns=\"http://www.w3.org/2000/svg\" height=\"24px\"viewBox=\"0 0 24 24\"\n",
              "       width=\"24px\">\n",
              "    <path d=\"M0 0h24v24H0V0z\" fill=\"none\"/>\n",
              "    <path d=\"M18.56 5.44l.94 2.06.94-2.06 2.06-.94-2.06-.94-.94-2.06-.94 2.06-2.06.94zm-11 1L8.5 8.5l.94-2.06 2.06-.94-2.06-.94L8.5 2.5l-.94 2.06-2.06.94zm10 10l.94 2.06.94-2.06 2.06-.94-2.06-.94-.94-2.06-.94 2.06-2.06.94z\"/><path d=\"M17.41 7.96l-1.37-1.37c-.4-.4-.92-.59-1.43-.59-.52 0-1.04.2-1.43.59L10.3 9.45l-7.72 7.72c-.78.78-.78 2.05 0 2.83L4 21.41c.39.39.9.59 1.41.59.51 0 1.02-.2 1.41-.59l7.78-7.78 2.81-2.81c.8-.78.8-2.07 0-2.86zM5.41 20L4 18.59l7.72-7.72 1.47 1.35L5.41 20z\"/>\n",
              "  </svg>\n",
              "      </button>\n",
              "      \n",
              "  <style>\n",
              "    .colab-df-container {\n",
              "      display:flex;\n",
              "      flex-wrap:wrap;\n",
              "      gap: 12px;\n",
              "    }\n",
              "\n",
              "    .colab-df-convert {\n",
              "      background-color: #E8F0FE;\n",
              "      border: none;\n",
              "      border-radius: 50%;\n",
              "      cursor: pointer;\n",
              "      display: none;\n",
              "      fill: #1967D2;\n",
              "      height: 32px;\n",
              "      padding: 0 0 0 0;\n",
              "      width: 32px;\n",
              "    }\n",
              "\n",
              "    .colab-df-convert:hover {\n",
              "      background-color: #E2EBFA;\n",
              "      box-shadow: 0px 1px 2px rgba(60, 64, 67, 0.3), 0px 1px 3px 1px rgba(60, 64, 67, 0.15);\n",
              "      fill: #174EA6;\n",
              "    }\n",
              "\n",
              "    [theme=dark] .colab-df-convert {\n",
              "      background-color: #3B4455;\n",
              "      fill: #D2E3FC;\n",
              "    }\n",
              "\n",
              "    [theme=dark] .colab-df-convert:hover {\n",
              "      background-color: #434B5C;\n",
              "      box-shadow: 0px 1px 3px 1px rgba(0, 0, 0, 0.15);\n",
              "      filter: drop-shadow(0px 1px 2px rgba(0, 0, 0, 0.3));\n",
              "      fill: #FFFFFF;\n",
              "    }\n",
              "  </style>\n",
              "\n",
              "      <script>\n",
              "        const buttonEl =\n",
              "          document.querySelector('#df-3fbb12a5-188a-4aee-a0e8-8bc5b0ff75d8 button.colab-df-convert');\n",
              "        buttonEl.style.display =\n",
              "          google.colab.kernel.accessAllowed ? 'block' : 'none';\n",
              "\n",
              "        async function convertToInteractive(key) {\n",
              "          const element = document.querySelector('#df-3fbb12a5-188a-4aee-a0e8-8bc5b0ff75d8');\n",
              "          const dataTable =\n",
              "            await google.colab.kernel.invokeFunction('convertToInteractive',\n",
              "                                                     [key], {});\n",
              "          if (!dataTable) return;\n",
              "\n",
              "          const docLinkHtml = 'Like what you see? Visit the ' +\n",
              "            '<a target=\"_blank\" href=https://colab.research.google.com/notebooks/data_table.ipynb>data table notebook</a>'\n",
              "            + ' to learn more about interactive tables.';\n",
              "          element.innerHTML = '';\n",
              "          dataTable['output_type'] = 'display_data';\n",
              "          await google.colab.output.renderOutput(dataTable, element);\n",
              "          const docLink = document.createElement('div');\n",
              "          docLink.innerHTML = docLinkHtml;\n",
              "          element.appendChild(docLink);\n",
              "        }\n",
              "      </script>\n",
              "    </div>\n",
              "  </div>\n",
              "  "
            ]
          },
          "metadata": {},
          "execution_count": 34
        }
      ]
    },
    {
      "cell_type": "markdown",
      "source": [
        "Cabin_Deck"
      ],
      "metadata": {
        "id": "CZhWDF6M3p6r"
      }
    },
    {
      "cell_type": "code",
      "source": [
        "df[\"Cabin_Deck\"].nunique(), df[\"Cabin_Deck\"].unique(), df[\"Cabin_Deck\"].value_counts()"
      ],
      "metadata": {
        "colab": {
          "base_uri": "https://localhost:8080/"
        },
        "id": "X9NqaJzJ1w2b",
        "outputId": "50945357-d7da-440c-cd9d-da8c979d19e9"
      },
      "execution_count": 35,
      "outputs": [
        {
          "output_type": "execute_result",
          "data": {
            "text/plain": [
              "(8,\n",
              " array(['B', 'F', 'A', 'G', nan, 'E', 'D', 'C', 'T'], dtype=object),\n",
              " F    2794\n",
              " G    2559\n",
              " E     876\n",
              " B     779\n",
              " C     747\n",
              " D     478\n",
              " A     256\n",
              " T       5\n",
              " Name: Cabin_Deck, dtype: int64)"
            ]
          },
          "metadata": {},
          "execution_count": 35
        }
      ]
    },
    {
      "cell_type": "markdown",
      "source": [
        "Cabin_Num"
      ],
      "metadata": {
        "id": "zzPHM01l3x8z"
      }
    },
    {
      "cell_type": "code",
      "source": [
        "df[\"Cabin_Num\"].nunique(), df[\"Cabin_Num\"].unique(), df[\"Cabin_Num\"].value_counts()"
      ],
      "metadata": {
        "colab": {
          "base_uri": "https://localhost:8080/"
        },
        "id": "OV5pqah633kR",
        "outputId": "d92fd896-cd91-4f03-b7ba-a3e9e81b4174"
      },
      "execution_count": 36,
      "outputs": [
        {
          "output_type": "execute_result",
          "data": {
            "text/plain": [
              "(1817,\n",
              " array(['0', '1', '2', ..., '1892', '1893', '1894'], dtype=object),\n",
              " 82      28\n",
              " 86      22\n",
              " 19      22\n",
              " 56      21\n",
              " 176     21\n",
              "         ..\n",
              " 1644     1\n",
              " 1515     1\n",
              " 1639     1\n",
              " 1277     1\n",
              " 1894     1\n",
              " Name: Cabin_Num, Length: 1817, dtype: int64)"
            ]
          },
          "metadata": {},
          "execution_count": 36
        }
      ]
    },
    {
      "cell_type": "markdown",
      "source": [
        "Cabin_Side"
      ],
      "metadata": {
        "id": "Ir8YbvRO3y1T"
      }
    },
    {
      "cell_type": "code",
      "source": [
        "df[\"Cabin_Side\"].nunique(), df[\"Cabin_Side\"].unique(), df[\"Cabin_Side\"].value_counts()"
      ],
      "metadata": {
        "colab": {
          "base_uri": "https://localhost:8080/"
        },
        "id": "0CzMfByfxDBc",
        "outputId": "2150b089-f6df-46b3-9ca8-cf002e795e33"
      },
      "execution_count": 37,
      "outputs": [
        {
          "output_type": "execute_result",
          "data": {
            "text/plain": [
              "(2, array(['P', 'S', nan], dtype=object), S    4288\n",
              " P    4206\n",
              " Name: Cabin_Side, dtype: int64)"
            ]
          },
          "metadata": {},
          "execution_count": 37
        }
      ]
    },
    {
      "cell_type": "markdown",
      "source": [
        "**Destination**"
      ],
      "metadata": {
        "id": "qyvg4lVU4NNc"
      }
    },
    {
      "cell_type": "code",
      "source": [
        "df[\"Destination\"].head()"
      ],
      "metadata": {
        "colab": {
          "base_uri": "https://localhost:8080/"
        },
        "id": "9NueoGEBxC_C",
        "outputId": "cf23764d-23b5-4308-e948-e3e0a0c86755"
      },
      "execution_count": 38,
      "outputs": [
        {
          "output_type": "execute_result",
          "data": {
            "text/plain": [
              "0    TRAPPIST-1e\n",
              "1    TRAPPIST-1e\n",
              "2    TRAPPIST-1e\n",
              "3    TRAPPIST-1e\n",
              "4    TRAPPIST-1e\n",
              "Name: Destination, dtype: object"
            ]
          },
          "metadata": {},
          "execution_count": 38
        }
      ]
    },
    {
      "cell_type": "code",
      "source": [
        "df[\"Destination\"].nunique(), df[\"Destination\"].unique(), df[\"Destination\"].value_counts()"
      ],
      "metadata": {
        "colab": {
          "base_uri": "https://localhost:8080/"
        },
        "id": "_0eL4flFxC8t",
        "outputId": "142fa626-5a01-4c73-dc1e-5669288bcb9f"
      },
      "execution_count": 39,
      "outputs": [
        {
          "output_type": "execute_result",
          "data": {
            "text/plain": [
              "(3,\n",
              " array(['TRAPPIST-1e', 'PSO J318.5-22', '55 Cancri e', nan], dtype=object),\n",
              " TRAPPIST-1e      5915\n",
              " 55 Cancri e      1800\n",
              " PSO J318.5-22     796\n",
              " Name: Destination, dtype: int64)"
            ]
          },
          "metadata": {},
          "execution_count": 39
        }
      ]
    },
    {
      "cell_type": "markdown",
      "source": [
        "**VIP**"
      ],
      "metadata": {
        "id": "j3LDz-YR4jxt"
      }
    },
    {
      "cell_type": "code",
      "source": [
        "df[\"VIP\"].head()"
      ],
      "metadata": {
        "colab": {
          "base_uri": "https://localhost:8080/"
        },
        "id": "yrEnQ4nfxC5C",
        "outputId": "7d1f4752-3b49-4178-e54e-212ec827d365"
      },
      "execution_count": 40,
      "outputs": [
        {
          "output_type": "execute_result",
          "data": {
            "text/plain": [
              "0    False\n",
              "1    False\n",
              "2     True\n",
              "3    False\n",
              "4    False\n",
              "Name: VIP, dtype: object"
            ]
          },
          "metadata": {},
          "execution_count": 40
        }
      ]
    },
    {
      "cell_type": "code",
      "source": [
        "df[\"VIP\"].nunique(), df[\"VIP\"].unique(), df[\"VIP\"].value_counts()"
      ],
      "metadata": {
        "colab": {
          "base_uri": "https://localhost:8080/"
        },
        "id": "Cg5rL4g8xC2d",
        "outputId": "804b07cf-6d2e-4f11-e853-fa3e00916a24"
      },
      "execution_count": 41,
      "outputs": [
        {
          "output_type": "execute_result",
          "data": {
            "text/plain": [
              "(2, array([False, True, nan], dtype=object), False    8291\n",
              " True      199\n",
              " Name: VIP, dtype: int64)"
            ]
          },
          "metadata": {},
          "execution_count": 41
        }
      ]
    },
    {
      "cell_type": "markdown",
      "source": [
        "**Name**"
      ],
      "metadata": {
        "id": "54hf6Knl5Oc-"
      }
    },
    {
      "cell_type": "code",
      "source": [
        "df[\"Name\"].head()"
      ],
      "metadata": {
        "colab": {
          "base_uri": "https://localhost:8080/"
        },
        "id": "svC5QzEk5NXZ",
        "outputId": "6a69b4f2-5cfd-4ad4-dfd5-73e3d05aee20"
      },
      "execution_count": 42,
      "outputs": [
        {
          "output_type": "execute_result",
          "data": {
            "text/plain": [
              "0      Maham Ofracculy\n",
              "1         Juanna Vines\n",
              "2        Altark Susent\n",
              "3         Solam Susent\n",
              "4    Willy Santantines\n",
              "Name: Name, dtype: object"
            ]
          },
          "metadata": {},
          "execution_count": 42
        }
      ]
    },
    {
      "cell_type": "code",
      "source": [
        "df[\"Name\"].nunique(), df[\"Name\"].unique(), df[\"Name\"].value_counts()"
      ],
      "metadata": {
        "colab": {
          "base_uri": "https://localhost:8080/"
        },
        "id": "4nHahoHN5Rfn",
        "outputId": "8820e04a-26cb-4e8f-9a05-142eb00a2b0c"
      },
      "execution_count": 43,
      "outputs": [
        {
          "output_type": "execute_result",
          "data": {
            "text/plain": [
              "(8473, array(['Maham Ofracculy', 'Juanna Vines', 'Altark Susent', ...,\n",
              "        'Fayey Connon', 'Celeon Hontichre', 'Propsh Hontichre'],\n",
              "       dtype=object), Gollux Reedall        2\n",
              " Elaney Webstephrey    2\n",
              " Grake Porki           2\n",
              " Sus Coolez            2\n",
              " Apix Wala             2\n",
              "                      ..\n",
              " Jamela Griffy         1\n",
              " Hardy Griffy          1\n",
              " Salley Mckinn         1\n",
              " Mall Frasp            1\n",
              " Propsh Hontichre      1\n",
              " Name: Name, Length: 8473, dtype: int64)"
            ]
          },
          "metadata": {},
          "execution_count": 43
        }
      ]
    },
    {
      "cell_type": "code",
      "source": [
        "df.describe().columns"
      ],
      "metadata": {
        "colab": {
          "base_uri": "https://localhost:8080/"
        },
        "id": "eZxUuW5JxCzZ",
        "outputId": "f862400c-aa67-4593-c709-b177aebb8004"
      },
      "execution_count": 44,
      "outputs": [
        {
          "output_type": "execute_result",
          "data": {
            "text/plain": [
              "Index(['Age', 'RoomService', 'FoodCourt', 'ShoppingMall', 'Spa', 'VRDeck'], dtype='object')"
            ]
          },
          "metadata": {},
          "execution_count": 44
        }
      ]
    },
    {
      "cell_type": "code",
      "source": [
        "df.head()"
      ],
      "metadata": {
        "colab": {
          "base_uri": "https://localhost:8080/",
          "height": 357
        },
        "id": "w975v_LcOb84",
        "outputId": "922f92cf-474f-4011-b851-750972d70c60"
      },
      "execution_count": 45,
      "outputs": [
        {
          "output_type": "execute_result",
          "data": {
            "text/plain": [
              "  PassengerId HomePlanet CryoSleep  Cabin  Destination   Age    VIP  \\\n",
              "0     0001_01     Europa     False  B/0/P  TRAPPIST-1e  39.0  False   \n",
              "1     0002_01      Earth     False  F/0/S  TRAPPIST-1e  24.0  False   \n",
              "2     0003_01     Europa     False  A/0/S  TRAPPIST-1e  58.0   True   \n",
              "3     0003_02     Europa     False  A/0/S  TRAPPIST-1e  33.0  False   \n",
              "4     0004_01      Earth     False  F/1/S  TRAPPIST-1e  16.0  False   \n",
              "\n",
              "   RoomService  FoodCourt  ShoppingMall     Spa  VRDeck               Name  \\\n",
              "0          0.0        0.0           0.0     0.0     0.0    Maham Ofracculy   \n",
              "1        109.0        9.0          25.0   549.0    44.0       Juanna Vines   \n",
              "2         43.0     3576.0           0.0  6715.0    49.0      Altark Susent   \n",
              "3          0.0     1283.0         371.0  3329.0   193.0       Solam Susent   \n",
              "4        303.0       70.0         151.0   565.0     2.0  Willy Santantines   \n",
              "\n",
              "   Transported Passenger_Gp Passenger_Gp_Nb Cabin_Deck Cabin_Num Cabin_Side  \n",
              "0        False         0001              01          B         0          P  \n",
              "1         True         0002              01          F         0          S  \n",
              "2        False         0003              01          A         0          S  \n",
              "3        False         0003              02          A         0          S  \n",
              "4         True         0004              01          F         1          S  "
            ],
            "text/html": [
              "\n",
              "  <div id=\"df-5ee1587b-19ee-41c9-91d2-188ef25da59a\">\n",
              "    <div class=\"colab-df-container\">\n",
              "      <div>\n",
              "<style scoped>\n",
              "    .dataframe tbody tr th:only-of-type {\n",
              "        vertical-align: middle;\n",
              "    }\n",
              "\n",
              "    .dataframe tbody tr th {\n",
              "        vertical-align: top;\n",
              "    }\n",
              "\n",
              "    .dataframe thead th {\n",
              "        text-align: right;\n",
              "    }\n",
              "</style>\n",
              "<table border=\"1\" class=\"dataframe\">\n",
              "  <thead>\n",
              "    <tr style=\"text-align: right;\">\n",
              "      <th></th>\n",
              "      <th>PassengerId</th>\n",
              "      <th>HomePlanet</th>\n",
              "      <th>CryoSleep</th>\n",
              "      <th>Cabin</th>\n",
              "      <th>Destination</th>\n",
              "      <th>Age</th>\n",
              "      <th>VIP</th>\n",
              "      <th>RoomService</th>\n",
              "      <th>FoodCourt</th>\n",
              "      <th>ShoppingMall</th>\n",
              "      <th>Spa</th>\n",
              "      <th>VRDeck</th>\n",
              "      <th>Name</th>\n",
              "      <th>Transported</th>\n",
              "      <th>Passenger_Gp</th>\n",
              "      <th>Passenger_Gp_Nb</th>\n",
              "      <th>Cabin_Deck</th>\n",
              "      <th>Cabin_Num</th>\n",
              "      <th>Cabin_Side</th>\n",
              "    </tr>\n",
              "  </thead>\n",
              "  <tbody>\n",
              "    <tr>\n",
              "      <th>0</th>\n",
              "      <td>0001_01</td>\n",
              "      <td>Europa</td>\n",
              "      <td>False</td>\n",
              "      <td>B/0/P</td>\n",
              "      <td>TRAPPIST-1e</td>\n",
              "      <td>39.0</td>\n",
              "      <td>False</td>\n",
              "      <td>0.0</td>\n",
              "      <td>0.0</td>\n",
              "      <td>0.0</td>\n",
              "      <td>0.0</td>\n",
              "      <td>0.0</td>\n",
              "      <td>Maham Ofracculy</td>\n",
              "      <td>False</td>\n",
              "      <td>0001</td>\n",
              "      <td>01</td>\n",
              "      <td>B</td>\n",
              "      <td>0</td>\n",
              "      <td>P</td>\n",
              "    </tr>\n",
              "    <tr>\n",
              "      <th>1</th>\n",
              "      <td>0002_01</td>\n",
              "      <td>Earth</td>\n",
              "      <td>False</td>\n",
              "      <td>F/0/S</td>\n",
              "      <td>TRAPPIST-1e</td>\n",
              "      <td>24.0</td>\n",
              "      <td>False</td>\n",
              "      <td>109.0</td>\n",
              "      <td>9.0</td>\n",
              "      <td>25.0</td>\n",
              "      <td>549.0</td>\n",
              "      <td>44.0</td>\n",
              "      <td>Juanna Vines</td>\n",
              "      <td>True</td>\n",
              "      <td>0002</td>\n",
              "      <td>01</td>\n",
              "      <td>F</td>\n",
              "      <td>0</td>\n",
              "      <td>S</td>\n",
              "    </tr>\n",
              "    <tr>\n",
              "      <th>2</th>\n",
              "      <td>0003_01</td>\n",
              "      <td>Europa</td>\n",
              "      <td>False</td>\n",
              "      <td>A/0/S</td>\n",
              "      <td>TRAPPIST-1e</td>\n",
              "      <td>58.0</td>\n",
              "      <td>True</td>\n",
              "      <td>43.0</td>\n",
              "      <td>3576.0</td>\n",
              "      <td>0.0</td>\n",
              "      <td>6715.0</td>\n",
              "      <td>49.0</td>\n",
              "      <td>Altark Susent</td>\n",
              "      <td>False</td>\n",
              "      <td>0003</td>\n",
              "      <td>01</td>\n",
              "      <td>A</td>\n",
              "      <td>0</td>\n",
              "      <td>S</td>\n",
              "    </tr>\n",
              "    <tr>\n",
              "      <th>3</th>\n",
              "      <td>0003_02</td>\n",
              "      <td>Europa</td>\n",
              "      <td>False</td>\n",
              "      <td>A/0/S</td>\n",
              "      <td>TRAPPIST-1e</td>\n",
              "      <td>33.0</td>\n",
              "      <td>False</td>\n",
              "      <td>0.0</td>\n",
              "      <td>1283.0</td>\n",
              "      <td>371.0</td>\n",
              "      <td>3329.0</td>\n",
              "      <td>193.0</td>\n",
              "      <td>Solam Susent</td>\n",
              "      <td>False</td>\n",
              "      <td>0003</td>\n",
              "      <td>02</td>\n",
              "      <td>A</td>\n",
              "      <td>0</td>\n",
              "      <td>S</td>\n",
              "    </tr>\n",
              "    <tr>\n",
              "      <th>4</th>\n",
              "      <td>0004_01</td>\n",
              "      <td>Earth</td>\n",
              "      <td>False</td>\n",
              "      <td>F/1/S</td>\n",
              "      <td>TRAPPIST-1e</td>\n",
              "      <td>16.0</td>\n",
              "      <td>False</td>\n",
              "      <td>303.0</td>\n",
              "      <td>70.0</td>\n",
              "      <td>151.0</td>\n",
              "      <td>565.0</td>\n",
              "      <td>2.0</td>\n",
              "      <td>Willy Santantines</td>\n",
              "      <td>True</td>\n",
              "      <td>0004</td>\n",
              "      <td>01</td>\n",
              "      <td>F</td>\n",
              "      <td>1</td>\n",
              "      <td>S</td>\n",
              "    </tr>\n",
              "  </tbody>\n",
              "</table>\n",
              "</div>\n",
              "      <button class=\"colab-df-convert\" onclick=\"convertToInteractive('df-5ee1587b-19ee-41c9-91d2-188ef25da59a')\"\n",
              "              title=\"Convert this dataframe to an interactive table.\"\n",
              "              style=\"display:none;\">\n",
              "        \n",
              "  <svg xmlns=\"http://www.w3.org/2000/svg\" height=\"24px\"viewBox=\"0 0 24 24\"\n",
              "       width=\"24px\">\n",
              "    <path d=\"M0 0h24v24H0V0z\" fill=\"none\"/>\n",
              "    <path d=\"M18.56 5.44l.94 2.06.94-2.06 2.06-.94-2.06-.94-.94-2.06-.94 2.06-2.06.94zm-11 1L8.5 8.5l.94-2.06 2.06-.94-2.06-.94L8.5 2.5l-.94 2.06-2.06.94zm10 10l.94 2.06.94-2.06 2.06-.94-2.06-.94-.94-2.06-.94 2.06-2.06.94z\"/><path d=\"M17.41 7.96l-1.37-1.37c-.4-.4-.92-.59-1.43-.59-.52 0-1.04.2-1.43.59L10.3 9.45l-7.72 7.72c-.78.78-.78 2.05 0 2.83L4 21.41c.39.39.9.59 1.41.59.51 0 1.02-.2 1.41-.59l7.78-7.78 2.81-2.81c.8-.78.8-2.07 0-2.86zM5.41 20L4 18.59l7.72-7.72 1.47 1.35L5.41 20z\"/>\n",
              "  </svg>\n",
              "      </button>\n",
              "      \n",
              "  <style>\n",
              "    .colab-df-container {\n",
              "      display:flex;\n",
              "      flex-wrap:wrap;\n",
              "      gap: 12px;\n",
              "    }\n",
              "\n",
              "    .colab-df-convert {\n",
              "      background-color: #E8F0FE;\n",
              "      border: none;\n",
              "      border-radius: 50%;\n",
              "      cursor: pointer;\n",
              "      display: none;\n",
              "      fill: #1967D2;\n",
              "      height: 32px;\n",
              "      padding: 0 0 0 0;\n",
              "      width: 32px;\n",
              "    }\n",
              "\n",
              "    .colab-df-convert:hover {\n",
              "      background-color: #E2EBFA;\n",
              "      box-shadow: 0px 1px 2px rgba(60, 64, 67, 0.3), 0px 1px 3px 1px rgba(60, 64, 67, 0.15);\n",
              "      fill: #174EA6;\n",
              "    }\n",
              "\n",
              "    [theme=dark] .colab-df-convert {\n",
              "      background-color: #3B4455;\n",
              "      fill: #D2E3FC;\n",
              "    }\n",
              "\n",
              "    [theme=dark] .colab-df-convert:hover {\n",
              "      background-color: #434B5C;\n",
              "      box-shadow: 0px 1px 3px 1px rgba(0, 0, 0, 0.15);\n",
              "      filter: drop-shadow(0px 1px 2px rgba(0, 0, 0, 0.3));\n",
              "      fill: #FFFFFF;\n",
              "    }\n",
              "  </style>\n",
              "\n",
              "      <script>\n",
              "        const buttonEl =\n",
              "          document.querySelector('#df-5ee1587b-19ee-41c9-91d2-188ef25da59a button.colab-df-convert');\n",
              "        buttonEl.style.display =\n",
              "          google.colab.kernel.accessAllowed ? 'block' : 'none';\n",
              "\n",
              "        async function convertToInteractive(key) {\n",
              "          const element = document.querySelector('#df-5ee1587b-19ee-41c9-91d2-188ef25da59a');\n",
              "          const dataTable =\n",
              "            await google.colab.kernel.invokeFunction('convertToInteractive',\n",
              "                                                     [key], {});\n",
              "          if (!dataTable) return;\n",
              "\n",
              "          const docLinkHtml = 'Like what you see? Visit the ' +\n",
              "            '<a target=\"_blank\" href=https://colab.research.google.com/notebooks/data_table.ipynb>data table notebook</a>'\n",
              "            + ' to learn more about interactive tables.';\n",
              "          element.innerHTML = '';\n",
              "          dataTable['output_type'] = 'display_data';\n",
              "          await google.colab.output.renderOutput(dataTable, element);\n",
              "          const docLink = document.createElement('div');\n",
              "          docLink.innerHTML = docLinkHtml;\n",
              "          element.appendChild(docLink);\n",
              "        }\n",
              "      </script>\n",
              "    </div>\n",
              "  </div>\n",
              "  "
            ]
          },
          "metadata": {},
          "execution_count": 45
        }
      ]
    },
    {
      "cell_type": "markdown",
      "source": [
        "**Function to change df**"
      ],
      "metadata": {
        "id": "9Orv-q-3MT2N"
      }
    },
    {
      "cell_type": "code",
      "source": [
        "def df_changes(df):\n",
        "  df[['Passenger_Gp', 'Passenger_Gp_Nb']] = df['PassengerId'].str.split('_', 1, expand=True)\n",
        "  df[['Cabin_Deck', 'Cabin_Num', \"Cabin_Side\"]] = df['Cabin'].str.split('/', expand=True)\n",
        "  "
      ],
      "metadata": {
        "id": "HMw3gYLkMSxw"
      },
      "execution_count": 46,
      "outputs": []
    },
    {
      "cell_type": "code",
      "source": [
        "path.ls()"
      ],
      "metadata": {
        "colab": {
          "base_uri": "https://localhost:8080/"
        },
        "id": "t25jMh9pO8LP",
        "outputId": "82c76e40-3fe3-4fec-e2fa-130184e9b273"
      },
      "execution_count": 47,
      "outputs": [
        {
          "output_type": "execute_result",
          "data": {
            "text/plain": [
              "(#3) [Path('spaceship-titanic/train.csv'),Path('spaceship-titanic/test.csv'),Path('spaceship-titanic/sample_submission.csv')]"
            ]
          },
          "metadata": {},
          "execution_count": 47
        }
      ]
    },
    {
      "cell_type": "markdown",
      "source": [
        "format test data like training data"
      ],
      "metadata": {
        "id": "Y_GwafJL4ZXe"
      }
    },
    {
      "cell_type": "code",
      "source": [
        "tst_df = pd.read_csv(path/\"test.csv\")"
      ],
      "metadata": {
        "id": "IQ4QyHTAMoQE"
      },
      "execution_count": 48,
      "outputs": []
    },
    {
      "cell_type": "code",
      "source": [
        "df_changes(tst_df)"
      ],
      "metadata": {
        "id": "RAA6V8c_MSke"
      },
      "execution_count": 49,
      "outputs": []
    },
    {
      "cell_type": "code",
      "source": [
        "tst_df.head()"
      ],
      "metadata": {
        "colab": {
          "base_uri": "https://localhost:8080/",
          "height": 357
        },
        "id": "whZ-E3WBPNpb",
        "outputId": "a5a9535a-28a3-4e02-d65a-a950c757f54d"
      },
      "execution_count": 50,
      "outputs": [
        {
          "output_type": "execute_result",
          "data": {
            "text/plain": [
              "  PassengerId HomePlanet CryoSleep  Cabin  Destination   Age    VIP  \\\n",
              "0     0013_01      Earth      True  G/3/S  TRAPPIST-1e  27.0  False   \n",
              "1     0018_01      Earth     False  F/4/S  TRAPPIST-1e  19.0  False   \n",
              "2     0019_01     Europa      True  C/0/S  55 Cancri e  31.0  False   \n",
              "3     0021_01     Europa     False  C/1/S  TRAPPIST-1e  38.0  False   \n",
              "4     0023_01      Earth     False  F/5/S  TRAPPIST-1e  20.0  False   \n",
              "\n",
              "   RoomService  FoodCourt  ShoppingMall     Spa  VRDeck              Name  \\\n",
              "0          0.0        0.0           0.0     0.0     0.0   Nelly Carsoning   \n",
              "1          0.0        9.0           0.0  2823.0     0.0    Lerome Peckers   \n",
              "2          0.0        0.0           0.0     0.0     0.0   Sabih Unhearfus   \n",
              "3          0.0     6652.0           0.0   181.0   585.0  Meratz Caltilter   \n",
              "4         10.0        0.0         635.0     0.0     0.0   Brence Harperez   \n",
              "\n",
              "  Passenger_Gp Passenger_Gp_Nb Cabin_Deck Cabin_Num Cabin_Side  \n",
              "0         0013              01          G         3          S  \n",
              "1         0018              01          F         4          S  \n",
              "2         0019              01          C         0          S  \n",
              "3         0021              01          C         1          S  \n",
              "4         0023              01          F         5          S  "
            ],
            "text/html": [
              "\n",
              "  <div id=\"df-20fc642b-800d-47f0-ab0b-fe29d3b1cec1\">\n",
              "    <div class=\"colab-df-container\">\n",
              "      <div>\n",
              "<style scoped>\n",
              "    .dataframe tbody tr th:only-of-type {\n",
              "        vertical-align: middle;\n",
              "    }\n",
              "\n",
              "    .dataframe tbody tr th {\n",
              "        vertical-align: top;\n",
              "    }\n",
              "\n",
              "    .dataframe thead th {\n",
              "        text-align: right;\n",
              "    }\n",
              "</style>\n",
              "<table border=\"1\" class=\"dataframe\">\n",
              "  <thead>\n",
              "    <tr style=\"text-align: right;\">\n",
              "      <th></th>\n",
              "      <th>PassengerId</th>\n",
              "      <th>HomePlanet</th>\n",
              "      <th>CryoSleep</th>\n",
              "      <th>Cabin</th>\n",
              "      <th>Destination</th>\n",
              "      <th>Age</th>\n",
              "      <th>VIP</th>\n",
              "      <th>RoomService</th>\n",
              "      <th>FoodCourt</th>\n",
              "      <th>ShoppingMall</th>\n",
              "      <th>Spa</th>\n",
              "      <th>VRDeck</th>\n",
              "      <th>Name</th>\n",
              "      <th>Passenger_Gp</th>\n",
              "      <th>Passenger_Gp_Nb</th>\n",
              "      <th>Cabin_Deck</th>\n",
              "      <th>Cabin_Num</th>\n",
              "      <th>Cabin_Side</th>\n",
              "    </tr>\n",
              "  </thead>\n",
              "  <tbody>\n",
              "    <tr>\n",
              "      <th>0</th>\n",
              "      <td>0013_01</td>\n",
              "      <td>Earth</td>\n",
              "      <td>True</td>\n",
              "      <td>G/3/S</td>\n",
              "      <td>TRAPPIST-1e</td>\n",
              "      <td>27.0</td>\n",
              "      <td>False</td>\n",
              "      <td>0.0</td>\n",
              "      <td>0.0</td>\n",
              "      <td>0.0</td>\n",
              "      <td>0.0</td>\n",
              "      <td>0.0</td>\n",
              "      <td>Nelly Carsoning</td>\n",
              "      <td>0013</td>\n",
              "      <td>01</td>\n",
              "      <td>G</td>\n",
              "      <td>3</td>\n",
              "      <td>S</td>\n",
              "    </tr>\n",
              "    <tr>\n",
              "      <th>1</th>\n",
              "      <td>0018_01</td>\n",
              "      <td>Earth</td>\n",
              "      <td>False</td>\n",
              "      <td>F/4/S</td>\n",
              "      <td>TRAPPIST-1e</td>\n",
              "      <td>19.0</td>\n",
              "      <td>False</td>\n",
              "      <td>0.0</td>\n",
              "      <td>9.0</td>\n",
              "      <td>0.0</td>\n",
              "      <td>2823.0</td>\n",
              "      <td>0.0</td>\n",
              "      <td>Lerome Peckers</td>\n",
              "      <td>0018</td>\n",
              "      <td>01</td>\n",
              "      <td>F</td>\n",
              "      <td>4</td>\n",
              "      <td>S</td>\n",
              "    </tr>\n",
              "    <tr>\n",
              "      <th>2</th>\n",
              "      <td>0019_01</td>\n",
              "      <td>Europa</td>\n",
              "      <td>True</td>\n",
              "      <td>C/0/S</td>\n",
              "      <td>55 Cancri e</td>\n",
              "      <td>31.0</td>\n",
              "      <td>False</td>\n",
              "      <td>0.0</td>\n",
              "      <td>0.0</td>\n",
              "      <td>0.0</td>\n",
              "      <td>0.0</td>\n",
              "      <td>0.0</td>\n",
              "      <td>Sabih Unhearfus</td>\n",
              "      <td>0019</td>\n",
              "      <td>01</td>\n",
              "      <td>C</td>\n",
              "      <td>0</td>\n",
              "      <td>S</td>\n",
              "    </tr>\n",
              "    <tr>\n",
              "      <th>3</th>\n",
              "      <td>0021_01</td>\n",
              "      <td>Europa</td>\n",
              "      <td>False</td>\n",
              "      <td>C/1/S</td>\n",
              "      <td>TRAPPIST-1e</td>\n",
              "      <td>38.0</td>\n",
              "      <td>False</td>\n",
              "      <td>0.0</td>\n",
              "      <td>6652.0</td>\n",
              "      <td>0.0</td>\n",
              "      <td>181.0</td>\n",
              "      <td>585.0</td>\n",
              "      <td>Meratz Caltilter</td>\n",
              "      <td>0021</td>\n",
              "      <td>01</td>\n",
              "      <td>C</td>\n",
              "      <td>1</td>\n",
              "      <td>S</td>\n",
              "    </tr>\n",
              "    <tr>\n",
              "      <th>4</th>\n",
              "      <td>0023_01</td>\n",
              "      <td>Earth</td>\n",
              "      <td>False</td>\n",
              "      <td>F/5/S</td>\n",
              "      <td>TRAPPIST-1e</td>\n",
              "      <td>20.0</td>\n",
              "      <td>False</td>\n",
              "      <td>10.0</td>\n",
              "      <td>0.0</td>\n",
              "      <td>635.0</td>\n",
              "      <td>0.0</td>\n",
              "      <td>0.0</td>\n",
              "      <td>Brence Harperez</td>\n",
              "      <td>0023</td>\n",
              "      <td>01</td>\n",
              "      <td>F</td>\n",
              "      <td>5</td>\n",
              "      <td>S</td>\n",
              "    </tr>\n",
              "  </tbody>\n",
              "</table>\n",
              "</div>\n",
              "      <button class=\"colab-df-convert\" onclick=\"convertToInteractive('df-20fc642b-800d-47f0-ab0b-fe29d3b1cec1')\"\n",
              "              title=\"Convert this dataframe to an interactive table.\"\n",
              "              style=\"display:none;\">\n",
              "        \n",
              "  <svg xmlns=\"http://www.w3.org/2000/svg\" height=\"24px\"viewBox=\"0 0 24 24\"\n",
              "       width=\"24px\">\n",
              "    <path d=\"M0 0h24v24H0V0z\" fill=\"none\"/>\n",
              "    <path d=\"M18.56 5.44l.94 2.06.94-2.06 2.06-.94-2.06-.94-.94-2.06-.94 2.06-2.06.94zm-11 1L8.5 8.5l.94-2.06 2.06-.94-2.06-.94L8.5 2.5l-.94 2.06-2.06.94zm10 10l.94 2.06.94-2.06 2.06-.94-2.06-.94-.94-2.06-.94 2.06-2.06.94z\"/><path d=\"M17.41 7.96l-1.37-1.37c-.4-.4-.92-.59-1.43-.59-.52 0-1.04.2-1.43.59L10.3 9.45l-7.72 7.72c-.78.78-.78 2.05 0 2.83L4 21.41c.39.39.9.59 1.41.59.51 0 1.02-.2 1.41-.59l7.78-7.78 2.81-2.81c.8-.78.8-2.07 0-2.86zM5.41 20L4 18.59l7.72-7.72 1.47 1.35L5.41 20z\"/>\n",
              "  </svg>\n",
              "      </button>\n",
              "      \n",
              "  <style>\n",
              "    .colab-df-container {\n",
              "      display:flex;\n",
              "      flex-wrap:wrap;\n",
              "      gap: 12px;\n",
              "    }\n",
              "\n",
              "    .colab-df-convert {\n",
              "      background-color: #E8F0FE;\n",
              "      border: none;\n",
              "      border-radius: 50%;\n",
              "      cursor: pointer;\n",
              "      display: none;\n",
              "      fill: #1967D2;\n",
              "      height: 32px;\n",
              "      padding: 0 0 0 0;\n",
              "      width: 32px;\n",
              "    }\n",
              "\n",
              "    .colab-df-convert:hover {\n",
              "      background-color: #E2EBFA;\n",
              "      box-shadow: 0px 1px 2px rgba(60, 64, 67, 0.3), 0px 1px 3px 1px rgba(60, 64, 67, 0.15);\n",
              "      fill: #174EA6;\n",
              "    }\n",
              "\n",
              "    [theme=dark] .colab-df-convert {\n",
              "      background-color: #3B4455;\n",
              "      fill: #D2E3FC;\n",
              "    }\n",
              "\n",
              "    [theme=dark] .colab-df-convert:hover {\n",
              "      background-color: #434B5C;\n",
              "      box-shadow: 0px 1px 3px 1px rgba(0, 0, 0, 0.15);\n",
              "      filter: drop-shadow(0px 1px 2px rgba(0, 0, 0, 0.3));\n",
              "      fill: #FFFFFF;\n",
              "    }\n",
              "  </style>\n",
              "\n",
              "      <script>\n",
              "        const buttonEl =\n",
              "          document.querySelector('#df-20fc642b-800d-47f0-ab0b-fe29d3b1cec1 button.colab-df-convert');\n",
              "        buttonEl.style.display =\n",
              "          google.colab.kernel.accessAllowed ? 'block' : 'none';\n",
              "\n",
              "        async function convertToInteractive(key) {\n",
              "          const element = document.querySelector('#df-20fc642b-800d-47f0-ab0b-fe29d3b1cec1');\n",
              "          const dataTable =\n",
              "            await google.colab.kernel.invokeFunction('convertToInteractive',\n",
              "                                                     [key], {});\n",
              "          if (!dataTable) return;\n",
              "\n",
              "          const docLinkHtml = 'Like what you see? Visit the ' +\n",
              "            '<a target=\"_blank\" href=https://colab.research.google.com/notebooks/data_table.ipynb>data table notebook</a>'\n",
              "            + ' to learn more about interactive tables.';\n",
              "          element.innerHTML = '';\n",
              "          dataTable['output_type'] = 'display_data';\n",
              "          await google.colab.output.renderOutput(dataTable, element);\n",
              "          const docLink = document.createElement('div');\n",
              "          docLink.innerHTML = docLinkHtml;\n",
              "          element.appendChild(docLink);\n",
              "        }\n",
              "      </script>\n",
              "    </div>\n",
              "  </div>\n",
              "  "
            ]
          },
          "metadata": {},
          "execution_count": 50
        }
      ]
    },
    {
      "cell_type": "markdown",
      "source": [
        "## TabularPandas"
      ],
      "metadata": {
        "id": "jn2Wq61d5qT1"
      }
    },
    {
      "cell_type": "code",
      "source": [
        "procs = [Categorify, FillMissing, Normalize]"
      ],
      "metadata": {
        "id": "zDUYriUfxCt4"
      },
      "execution_count": 51,
      "outputs": []
    },
    {
      "cell_type": "code",
      "source": [
        "dep_var = \"Transported\""
      ],
      "metadata": {
        "id": "IfhDoBXGxCq8"
      },
      "execution_count": 52,
      "outputs": []
    },
    {
      "cell_type": "code",
      "source": [
        "cont_names,cat_names = cont_cat_split(df, dep_var=dep_var)"
      ],
      "metadata": {
        "id": "Ot8xb7vEQEYg"
      },
      "execution_count": 53,
      "outputs": []
    },
    {
      "cell_type": "code",
      "source": [
        "cont_names"
      ],
      "metadata": {
        "colab": {
          "base_uri": "https://localhost:8080/"
        },
        "id": "d3Po5gm-QENk",
        "outputId": "779028af-8da9-4a32-ca1f-d792fd957619"
      },
      "execution_count": 54,
      "outputs": [
        {
          "output_type": "execute_result",
          "data": {
            "text/plain": [
              "['Age', 'RoomService', 'FoodCourt', 'ShoppingMall', 'Spa', 'VRDeck']"
            ]
          },
          "metadata": {},
          "execution_count": 54
        }
      ]
    },
    {
      "cell_type": "code",
      "source": [
        "cat_names"
      ],
      "metadata": {
        "colab": {
          "base_uri": "https://localhost:8080/"
        },
        "id": "QRdmWElqQwau",
        "outputId": "c768bedb-f6a7-43cc-f921-26f42bedf140"
      },
      "execution_count": 55,
      "outputs": [
        {
          "output_type": "execute_result",
          "data": {
            "text/plain": [
              "['PassengerId',\n",
              " 'HomePlanet',\n",
              " 'CryoSleep',\n",
              " 'Cabin',\n",
              " 'Destination',\n",
              " 'VIP',\n",
              " 'Name',\n",
              " 'Passenger_Gp',\n",
              " 'Passenger_Gp_Nb',\n",
              " 'Cabin_Deck',\n",
              " 'Cabin_Num',\n",
              " 'Cabin_Side']"
            ]
          },
          "metadata": {},
          "execution_count": 55
        }
      ]
    },
    {
      "cell_type": "code",
      "source": [
        "splits = RandomSplitter()(df)"
      ],
      "metadata": {
        "id": "W-VP77_XQyjX"
      },
      "execution_count": 56,
      "outputs": []
    },
    {
      "cell_type": "code",
      "source": [
        "splits"
      ],
      "metadata": {
        "colab": {
          "base_uri": "https://localhost:8080/"
        },
        "id": "Mn5Rmz5rRXi5",
        "outputId": "03ea679e-01c6-401d-e4cb-d43a935d945d"
      },
      "execution_count": 57,
      "outputs": [
        {
          "output_type": "execute_result",
          "data": {
            "text/plain": [
              "((#6955) [8388,1917,5173,8246,61,7701,6553,2494,8639,2009...],\n",
              " (#1738) [6585,7020,3039,2327,1294,1180,5618,4867,3783,6438...])"
            ]
          },
          "metadata": {},
          "execution_count": 57
        }
      ]
    },
    {
      "cell_type": "code",
      "source": [
        "to = TabularPandas(df, procs=procs, cat_names=cat_names, cont_names=cont_names,\n",
        "                y_names=dep_var, y_block=CategoryBlock(), splits=splits)"
      ],
      "metadata": {
        "id": "EZ2sR4FXxCl2"
      },
      "execution_count": 58,
      "outputs": []
    },
    {
      "cell_type": "code",
      "source": [
        "to.show(5)"
      ],
      "metadata": {
        "colab": {
          "base_uri": "https://localhost:8080/",
          "height": 313
        },
        "id": "j8O-VB3OxCjC",
        "outputId": "245c2ade-11a8-4d5e-d65d-72e286bfa8c7"
      },
      "execution_count": 59,
      "outputs": [
        {
          "output_type": "display_data",
          "data": {
            "text/plain": [
              "<IPython.core.display.HTML object>"
            ],
            "text/html": [
              "<table border=\"1\" class=\"dataframe\">\n",
              "  <thead>\n",
              "    <tr style=\"text-align: right;\">\n",
              "      <th></th>\n",
              "      <th>PassengerId</th>\n",
              "      <th>HomePlanet</th>\n",
              "      <th>CryoSleep</th>\n",
              "      <th>Cabin</th>\n",
              "      <th>Destination</th>\n",
              "      <th>VIP</th>\n",
              "      <th>Name</th>\n",
              "      <th>Passenger_Gp</th>\n",
              "      <th>Passenger_Gp_Nb</th>\n",
              "      <th>Cabin_Deck</th>\n",
              "      <th>Cabin_Num</th>\n",
              "      <th>Cabin_Side</th>\n",
              "      <th>Age_na</th>\n",
              "      <th>RoomService_na</th>\n",
              "      <th>FoodCourt_na</th>\n",
              "      <th>ShoppingMall_na</th>\n",
              "      <th>Spa_na</th>\n",
              "      <th>VRDeck_na</th>\n",
              "      <th>Age</th>\n",
              "      <th>RoomService</th>\n",
              "      <th>FoodCourt</th>\n",
              "      <th>ShoppingMall</th>\n",
              "      <th>Spa</th>\n",
              "      <th>VRDeck</th>\n",
              "      <th>Transported</th>\n",
              "    </tr>\n",
              "  </thead>\n",
              "  <tbody>\n",
              "    <tr>\n",
              "      <th>8388</th>\n",
              "      <td>8966_01</td>\n",
              "      <td>Mars</td>\n",
              "      <td>False</td>\n",
              "      <td>F/1735/S</td>\n",
              "      <td>TRAPPIST-1e</td>\n",
              "      <td>False</td>\n",
              "      <td>Dow Bush</td>\n",
              "      <td>8966</td>\n",
              "      <td>01</td>\n",
              "      <td>F</td>\n",
              "      <td>1735</td>\n",
              "      <td>S</td>\n",
              "      <td>False</td>\n",
              "      <td>False</td>\n",
              "      <td>False</td>\n",
              "      <td>False</td>\n",
              "      <td>False</td>\n",
              "      <td>False</td>\n",
              "      <td>52.0</td>\n",
              "      <td>1231.0</td>\n",
              "      <td>2.0</td>\n",
              "      <td>8.0</td>\n",
              "      <td>0.0</td>\n",
              "      <td>0.0</td>\n",
              "      <td>False</td>\n",
              "    </tr>\n",
              "    <tr>\n",
              "      <th>1917</th>\n",
              "      <td>2055_03</td>\n",
              "      <td>Earth</td>\n",
              "      <td>True</td>\n",
              "      <td>G/330/P</td>\n",
              "      <td>TRAPPIST-1e</td>\n",
              "      <td>False</td>\n",
              "      <td>#na#</td>\n",
              "      <td>2055</td>\n",
              "      <td>03</td>\n",
              "      <td>G</td>\n",
              "      <td>330</td>\n",
              "      <td>P</td>\n",
              "      <td>False</td>\n",
              "      <td>False</td>\n",
              "      <td>False</td>\n",
              "      <td>False</td>\n",
              "      <td>False</td>\n",
              "      <td>False</td>\n",
              "      <td>25.0</td>\n",
              "      <td>0.0</td>\n",
              "      <td>0.0</td>\n",
              "      <td>0.0</td>\n",
              "      <td>0.0</td>\n",
              "      <td>0.0</td>\n",
              "      <td>True</td>\n",
              "    </tr>\n",
              "    <tr>\n",
              "      <th>5173</th>\n",
              "      <td>5523_01</td>\n",
              "      <td>Earth</td>\n",
              "      <td>False</td>\n",
              "      <td>G/885/P</td>\n",
              "      <td>PSO J318.5-22</td>\n",
              "      <td>False</td>\n",
              "      <td>Rician Pearsalason</td>\n",
              "      <td>5523</td>\n",
              "      <td>01</td>\n",
              "      <td>G</td>\n",
              "      <td>885</td>\n",
              "      <td>P</td>\n",
              "      <td>False</td>\n",
              "      <td>False</td>\n",
              "      <td>False</td>\n",
              "      <td>False</td>\n",
              "      <td>False</td>\n",
              "      <td>False</td>\n",
              "      <td>29.0</td>\n",
              "      <td>0.0</td>\n",
              "      <td>0.0</td>\n",
              "      <td>20.0</td>\n",
              "      <td>0.0</td>\n",
              "      <td>402.0</td>\n",
              "      <td>False</td>\n",
              "    </tr>\n",
              "    <tr>\n",
              "      <th>8246</th>\n",
              "      <td>8811_01</td>\n",
              "      <td>Earth</td>\n",
              "      <td>False</td>\n",
              "      <td>E/577/S</td>\n",
              "      <td>PSO J318.5-22</td>\n",
              "      <td>False</td>\n",
              "      <td>Karley Goods</td>\n",
              "      <td>8811</td>\n",
              "      <td>01</td>\n",
              "      <td>E</td>\n",
              "      <td>577</td>\n",
              "      <td>S</td>\n",
              "      <td>False</td>\n",
              "      <td>False</td>\n",
              "      <td>False</td>\n",
              "      <td>False</td>\n",
              "      <td>False</td>\n",
              "      <td>False</td>\n",
              "      <td>63.0</td>\n",
              "      <td>0.0</td>\n",
              "      <td>0.0</td>\n",
              "      <td>80.0</td>\n",
              "      <td>0.0</td>\n",
              "      <td>2322.0</td>\n",
              "      <td>False</td>\n",
              "    </tr>\n",
              "    <tr>\n",
              "      <th>61</th>\n",
              "      <td>0067_01</td>\n",
              "      <td>Earth</td>\n",
              "      <td>True</td>\n",
              "      <td>G/10/S</td>\n",
              "      <td>PSO J318.5-22</td>\n",
              "      <td>False</td>\n",
              "      <td>Ninaha Leeves</td>\n",
              "      <td>0067</td>\n",
              "      <td>01</td>\n",
              "      <td>G</td>\n",
              "      <td>10</td>\n",
              "      <td>S</td>\n",
              "      <td>False</td>\n",
              "      <td>False</td>\n",
              "      <td>False</td>\n",
              "      <td>False</td>\n",
              "      <td>False</td>\n",
              "      <td>False</td>\n",
              "      <td>0.0</td>\n",
              "      <td>0.0</td>\n",
              "      <td>0.0</td>\n",
              "      <td>0.0</td>\n",
              "      <td>0.0</td>\n",
              "      <td>0.0</td>\n",
              "      <td>True</td>\n",
              "    </tr>\n",
              "  </tbody>\n",
              "</table>"
            ]
          },
          "metadata": {}
        }
      ]
    },
    {
      "cell_type": "markdown",
      "source": [
        "Underlying numerical values of the TabularPandas object"
      ],
      "metadata": {
        "id": "Sl7d75r65BZw"
      }
    },
    {
      "cell_type": "code",
      "source": [
        "to.items"
      ],
      "metadata": {
        "colab": {
          "base_uri": "https://localhost:8080/",
          "height": 488
        },
        "id": "oBGVplBZxCgS",
        "outputId": "c80119bc-a3c4-4755-e6ee-d6df97f33729"
      },
      "execution_count": 60,
      "outputs": [
        {
          "output_type": "execute_result",
          "data": {
            "text/plain": [
              "      PassengerId  HomePlanet  CryoSleep  Cabin  Destination       Age  VIP  \\\n",
              "8388         8389           3          1   3242            3  1.612332    1   \n",
              "1917         1918           1          2   5560            3 -0.265485    1   \n",
              "5173         5174           1          1   6379            2  0.012710    1   \n",
              "8246         8247           1          1   2091            2  2.377369    1   \n",
              "61             62           1          2   4563            2 -2.004205    1   \n",
              "...           ...         ...        ...    ...          ...       ...  ...   \n",
              "964           965           1          1   3444            3 -0.613229    1   \n",
              "1395         1396           1          2   5405            3 -0.126388    1   \n",
              "3518         3519           3          2   4143            3  0.916844    1   \n",
              "3153         3154           1          1   5893            2  0.569100    1   \n",
              "344           345           2          2      0            1 -0.195937    1   \n",
              "\n",
              "      RoomService  FoodCourt  ShoppingMall  ...  Passenger_Gp_Nb  Cabin_Deck  \\\n",
              "8388     1.470626  -0.282769     -0.267182  ...                1           6   \n",
              "1917    -0.327109  -0.284032     -0.280746  ...                3           7   \n",
              "5173    -0.327109  -0.284032     -0.246835  ...                1           7   \n",
              "8246    -0.327109  -0.284032     -0.145103  ...                1           5   \n",
              "61      -0.327109  -0.284032     -0.280746  ...                1           7   \n",
              "...           ...        ...           ...  ...              ...         ...   \n",
              "964      0.781324  -0.284032     -0.101019  ...                1           6   \n",
              "1395    -0.327109  -0.284032     -0.280746  ...                1           7   \n",
              "3518    -0.327109  -0.284032     -0.280746  ...                1           6   \n",
              "3153     0.122690  -0.261929      0.422905  ...                1           7   \n",
              "344     -0.327109  -0.284032     -0.280746  ...                1           0   \n",
              "\n",
              "      Cabin_Num  Cabin_Side  Age_na  RoomService_na  FoodCourt_na  \\\n",
              "8388        786           2       1               1             1   \n",
              "1917       1078           1       1               1             1   \n",
              "5173       1692           1       1               1             1   \n",
              "8246       1351           2       1               1             1   \n",
              "61            3           2       1               1             1   \n",
              "...         ...         ...     ...             ...           ...   \n",
              "964         945           1       1               1             1   \n",
              "1395        960           2       2               1             2   \n",
              "3518       1501           2       1               1             1   \n",
              "3153       1328           1       1               1             1   \n",
              "344           0           0       1               1             1   \n",
              "\n",
              "      ShoppingMall_na  Spa_na  VRDeck_na  \n",
              "8388                1       1          1  \n",
              "1917                1       1          1  \n",
              "5173                1       1          1  \n",
              "8246                1       1          1  \n",
              "61                  1       1          1  \n",
              "...               ...     ...        ...  \n",
              "964                 1       1          1  \n",
              "1395                1       1          1  \n",
              "3518                1       1          1  \n",
              "3153                1       1          1  \n",
              "344                 1       1          1  \n",
              "\n",
              "[8693 rows x 25 columns]"
            ],
            "text/html": [
              "\n",
              "  <div id=\"df-c90727b2-1be5-4e4c-8803-3340489c7b4c\">\n",
              "    <div class=\"colab-df-container\">\n",
              "      <div>\n",
              "<style scoped>\n",
              "    .dataframe tbody tr th:only-of-type {\n",
              "        vertical-align: middle;\n",
              "    }\n",
              "\n",
              "    .dataframe tbody tr th {\n",
              "        vertical-align: top;\n",
              "    }\n",
              "\n",
              "    .dataframe thead th {\n",
              "        text-align: right;\n",
              "    }\n",
              "</style>\n",
              "<table border=\"1\" class=\"dataframe\">\n",
              "  <thead>\n",
              "    <tr style=\"text-align: right;\">\n",
              "      <th></th>\n",
              "      <th>PassengerId</th>\n",
              "      <th>HomePlanet</th>\n",
              "      <th>CryoSleep</th>\n",
              "      <th>Cabin</th>\n",
              "      <th>Destination</th>\n",
              "      <th>Age</th>\n",
              "      <th>VIP</th>\n",
              "      <th>RoomService</th>\n",
              "      <th>FoodCourt</th>\n",
              "      <th>ShoppingMall</th>\n",
              "      <th>...</th>\n",
              "      <th>Passenger_Gp_Nb</th>\n",
              "      <th>Cabin_Deck</th>\n",
              "      <th>Cabin_Num</th>\n",
              "      <th>Cabin_Side</th>\n",
              "      <th>Age_na</th>\n",
              "      <th>RoomService_na</th>\n",
              "      <th>FoodCourt_na</th>\n",
              "      <th>ShoppingMall_na</th>\n",
              "      <th>Spa_na</th>\n",
              "      <th>VRDeck_na</th>\n",
              "    </tr>\n",
              "  </thead>\n",
              "  <tbody>\n",
              "    <tr>\n",
              "      <th>8388</th>\n",
              "      <td>8389</td>\n",
              "      <td>3</td>\n",
              "      <td>1</td>\n",
              "      <td>3242</td>\n",
              "      <td>3</td>\n",
              "      <td>1.612332</td>\n",
              "      <td>1</td>\n",
              "      <td>1.470626</td>\n",
              "      <td>-0.282769</td>\n",
              "      <td>-0.267182</td>\n",
              "      <td>...</td>\n",
              "      <td>1</td>\n",
              "      <td>6</td>\n",
              "      <td>786</td>\n",
              "      <td>2</td>\n",
              "      <td>1</td>\n",
              "      <td>1</td>\n",
              "      <td>1</td>\n",
              "      <td>1</td>\n",
              "      <td>1</td>\n",
              "      <td>1</td>\n",
              "    </tr>\n",
              "    <tr>\n",
              "      <th>1917</th>\n",
              "      <td>1918</td>\n",
              "      <td>1</td>\n",
              "      <td>2</td>\n",
              "      <td>5560</td>\n",
              "      <td>3</td>\n",
              "      <td>-0.265485</td>\n",
              "      <td>1</td>\n",
              "      <td>-0.327109</td>\n",
              "      <td>-0.284032</td>\n",
              "      <td>-0.280746</td>\n",
              "      <td>...</td>\n",
              "      <td>3</td>\n",
              "      <td>7</td>\n",
              "      <td>1078</td>\n",
              "      <td>1</td>\n",
              "      <td>1</td>\n",
              "      <td>1</td>\n",
              "      <td>1</td>\n",
              "      <td>1</td>\n",
              "      <td>1</td>\n",
              "      <td>1</td>\n",
              "    </tr>\n",
              "    <tr>\n",
              "      <th>5173</th>\n",
              "      <td>5174</td>\n",
              "      <td>1</td>\n",
              "      <td>1</td>\n",
              "      <td>6379</td>\n",
              "      <td>2</td>\n",
              "      <td>0.012710</td>\n",
              "      <td>1</td>\n",
              "      <td>-0.327109</td>\n",
              "      <td>-0.284032</td>\n",
              "      <td>-0.246835</td>\n",
              "      <td>...</td>\n",
              "      <td>1</td>\n",
              "      <td>7</td>\n",
              "      <td>1692</td>\n",
              "      <td>1</td>\n",
              "      <td>1</td>\n",
              "      <td>1</td>\n",
              "      <td>1</td>\n",
              "      <td>1</td>\n",
              "      <td>1</td>\n",
              "      <td>1</td>\n",
              "    </tr>\n",
              "    <tr>\n",
              "      <th>8246</th>\n",
              "      <td>8247</td>\n",
              "      <td>1</td>\n",
              "      <td>1</td>\n",
              "      <td>2091</td>\n",
              "      <td>2</td>\n",
              "      <td>2.377369</td>\n",
              "      <td>1</td>\n",
              "      <td>-0.327109</td>\n",
              "      <td>-0.284032</td>\n",
              "      <td>-0.145103</td>\n",
              "      <td>...</td>\n",
              "      <td>1</td>\n",
              "      <td>5</td>\n",
              "      <td>1351</td>\n",
              "      <td>2</td>\n",
              "      <td>1</td>\n",
              "      <td>1</td>\n",
              "      <td>1</td>\n",
              "      <td>1</td>\n",
              "      <td>1</td>\n",
              "      <td>1</td>\n",
              "    </tr>\n",
              "    <tr>\n",
              "      <th>61</th>\n",
              "      <td>62</td>\n",
              "      <td>1</td>\n",
              "      <td>2</td>\n",
              "      <td>4563</td>\n",
              "      <td>2</td>\n",
              "      <td>-2.004205</td>\n",
              "      <td>1</td>\n",
              "      <td>-0.327109</td>\n",
              "      <td>-0.284032</td>\n",
              "      <td>-0.280746</td>\n",
              "      <td>...</td>\n",
              "      <td>1</td>\n",
              "      <td>7</td>\n",
              "      <td>3</td>\n",
              "      <td>2</td>\n",
              "      <td>1</td>\n",
              "      <td>1</td>\n",
              "      <td>1</td>\n",
              "      <td>1</td>\n",
              "      <td>1</td>\n",
              "      <td>1</td>\n",
              "    </tr>\n",
              "    <tr>\n",
              "      <th>...</th>\n",
              "      <td>...</td>\n",
              "      <td>...</td>\n",
              "      <td>...</td>\n",
              "      <td>...</td>\n",
              "      <td>...</td>\n",
              "      <td>...</td>\n",
              "      <td>...</td>\n",
              "      <td>...</td>\n",
              "      <td>...</td>\n",
              "      <td>...</td>\n",
              "      <td>...</td>\n",
              "      <td>...</td>\n",
              "      <td>...</td>\n",
              "      <td>...</td>\n",
              "      <td>...</td>\n",
              "      <td>...</td>\n",
              "      <td>...</td>\n",
              "      <td>...</td>\n",
              "      <td>...</td>\n",
              "      <td>...</td>\n",
              "      <td>...</td>\n",
              "    </tr>\n",
              "    <tr>\n",
              "      <th>964</th>\n",
              "      <td>965</td>\n",
              "      <td>1</td>\n",
              "      <td>1</td>\n",
              "      <td>3444</td>\n",
              "      <td>3</td>\n",
              "      <td>-0.613229</td>\n",
              "      <td>1</td>\n",
              "      <td>0.781324</td>\n",
              "      <td>-0.284032</td>\n",
              "      <td>-0.101019</td>\n",
              "      <td>...</td>\n",
              "      <td>1</td>\n",
              "      <td>6</td>\n",
              "      <td>945</td>\n",
              "      <td>1</td>\n",
              "      <td>1</td>\n",
              "      <td>1</td>\n",
              "      <td>1</td>\n",
              "      <td>1</td>\n",
              "      <td>1</td>\n",
              "      <td>1</td>\n",
              "    </tr>\n",
              "    <tr>\n",
              "      <th>1395</th>\n",
              "      <td>1396</td>\n",
              "      <td>1</td>\n",
              "      <td>2</td>\n",
              "      <td>5405</td>\n",
              "      <td>3</td>\n",
              "      <td>-0.126388</td>\n",
              "      <td>1</td>\n",
              "      <td>-0.327109</td>\n",
              "      <td>-0.284032</td>\n",
              "      <td>-0.280746</td>\n",
              "      <td>...</td>\n",
              "      <td>1</td>\n",
              "      <td>7</td>\n",
              "      <td>960</td>\n",
              "      <td>2</td>\n",
              "      <td>2</td>\n",
              "      <td>1</td>\n",
              "      <td>2</td>\n",
              "      <td>1</td>\n",
              "      <td>1</td>\n",
              "      <td>1</td>\n",
              "    </tr>\n",
              "    <tr>\n",
              "      <th>3518</th>\n",
              "      <td>3519</td>\n",
              "      <td>3</td>\n",
              "      <td>2</td>\n",
              "      <td>4143</td>\n",
              "      <td>3</td>\n",
              "      <td>0.916844</td>\n",
              "      <td>1</td>\n",
              "      <td>-0.327109</td>\n",
              "      <td>-0.284032</td>\n",
              "      <td>-0.280746</td>\n",
              "      <td>...</td>\n",
              "      <td>1</td>\n",
              "      <td>6</td>\n",
              "      <td>1501</td>\n",
              "      <td>2</td>\n",
              "      <td>1</td>\n",
              "      <td>1</td>\n",
              "      <td>1</td>\n",
              "      <td>1</td>\n",
              "      <td>1</td>\n",
              "      <td>1</td>\n",
              "    </tr>\n",
              "    <tr>\n",
              "      <th>3153</th>\n",
              "      <td>3154</td>\n",
              "      <td>1</td>\n",
              "      <td>1</td>\n",
              "      <td>5893</td>\n",
              "      <td>2</td>\n",
              "      <td>0.569100</td>\n",
              "      <td>1</td>\n",
              "      <td>0.122690</td>\n",
              "      <td>-0.261929</td>\n",
              "      <td>0.422905</td>\n",
              "      <td>...</td>\n",
              "      <td>1</td>\n",
              "      <td>7</td>\n",
              "      <td>1328</td>\n",
              "      <td>1</td>\n",
              "      <td>1</td>\n",
              "      <td>1</td>\n",
              "      <td>1</td>\n",
              "      <td>1</td>\n",
              "      <td>1</td>\n",
              "      <td>1</td>\n",
              "    </tr>\n",
              "    <tr>\n",
              "      <th>344</th>\n",
              "      <td>345</td>\n",
              "      <td>2</td>\n",
              "      <td>2</td>\n",
              "      <td>0</td>\n",
              "      <td>1</td>\n",
              "      <td>-0.195937</td>\n",
              "      <td>1</td>\n",
              "      <td>-0.327109</td>\n",
              "      <td>-0.284032</td>\n",
              "      <td>-0.280746</td>\n",
              "      <td>...</td>\n",
              "      <td>1</td>\n",
              "      <td>0</td>\n",
              "      <td>0</td>\n",
              "      <td>0</td>\n",
              "      <td>1</td>\n",
              "      <td>1</td>\n",
              "      <td>1</td>\n",
              "      <td>1</td>\n",
              "      <td>1</td>\n",
              "      <td>1</td>\n",
              "    </tr>\n",
              "  </tbody>\n",
              "</table>\n",
              "<p>8693 rows × 25 columns</p>\n",
              "</div>\n",
              "      <button class=\"colab-df-convert\" onclick=\"convertToInteractive('df-c90727b2-1be5-4e4c-8803-3340489c7b4c')\"\n",
              "              title=\"Convert this dataframe to an interactive table.\"\n",
              "              style=\"display:none;\">\n",
              "        \n",
              "  <svg xmlns=\"http://www.w3.org/2000/svg\" height=\"24px\"viewBox=\"0 0 24 24\"\n",
              "       width=\"24px\">\n",
              "    <path d=\"M0 0h24v24H0V0z\" fill=\"none\"/>\n",
              "    <path d=\"M18.56 5.44l.94 2.06.94-2.06 2.06-.94-2.06-.94-.94-2.06-.94 2.06-2.06.94zm-11 1L8.5 8.5l.94-2.06 2.06-.94-2.06-.94L8.5 2.5l-.94 2.06-2.06.94zm10 10l.94 2.06.94-2.06 2.06-.94-2.06-.94-.94-2.06-.94 2.06-2.06.94z\"/><path d=\"M17.41 7.96l-1.37-1.37c-.4-.4-.92-.59-1.43-.59-.52 0-1.04.2-1.43.59L10.3 9.45l-7.72 7.72c-.78.78-.78 2.05 0 2.83L4 21.41c.39.39.9.59 1.41.59.51 0 1.02-.2 1.41-.59l7.78-7.78 2.81-2.81c.8-.78.8-2.07 0-2.86zM5.41 20L4 18.59l7.72-7.72 1.47 1.35L5.41 20z\"/>\n",
              "  </svg>\n",
              "      </button>\n",
              "      \n",
              "  <style>\n",
              "    .colab-df-container {\n",
              "      display:flex;\n",
              "      flex-wrap:wrap;\n",
              "      gap: 12px;\n",
              "    }\n",
              "\n",
              "    .colab-df-convert {\n",
              "      background-color: #E8F0FE;\n",
              "      border: none;\n",
              "      border-radius: 50%;\n",
              "      cursor: pointer;\n",
              "      display: none;\n",
              "      fill: #1967D2;\n",
              "      height: 32px;\n",
              "      padding: 0 0 0 0;\n",
              "      width: 32px;\n",
              "    }\n",
              "\n",
              "    .colab-df-convert:hover {\n",
              "      background-color: #E2EBFA;\n",
              "      box-shadow: 0px 1px 2px rgba(60, 64, 67, 0.3), 0px 1px 3px 1px rgba(60, 64, 67, 0.15);\n",
              "      fill: #174EA6;\n",
              "    }\n",
              "\n",
              "    [theme=dark] .colab-df-convert {\n",
              "      background-color: #3B4455;\n",
              "      fill: #D2E3FC;\n",
              "    }\n",
              "\n",
              "    [theme=dark] .colab-df-convert:hover {\n",
              "      background-color: #434B5C;\n",
              "      box-shadow: 0px 1px 3px 1px rgba(0, 0, 0, 0.15);\n",
              "      filter: drop-shadow(0px 1px 2px rgba(0, 0, 0, 0.3));\n",
              "      fill: #FFFFFF;\n",
              "    }\n",
              "  </style>\n",
              "\n",
              "      <script>\n",
              "        const buttonEl =\n",
              "          document.querySelector('#df-c90727b2-1be5-4e4c-8803-3340489c7b4c button.colab-df-convert');\n",
              "        buttonEl.style.display =\n",
              "          google.colab.kernel.accessAllowed ? 'block' : 'none';\n",
              "\n",
              "        async function convertToInteractive(key) {\n",
              "          const element = document.querySelector('#df-c90727b2-1be5-4e4c-8803-3340489c7b4c');\n",
              "          const dataTable =\n",
              "            await google.colab.kernel.invokeFunction('convertToInteractive',\n",
              "                                                     [key], {});\n",
              "          if (!dataTable) return;\n",
              "\n",
              "          const docLinkHtml = 'Like what you see? Visit the ' +\n",
              "            '<a target=\"_blank\" href=https://colab.research.google.com/notebooks/data_table.ipynb>data table notebook</a>'\n",
              "            + ' to learn more about interactive tables.';\n",
              "          element.innerHTML = '';\n",
              "          dataTable['output_type'] = 'display_data';\n",
              "          await google.colab.output.renderOutput(dataTable, element);\n",
              "          const docLink = document.createElement('div');\n",
              "          docLink.innerHTML = docLinkHtml;\n",
              "          element.appendChild(docLink);\n",
              "        }\n",
              "      </script>\n",
              "    </div>\n",
              "  </div>\n",
              "  "
            ]
          },
          "metadata": {},
          "execution_count": 60
        }
      ]
    },
    {
      "cell_type": "markdown",
      "source": [
        "create dataloaders"
      ],
      "metadata": {
        "id": "ujNeRuLV5QpF"
      }
    },
    {
      "cell_type": "code",
      "source": [
        "dls = to.dataloaders(path=\".\")"
      ],
      "metadata": {
        "id": "iw3MUMedSPI-"
      },
      "execution_count": 61,
      "outputs": []
    },
    {
      "cell_type": "code",
      "source": [
        "dls.show_batch()"
      ],
      "metadata": {
        "colab": {
          "base_uri": "https://localhost:8080/",
          "height": 539
        },
        "id": "BSPfT3E-SNph",
        "outputId": "7d481a9a-7a32-45ff-b24e-3680a00ffa46"
      },
      "execution_count": 62,
      "outputs": [
        {
          "output_type": "display_data",
          "data": {
            "text/plain": [
              "<IPython.core.display.HTML object>"
            ],
            "text/html": [
              "<table border=\"1\" class=\"dataframe\">\n",
              "  <thead>\n",
              "    <tr style=\"text-align: right;\">\n",
              "      <th></th>\n",
              "      <th>PassengerId</th>\n",
              "      <th>HomePlanet</th>\n",
              "      <th>CryoSleep</th>\n",
              "      <th>Cabin</th>\n",
              "      <th>Destination</th>\n",
              "      <th>VIP</th>\n",
              "      <th>Name</th>\n",
              "      <th>Passenger_Gp</th>\n",
              "      <th>Passenger_Gp_Nb</th>\n",
              "      <th>Cabin_Deck</th>\n",
              "      <th>Cabin_Num</th>\n",
              "      <th>Cabin_Side</th>\n",
              "      <th>Age_na</th>\n",
              "      <th>RoomService_na</th>\n",
              "      <th>FoodCourt_na</th>\n",
              "      <th>ShoppingMall_na</th>\n",
              "      <th>Spa_na</th>\n",
              "      <th>VRDeck_na</th>\n",
              "      <th>Age</th>\n",
              "      <th>RoomService</th>\n",
              "      <th>FoodCourt</th>\n",
              "      <th>ShoppingMall</th>\n",
              "      <th>Spa</th>\n",
              "      <th>VRDeck</th>\n",
              "      <th>Transported</th>\n",
              "    </tr>\n",
              "  </thead>\n",
              "  <tbody>\n",
              "    <tr>\n",
              "      <th>0</th>\n",
              "      <td>3353_04</td>\n",
              "      <td>Europa</td>\n",
              "      <td>False</td>\n",
              "      <td>C/125/S</td>\n",
              "      <td>TRAPPIST-1e</td>\n",
              "      <td>False</td>\n",
              "      <td>Almelik Conable</td>\n",
              "      <td>3353</td>\n",
              "      <td>04</td>\n",
              "      <td>C</td>\n",
              "      <td>125</td>\n",
              "      <td>S</td>\n",
              "      <td>False</td>\n",
              "      <td>False</td>\n",
              "      <td>False</td>\n",
              "      <td>False</td>\n",
              "      <td>False</td>\n",
              "      <td>False</td>\n",
              "      <td>61.0</td>\n",
              "      <td>0.000007</td>\n",
              "      <td>4.082000e+03</td>\n",
              "      <td>-9.350697e-07</td>\n",
              "      <td>265.000000</td>\n",
              "      <td>200.999998</td>\n",
              "      <td>True</td>\n",
              "    </tr>\n",
              "    <tr>\n",
              "      <th>1</th>\n",
              "      <td>6774_02</td>\n",
              "      <td>Earth</td>\n",
              "      <td>True</td>\n",
              "      <td>G/1100/P</td>\n",
              "      <td>TRAPPIST-1e</td>\n",
              "      <td>False</td>\n",
              "      <td>Donnie Steinardson</td>\n",
              "      <td>6774</td>\n",
              "      <td>02</td>\n",
              "      <td>G</td>\n",
              "      <td>1100</td>\n",
              "      <td>P</td>\n",
              "      <td>False</td>\n",
              "      <td>False</td>\n",
              "      <td>False</td>\n",
              "      <td>False</td>\n",
              "      <td>False</td>\n",
              "      <td>False</td>\n",
              "      <td>6.0</td>\n",
              "      <td>0.000007</td>\n",
              "      <td>6.166338e-07</td>\n",
              "      <td>-9.350697e-07</td>\n",
              "      <td>0.000010</td>\n",
              "      <td>-0.000008</td>\n",
              "      <td>False</td>\n",
              "    </tr>\n",
              "    <tr>\n",
              "      <th>2</th>\n",
              "      <td>2136_01</td>\n",
              "      <td>Earth</td>\n",
              "      <td>False</td>\n",
              "      <td>G/343/S</td>\n",
              "      <td>TRAPPIST-1e</td>\n",
              "      <td>False</td>\n",
              "      <td>Sallie Waltonnedy</td>\n",
              "      <td>2136</td>\n",
              "      <td>01</td>\n",
              "      <td>G</td>\n",
              "      <td>343</td>\n",
              "      <td>S</td>\n",
              "      <td>False</td>\n",
              "      <td>False</td>\n",
              "      <td>False</td>\n",
              "      <td>False</td>\n",
              "      <td>False</td>\n",
              "      <td>False</td>\n",
              "      <td>61.0</td>\n",
              "      <td>2.000010</td>\n",
              "      <td>6.166338e-07</td>\n",
              "      <td>1.699999e+01</td>\n",
              "      <td>868.000015</td>\n",
              "      <td>28.000002</td>\n",
              "      <td>False</td>\n",
              "    </tr>\n",
              "    <tr>\n",
              "      <th>3</th>\n",
              "      <td>4437_01</td>\n",
              "      <td>Earth</td>\n",
              "      <td>True</td>\n",
              "      <td>G/725/S</td>\n",
              "      <td>TRAPPIST-1e</td>\n",
              "      <td>False</td>\n",
              "      <td>Idacey Cartz</td>\n",
              "      <td>4437</td>\n",
              "      <td>01</td>\n",
              "      <td>G</td>\n",
              "      <td>725</td>\n",
              "      <td>S</td>\n",
              "      <td>False</td>\n",
              "      <td>False</td>\n",
              "      <td>False</td>\n",
              "      <td>False</td>\n",
              "      <td>False</td>\n",
              "      <td>False</td>\n",
              "      <td>20.0</td>\n",
              "      <td>0.000007</td>\n",
              "      <td>6.166338e-07</td>\n",
              "      <td>-9.350697e-07</td>\n",
              "      <td>0.000010</td>\n",
              "      <td>-0.000008</td>\n",
              "      <td>True</td>\n",
              "    </tr>\n",
              "    <tr>\n",
              "      <th>4</th>\n",
              "      <td>6365_01</td>\n",
              "      <td>Europa</td>\n",
              "      <td>False</td>\n",
              "      <td>A/64/P</td>\n",
              "      <td>55 Cancri e</td>\n",
              "      <td>False</td>\n",
              "      <td>Atino Glogry</td>\n",
              "      <td>6365</td>\n",
              "      <td>01</td>\n",
              "      <td>A</td>\n",
              "      <td>64</td>\n",
              "      <td>P</td>\n",
              "      <td>False</td>\n",
              "      <td>False</td>\n",
              "      <td>False</td>\n",
              "      <td>False</td>\n",
              "      <td>False</td>\n",
              "      <td>False</td>\n",
              "      <td>33.0</td>\n",
              "      <td>0.000007</td>\n",
              "      <td>3.799999e+01</td>\n",
              "      <td>-9.350697e-07</td>\n",
              "      <td>0.999992</td>\n",
              "      <td>3167.000190</td>\n",
              "      <td>False</td>\n",
              "    </tr>\n",
              "    <tr>\n",
              "      <th>5</th>\n",
              "      <td>5823_01</td>\n",
              "      <td>Earth</td>\n",
              "      <td>True</td>\n",
              "      <td>G/944/S</td>\n",
              "      <td>55 Cancri e</td>\n",
              "      <td>False</td>\n",
              "      <td>Ronna Antoshipson</td>\n",
              "      <td>5823</td>\n",
              "      <td>01</td>\n",
              "      <td>G</td>\n",
              "      <td>944</td>\n",
              "      <td>S</td>\n",
              "      <td>False</td>\n",
              "      <td>False</td>\n",
              "      <td>False</td>\n",
              "      <td>False</td>\n",
              "      <td>False</td>\n",
              "      <td>False</td>\n",
              "      <td>18.0</td>\n",
              "      <td>0.000007</td>\n",
              "      <td>6.166338e-07</td>\n",
              "      <td>-9.350697e-07</td>\n",
              "      <td>0.000010</td>\n",
              "      <td>-0.000008</td>\n",
              "      <td>True</td>\n",
              "    </tr>\n",
              "    <tr>\n",
              "      <th>6</th>\n",
              "      <td>4981_02</td>\n",
              "      <td>Earth</td>\n",
              "      <td>#na#</td>\n",
              "      <td>G/814/S</td>\n",
              "      <td>PSO J318.5-22</td>\n",
              "      <td>False</td>\n",
              "      <td>Millia Connon</td>\n",
              "      <td>4981</td>\n",
              "      <td>02</td>\n",
              "      <td>G</td>\n",
              "      <td>814</td>\n",
              "      <td>S</td>\n",
              "      <td>False</td>\n",
              "      <td>False</td>\n",
              "      <td>False</td>\n",
              "      <td>False</td>\n",
              "      <td>False</td>\n",
              "      <td>False</td>\n",
              "      <td>29.0</td>\n",
              "      <td>0.000007</td>\n",
              "      <td>6.166338e-07</td>\n",
              "      <td>-9.350697e-07</td>\n",
              "      <td>0.000010</td>\n",
              "      <td>-0.000008</td>\n",
              "      <td>True</td>\n",
              "    </tr>\n",
              "    <tr>\n",
              "      <th>7</th>\n",
              "      <td>6447_01</td>\n",
              "      <td>Earth</td>\n",
              "      <td>True</td>\n",
              "      <td>G/1043/P</td>\n",
              "      <td>PSO J318.5-22</td>\n",
              "      <td>False</td>\n",
              "      <td>#na#</td>\n",
              "      <td>6447</td>\n",
              "      <td>01</td>\n",
              "      <td>G</td>\n",
              "      <td>1043</td>\n",
              "      <td>P</td>\n",
              "      <td>False</td>\n",
              "      <td>False</td>\n",
              "      <td>False</td>\n",
              "      <td>False</td>\n",
              "      <td>False</td>\n",
              "      <td>False</td>\n",
              "      <td>38.0</td>\n",
              "      <td>0.000007</td>\n",
              "      <td>6.166338e-07</td>\n",
              "      <td>-9.350697e-07</td>\n",
              "      <td>0.000010</td>\n",
              "      <td>-0.000008</td>\n",
              "      <td>True</td>\n",
              "    </tr>\n",
              "    <tr>\n",
              "      <th>8</th>\n",
              "      <td>1267_01</td>\n",
              "      <td>Earth</td>\n",
              "      <td>True</td>\n",
              "      <td>G/191/S</td>\n",
              "      <td>PSO J318.5-22</td>\n",
              "      <td>#na#</td>\n",
              "      <td>Hencey Jacostaffey</td>\n",
              "      <td>1267</td>\n",
              "      <td>01</td>\n",
              "      <td>G</td>\n",
              "      <td>191</td>\n",
              "      <td>S</td>\n",
              "      <td>False</td>\n",
              "      <td>False</td>\n",
              "      <td>False</td>\n",
              "      <td>False</td>\n",
              "      <td>False</td>\n",
              "      <td>False</td>\n",
              "      <td>34.0</td>\n",
              "      <td>0.000007</td>\n",
              "      <td>6.166338e-07</td>\n",
              "      <td>-9.350697e-07</td>\n",
              "      <td>0.000010</td>\n",
              "      <td>-0.000008</td>\n",
              "      <td>True</td>\n",
              "    </tr>\n",
              "    <tr>\n",
              "      <th>9</th>\n",
              "      <td>3061_01</td>\n",
              "      <td>Earth</td>\n",
              "      <td>False</td>\n",
              "      <td>F/638/P</td>\n",
              "      <td>TRAPPIST-1e</td>\n",
              "      <td>False</td>\n",
              "      <td>Mela Bakericks</td>\n",
              "      <td>3061</td>\n",
              "      <td>01</td>\n",
              "      <td>F</td>\n",
              "      <td>638</td>\n",
              "      <td>P</td>\n",
              "      <td>False</td>\n",
              "      <td>False</td>\n",
              "      <td>False</td>\n",
              "      <td>False</td>\n",
              "      <td>False</td>\n",
              "      <td>False</td>\n",
              "      <td>22.0</td>\n",
              "      <td>663.999976</td>\n",
              "      <td>6.166338e-07</td>\n",
              "      <td>-9.350697e-07</td>\n",
              "      <td>65.000001</td>\n",
              "      <td>-0.000008</td>\n",
              "      <td>False</td>\n",
              "    </tr>\n",
              "  </tbody>\n",
              "</table>"
            ]
          },
          "metadata": {}
        }
      ]
    },
    {
      "cell_type": "markdown",
      "source": [
        "# model 1\n",
        "**Neural network**"
      ],
      "metadata": {
        "id": "eLZwV-H1twBZ"
      }
    },
    {
      "cell_type": "code",
      "source": [
        "learn = tabular_learner(dls, metrics=accuracy, layers=[10,10])"
      ],
      "metadata": {
        "id": "ZvfZl51yuFGo"
      },
      "execution_count": 63,
      "outputs": []
    },
    {
      "cell_type": "code",
      "source": [
        "learn.model"
      ],
      "metadata": {
        "id": "OKweuu8k2s-a"
      },
      "execution_count": null,
      "outputs": []
    },
    {
      "cell_type": "markdown",
      "source": [
        "Finding learning rate"
      ],
      "metadata": {
        "id": "-3p7tsxJ5djW"
      }
    },
    {
      "cell_type": "code",
      "source": [
        "learn.lr_find(suggest_funcs=(slide,valley))"
      ],
      "metadata": {
        "colab": {
          "base_uri": "https://localhost:8080/",
          "height": 300
        },
        "id": "GGPBw-R32P18",
        "outputId": "50a072d0-3e53-40c8-db45-32ab994ef69a"
      },
      "execution_count": 65,
      "outputs": [
        {
          "output_type": "display_data",
          "data": {
            "text/plain": [
              "<IPython.core.display.HTML object>"
            ],
            "text/html": [
              "\n",
              "<style>\n",
              "    /* Turns off some styling */\n",
              "    progress {\n",
              "        /* gets rid of default border in Firefox and Opera. */\n",
              "        border: none;\n",
              "        /* Needs to be in here for Safari polyfill so background images work as expected. */\n",
              "        background-size: auto;\n",
              "    }\n",
              "    progress:not([value]), progress:not([value])::-webkit-progress-bar {\n",
              "        background: repeating-linear-gradient(45deg, #7e7e7e, #7e7e7e 10px, #5c5c5c 10px, #5c5c5c 20px);\n",
              "    }\n",
              "    .progress-bar-interrupted, .progress-bar-interrupted::-webkit-progress-bar {\n",
              "        background: #F44336;\n",
              "    }\n",
              "</style>\n"
            ]
          },
          "metadata": {}
        },
        {
          "output_type": "display_data",
          "data": {
            "text/plain": [
              "<IPython.core.display.HTML object>"
            ],
            "text/html": []
          },
          "metadata": {}
        },
        {
          "output_type": "execute_result",
          "data": {
            "text/plain": [
              "SuggestedLRs(slide=0.05754399299621582, valley=0.010964781977236271)"
            ]
          },
          "metadata": {},
          "execution_count": 65
        },
        {
          "output_type": "display_data",
          "data": {
            "text/plain": [
              "<Figure size 432x288 with 1 Axes>"
            ],
            "image/png": "[encoded data removed]"
          },
          "metadata": {
            "needs_background": "light"
          }
        }
      ]
    },
    {
      "cell_type": "code",
      "source": [
        "## using valley = 0.01"
      ],
      "metadata": {
        "id": "kig4YjMX5rAk"
      },
      "execution_count": 66,
      "outputs": []
    },
    {
      "cell_type": "code",
      "source": [
        "learn.fit(16,lr=0.01)"
      ],
      "metadata": {
        "colab": {
          "base_uri": "https://localhost:8080/",
          "height": 551
        },
        "id": "ctlYAB9x2PsG",
        "outputId": "5ecf57c4-8982-42e7-d88e-2b7cb031607d"
      },
      "execution_count": 69,
      "outputs": [
        {
          "output_type": "display_data",
          "data": {
            "text/plain": [
              "<IPython.core.display.HTML object>"
            ],
            "text/html": [
              "\n",
              "<style>\n",
              "    /* Turns off some styling */\n",
              "    progress {\n",
              "        /* gets rid of default border in Firefox and Opera. */\n",
              "        border: none;\n",
              "        /* Needs to be in here for Safari polyfill so background images work as expected. */\n",
              "        background-size: auto;\n",
              "    }\n",
              "    progress:not([value]), progress:not([value])::-webkit-progress-bar {\n",
              "        background: repeating-linear-gradient(45deg, #7e7e7e, #7e7e7e 10px, #5c5c5c 10px, #5c5c5c 20px);\n",
              "    }\n",
              "    .progress-bar-interrupted, .progress-bar-interrupted::-webkit-progress-bar {\n",
              "        background: #F44336;\n",
              "    }\n",
              "</style>\n"
            ]
          },
          "metadata": {}
        },
        {
          "output_type": "display_data",
          "data": {
            "text/plain": [
              "<IPython.core.display.HTML object>"
            ],
            "text/html": [
              "<table border=\"1\" class=\"dataframe\">\n",
              "  <thead>\n",
              "    <tr style=\"text-align: left;\">\n",
              "      <th>epoch</th>\n",
              "      <th>train_loss</th>\n",
              "      <th>valid_loss</th>\n",
              "      <th>accuracy</th>\n",
              "      <th>time</th>\n",
              "    </tr>\n",
              "  </thead>\n",
              "  <tbody>\n",
              "    <tr>\n",
              "      <td>0</td>\n",
              "      <td>0.479183</td>\n",
              "      <td>0.455043</td>\n",
              "      <td>0.784235</td>\n",
              "      <td>00:02</td>\n",
              "    </tr>\n",
              "    <tr>\n",
              "      <td>1</td>\n",
              "      <td>0.125479</td>\n",
              "      <td>0.555854</td>\n",
              "      <td>0.744534</td>\n",
              "      <td>00:01</td>\n",
              "    </tr>\n",
              "    <tr>\n",
              "      <td>2</td>\n",
              "      <td>0.037001</td>\n",
              "      <td>0.734764</td>\n",
              "      <td>0.763521</td>\n",
              "      <td>00:01</td>\n",
              "    </tr>\n",
              "    <tr>\n",
              "      <td>3</td>\n",
              "      <td>0.014481</td>\n",
              "      <td>0.840886</td>\n",
              "      <td>0.761220</td>\n",
              "      <td>00:01</td>\n",
              "    </tr>\n",
              "    <tr>\n",
              "      <td>4</td>\n",
              "      <td>0.011435</td>\n",
              "      <td>0.818921</td>\n",
              "      <td>0.776179</td>\n",
              "      <td>00:01</td>\n",
              "    </tr>\n",
              "    <tr>\n",
              "      <td>5</td>\n",
              "      <td>0.014699</td>\n",
              "      <td>0.847885</td>\n",
              "      <td>0.764097</td>\n",
              "      <td>00:01</td>\n",
              "    </tr>\n",
              "    <tr>\n",
              "      <td>6</td>\n",
              "      <td>0.019367</td>\n",
              "      <td>0.786245</td>\n",
              "      <td>0.777330</td>\n",
              "      <td>00:01</td>\n",
              "    </tr>\n",
              "    <tr>\n",
              "      <td>7</td>\n",
              "      <td>0.016432</td>\n",
              "      <td>0.814884</td>\n",
              "      <td>0.767549</td>\n",
              "      <td>00:01</td>\n",
              "    </tr>\n",
              "    <tr>\n",
              "      <td>8</td>\n",
              "      <td>0.025152</td>\n",
              "      <td>0.700596</td>\n",
              "      <td>0.771001</td>\n",
              "      <td>00:01</td>\n",
              "    </tr>\n",
              "    <tr>\n",
              "      <td>9</td>\n",
              "      <td>0.022920</td>\n",
              "      <td>0.652980</td>\n",
              "      <td>0.784235</td>\n",
              "      <td>00:01</td>\n",
              "    </tr>\n",
              "    <tr>\n",
              "      <td>10</td>\n",
              "      <td>0.020241</td>\n",
              "      <td>0.747620</td>\n",
              "      <td>0.766398</td>\n",
              "      <td>00:01</td>\n",
              "    </tr>\n",
              "    <tr>\n",
              "      <td>11</td>\n",
              "      <td>0.015003</td>\n",
              "      <td>0.734652</td>\n",
              "      <td>0.776179</td>\n",
              "      <td>00:01</td>\n",
              "    </tr>\n",
              "    <tr>\n",
              "      <td>12</td>\n",
              "      <td>0.011468</td>\n",
              "      <td>0.800237</td>\n",
              "      <td>0.734753</td>\n",
              "      <td>00:01</td>\n",
              "    </tr>\n",
              "    <tr>\n",
              "      <td>13</td>\n",
              "      <td>0.007830</td>\n",
              "      <td>0.887474</td>\n",
              "      <td>0.773878</td>\n",
              "      <td>00:01</td>\n",
              "    </tr>\n",
              "    <tr>\n",
              "      <td>14</td>\n",
              "      <td>0.014744</td>\n",
              "      <td>0.722204</td>\n",
              "      <td>0.754315</td>\n",
              "      <td>00:01</td>\n",
              "    </tr>\n",
              "    <tr>\n",
              "      <td>15</td>\n",
              "      <td>0.010112</td>\n",
              "      <td>0.891836</td>\n",
              "      <td>0.774453</td>\n",
              "      <td>00:01</td>\n",
              "    </tr>\n",
              "  </tbody>\n",
              "</table>"
            ]
          },
          "metadata": {}
        }
      ]
    },
    {
      "cell_type": "code",
      "source": [],
      "metadata": {
        "id": "4F4k8l4i2lXL"
      },
      "execution_count": null,
      "outputs": []
    },
    {
      "cell_type": "code",
      "source": [],
      "metadata": {
        "id": "DAfw7sZl2lRB"
      },
      "execution_count": null,
      "outputs": []
    },
    {
      "cell_type": "markdown",
      "source": [
        "## submit 1"
      ],
      "metadata": {
        "id": "NcHAu_U_twcE"
      }
    },
    {
      "cell_type": "code",
      "source": [
        "path.ls()"
      ],
      "metadata": {
        "colab": {
          "base_uri": "https://localhost:8080/"
        },
        "id": "Kymu0X2TuSAh",
        "outputId": "93a208fc-ab49-4897-f4ea-f45d1f083b20"
      },
      "execution_count": 70,
      "outputs": [
        {
          "output_type": "execute_result",
          "data": {
            "text/plain": [
              "(#3) [Path('spaceship-titanic/train.csv'),Path('spaceship-titanic/test.csv'),Path('spaceship-titanic/sample_submission.csv')]"
            ]
          },
          "metadata": {},
          "execution_count": 70
        }
      ]
    },
    {
      "cell_type": "code",
      "source": [
        "ss = pd.read_csv(path/'sample_submission.csv')\n",
        "ss"
      ],
      "metadata": {
        "colab": {
          "base_uri": "https://localhost:8080/",
          "height": 424
        },
        "id": "8aOy8DIl4o0U",
        "outputId": "f6f61e30-5b9d-4e2b-b268-2aa4456cca6e"
      },
      "execution_count": 71,
      "outputs": [
        {
          "output_type": "execute_result",
          "data": {
            "text/plain": [
              "     PassengerId  Transported\n",
              "0        0013_01        False\n",
              "1        0018_01        False\n",
              "2        0019_01        False\n",
              "3        0021_01        False\n",
              "4        0023_01        False\n",
              "...          ...          ...\n",
              "4272     9266_02        False\n",
              "4273     9269_01        False\n",
              "4274     9271_01        False\n",
              "4275     9273_01        False\n",
              "4276     9277_01        False\n",
              "\n",
              "[4277 rows x 2 columns]"
            ],
            "text/html": [
              "\n",
              "  <div id=\"df-1c7f7fd8-0c48-4ecf-ab5b-50ae272f8db5\">\n",
              "    <div class=\"colab-df-container\">\n",
              "      <div>\n",
              "<style scoped>\n",
              "    .dataframe tbody tr th:only-of-type {\n",
              "        vertical-align: middle;\n",
              "    }\n",
              "\n",
              "    .dataframe tbody tr th {\n",
              "        vertical-align: top;\n",
              "    }\n",
              "\n",
              "    .dataframe thead th {\n",
              "        text-align: right;\n",
              "    }\n",
              "</style>\n",
              "<table border=\"1\" class=\"dataframe\">\n",
              "  <thead>\n",
              "    <tr style=\"text-align: right;\">\n",
              "      <th></th>\n",
              "      <th>PassengerId</th>\n",
              "      <th>Transported</th>\n",
              "    </tr>\n",
              "  </thead>\n",
              "  <tbody>\n",
              "    <tr>\n",
              "      <th>0</th>\n",
              "      <td>0013_01</td>\n",
              "      <td>False</td>\n",
              "    </tr>\n",
              "    <tr>\n",
              "      <th>1</th>\n",
              "      <td>0018_01</td>\n",
              "      <td>False</td>\n",
              "    </tr>\n",
              "    <tr>\n",
              "      <th>2</th>\n",
              "      <td>0019_01</td>\n",
              "      <td>False</td>\n",
              "    </tr>\n",
              "    <tr>\n",
              "      <th>3</th>\n",
              "      <td>0021_01</td>\n",
              "      <td>False</td>\n",
              "    </tr>\n",
              "    <tr>\n",
              "      <th>4</th>\n",
              "      <td>0023_01</td>\n",
              "      <td>False</td>\n",
              "    </tr>\n",
              "    <tr>\n",
              "      <th>...</th>\n",
              "      <td>...</td>\n",
              "      <td>...</td>\n",
              "    </tr>\n",
              "    <tr>\n",
              "      <th>4272</th>\n",
              "      <td>9266_02</td>\n",
              "      <td>False</td>\n",
              "    </tr>\n",
              "    <tr>\n",
              "      <th>4273</th>\n",
              "      <td>9269_01</td>\n",
              "      <td>False</td>\n",
              "    </tr>\n",
              "    <tr>\n",
              "      <th>4274</th>\n",
              "      <td>9271_01</td>\n",
              "      <td>False</td>\n",
              "    </tr>\n",
              "    <tr>\n",
              "      <th>4275</th>\n",
              "      <td>9273_01</td>\n",
              "      <td>False</td>\n",
              "    </tr>\n",
              "    <tr>\n",
              "      <th>4276</th>\n",
              "      <td>9277_01</td>\n",
              "      <td>False</td>\n",
              "    </tr>\n",
              "  </tbody>\n",
              "</table>\n",
              "<p>4277 rows × 2 columns</p>\n",
              "</div>\n",
              "      <button class=\"colab-df-convert\" onclick=\"convertToInteractive('df-1c7f7fd8-0c48-4ecf-ab5b-50ae272f8db5')\"\n",
              "              title=\"Convert this dataframe to an interactive table.\"\n",
              "              style=\"display:none;\">\n",
              "        \n",
              "  <svg xmlns=\"http://www.w3.org/2000/svg\" height=\"24px\"viewBox=\"0 0 24 24\"\n",
              "       width=\"24px\">\n",
              "    <path d=\"M0 0h24v24H0V0z\" fill=\"none\"/>\n",
              "    <path d=\"M18.56 5.44l.94 2.06.94-2.06 2.06-.94-2.06-.94-.94-2.06-.94 2.06-2.06.94zm-11 1L8.5 8.5l.94-2.06 2.06-.94-2.06-.94L8.5 2.5l-.94 2.06-2.06.94zm10 10l.94 2.06.94-2.06 2.06-.94-2.06-.94-.94-2.06-.94 2.06-2.06.94z\"/><path d=\"M17.41 7.96l-1.37-1.37c-.4-.4-.92-.59-1.43-.59-.52 0-1.04.2-1.43.59L10.3 9.45l-7.72 7.72c-.78.78-.78 2.05 0 2.83L4 21.41c.39.39.9.59 1.41.59.51 0 1.02-.2 1.41-.59l7.78-7.78 2.81-2.81c.8-.78.8-2.07 0-2.86zM5.41 20L4 18.59l7.72-7.72 1.47 1.35L5.41 20z\"/>\n",
              "  </svg>\n",
              "      </button>\n",
              "      \n",
              "  <style>\n",
              "    .colab-df-container {\n",
              "      display:flex;\n",
              "      flex-wrap:wrap;\n",
              "      gap: 12px;\n",
              "    }\n",
              "\n",
              "    .colab-df-convert {\n",
              "      background-color: #E8F0FE;\n",
              "      border: none;\n",
              "      border-radius: 50%;\n",
              "      cursor: pointer;\n",
              "      display: none;\n",
              "      fill: #1967D2;\n",
              "      height: 32px;\n",
              "      padding: 0 0 0 0;\n",
              "      width: 32px;\n",
              "    }\n",
              "\n",
              "    .colab-df-convert:hover {\n",
              "      background-color: #E2EBFA;\n",
              "      box-shadow: 0px 1px 2px rgba(60, 64, 67, 0.3), 0px 1px 3px 1px rgba(60, 64, 67, 0.15);\n",
              "      fill: #174EA6;\n",
              "    }\n",
              "\n",
              "    [theme=dark] .colab-df-convert {\n",
              "      background-color: #3B4455;\n",
              "      fill: #D2E3FC;\n",
              "    }\n",
              "\n",
              "    [theme=dark] .colab-df-convert:hover {\n",
              "      background-color: #434B5C;\n",
              "      box-shadow: 0px 1px 3px 1px rgba(0, 0, 0, 0.15);\n",
              "      filter: drop-shadow(0px 1px 2px rgba(0, 0, 0, 0.3));\n",
              "      fill: #FFFFFF;\n",
              "    }\n",
              "  </style>\n",
              "\n",
              "      <script>\n",
              "        const buttonEl =\n",
              "          document.querySelector('#df-1c7f7fd8-0c48-4ecf-ab5b-50ae272f8db5 button.colab-df-convert');\n",
              "        buttonEl.style.display =\n",
              "          google.colab.kernel.accessAllowed ? 'block' : 'none';\n",
              "\n",
              "        async function convertToInteractive(key) {\n",
              "          const element = document.querySelector('#df-1c7f7fd8-0c48-4ecf-ab5b-50ae272f8db5');\n",
              "          const dataTable =\n",
              "            await google.colab.kernel.invokeFunction('convertToInteractive',\n",
              "                                                     [key], {});\n",
              "          if (!dataTable) return;\n",
              "\n",
              "          const docLinkHtml = 'Like what you see? Visit the ' +\n",
              "            '<a target=\"_blank\" href=https://colab.research.google.com/notebooks/data_table.ipynb>data table notebook</a>'\n",
              "            + ' to learn more about interactive tables.';\n",
              "          element.innerHTML = '';\n",
              "          dataTable['output_type'] = 'display_data';\n",
              "          await google.colab.output.renderOutput(dataTable, element);\n",
              "          const docLink = document.createElement('div');\n",
              "          docLink.innerHTML = docLinkHtml;\n",
              "          element.appendChild(docLink);\n",
              "        }\n",
              "      </script>\n",
              "    </div>\n",
              "  </div>\n",
              "  "
            ]
          },
          "metadata": {},
          "execution_count": 71
        }
      ]
    },
    {
      "cell_type": "code",
      "source": [
        "tst_df"
      ],
      "metadata": {
        "colab": {
          "base_uri": "https://localhost:8080/",
          "height": 661
        },
        "id": "qC_XFwoo4oqq",
        "outputId": "9281166f-c810-44ca-f7d7-082e642482d7"
      },
      "execution_count": 72,
      "outputs": [
        {
          "output_type": "execute_result",
          "data": {
            "text/plain": [
              "     PassengerId HomePlanet CryoSleep     Cabin    Destination   Age    VIP  \\\n",
              "0        0013_01      Earth      True     G/3/S    TRAPPIST-1e  27.0  False   \n",
              "1        0018_01      Earth     False     F/4/S    TRAPPIST-1e  19.0  False   \n",
              "2        0019_01     Europa      True     C/0/S    55 Cancri e  31.0  False   \n",
              "3        0021_01     Europa     False     C/1/S    TRAPPIST-1e  38.0  False   \n",
              "4        0023_01      Earth     False     F/5/S    TRAPPIST-1e  20.0  False   \n",
              "...          ...        ...       ...       ...            ...   ...    ...   \n",
              "4272     9266_02      Earth      True  G/1496/S    TRAPPIST-1e  34.0  False   \n",
              "4273     9269_01      Earth     False       NaN    TRAPPIST-1e  42.0  False   \n",
              "4274     9271_01       Mars      True   D/296/P    55 Cancri e   NaN  False   \n",
              "4275     9273_01     Europa     False   D/297/P            NaN   NaN  False   \n",
              "4276     9277_01      Earth      True  G/1498/S  PSO J318.5-22  43.0  False   \n",
              "\n",
              "      RoomService  FoodCourt  ShoppingMall     Spa  VRDeck              Name  \\\n",
              "0             0.0        0.0           0.0     0.0     0.0   Nelly Carsoning   \n",
              "1             0.0        9.0           0.0  2823.0     0.0    Lerome Peckers   \n",
              "2             0.0        0.0           0.0     0.0     0.0   Sabih Unhearfus   \n",
              "3             0.0     6652.0           0.0   181.0   585.0  Meratz Caltilter   \n",
              "4            10.0        0.0         635.0     0.0     0.0   Brence Harperez   \n",
              "...           ...        ...           ...     ...     ...               ...   \n",
              "4272          0.0        0.0           0.0     0.0     0.0       Jeron Peter   \n",
              "4273          0.0      847.0          17.0    10.0   144.0     Matty Scheron   \n",
              "4274          0.0        0.0           0.0     0.0     0.0       Jayrin Pore   \n",
              "4275          0.0     2680.0           0.0     0.0   523.0    Kitakan Conale   \n",
              "4276          0.0        0.0           0.0     0.0     0.0  Lilace Leonzaley   \n",
              "\n",
              "     Passenger_Gp Passenger_Gp_Nb Cabin_Deck Cabin_Num Cabin_Side  \n",
              "0            0013              01          G         3          S  \n",
              "1            0018              01          F         4          S  \n",
              "2            0019              01          C         0          S  \n",
              "3            0021              01          C         1          S  \n",
              "4            0023              01          F         5          S  \n",
              "...           ...             ...        ...       ...        ...  \n",
              "4272         9266              02          G      1496          S  \n",
              "4273         9269              01        NaN       NaN        NaN  \n",
              "4274         9271              01          D       296          P  \n",
              "4275         9273              01          D       297          P  \n",
              "4276         9277              01          G      1498          S  \n",
              "\n",
              "[4277 rows x 18 columns]"
            ],
            "text/html": [
              "\n",
              "  <div id=\"df-f7daba90-3b84-4200-93e3-9791e0b2868c\">\n",
              "    <div class=\"colab-df-container\">\n",
              "      <div>\n",
              "<style scoped>\n",
              "    .dataframe tbody tr th:only-of-type {\n",
              "        vertical-align: middle;\n",
              "    }\n",
              "\n",
              "    .dataframe tbody tr th {\n",
              "        vertical-align: top;\n",
              "    }\n",
              "\n",
              "    .dataframe thead th {\n",
              "        text-align: right;\n",
              "    }\n",
              "</style>\n",
              "<table border=\"1\" class=\"dataframe\">\n",
              "  <thead>\n",
              "    <tr style=\"text-align: right;\">\n",
              "      <th></th>\n",
              "      <th>PassengerId</th>\n",
              "      <th>HomePlanet</th>\n",
              "      <th>CryoSleep</th>\n",
              "      <th>Cabin</th>\n",
              "      <th>Destination</th>\n",
              "      <th>Age</th>\n",
              "      <th>VIP</th>\n",
              "      <th>RoomService</th>\n",
              "      <th>FoodCourt</th>\n",
              "      <th>ShoppingMall</th>\n",
              "      <th>Spa</th>\n",
              "      <th>VRDeck</th>\n",
              "      <th>Name</th>\n",
              "      <th>Passenger_Gp</th>\n",
              "      <th>Passenger_Gp_Nb</th>\n",
              "      <th>Cabin_Deck</th>\n",
              "      <th>Cabin_Num</th>\n",
              "      <th>Cabin_Side</th>\n",
              "    </tr>\n",
              "  </thead>\n",
              "  <tbody>\n",
              "    <tr>\n",
              "      <th>0</th>\n",
              "      <td>0013_01</td>\n",
              "      <td>Earth</td>\n",
              "      <td>True</td>\n",
              "      <td>G/3/S</td>\n",
              "      <td>TRAPPIST-1e</td>\n",
              "      <td>27.0</td>\n",
              "      <td>False</td>\n",
              "      <td>0.0</td>\n",
              "      <td>0.0</td>\n",
              "      <td>0.0</td>\n",
              "      <td>0.0</td>\n",
              "      <td>0.0</td>\n",
              "      <td>Nelly Carsoning</td>\n",
              "      <td>0013</td>\n",
              "      <td>01</td>\n",
              "      <td>G</td>\n",
              "      <td>3</td>\n",
              "      <td>S</td>\n",
              "    </tr>\n",
              "    <tr>\n",
              "      <th>1</th>\n",
              "      <td>0018_01</td>\n",
              "      <td>Earth</td>\n",
              "      <td>False</td>\n",
              "      <td>F/4/S</td>\n",
              "      <td>TRAPPIST-1e</td>\n",
              "      <td>19.0</td>\n",
              "      <td>False</td>\n",
              "      <td>0.0</td>\n",
              "      <td>9.0</td>\n",
              "      <td>0.0</td>\n",
              "      <td>2823.0</td>\n",
              "      <td>0.0</td>\n",
              "      <td>Lerome Peckers</td>\n",
              "      <td>0018</td>\n",
              "      <td>01</td>\n",
              "      <td>F</td>\n",
              "      <td>4</td>\n",
              "      <td>S</td>\n",
              "    </tr>\n",
              "    <tr>\n",
              "      <th>2</th>\n",
              "      <td>0019_01</td>\n",
              "      <td>Europa</td>\n",
              "      <td>True</td>\n",
              "      <td>C/0/S</td>\n",
              "      <td>55 Cancri e</td>\n",
              "      <td>31.0</td>\n",
              "      <td>False</td>\n",
              "      <td>0.0</td>\n",
              "      <td>0.0</td>\n",
              "      <td>0.0</td>\n",
              "      <td>0.0</td>\n",
              "      <td>0.0</td>\n",
              "      <td>Sabih Unhearfus</td>\n",
              "      <td>0019</td>\n",
              "      <td>01</td>\n",
              "      <td>C</td>\n",
              "      <td>0</td>\n",
              "      <td>S</td>\n",
              "    </tr>\n",
              "    <tr>\n",
              "      <th>3</th>\n",
              "      <td>0021_01</td>\n",
              "      <td>Europa</td>\n",
              "      <td>False</td>\n",
              "      <td>C/1/S</td>\n",
              "      <td>TRAPPIST-1e</td>\n",
              "      <td>38.0</td>\n",
              "      <td>False</td>\n",
              "      <td>0.0</td>\n",
              "      <td>6652.0</td>\n",
              "      <td>0.0</td>\n",
              "      <td>181.0</td>\n",
              "      <td>585.0</td>\n",
              "      <td>Meratz Caltilter</td>\n",
              "      <td>0021</td>\n",
              "      <td>01</td>\n",
              "      <td>C</td>\n",
              "      <td>1</td>\n",
              "      <td>S</td>\n",
              "    </tr>\n",
              "    <tr>\n",
              "      <th>4</th>\n",
              "      <td>0023_01</td>\n",
              "      <td>Earth</td>\n",
              "      <td>False</td>\n",
              "      <td>F/5/S</td>\n",
              "      <td>TRAPPIST-1e</td>\n",
              "      <td>20.0</td>\n",
              "      <td>False</td>\n",
              "      <td>10.0</td>\n",
              "      <td>0.0</td>\n",
              "      <td>635.0</td>\n",
              "      <td>0.0</td>\n",
              "      <td>0.0</td>\n",
              "      <td>Brence Harperez</td>\n",
              "      <td>0023</td>\n",
              "      <td>01</td>\n",
              "      <td>F</td>\n",
              "      <td>5</td>\n",
              "      <td>S</td>\n",
              "    </tr>\n",
              "    <tr>\n",
              "      <th>...</th>\n",
              "      <td>...</td>\n",
              "      <td>...</td>\n",
              "      <td>...</td>\n",
              "      <td>...</td>\n",
              "      <td>...</td>\n",
              "      <td>...</td>\n",
              "      <td>...</td>\n",
              "      <td>...</td>\n",
              "      <td>...</td>\n",
              "      <td>...</td>\n",
              "      <td>...</td>\n",
              "      <td>...</td>\n",
              "      <td>...</td>\n",
              "      <td>...</td>\n",
              "      <td>...</td>\n",
              "      <td>...</td>\n",
              "      <td>...</td>\n",
              "      <td>...</td>\n",
              "    </tr>\n",
              "    <tr>\n",
              "      <th>4272</th>\n",
              "      <td>9266_02</td>\n",
              "      <td>Earth</td>\n",
              "      <td>True</td>\n",
              "      <td>G/1496/S</td>\n",
              "      <td>TRAPPIST-1e</td>\n",
              "      <td>34.0</td>\n",
              "      <td>False</td>\n",
              "      <td>0.0</td>\n",
              "      <td>0.0</td>\n",
              "      <td>0.0</td>\n",
              "      <td>0.0</td>\n",
              "      <td>0.0</td>\n",
              "      <td>Jeron Peter</td>\n",
              "      <td>9266</td>\n",
              "      <td>02</td>\n",
              "      <td>G</td>\n",
              "      <td>1496</td>\n",
              "      <td>S</td>\n",
              "    </tr>\n",
              "    <tr>\n",
              "      <th>4273</th>\n",
              "      <td>9269_01</td>\n",
              "      <td>Earth</td>\n",
              "      <td>False</td>\n",
              "      <td>NaN</td>\n",
              "      <td>TRAPPIST-1e</td>\n",
              "      <td>42.0</td>\n",
              "      <td>False</td>\n",
              "      <td>0.0</td>\n",
              "      <td>847.0</td>\n",
              "      <td>17.0</td>\n",
              "      <td>10.0</td>\n",
              "      <td>144.0</td>\n",
              "      <td>Matty Scheron</td>\n",
              "      <td>9269</td>\n",
              "      <td>01</td>\n",
              "      <td>NaN</td>\n",
              "      <td>NaN</td>\n",
              "      <td>NaN</td>\n",
              "    </tr>\n",
              "    <tr>\n",
              "      <th>4274</th>\n",
              "      <td>9271_01</td>\n",
              "      <td>Mars</td>\n",
              "      <td>True</td>\n",
              "      <td>D/296/P</td>\n",
              "      <td>55 Cancri e</td>\n",
              "      <td>NaN</td>\n",
              "      <td>False</td>\n",
              "      <td>0.0</td>\n",
              "      <td>0.0</td>\n",
              "      <td>0.0</td>\n",
              "      <td>0.0</td>\n",
              "      <td>0.0</td>\n",
              "      <td>Jayrin Pore</td>\n",
              "      <td>9271</td>\n",
              "      <td>01</td>\n",
              "      <td>D</td>\n",
              "      <td>296</td>\n",
              "      <td>P</td>\n",
              "    </tr>\n",
              "    <tr>\n",
              "      <th>4275</th>\n",
              "      <td>9273_01</td>\n",
              "      <td>Europa</td>\n",
              "      <td>False</td>\n",
              "      <td>D/297/P</td>\n",
              "      <td>NaN</td>\n",
              "      <td>NaN</td>\n",
              "      <td>False</td>\n",
              "      <td>0.0</td>\n",
              "      <td>2680.0</td>\n",
              "      <td>0.0</td>\n",
              "      <td>0.0</td>\n",
              "      <td>523.0</td>\n",
              "      <td>Kitakan Conale</td>\n",
              "      <td>9273</td>\n",
              "      <td>01</td>\n",
              "      <td>D</td>\n",
              "      <td>297</td>\n",
              "      <td>P</td>\n",
              "    </tr>\n",
              "    <tr>\n",
              "      <th>4276</th>\n",
              "      <td>9277_01</td>\n",
              "      <td>Earth</td>\n",
              "      <td>True</td>\n",
              "      <td>G/1498/S</td>\n",
              "      <td>PSO J318.5-22</td>\n",
              "      <td>43.0</td>\n",
              "      <td>False</td>\n",
              "      <td>0.0</td>\n",
              "      <td>0.0</td>\n",
              "      <td>0.0</td>\n",
              "      <td>0.0</td>\n",
              "      <td>0.0</td>\n",
              "      <td>Lilace Leonzaley</td>\n",
              "      <td>9277</td>\n",
              "      <td>01</td>\n",
              "      <td>G</td>\n",
              "      <td>1498</td>\n",
              "      <td>S</td>\n",
              "    </tr>\n",
              "  </tbody>\n",
              "</table>\n",
              "<p>4277 rows × 18 columns</p>\n",
              "</div>\n",
              "      <button class=\"colab-df-convert\" onclick=\"convertToInteractive('df-f7daba90-3b84-4200-93e3-9791e0b2868c')\"\n",
              "              title=\"Convert this dataframe to an interactive table.\"\n",
              "              style=\"display:none;\">\n",
              "        \n",
              "  <svg xmlns=\"http://www.w3.org/2000/svg\" height=\"24px\"viewBox=\"0 0 24 24\"\n",
              "       width=\"24px\">\n",
              "    <path d=\"M0 0h24v24H0V0z\" fill=\"none\"/>\n",
              "    <path d=\"M18.56 5.44l.94 2.06.94-2.06 2.06-.94-2.06-.94-.94-2.06-.94 2.06-2.06.94zm-11 1L8.5 8.5l.94-2.06 2.06-.94-2.06-.94L8.5 2.5l-.94 2.06-2.06.94zm10 10l.94 2.06.94-2.06 2.06-.94-2.06-.94-.94-2.06-.94 2.06-2.06.94z\"/><path d=\"M17.41 7.96l-1.37-1.37c-.4-.4-.92-.59-1.43-.59-.52 0-1.04.2-1.43.59L10.3 9.45l-7.72 7.72c-.78.78-.78 2.05 0 2.83L4 21.41c.39.39.9.59 1.41.59.51 0 1.02-.2 1.41-.59l7.78-7.78 2.81-2.81c.8-.78.8-2.07 0-2.86zM5.41 20L4 18.59l7.72-7.72 1.47 1.35L5.41 20z\"/>\n",
              "  </svg>\n",
              "      </button>\n",
              "      \n",
              "  <style>\n",
              "    .colab-df-container {\n",
              "      display:flex;\n",
              "      flex-wrap:wrap;\n",
              "      gap: 12px;\n",
              "    }\n",
              "\n",
              "    .colab-df-convert {\n",
              "      background-color: #E8F0FE;\n",
              "      border: none;\n",
              "      border-radius: 50%;\n",
              "      cursor: pointer;\n",
              "      display: none;\n",
              "      fill: #1967D2;\n",
              "      height: 32px;\n",
              "      padding: 0 0 0 0;\n",
              "      width: 32px;\n",
              "    }\n",
              "\n",
              "    .colab-df-convert:hover {\n",
              "      background-color: #E2EBFA;\n",
              "      box-shadow: 0px 1px 2px rgba(60, 64, 67, 0.3), 0px 1px 3px 1px rgba(60, 64, 67, 0.15);\n",
              "      fill: #174EA6;\n",
              "    }\n",
              "\n",
              "    [theme=dark] .colab-df-convert {\n",
              "      background-color: #3B4455;\n",
              "      fill: #D2E3FC;\n",
              "    }\n",
              "\n",
              "    [theme=dark] .colab-df-convert:hover {\n",
              "      background-color: #434B5C;\n",
              "      box-shadow: 0px 1px 3px 1px rgba(0, 0, 0, 0.15);\n",
              "      filter: drop-shadow(0px 1px 2px rgba(0, 0, 0, 0.3));\n",
              "      fill: #FFFFFF;\n",
              "    }\n",
              "  </style>\n",
              "\n",
              "      <script>\n",
              "        const buttonEl =\n",
              "          document.querySelector('#df-f7daba90-3b84-4200-93e3-9791e0b2868c button.colab-df-convert');\n",
              "        buttonEl.style.display =\n",
              "          google.colab.kernel.accessAllowed ? 'block' : 'none';\n",
              "\n",
              "        async function convertToInteractive(key) {\n",
              "          const element = document.querySelector('#df-f7daba90-3b84-4200-93e3-9791e0b2868c');\n",
              "          const dataTable =\n",
              "            await google.colab.kernel.invokeFunction('convertToInteractive',\n",
              "                                                     [key], {});\n",
              "          if (!dataTable) return;\n",
              "\n",
              "          const docLinkHtml = 'Like what you see? Visit the ' +\n",
              "            '<a target=\"_blank\" href=https://colab.research.google.com/notebooks/data_table.ipynb>data table notebook</a>'\n",
              "            + ' to learn more about interactive tables.';\n",
              "          element.innerHTML = '';\n",
              "          dataTable['output_type'] = 'display_data';\n",
              "          await google.colab.output.renderOutput(dataTable, element);\n",
              "          const docLink = document.createElement('div');\n",
              "          docLink.innerHTML = docLinkHtml;\n",
              "          element.appendChild(docLink);\n",
              "        }\n",
              "      </script>\n",
              "    </div>\n",
              "  </div>\n",
              "  "
            ]
          },
          "metadata": {},
          "execution_count": 72
        }
      ]
    },
    {
      "cell_type": "code",
      "source": [
        "tst_dl = learn.dls.test_dl(tst_df)\n",
        "tst_dl.show_batch()"
      ],
      "metadata": {
        "colab": {
          "base_uri": "https://localhost:8080/",
          "height": 487
        },
        "id": "KOep2NjK4olP",
        "outputId": "b7a0c6bd-789e-404c-8fee-dd86cb2279c4"
      },
      "execution_count": 73,
      "outputs": [
        {
          "output_type": "display_data",
          "data": {
            "text/plain": [
              "<IPython.core.display.HTML object>"
            ],
            "text/html": [
              "<table border=\"1\" class=\"dataframe\">\n",
              "  <thead>\n",
              "    <tr style=\"text-align: right;\">\n",
              "      <th></th>\n",
              "      <th>PassengerId</th>\n",
              "      <th>HomePlanet</th>\n",
              "      <th>CryoSleep</th>\n",
              "      <th>Cabin</th>\n",
              "      <th>Destination</th>\n",
              "      <th>VIP</th>\n",
              "      <th>Name</th>\n",
              "      <th>Passenger_Gp</th>\n",
              "      <th>Passenger_Gp_Nb</th>\n",
              "      <th>Cabin_Deck</th>\n",
              "      <th>Cabin_Num</th>\n",
              "      <th>Cabin_Side</th>\n",
              "      <th>Age_na</th>\n",
              "      <th>RoomService_na</th>\n",
              "      <th>FoodCourt_na</th>\n",
              "      <th>ShoppingMall_na</th>\n",
              "      <th>Spa_na</th>\n",
              "      <th>VRDeck_na</th>\n",
              "      <th>Age</th>\n",
              "      <th>RoomService</th>\n",
              "      <th>FoodCourt</th>\n",
              "      <th>ShoppingMall</th>\n",
              "      <th>Spa</th>\n",
              "      <th>VRDeck</th>\n",
              "    </tr>\n",
              "  </thead>\n",
              "  <tbody>\n",
              "    <tr>\n",
              "      <th>0</th>\n",
              "      <td>#na#</td>\n",
              "      <td>Earth</td>\n",
              "      <td>True</td>\n",
              "      <td>#na#</td>\n",
              "      <td>TRAPPIST-1e</td>\n",
              "      <td>False</td>\n",
              "      <td>#na#</td>\n",
              "      <td>#na#</td>\n",
              "      <td>01</td>\n",
              "      <td>G</td>\n",
              "      <td>3</td>\n",
              "      <td>S</td>\n",
              "      <td>False</td>\n",
              "      <td>False</td>\n",
              "      <td>False</td>\n",
              "      <td>False</td>\n",
              "      <td>False</td>\n",
              "      <td>False</td>\n",
              "      <td>27.0</td>\n",
              "      <td>0.000007</td>\n",
              "      <td>6.166338e-07</td>\n",
              "      <td>-9.350697e-07</td>\n",
              "      <td>0.000010</td>\n",
              "      <td>-0.000008</td>\n",
              "    </tr>\n",
              "    <tr>\n",
              "      <th>1</th>\n",
              "      <td>#na#</td>\n",
              "      <td>Earth</td>\n",
              "      <td>False</td>\n",
              "      <td>#na#</td>\n",
              "      <td>TRAPPIST-1e</td>\n",
              "      <td>False</td>\n",
              "      <td>#na#</td>\n",
              "      <td>#na#</td>\n",
              "      <td>01</td>\n",
              "      <td>F</td>\n",
              "      <td>4</td>\n",
              "      <td>S</td>\n",
              "      <td>False</td>\n",
              "      <td>False</td>\n",
              "      <td>False</td>\n",
              "      <td>False</td>\n",
              "      <td>False</td>\n",
              "      <td>False</td>\n",
              "      <td>19.0</td>\n",
              "      <td>0.000007</td>\n",
              "      <td>9.000001e+00</td>\n",
              "      <td>-9.350697e-07</td>\n",
              "      <td>2822.999999</td>\n",
              "      <td>-0.000008</td>\n",
              "    </tr>\n",
              "    <tr>\n",
              "      <th>2</th>\n",
              "      <td>#na#</td>\n",
              "      <td>Europa</td>\n",
              "      <td>True</td>\n",
              "      <td>#na#</td>\n",
              "      <td>55 Cancri e</td>\n",
              "      <td>False</td>\n",
              "      <td>#na#</td>\n",
              "      <td>#na#</td>\n",
              "      <td>01</td>\n",
              "      <td>C</td>\n",
              "      <td>0</td>\n",
              "      <td>S</td>\n",
              "      <td>False</td>\n",
              "      <td>False</td>\n",
              "      <td>False</td>\n",
              "      <td>False</td>\n",
              "      <td>False</td>\n",
              "      <td>False</td>\n",
              "      <td>31.0</td>\n",
              "      <td>0.000007</td>\n",
              "      <td>6.166338e-07</td>\n",
              "      <td>-9.350697e-07</td>\n",
              "      <td>0.000010</td>\n",
              "      <td>-0.000008</td>\n",
              "    </tr>\n",
              "    <tr>\n",
              "      <th>3</th>\n",
              "      <td>#na#</td>\n",
              "      <td>Europa</td>\n",
              "      <td>False</td>\n",
              "      <td>#na#</td>\n",
              "      <td>TRAPPIST-1e</td>\n",
              "      <td>False</td>\n",
              "      <td>#na#</td>\n",
              "      <td>#na#</td>\n",
              "      <td>01</td>\n",
              "      <td>C</td>\n",
              "      <td>1</td>\n",
              "      <td>S</td>\n",
              "      <td>False</td>\n",
              "      <td>False</td>\n",
              "      <td>False</td>\n",
              "      <td>False</td>\n",
              "      <td>False</td>\n",
              "      <td>False</td>\n",
              "      <td>38.0</td>\n",
              "      <td>0.000007</td>\n",
              "      <td>6.652000e+03</td>\n",
              "      <td>-9.350697e-07</td>\n",
              "      <td>181.000000</td>\n",
              "      <td>584.999989</td>\n",
              "    </tr>\n",
              "    <tr>\n",
              "      <th>4</th>\n",
              "      <td>#na#</td>\n",
              "      <td>Earth</td>\n",
              "      <td>False</td>\n",
              "      <td>#na#</td>\n",
              "      <td>TRAPPIST-1e</td>\n",
              "      <td>False</td>\n",
              "      <td>#na#</td>\n",
              "      <td>#na#</td>\n",
              "      <td>01</td>\n",
              "      <td>F</td>\n",
              "      <td>5</td>\n",
              "      <td>S</td>\n",
              "      <td>False</td>\n",
              "      <td>False</td>\n",
              "      <td>False</td>\n",
              "      <td>False</td>\n",
              "      <td>False</td>\n",
              "      <td>False</td>\n",
              "      <td>20.0</td>\n",
              "      <td>10.000000</td>\n",
              "      <td>6.166338e-07</td>\n",
              "      <td>6.350000e+02</td>\n",
              "      <td>0.000010</td>\n",
              "      <td>-0.000008</td>\n",
              "    </tr>\n",
              "    <tr>\n",
              "      <th>5</th>\n",
              "      <td>#na#</td>\n",
              "      <td>Earth</td>\n",
              "      <td>False</td>\n",
              "      <td>#na#</td>\n",
              "      <td>TRAPPIST-1e</td>\n",
              "      <td>False</td>\n",
              "      <td>#na#</td>\n",
              "      <td>#na#</td>\n",
              "      <td>01</td>\n",
              "      <td>F</td>\n",
              "      <td>7</td>\n",
              "      <td>P</td>\n",
              "      <td>False</td>\n",
              "      <td>False</td>\n",
              "      <td>False</td>\n",
              "      <td>False</td>\n",
              "      <td>False</td>\n",
              "      <td>False</td>\n",
              "      <td>31.0</td>\n",
              "      <td>0.000007</td>\n",
              "      <td>1.615000e+03</td>\n",
              "      <td>2.630000e+02</td>\n",
              "      <td>113.000003</td>\n",
              "      <td>59.999994</td>\n",
              "    </tr>\n",
              "    <tr>\n",
              "      <th>6</th>\n",
              "      <td>#na#</td>\n",
              "      <td>Europa</td>\n",
              "      <td>True</td>\n",
              "      <td>#na#</td>\n",
              "      <td>55 Cancri e</td>\n",
              "      <td>False</td>\n",
              "      <td>#na#</td>\n",
              "      <td>#na#</td>\n",
              "      <td>01</td>\n",
              "      <td>B</td>\n",
              "      <td>2</td>\n",
              "      <td>P</td>\n",
              "      <td>False</td>\n",
              "      <td>False</td>\n",
              "      <td>True</td>\n",
              "      <td>False</td>\n",
              "      <td>False</td>\n",
              "      <td>False</td>\n",
              "      <td>21.0</td>\n",
              "      <td>0.000007</td>\n",
              "      <td>6.166338e-07</td>\n",
              "      <td>-9.350697e-07</td>\n",
              "      <td>0.000010</td>\n",
              "      <td>-0.000008</td>\n",
              "    </tr>\n",
              "    <tr>\n",
              "      <th>7</th>\n",
              "      <td>#na#</td>\n",
              "      <td>Europa</td>\n",
              "      <td>True</td>\n",
              "      <td>#na#</td>\n",
              "      <td>TRAPPIST-1e</td>\n",
              "      <td>False</td>\n",
              "      <td>#na#</td>\n",
              "      <td>#na#</td>\n",
              "      <td>01</td>\n",
              "      <td>D</td>\n",
              "      <td>0</td>\n",
              "      <td>S</td>\n",
              "      <td>False</td>\n",
              "      <td>False</td>\n",
              "      <td>False</td>\n",
              "      <td>False</td>\n",
              "      <td>False</td>\n",
              "      <td>False</td>\n",
              "      <td>20.0</td>\n",
              "      <td>0.000007</td>\n",
              "      <td>6.166338e-07</td>\n",
              "      <td>-9.350697e-07</td>\n",
              "      <td>0.000010</td>\n",
              "      <td>-0.000008</td>\n",
              "    </tr>\n",
              "    <tr>\n",
              "      <th>8</th>\n",
              "      <td>#na#</td>\n",
              "      <td>Europa</td>\n",
              "      <td>True</td>\n",
              "      <td>#na#</td>\n",
              "      <td>55 Cancri e</td>\n",
              "      <td>False</td>\n",
              "      <td>#na#</td>\n",
              "      <td>#na#</td>\n",
              "      <td>02</td>\n",
              "      <td>D</td>\n",
              "      <td>0</td>\n",
              "      <td>S</td>\n",
              "      <td>False</td>\n",
              "      <td>False</td>\n",
              "      <td>False</td>\n",
              "      <td>False</td>\n",
              "      <td>False</td>\n",
              "      <td>False</td>\n",
              "      <td>23.0</td>\n",
              "      <td>0.000007</td>\n",
              "      <td>6.166338e-07</td>\n",
              "      <td>-9.350697e-07</td>\n",
              "      <td>0.000010</td>\n",
              "      <td>-0.000008</td>\n",
              "    </tr>\n",
              "    <tr>\n",
              "      <th>9</th>\n",
              "      <td>#na#</td>\n",
              "      <td>Earth</td>\n",
              "      <td>False</td>\n",
              "      <td>#na#</td>\n",
              "      <td>55 Cancri e</td>\n",
              "      <td>False</td>\n",
              "      <td>#na#</td>\n",
              "      <td>#na#</td>\n",
              "      <td>01</td>\n",
              "      <td>F</td>\n",
              "      <td>7</td>\n",
              "      <td>S</td>\n",
              "      <td>False</td>\n",
              "      <td>False</td>\n",
              "      <td>False</td>\n",
              "      <td>False</td>\n",
              "      <td>False</td>\n",
              "      <td>False</td>\n",
              "      <td>24.0</td>\n",
              "      <td>0.000007</td>\n",
              "      <td>6.390000e+02</td>\n",
              "      <td>-9.350697e-07</td>\n",
              "      <td>0.000010</td>\n",
              "      <td>-0.000008</td>\n",
              "    </tr>\n",
              "  </tbody>\n",
              "</table>"
            ]
          },
          "metadata": {}
        }
      ]
    },
    {
      "cell_type": "code",
      "source": [
        "preds_nn,_ = learn.get_preds(dl=tst_dl)"
      ],
      "metadata": {
        "colab": {
          "base_uri": "https://localhost:8080/",
          "height": 17
        },
        "id": "QbUA8hKR4ofJ",
        "outputId": "ef9a88c9-e531-44b6-875d-932c9481ca27"
      },
      "execution_count": 74,
      "outputs": [
        {
          "output_type": "display_data",
          "data": {
            "text/plain": [
              "<IPython.core.display.HTML object>"
            ],
            "text/html": [
              "\n",
              "<style>\n",
              "    /* Turns off some styling */\n",
              "    progress {\n",
              "        /* gets rid of default border in Firefox and Opera. */\n",
              "        border: none;\n",
              "        /* Needs to be in here for Safari polyfill so background images work as expected. */\n",
              "        background-size: auto;\n",
              "    }\n",
              "    progress:not([value]), progress:not([value])::-webkit-progress-bar {\n",
              "        background: repeating-linear-gradient(45deg, #7e7e7e, #7e7e7e 10px, #5c5c5c 10px, #5c5c5c 20px);\n",
              "    }\n",
              "    .progress-bar-interrupted, .progress-bar-interrupted::-webkit-progress-bar {\n",
              "        background: #F44336;\n",
              "    }\n",
              "</style>\n"
            ]
          },
          "metadata": {}
        },
        {
          "output_type": "display_data",
          "data": {
            "text/plain": [
              "<IPython.core.display.HTML object>"
            ],
            "text/html": []
          },
          "metadata": {}
        }
      ]
    },
    {
      "cell_type": "code",
      "source": [
        "tst_dl.vocab"
      ],
      "metadata": {
        "colab": {
          "base_uri": "https://localhost:8080/"
        },
        "id": "32u6W5Wl531G",
        "outputId": "33e56998-c9ca-417a-d06f-bf3bd5a2e45b"
      },
      "execution_count": 75,
      "outputs": [
        {
          "output_type": "execute_result",
          "data": {
            "text/plain": [
              "[False, True]"
            ]
          },
          "metadata": {},
          "execution_count": 75
        }
      ]
    },
    {
      "cell_type": "code",
      "source": [
        "preds_nn"
      ],
      "metadata": {
        "colab": {
          "base_uri": "https://localhost:8080/"
        },
        "id": "cpmTMqIT4odV",
        "outputId": "160e3a65-d89b-454d-b48e-3133420819b5"
      },
      "execution_count": 77,
      "outputs": [
        {
          "output_type": "execute_result",
          "data": {
            "text/plain": [
              "tensor([[1.0150e-03, 9.9898e-01],\n",
              "        [9.9956e-01, 4.4140e-04],\n",
              "        [2.0124e-05, 9.9998e-01],\n",
              "        ...,\n",
              "        [8.0959e-05, 9.9992e-01],\n",
              "        [5.6265e-01, 4.3735e-01],\n",
              "        [7.0089e-04, 9.9930e-01]])"
            ]
          },
          "metadata": {},
          "execution_count": 77
        }
      ]
    },
    {
      "cell_type": "code",
      "source": [
        "preds_nn.shape"
      ],
      "metadata": {
        "colab": {
          "base_uri": "https://localhost:8080/"
        },
        "id": "SFwH2c5m4oYC",
        "outputId": "ad9a1a7e-f6b5-4e3e-ed29-b650e36d4a00"
      },
      "execution_count": 78,
      "outputs": [
        {
          "output_type": "execute_result",
          "data": {
            "text/plain": [
              "torch.Size([4277, 2])"
            ]
          },
          "metadata": {},
          "execution_count": 78
        }
      ]
    },
    {
      "cell_type": "code",
      "source": [
        "preds_nn[:10,1]"
      ],
      "metadata": {
        "colab": {
          "base_uri": "https://localhost:8080/"
        },
        "id": "bUdP6UL0uR6p",
        "outputId": "df0d84f8-eda2-427b-b436-e401e78bfe54"
      },
      "execution_count": 79,
      "outputs": [
        {
          "output_type": "execute_result",
          "data": {
            "text/plain": [
              "tensor([9.9898e-01, 4.4140e-04, 9.9998e-01, 9.9983e-01, 3.6918e-02, 3.3261e-03,\n",
              "        9.9997e-01, 9.9997e-01, 9.9998e-01, 2.9127e-02])"
            ]
          },
          "metadata": {},
          "execution_count": 79
        }
      ]
    },
    {
      "cell_type": "code",
      "source": [
        "preds_nn[:10,1]>0.5"
      ],
      "metadata": {
        "colab": {
          "base_uri": "https://localhost:8080/"
        },
        "id": "zUFSj8W_uRzb",
        "outputId": "da6c6615-cd2f-4160-e716-8d9558944288"
      },
      "execution_count": 80,
      "outputs": [
        {
          "output_type": "execute_result",
          "data": {
            "text/plain": [
              "tensor([ True, False,  True,  True, False, False,  True,  True,  True, False])"
            ]
          },
          "metadata": {},
          "execution_count": 80
        }
      ]
    },
    {
      "cell_type": "code",
      "source": [
        "ss.shape"
      ],
      "metadata": {
        "colab": {
          "base_uri": "https://localhost:8080/"
        },
        "id": "cI9rTONtuRrY",
        "outputId": "1e17ebfd-25de-4814-8e35-bb5dd8992566"
      },
      "execution_count": null,
      "outputs": [
        {
          "output_type": "execute_result",
          "data": {
            "text/plain": [
              "(4277, 2)"
            ]
          },
          "metadata": {},
          "execution_count": 52
        }
      ]
    },
    {
      "cell_type": "code",
      "source": [
        "tst_df.shape"
      ],
      "metadata": {
        "colab": {
          "base_uri": "https://localhost:8080/"
        },
        "id": "kzd7D4Al6Cex",
        "outputId": "680cc835-e9cc-4bdc-9198-635e3a15e292"
      },
      "execution_count": null,
      "outputs": [
        {
          "output_type": "execute_result",
          "data": {
            "text/plain": [
              "(4277, 13)"
            ]
          },
          "metadata": {},
          "execution_count": 53
        }
      ]
    },
    {
      "cell_type": "code",
      "source": [
        "ss.columns"
      ],
      "metadata": {
        "colab": {
          "base_uri": "https://localhost:8080/"
        },
        "id": "XHLuzPjc7xKl",
        "outputId": "49c0a95a-e510-4aec-b41e-6a80d0bc28fc"
      },
      "execution_count": null,
      "outputs": [
        {
          "output_type": "execute_result",
          "data": {
            "text/plain": [
              "Index(['PassengerId', 'Transported'], dtype='object')"
            ]
          },
          "metadata": {},
          "execution_count": 58
        }
      ]
    },
    {
      "cell_type": "markdown",
      "source": [
        "Save `preds` as .csv file"
      ],
      "metadata": {
        "id": "yj6D53fQ6ZKM"
      }
    },
    {
      "cell_type": "code",
      "source": [
        "tst_df['Transported'] = (preds_nn[:,1]>0.5)\n",
        "sub_df = tst_df[['PassengerId', 'Transported']]\n",
        "sub_df.to_csv('sub2.csv', index=False)"
      ],
      "metadata": {
        "id": "QhNi08XH6CWg"
      },
      "execution_count": null,
      "outputs": []
    },
    {
      "cell_type": "code",
      "source": [
        "!head sub2.csv"
      ],
      "metadata": {
        "colab": {
          "base_uri": "https://localhost:8080/"
        },
        "id": "XPwNFItv7QY6",
        "outputId": "f659197c-b31f-41c4-d4be-e8cf65b1662a"
      },
      "execution_count": null,
      "outputs": [
        {
          "output_type": "stream",
          "name": "stdout",
          "text": [
            "PassengerId,Transported\n",
            "0013_01,True\n",
            "0018_01,False\n",
            "0019_01,True\n",
            "0021_01,True\n",
            "0023_01,True\n",
            "0027_01,True\n",
            "0029_01,True\n",
            "0032_01,True\n",
            "0032_02,True\n"
          ]
        }
      ]
    },
    {
      "cell_type": "markdown",
      "source": [
        "### to kaggle"
      ],
      "metadata": {
        "id": "-pl2I35y8WpC"
      }
    },
    {
      "cell_type": "code",
      "source": [
        "if not iskaggle:\n",
        "    from kaggle import api\n",
        "    api.competition_submit_cli('sub2.csv', 'initial basic model', comp)"
      ],
      "metadata": {
        "colab": {
          "base_uri": "https://localhost:8080/"
        },
        "id": "EMitcF2N7QJf",
        "outputId": "d1bc8de0-e067-4c7b-e313-e127037b1050"
      },
      "execution_count": null,
      "outputs": [
        {
          "output_type": "stream",
          "name": "stderr",
          "text": [
            "100%|██████████| 56.2k/56.2k [00:02<00:00, 25.5kB/s]\n"
          ]
        }
      ]
    },
    {
      "cell_type": "markdown",
      "source": [
        "### notebook to kaggle"
      ],
      "metadata": {
        "id": "-UH1A-Lc9BKc"
      }
    },
    {
      "cell_type": "code",
      "source": [
        "push_notebook??"
      ],
      "metadata": {
        "id": "77b5FbyR9AM4"
      },
      "execution_count": null,
      "outputs": []
    },
    {
      "cell_type": "code",
      "source": [
        "if not iskaggle:\n",
        "    push_notebook('victorbahlangene', 'spaceship-titanic',\n",
        "                  title='Spaceship Titanic 2',\n",
        "                  file='Spaceship Titanic 2.ipynb',\n",
        "                  competition=comp, private=False, gpu=True)"
      ],
      "metadata": {
        "id": "tWl9EOQp8f8O"
      },
      "execution_count": 37,
      "outputs": []
    },
    {
      "cell_type": "markdown",
      "source": [
        "# Model 2\n",
        "\n",
        "**Ensembling neral net**"
      ],
      "metadata": {
        "id": "0dDnOzNvuGwt"
      }
    },
    {
      "cell_type": "code",
      "source": [
        "def ensemble():\n",
        "    learn = tabular_learner(dls, metrics=accuracy, layers=[10,10])\n",
        "    with learn.no_bar(),learn.no_logging(): learn.fit(16, lr=0.03375)\n",
        "    return learn.get_preds(dl=tst_dl)[0]"
      ],
      "metadata": {
        "id": "j5IUz6jfuO0m"
      },
      "execution_count": 39,
      "outputs": []
    },
    {
      "cell_type": "code",
      "source": [
        "learns = [ensemble() for _ in range(5)]"
      ],
      "metadata": {
        "id": "LC_5mkGPuOri",
        "colab": {
          "base_uri": "https://localhost:8080/",
          "height": 17
        },
        "outputId": "8611432d-2c51-4657-a645-3dfdc29f25a1"
      },
      "execution_count": null,
      "outputs": [
        {
          "output_type": "display_data",
          "data": {
            "text/plain": [
              "<IPython.core.display.HTML object>"
            ],
            "text/html": [
              "\n",
              "<style>\n",
              "    /* Turns off some styling */\n",
              "    progress {\n",
              "        /* gets rid of default border in Firefox and Opera. */\n",
              "        border: none;\n",
              "        /* Needs to be in here for Safari polyfill so background images work as expected. */\n",
              "        background-size: auto;\n",
              "    }\n",
              "    progress:not([value]), progress:not([value])::-webkit-progress-bar {\n",
              "        background: repeating-linear-gradient(45deg, #7e7e7e, #7e7e7e 10px, #5c5c5c 10px, #5c5c5c 20px);\n",
              "    }\n",
              "    .progress-bar-interrupted, .progress-bar-interrupted::-webkit-progress-bar {\n",
              "        background: #F44336;\n",
              "    }\n",
              "</style>\n"
            ]
          },
          "metadata": {}
        },
        {
          "output_type": "display_data",
          "data": {
            "text/plain": [
              "<IPython.core.display.HTML object>"
            ],
            "text/html": []
          },
          "metadata": {}
        },
        {
          "output_type": "display_data",
          "data": {
            "text/plain": [
              "<IPython.core.display.HTML object>"
            ],
            "text/html": [
              "\n",
              "<style>\n",
              "    /* Turns off some styling */\n",
              "    progress {\n",
              "        /* gets rid of default border in Firefox and Opera. */\n",
              "        border: none;\n",
              "        /* Needs to be in here for Safari polyfill so background images work as expected. */\n",
              "        background-size: auto;\n",
              "    }\n",
              "    progress:not([value]), progress:not([value])::-webkit-progress-bar {\n",
              "        background: repeating-linear-gradient(45deg, #7e7e7e, #7e7e7e 10px, #5c5c5c 10px, #5c5c5c 20px);\n",
              "    }\n",
              "    .progress-bar-interrupted, .progress-bar-interrupted::-webkit-progress-bar {\n",
              "        background: #F44336;\n",
              "    }\n",
              "</style>\n"
            ]
          },
          "metadata": {}
        },
        {
          "output_type": "display_data",
          "data": {
            "text/plain": [
              "<IPython.core.display.HTML object>"
            ],
            "text/html": []
          },
          "metadata": {}
        },
        {
          "output_type": "display_data",
          "data": {
            "text/plain": [
              "<IPython.core.display.HTML object>"
            ],
            "text/html": [
              "\n",
              "<style>\n",
              "    /* Turns off some styling */\n",
              "    progress {\n",
              "        /* gets rid of default border in Firefox and Opera. */\n",
              "        border: none;\n",
              "        /* Needs to be in here for Safari polyfill so background images work as expected. */\n",
              "        background-size: auto;\n",
              "    }\n",
              "    progress:not([value]), progress:not([value])::-webkit-progress-bar {\n",
              "        background: repeating-linear-gradient(45deg, #7e7e7e, #7e7e7e 10px, #5c5c5c 10px, #5c5c5c 20px);\n",
              "    }\n",
              "    .progress-bar-interrupted, .progress-bar-interrupted::-webkit-progress-bar {\n",
              "        background: #F44336;\n",
              "    }\n",
              "</style>\n"
            ]
          },
          "metadata": {}
        },
        {
          "output_type": "display_data",
          "data": {
            "text/plain": [
              "<IPython.core.display.HTML object>"
            ],
            "text/html": []
          },
          "metadata": {}
        },
        {
          "output_type": "display_data",
          "data": {
            "text/plain": [
              "<IPython.core.display.HTML object>"
            ],
            "text/html": [
              "\n",
              "<style>\n",
              "    /* Turns off some styling */\n",
              "    progress {\n",
              "        /* gets rid of default border in Firefox and Opera. */\n",
              "        border: none;\n",
              "        /* Needs to be in here for Safari polyfill so background images work as expected. */\n",
              "        background-size: auto;\n",
              "    }\n",
              "    progress:not([value]), progress:not([value])::-webkit-progress-bar {\n",
              "        background: repeating-linear-gradient(45deg, #7e7e7e, #7e7e7e 10px, #5c5c5c 10px, #5c5c5c 20px);\n",
              "    }\n",
              "    .progress-bar-interrupted, .progress-bar-interrupted::-webkit-progress-bar {\n",
              "        background: #F44336;\n",
              "    }\n",
              "</style>\n"
            ]
          },
          "metadata": {}
        },
        {
          "output_type": "display_data",
          "data": {
            "text/plain": [
              "<IPython.core.display.HTML object>"
            ],
            "text/html": []
          },
          "metadata": {}
        },
        {
          "output_type": "display_data",
          "data": {
            "text/plain": [
              "<IPython.core.display.HTML object>"
            ],
            "text/html": [
              "\n",
              "<style>\n",
              "    /* Turns off some styling */\n",
              "    progress {\n",
              "        /* gets rid of default border in Firefox and Opera. */\n",
              "        border: none;\n",
              "        /* Needs to be in here for Safari polyfill so background images work as expected. */\n",
              "        background-size: auto;\n",
              "    }\n",
              "    progress:not([value]), progress:not([value])::-webkit-progress-bar {\n",
              "        background: repeating-linear-gradient(45deg, #7e7e7e, #7e7e7e 10px, #5c5c5c 10px, #5c5c5c 20px);\n",
              "    }\n",
              "    .progress-bar-interrupted, .progress-bar-interrupted::-webkit-progress-bar {\n",
              "        background: #F44336;\n",
              "    }\n",
              "</style>\n"
            ]
          },
          "metadata": {}
        },
        {
          "output_type": "display_data",
          "data": {
            "text/plain": [
              "<IPython.core.display.HTML object>"
            ],
            "text/html": []
          },
          "metadata": {}
        }
      ]
    },
    {
      "cell_type": "code",
      "source": [
        "learns"
      ],
      "metadata": {
        "colab": {
          "base_uri": "https://localhost:8080/"
        },
        "id": "RncS0EhKVQft",
        "outputId": "89d7f5f4-2381-4de9-9ab5-591fd8fd8f59"
      },
      "execution_count": null,
      "outputs": [
        {
          "output_type": "execute_result",
          "data": {
            "text/plain": [
              "[tensor([[2.4408e-04, 9.9976e-01],\n",
              "         [9.9906e-01, 9.3652e-04],\n",
              "         [6.6273e-06, 9.9999e-01],\n",
              "         ...,\n",
              "         [4.2728e-05, 9.9996e-01],\n",
              "         [1.8366e-02, 9.8163e-01],\n",
              "         [1.9087e-04, 9.9981e-01]]), tensor([[3.4430e-03, 9.9656e-01],\n",
              "         [9.9976e-01, 2.4148e-04],\n",
              "         [2.5961e-05, 9.9997e-01],\n",
              "         ...,\n",
              "         [7.4545e-05, 9.9993e-01],\n",
              "         [1.1442e-01, 8.8558e-01],\n",
              "         [4.1492e-02, 9.5851e-01]]), tensor([[1.0643e-01, 8.9357e-01],\n",
              "         [9.9988e-01, 1.1705e-04],\n",
              "         [8.0756e-05, 9.9992e-01],\n",
              "         ...,\n",
              "         [8.6736e-04, 9.9913e-01],\n",
              "         [6.2360e-02, 9.3764e-01],\n",
              "         [3.4768e-01, 6.5232e-01]]), tensor([[2.7905e-02, 9.7210e-01],\n",
              "         [9.9955e-01, 4.5101e-04],\n",
              "         [1.8454e-05, 9.9998e-01],\n",
              "         ...,\n",
              "         [1.8404e-03, 9.9816e-01],\n",
              "         [8.4865e-01, 1.5135e-01],\n",
              "         [4.4781e-01, 5.5219e-01]]), tensor([[2.0645e-01, 7.9355e-01],\n",
              "         [9.9997e-01, 3.3482e-05],\n",
              "         [3.0659e-05, 9.9997e-01],\n",
              "         ...,\n",
              "         [8.1274e-04, 9.9919e-01],\n",
              "         [9.9973e-01, 2.6791e-04],\n",
              "         [9.6655e-01, 3.3451e-02]])]"
            ]
          },
          "metadata": {},
          "execution_count": 129
        }
      ]
    },
    {
      "cell_type": "code",
      "source": [
        "torch.stack(learns)"
      ],
      "metadata": {
        "id": "j2013oqiuOlM",
        "colab": {
          "base_uri": "https://localhost:8080/"
        },
        "outputId": "7ba3e296-0b67-417c-fe8c-34d29b1549e2"
      },
      "execution_count": null,
      "outputs": [
        {
          "output_type": "execute_result",
          "data": {
            "text/plain": [
              "tensor([[[2.4408e-04, 9.9976e-01],\n",
              "         [9.9906e-01, 9.3652e-04],\n",
              "         [6.6273e-06, 9.9999e-01],\n",
              "         ...,\n",
              "         [4.2728e-05, 9.9996e-01],\n",
              "         [1.8366e-02, 9.8163e-01],\n",
              "         [1.9087e-04, 9.9981e-01]],\n",
              "\n",
              "        [[3.4430e-03, 9.9656e-01],\n",
              "         [9.9976e-01, 2.4148e-04],\n",
              "         [2.5961e-05, 9.9997e-01],\n",
              "         ...,\n",
              "         [7.4545e-05, 9.9993e-01],\n",
              "         [1.1442e-01, 8.8558e-01],\n",
              "         [4.1492e-02, 9.5851e-01]],\n",
              "\n",
              "        [[1.0643e-01, 8.9357e-01],\n",
              "         [9.9988e-01, 1.1705e-04],\n",
              "         [8.0756e-05, 9.9992e-01],\n",
              "         ...,\n",
              "         [8.6736e-04, 9.9913e-01],\n",
              "         [6.2360e-02, 9.3764e-01],\n",
              "         [3.4768e-01, 6.5232e-01]],\n",
              "\n",
              "        [[2.7905e-02, 9.7210e-01],\n",
              "         [9.9955e-01, 4.5101e-04],\n",
              "         [1.8454e-05, 9.9998e-01],\n",
              "         ...,\n",
              "         [1.8404e-03, 9.9816e-01],\n",
              "         [8.4865e-01, 1.5135e-01],\n",
              "         [4.4781e-01, 5.5219e-01]],\n",
              "\n",
              "        [[2.0645e-01, 7.9355e-01],\n",
              "         [9.9997e-01, 3.3482e-05],\n",
              "         [3.0659e-05, 9.9997e-01],\n",
              "         ...,\n",
              "         [8.1274e-04, 9.9919e-01],\n",
              "         [9.9973e-01, 2.6791e-04],\n",
              "         [9.6655e-01, 3.3451e-02]]])"
            ]
          },
          "metadata": {},
          "execution_count": 130
        }
      ]
    },
    {
      "cell_type": "code",
      "source": [
        "torch.stack(learns).mean(0)"
      ],
      "metadata": {
        "id": "dL0MLifRpg8j",
        "colab": {
          "base_uri": "https://localhost:8080/"
        },
        "outputId": "bf1fb063-f505-40b6-b8e4-c49b5788e7d0"
      },
      "execution_count": null,
      "outputs": [
        {
          "output_type": "execute_result",
          "data": {
            "text/plain": [
              "tensor([[6.8893e-02, 9.3111e-01],\n",
              "        [9.9964e-01, 3.5591e-04],\n",
              "        [3.2491e-05, 9.9997e-01],\n",
              "        ...,\n",
              "        [7.2756e-04, 9.9927e-01],\n",
              "        [4.0871e-01, 5.9129e-01],\n",
              "        [3.6074e-01, 6.3926e-01]])"
            ]
          },
          "metadata": {},
          "execution_count": 131
        }
      ]
    },
    {
      "cell_type": "code",
      "source": [
        "ens_preds = torch.stack(learns).mean(0)"
      ],
      "metadata": {
        "id": "e-rEIDXApg19"
      },
      "execution_count": null,
      "outputs": []
    },
    {
      "cell_type": "code",
      "source": [
        "ens_preds"
      ],
      "metadata": {
        "id": "fjfn391Tpgpj",
        "colab": {
          "base_uri": "https://localhost:8080/"
        },
        "outputId": "37848c45-b77a-4c97-d507-4b5e931fff48"
      },
      "execution_count": null,
      "outputs": [
        {
          "output_type": "execute_result",
          "data": {
            "text/plain": [
              "tensor([[6.8893e-02, 9.3111e-01],\n",
              "        [9.9964e-01, 3.5591e-04],\n",
              "        [3.2491e-05, 9.9997e-01],\n",
              "        ...,\n",
              "        [7.2756e-04, 9.9927e-01],\n",
              "        [4.0871e-01, 5.9129e-01],\n",
              "        [3.6074e-01, 6.3926e-01]])"
            ]
          },
          "metadata": {},
          "execution_count": 133
        }
      ]
    },
    {
      "cell_type": "markdown",
      "source": [
        "## submit 2"
      ],
      "metadata": {
        "id": "r3-w2JEuuK9t"
      }
    },
    {
      "cell_type": "code",
      "source": [
        "tst_df['Transported'] = (ens_preds[:,1]>0.5)\n",
        "sub_df = tst_df[['PassengerId', 'Transported']]\n",
        "sub_df.to_csv('sub3.csv', index=False)"
      ],
      "metadata": {
        "id": "tAQY-4bJuJ4k"
      },
      "execution_count": null,
      "outputs": []
    },
    {
      "cell_type": "code",
      "source": [
        "!head sub3.csv"
      ],
      "metadata": {
        "colab": {
          "base_uri": "https://localhost:8080/"
        },
        "id": "r-ybCWkVV5Oa",
        "outputId": "da876b07-ede3-417f-8228-426eeab3fefa"
      },
      "execution_count": null,
      "outputs": [
        {
          "output_type": "stream",
          "name": "stdout",
          "text": [
            "PassengerId,Transported\n",
            "0013_01,True\n",
            "0018_01,False\n",
            "0019_01,True\n",
            "0021_01,True\n",
            "0023_01,False\n",
            "0027_01,False\n",
            "0029_01,True\n",
            "0032_01,True\n",
            "0032_02,True\n"
          ]
        }
      ]
    },
    {
      "cell_type": "code",
      "source": [
        "if not iskaggle:\n",
        "    from kaggle import api\n",
        "    api.competition_submit_cli('sub3.csv', 'Ensemble model', comp)"
      ],
      "metadata": {
        "colab": {
          "base_uri": "https://localhost:8080/"
        },
        "id": "UIUip_y2WCvJ",
        "outputId": "2ea569a2-f2e2-4a1d-dddb-469eb113c4bb"
      },
      "execution_count": null,
      "outputs": [
        {
          "output_type": "stream",
          "name": "stderr",
          "text": [
            "100%|██████████| 56.8k/56.8k [00:04<00:00, 13.4kB/s]\n"
          ]
        }
      ]
    },
    {
      "cell_type": "code",
      "source": [],
      "metadata": {
        "id": "7mfjtWwMWNmt"
      },
      "execution_count": null,
      "outputs": []
    },
    {
      "cell_type": "markdown",
      "source": [
        "# model 3\n",
        "**Random Forest**"
      ],
      "metadata": {
        "id": "IRLXiRs5Wvhw"
      }
    },
    {
      "cell_type": "code",
      "source": [
        "from sklearn.ensemble import RandomForestClassifier"
      ],
      "metadata": {
        "id": "MUn6LUjEW0UI"
      },
      "execution_count": 84,
      "outputs": []
    },
    {
      "cell_type": "code",
      "source": [
        "from sklearn.metrics import accuracy_score"
      ],
      "metadata": {
        "id": "jHvmYIQqXQYI"
      },
      "execution_count": 85,
      "outputs": []
    },
    {
      "cell_type": "markdown",
      "source": [
        "**train test split**"
      ],
      "metadata": {
        "id": "gw_vVCJGabCR"
      }
    },
    {
      "cell_type": "code",
      "source": [
        "xs,y = to.train.xs,to.train.y\n",
        "valid_xs,valid_y = to.valid.xs,to.valid.y"
      ],
      "metadata": {
        "id": "W4KjMO0rXQRH"
      },
      "execution_count": 86,
      "outputs": []
    },
    {
      "cell_type": "code",
      "source": [
        "xs.shape,y.shape "
      ],
      "metadata": {
        "colab": {
          "base_uri": "https://localhost:8080/"
        },
        "id": "9PoAUyq47WhI",
        "outputId": "9dbb7491-9d9c-4468-e094-ccc4ce5f5eea"
      },
      "execution_count": 87,
      "outputs": [
        {
          "output_type": "execute_result",
          "data": {
            "text/plain": [
              "((6955, 24), (6955,))"
            ]
          },
          "metadata": {},
          "execution_count": 87
        }
      ]
    },
    {
      "cell_type": "code",
      "source": [
        "valid_xs.shape,valid_y.shape"
      ],
      "metadata": {
        "colab": {
          "base_uri": "https://localhost:8080/"
        },
        "id": "J4ubSMzZ7bU0",
        "outputId": "c6558ebb-f0c4-4e85-abb5-aea138e9a7e4"
      },
      "execution_count": 88,
      "outputs": [
        {
          "output_type": "execute_result",
          "data": {
            "text/plain": [
              "((1738, 24), (1738,))"
            ]
          },
          "metadata": {},
          "execution_count": 88
        }
      ]
    },
    {
      "cell_type": "markdown",
      "source": [
        "**RandomForestClassifier Function**"
      ],
      "metadata": {
        "id": "gx23e1uNZZ8p"
      }
    },
    {
      "cell_type": "code",
      "source": [
        "def rfc(xs, y, n_estimators=100, min_samples_leaf=4, **kwargs):\n",
        "  return RandomForestClassifier(n_estimators=n_estimators, min_samples_leaf=min_samples_leaf).fit(xs, y)"
      ],
      "metadata": {
        "id": "3PNP9Tp2XQJI"
      },
      "execution_count": 89,
      "outputs": []
    },
    {
      "cell_type": "code",
      "source": [
        "def acc(m, valid_xs, valid_y):\n",
        "  return accuracy_score(valid_y, m.predict(valid_xs))"
      ],
      "metadata": {
        "id": "EBCHwrDQYTfR"
      },
      "execution_count": 90,
      "outputs": []
    },
    {
      "cell_type": "code",
      "source": [
        "rfc_model = rfc(xs, y, n_estimators=100, min_samples_leaf=5)"
      ],
      "metadata": {
        "id": "2HpORp56X4uH"
      },
      "execution_count": 91,
      "outputs": []
    },
    {
      "cell_type": "code",
      "source": [
        "accuracy = acc(rfc_model, valid_xs, valid_y)\n",
        "accuracy"
      ],
      "metadata": {
        "colab": {
          "base_uri": "https://localhost:8080/"
        },
        "id": "vvEqdFhlX4mq",
        "outputId": "81f13c0d-bf06-4f63-d8cc-4c93bfc8a6f6"
      },
      "execution_count": 92,
      "outputs": [
        {
          "output_type": "execute_result",
          "data": {
            "text/plain": [
              "0.7986191024165707"
            ]
          },
          "metadata": {},
          "execution_count": 92
        }
      ]
    },
    {
      "cell_type": "markdown",
      "source": [
        "# NB: Make Predictions from Random Forest"
      ],
      "metadata": {
        "id": "Q8Cy_cXXdrQx"
      }
    },
    {
      "cell_type": "markdown",
      "source": [
        "```python\n",
        "rf_preds = m.predict(valid_xs_time)\n",
        "```"
      ],
      "metadata": {
        "id": "6bFQ5tg9ePFU"
      }
    },
    {
      "cell_type": "code",
      "source": [
        "tst_df.head(3)"
      ],
      "metadata": {
        "colab": {
          "base_uri": "https://localhost:8080/",
          "height": 260
        },
        "id": "pX3W9YS4IwVD",
        "outputId": "0dd2411d-0d20-48ed-c594-1828ac860cb8"
      },
      "execution_count": 38,
      "outputs": [
        {
          "output_type": "execute_result",
          "data": {
            "text/plain": [
              "  PassengerId HomePlanet CryoSleep  Cabin  Destination   Age    VIP  \\\n",
              "0     0013_01      Earth      True  G/3/S  TRAPPIST-1e  27.0  False   \n",
              "1     0018_01      Earth     False  F/4/S  TRAPPIST-1e  19.0  False   \n",
              "2     0019_01     Europa      True  C/0/S  55 Cancri e  31.0  False   \n",
              "\n",
              "   RoomService  FoodCourt  ShoppingMall     Spa  VRDeck             Name  \\\n",
              "0          0.0        0.0           0.0     0.0     0.0  Nelly Carsoning   \n",
              "1          0.0        9.0           0.0  2823.0     0.0   Lerome Peckers   \n",
              "2          0.0        0.0           0.0     0.0     0.0  Sabih Unhearfus   \n",
              "\n",
              "  Passenger_Gp Passenger_Gp_Nb Cabin_Deck Cabin_Num Cabin_Side  \n",
              "0         0013              01          G         3          S  \n",
              "1         0018              01          F         4          S  \n",
              "2         0019              01          C         0          S  "
            ],
            "text/html": [
              "\n",
              "  <div id=\"df-393143bd-a198-428b-94f6-502ede750201\">\n",
              "    <div class=\"colab-df-container\">\n",
              "      <div>\n",
              "<style scoped>\n",
              "    .dataframe tbody tr th:only-of-type {\n",
              "        vertical-align: middle;\n",
              "    }\n",
              "\n",
              "    .dataframe tbody tr th {\n",
              "        vertical-align: top;\n",
              "    }\n",
              "\n",
              "    .dataframe thead th {\n",
              "        text-align: right;\n",
              "    }\n",
              "</style>\n",
              "<table border=\"1\" class=\"dataframe\">\n",
              "  <thead>\n",
              "    <tr style=\"text-align: right;\">\n",
              "      <th></th>\n",
              "      <th>PassengerId</th>\n",
              "      <th>HomePlanet</th>\n",
              "      <th>CryoSleep</th>\n",
              "      <th>Cabin</th>\n",
              "      <th>Destination</th>\n",
              "      <th>Age</th>\n",
              "      <th>VIP</th>\n",
              "      <th>RoomService</th>\n",
              "      <th>FoodCourt</th>\n",
              "      <th>ShoppingMall</th>\n",
              "      <th>Spa</th>\n",
              "      <th>VRDeck</th>\n",
              "      <th>Name</th>\n",
              "      <th>Passenger_Gp</th>\n",
              "      <th>Passenger_Gp_Nb</th>\n",
              "      <th>Cabin_Deck</th>\n",
              "      <th>Cabin_Num</th>\n",
              "      <th>Cabin_Side</th>\n",
              "    </tr>\n",
              "  </thead>\n",
              "  <tbody>\n",
              "    <tr>\n",
              "      <th>0</th>\n",
              "      <td>0013_01</td>\n",
              "      <td>Earth</td>\n",
              "      <td>True</td>\n",
              "      <td>G/3/S</td>\n",
              "      <td>TRAPPIST-1e</td>\n",
              "      <td>27.0</td>\n",
              "      <td>False</td>\n",
              "      <td>0.0</td>\n",
              "      <td>0.0</td>\n",
              "      <td>0.0</td>\n",
              "      <td>0.0</td>\n",
              "      <td>0.0</td>\n",
              "      <td>Nelly Carsoning</td>\n",
              "      <td>0013</td>\n",
              "      <td>01</td>\n",
              "      <td>G</td>\n",
              "      <td>3</td>\n",
              "      <td>S</td>\n",
              "    </tr>\n",
              "    <tr>\n",
              "      <th>1</th>\n",
              "      <td>0018_01</td>\n",
              "      <td>Earth</td>\n",
              "      <td>False</td>\n",
              "      <td>F/4/S</td>\n",
              "      <td>TRAPPIST-1e</td>\n",
              "      <td>19.0</td>\n",
              "      <td>False</td>\n",
              "      <td>0.0</td>\n",
              "      <td>9.0</td>\n",
              "      <td>0.0</td>\n",
              "      <td>2823.0</td>\n",
              "      <td>0.0</td>\n",
              "      <td>Lerome Peckers</td>\n",
              "      <td>0018</td>\n",
              "      <td>01</td>\n",
              "      <td>F</td>\n",
              "      <td>4</td>\n",
              "      <td>S</td>\n",
              "    </tr>\n",
              "    <tr>\n",
              "      <th>2</th>\n",
              "      <td>0019_01</td>\n",
              "      <td>Europa</td>\n",
              "      <td>True</td>\n",
              "      <td>C/0/S</td>\n",
              "      <td>55 Cancri e</td>\n",
              "      <td>31.0</td>\n",
              "      <td>False</td>\n",
              "      <td>0.0</td>\n",
              "      <td>0.0</td>\n",
              "      <td>0.0</td>\n",
              "      <td>0.0</td>\n",
              "      <td>0.0</td>\n",
              "      <td>Sabih Unhearfus</td>\n",
              "      <td>0019</td>\n",
              "      <td>01</td>\n",
              "      <td>C</td>\n",
              "      <td>0</td>\n",
              "      <td>S</td>\n",
              "    </tr>\n",
              "  </tbody>\n",
              "</table>\n",
              "</div>\n",
              "      <button class=\"colab-df-convert\" onclick=\"convertToInteractive('df-393143bd-a198-428b-94f6-502ede750201')\"\n",
              "              title=\"Convert this dataframe to an interactive table.\"\n",
              "              style=\"display:none;\">\n",
              "        \n",
              "  <svg xmlns=\"http://www.w3.org/2000/svg\" height=\"24px\"viewBox=\"0 0 24 24\"\n",
              "       width=\"24px\">\n",
              "    <path d=\"M0 0h24v24H0V0z\" fill=\"none\"/>\n",
              "    <path d=\"M18.56 5.44l.94 2.06.94-2.06 2.06-.94-2.06-.94-.94-2.06-.94 2.06-2.06.94zm-11 1L8.5 8.5l.94-2.06 2.06-.94-2.06-.94L8.5 2.5l-.94 2.06-2.06.94zm10 10l.94 2.06.94-2.06 2.06-.94-2.06-.94-.94-2.06-.94 2.06-2.06.94z\"/><path d=\"M17.41 7.96l-1.37-1.37c-.4-.4-.92-.59-1.43-.59-.52 0-1.04.2-1.43.59L10.3 9.45l-7.72 7.72c-.78.78-.78 2.05 0 2.83L4 21.41c.39.39.9.59 1.41.59.51 0 1.02-.2 1.41-.59l7.78-7.78 2.81-2.81c.8-.78.8-2.07 0-2.86zM5.41 20L4 18.59l7.72-7.72 1.47 1.35L5.41 20z\"/>\n",
              "  </svg>\n",
              "      </button>\n",
              "      \n",
              "  <style>\n",
              "    .colab-df-container {\n",
              "      display:flex;\n",
              "      flex-wrap:wrap;\n",
              "      gap: 12px;\n",
              "    }\n",
              "\n",
              "    .colab-df-convert {\n",
              "      background-color: #E8F0FE;\n",
              "      border: none;\n",
              "      border-radius: 50%;\n",
              "      cursor: pointer;\n",
              "      display: none;\n",
              "      fill: #1967D2;\n",
              "      height: 32px;\n",
              "      padding: 0 0 0 0;\n",
              "      width: 32px;\n",
              "    }\n",
              "\n",
              "    .colab-df-convert:hover {\n",
              "      background-color: #E2EBFA;\n",
              "      box-shadow: 0px 1px 2px rgba(60, 64, 67, 0.3), 0px 1px 3px 1px rgba(60, 64, 67, 0.15);\n",
              "      fill: #174EA6;\n",
              "    }\n",
              "\n",
              "    [theme=dark] .colab-df-convert {\n",
              "      background-color: #3B4455;\n",
              "      fill: #D2E3FC;\n",
              "    }\n",
              "\n",
              "    [theme=dark] .colab-df-convert:hover {\n",
              "      background-color: #434B5C;\n",
              "      box-shadow: 0px 1px 3px 1px rgba(0, 0, 0, 0.15);\n",
              "      filter: drop-shadow(0px 1px 2px rgba(0, 0, 0, 0.3));\n",
              "      fill: #FFFFFF;\n",
              "    }\n",
              "  </style>\n",
              "\n",
              "      <script>\n",
              "        const buttonEl =\n",
              "          document.querySelector('#df-393143bd-a198-428b-94f6-502ede750201 button.colab-df-convert');\n",
              "        buttonEl.style.display =\n",
              "          google.colab.kernel.accessAllowed ? 'block' : 'none';\n",
              "\n",
              "        async function convertToInteractive(key) {\n",
              "          const element = document.querySelector('#df-393143bd-a198-428b-94f6-502ede750201');\n",
              "          const dataTable =\n",
              "            await google.colab.kernel.invokeFunction('convertToInteractive',\n",
              "                                                     [key], {});\n",
              "          if (!dataTable) return;\n",
              "\n",
              "          const docLinkHtml = 'Like what you see? Visit the ' +\n",
              "            '<a target=\"_blank\" href=https://colab.research.google.com/notebooks/data_table.ipynb>data table notebook</a>'\n",
              "            + ' to learn more about interactive tables.';\n",
              "          element.innerHTML = '';\n",
              "          dataTable['output_type'] = 'display_data';\n",
              "          await google.colab.output.renderOutput(dataTable, element);\n",
              "          const docLink = document.createElement('div');\n",
              "          docLink.innerHTML = docLinkHtml;\n",
              "          element.appendChild(docLink);\n",
              "        }\n",
              "      </script>\n",
              "    </div>\n",
              "  </div>\n",
              "  "
            ]
          },
          "metadata": {},
          "execution_count": 38
        }
      ]
    },
    {
      "cell_type": "markdown",
      "source": [
        "test TabulaPandas obj"
      ],
      "metadata": {
        "id": "pRsZwameI_nM"
      }
    },
    {
      "cell_type": "code",
      "source": [
        "test_to = TabularPandas(tst_df, procs=procs, cat_names=cat_names, cont_names=cont_names)"
      ],
      "metadata": {
        "id": "L0a0YdomIwQV"
      },
      "execution_count": 94,
      "outputs": []
    },
    {
      "cell_type": "code",
      "source": [
        "test_to.show(3)"
      ],
      "metadata": {
        "colab": {
          "base_uri": "https://localhost:8080/",
          "height": 216
        },
        "id": "iVsstuAmIwKx",
        "outputId": "bbc53d38-5793-4dc2-c89b-da96332e121f"
      },
      "execution_count": 95,
      "outputs": [
        {
          "output_type": "display_data",
          "data": {
            "text/plain": [
              "<IPython.core.display.HTML object>"
            ],
            "text/html": [
              "<table border=\"1\" class=\"dataframe\">\n",
              "  <thead>\n",
              "    <tr style=\"text-align: right;\">\n",
              "      <th></th>\n",
              "      <th>PassengerId</th>\n",
              "      <th>HomePlanet</th>\n",
              "      <th>CryoSleep</th>\n",
              "      <th>Cabin</th>\n",
              "      <th>Destination</th>\n",
              "      <th>VIP</th>\n",
              "      <th>Name</th>\n",
              "      <th>Passenger_Gp</th>\n",
              "      <th>Passenger_Gp_Nb</th>\n",
              "      <th>Cabin_Deck</th>\n",
              "      <th>Cabin_Num</th>\n",
              "      <th>Cabin_Side</th>\n",
              "      <th>Age_na</th>\n",
              "      <th>RoomService_na</th>\n",
              "      <th>FoodCourt_na</th>\n",
              "      <th>ShoppingMall_na</th>\n",
              "      <th>Spa_na</th>\n",
              "      <th>VRDeck_na</th>\n",
              "      <th>Age</th>\n",
              "      <th>RoomService</th>\n",
              "      <th>FoodCourt</th>\n",
              "      <th>ShoppingMall</th>\n",
              "      <th>Spa</th>\n",
              "      <th>VRDeck</th>\n",
              "    </tr>\n",
              "  </thead>\n",
              "  <tbody>\n",
              "    <tr>\n",
              "      <th>0</th>\n",
              "      <td>0013_01</td>\n",
              "      <td>Earth</td>\n",
              "      <td>True</td>\n",
              "      <td>G/3/S</td>\n",
              "      <td>TRAPPIST-1e</td>\n",
              "      <td>False</td>\n",
              "      <td>Nelly Carsoning</td>\n",
              "      <td>0013</td>\n",
              "      <td>01</td>\n",
              "      <td>G</td>\n",
              "      <td>3</td>\n",
              "      <td>S</td>\n",
              "      <td>False</td>\n",
              "      <td>False</td>\n",
              "      <td>False</td>\n",
              "      <td>False</td>\n",
              "      <td>False</td>\n",
              "      <td>False</td>\n",
              "      <td>27.0</td>\n",
              "      <td>0.0</td>\n",
              "      <td>0.0</td>\n",
              "      <td>0.0</td>\n",
              "      <td>0.0</td>\n",
              "      <td>0.0</td>\n",
              "    </tr>\n",
              "    <tr>\n",
              "      <th>1</th>\n",
              "      <td>0018_01</td>\n",
              "      <td>Earth</td>\n",
              "      <td>False</td>\n",
              "      <td>F/4/S</td>\n",
              "      <td>TRAPPIST-1e</td>\n",
              "      <td>False</td>\n",
              "      <td>Lerome Peckers</td>\n",
              "      <td>0018</td>\n",
              "      <td>01</td>\n",
              "      <td>F</td>\n",
              "      <td>4</td>\n",
              "      <td>S</td>\n",
              "      <td>False</td>\n",
              "      <td>False</td>\n",
              "      <td>False</td>\n",
              "      <td>False</td>\n",
              "      <td>False</td>\n",
              "      <td>False</td>\n",
              "      <td>19.0</td>\n",
              "      <td>0.0</td>\n",
              "      <td>9.0</td>\n",
              "      <td>0.0</td>\n",
              "      <td>2823.0</td>\n",
              "      <td>0.0</td>\n",
              "    </tr>\n",
              "    <tr>\n",
              "      <th>2</th>\n",
              "      <td>0019_01</td>\n",
              "      <td>Europa</td>\n",
              "      <td>True</td>\n",
              "      <td>C/0/S</td>\n",
              "      <td>55 Cancri e</td>\n",
              "      <td>False</td>\n",
              "      <td>Sabih Unhearfus</td>\n",
              "      <td>0019</td>\n",
              "      <td>01</td>\n",
              "      <td>C</td>\n",
              "      <td>0</td>\n",
              "      <td>S</td>\n",
              "      <td>False</td>\n",
              "      <td>False</td>\n",
              "      <td>False</td>\n",
              "      <td>False</td>\n",
              "      <td>False</td>\n",
              "      <td>False</td>\n",
              "      <td>31.0</td>\n",
              "      <td>0.0</td>\n",
              "      <td>0.0</td>\n",
              "      <td>0.0</td>\n",
              "      <td>0.0</td>\n",
              "      <td>0.0</td>\n",
              "    </tr>\n",
              "  </tbody>\n",
              "</table>"
            ]
          },
          "metadata": {}
        }
      ]
    },
    {
      "cell_type": "code",
      "source": [
        "test_to.xs[:3]"
      ],
      "metadata": {
        "colab": {
          "base_uri": "https://localhost:8080/",
          "height": 237
        },
        "id": "wE9fk4WaIwFr",
        "outputId": "c13d4292-c490-4c8e-939b-4066282e562d"
      },
      "execution_count": 96,
      "outputs": [
        {
          "output_type": "execute_result",
          "data": {
            "text/plain": [
              "   PassengerId  HomePlanet  CryoSleep  Cabin  Destination  VIP  Name  \\\n",
              "0            1           1          2   2785            3    1  2913   \n",
              "1            2           1          1   1868            3    1  2407   \n",
              "2            3           2          2    258            1    1  3377   \n",
              "\n",
              "   Passenger_Gp  Passenger_Gp_Nb  Cabin_Deck  ...  FoodCourt_na  \\\n",
              "0             1                1           7  ...             1   \n",
              "1             2                1           6  ...             1   \n",
              "2             3                1           3  ...             1   \n",
              "\n",
              "   ShoppingMall_na  Spa_na  VRDeck_na       Age  RoomService  FoodCourt  \\\n",
              "0                1       1          1 -0.114147    -0.357339  -0.283840   \n",
              "1                1       1          1 -0.684313    -0.357339  -0.277879   \n",
              "2                1       1          1  0.170937    -0.357339  -0.283840   \n",
              "\n",
              "   ShoppingMall       Spa    VRDeck  \n",
              "0     -0.312173 -0.267841 -0.246712  \n",
              "1     -0.312173  2.287504 -0.246712  \n",
              "2     -0.312173 -0.267841 -0.246712  \n",
              "\n",
              "[3 rows x 24 columns]"
            ],
            "text/html": [
              "\n",
              "  <div id=\"df-56bb205b-efef-4fd2-b9f7-004e44d9f3ba\">\n",
              "    <div class=\"colab-df-container\">\n",
              "      <div>\n",
              "<style scoped>\n",
              "    .dataframe tbody tr th:only-of-type {\n",
              "        vertical-align: middle;\n",
              "    }\n",
              "\n",
              "    .dataframe tbody tr th {\n",
              "        vertical-align: top;\n",
              "    }\n",
              "\n",
              "    .dataframe thead th {\n",
              "        text-align: right;\n",
              "    }\n",
              "</style>\n",
              "<table border=\"1\" class=\"dataframe\">\n",
              "  <thead>\n",
              "    <tr style=\"text-align: right;\">\n",
              "      <th></th>\n",
              "      <th>PassengerId</th>\n",
              "      <th>HomePlanet</th>\n",
              "      <th>CryoSleep</th>\n",
              "      <th>Cabin</th>\n",
              "      <th>Destination</th>\n",
              "      <th>VIP</th>\n",
              "      <th>Name</th>\n",
              "      <th>Passenger_Gp</th>\n",
              "      <th>Passenger_Gp_Nb</th>\n",
              "      <th>Cabin_Deck</th>\n",
              "      <th>...</th>\n",
              "      <th>FoodCourt_na</th>\n",
              "      <th>ShoppingMall_na</th>\n",
              "      <th>Spa_na</th>\n",
              "      <th>VRDeck_na</th>\n",
              "      <th>Age</th>\n",
              "      <th>RoomService</th>\n",
              "      <th>FoodCourt</th>\n",
              "      <th>ShoppingMall</th>\n",
              "      <th>Spa</th>\n",
              "      <th>VRDeck</th>\n",
              "    </tr>\n",
              "  </thead>\n",
              "  <tbody>\n",
              "    <tr>\n",
              "      <th>0</th>\n",
              "      <td>1</td>\n",
              "      <td>1</td>\n",
              "      <td>2</td>\n",
              "      <td>2785</td>\n",
              "      <td>3</td>\n",
              "      <td>1</td>\n",
              "      <td>2913</td>\n",
              "      <td>1</td>\n",
              "      <td>1</td>\n",
              "      <td>7</td>\n",
              "      <td>...</td>\n",
              "      <td>1</td>\n",
              "      <td>1</td>\n",
              "      <td>1</td>\n",
              "      <td>1</td>\n",
              "      <td>-0.114147</td>\n",
              "      <td>-0.357339</td>\n",
              "      <td>-0.283840</td>\n",
              "      <td>-0.312173</td>\n",
              "      <td>-0.267841</td>\n",
              "      <td>-0.246712</td>\n",
              "    </tr>\n",
              "    <tr>\n",
              "      <th>1</th>\n",
              "      <td>2</td>\n",
              "      <td>1</td>\n",
              "      <td>1</td>\n",
              "      <td>1868</td>\n",
              "      <td>3</td>\n",
              "      <td>1</td>\n",
              "      <td>2407</td>\n",
              "      <td>2</td>\n",
              "      <td>1</td>\n",
              "      <td>6</td>\n",
              "      <td>...</td>\n",
              "      <td>1</td>\n",
              "      <td>1</td>\n",
              "      <td>1</td>\n",
              "      <td>1</td>\n",
              "      <td>-0.684313</td>\n",
              "      <td>-0.357339</td>\n",
              "      <td>-0.277879</td>\n",
              "      <td>-0.312173</td>\n",
              "      <td>2.287504</td>\n",
              "      <td>-0.246712</td>\n",
              "    </tr>\n",
              "    <tr>\n",
              "      <th>2</th>\n",
              "      <td>3</td>\n",
              "      <td>2</td>\n",
              "      <td>2</td>\n",
              "      <td>258</td>\n",
              "      <td>1</td>\n",
              "      <td>1</td>\n",
              "      <td>3377</td>\n",
              "      <td>3</td>\n",
              "      <td>1</td>\n",
              "      <td>3</td>\n",
              "      <td>...</td>\n",
              "      <td>1</td>\n",
              "      <td>1</td>\n",
              "      <td>1</td>\n",
              "      <td>1</td>\n",
              "      <td>0.170937</td>\n",
              "      <td>-0.357339</td>\n",
              "      <td>-0.283840</td>\n",
              "      <td>-0.312173</td>\n",
              "      <td>-0.267841</td>\n",
              "      <td>-0.246712</td>\n",
              "    </tr>\n",
              "  </tbody>\n",
              "</table>\n",
              "<p>3 rows × 24 columns</p>\n",
              "</div>\n",
              "      <button class=\"colab-df-convert\" onclick=\"convertToInteractive('df-56bb205b-efef-4fd2-b9f7-004e44d9f3ba')\"\n",
              "              title=\"Convert this dataframe to an interactive table.\"\n",
              "              style=\"display:none;\">\n",
              "        \n",
              "  <svg xmlns=\"http://www.w3.org/2000/svg\" height=\"24px\"viewBox=\"0 0 24 24\"\n",
              "       width=\"24px\">\n",
              "    <path d=\"M0 0h24v24H0V0z\" fill=\"none\"/>\n",
              "    <path d=\"M18.56 5.44l.94 2.06.94-2.06 2.06-.94-2.06-.94-.94-2.06-.94 2.06-2.06.94zm-11 1L8.5 8.5l.94-2.06 2.06-.94-2.06-.94L8.5 2.5l-.94 2.06-2.06.94zm10 10l.94 2.06.94-2.06 2.06-.94-2.06-.94-.94-2.06-.94 2.06-2.06.94z\"/><path d=\"M17.41 7.96l-1.37-1.37c-.4-.4-.92-.59-1.43-.59-.52 0-1.04.2-1.43.59L10.3 9.45l-7.72 7.72c-.78.78-.78 2.05 0 2.83L4 21.41c.39.39.9.59 1.41.59.51 0 1.02-.2 1.41-.59l7.78-7.78 2.81-2.81c.8-.78.8-2.07 0-2.86zM5.41 20L4 18.59l7.72-7.72 1.47 1.35L5.41 20z\"/>\n",
              "  </svg>\n",
              "      </button>\n",
              "      \n",
              "  <style>\n",
              "    .colab-df-container {\n",
              "      display:flex;\n",
              "      flex-wrap:wrap;\n",
              "      gap: 12px;\n",
              "    }\n",
              "\n",
              "    .colab-df-convert {\n",
              "      background-color: #E8F0FE;\n",
              "      border: none;\n",
              "      border-radius: 50%;\n",
              "      cursor: pointer;\n",
              "      display: none;\n",
              "      fill: #1967D2;\n",
              "      height: 32px;\n",
              "      padding: 0 0 0 0;\n",
              "      width: 32px;\n",
              "    }\n",
              "\n",
              "    .colab-df-convert:hover {\n",
              "      background-color: #E2EBFA;\n",
              "      box-shadow: 0px 1px 2px rgba(60, 64, 67, 0.3), 0px 1px 3px 1px rgba(60, 64, 67, 0.15);\n",
              "      fill: #174EA6;\n",
              "    }\n",
              "\n",
              "    [theme=dark] .colab-df-convert {\n",
              "      background-color: #3B4455;\n",
              "      fill: #D2E3FC;\n",
              "    }\n",
              "\n",
              "    [theme=dark] .colab-df-convert:hover {\n",
              "      background-color: #434B5C;\n",
              "      box-shadow: 0px 1px 3px 1px rgba(0, 0, 0, 0.15);\n",
              "      filter: drop-shadow(0px 1px 2px rgba(0, 0, 0, 0.3));\n",
              "      fill: #FFFFFF;\n",
              "    }\n",
              "  </style>\n",
              "\n",
              "      <script>\n",
              "        const buttonEl =\n",
              "          document.querySelector('#df-56bb205b-efef-4fd2-b9f7-004e44d9f3ba button.colab-df-convert');\n",
              "        buttonEl.style.display =\n",
              "          google.colab.kernel.accessAllowed ? 'block' : 'none';\n",
              "\n",
              "        async function convertToInteractive(key) {\n",
              "          const element = document.querySelector('#df-56bb205b-efef-4fd2-b9f7-004e44d9f3ba');\n",
              "          const dataTable =\n",
              "            await google.colab.kernel.invokeFunction('convertToInteractive',\n",
              "                                                     [key], {});\n",
              "          if (!dataTable) return;\n",
              "\n",
              "          const docLinkHtml = 'Like what you see? Visit the ' +\n",
              "            '<a target=\"_blank\" href=https://colab.research.google.com/notebooks/data_table.ipynb>data table notebook</a>'\n",
              "            + ' to learn more about interactive tables.';\n",
              "          element.innerHTML = '';\n",
              "          dataTable['output_type'] = 'display_data';\n",
              "          await google.colab.output.renderOutput(dataTable, element);\n",
              "          const docLink = document.createElement('div');\n",
              "          docLink.innerHTML = docLinkHtml;\n",
              "          element.appendChild(docLink);\n",
              "        }\n",
              "      </script>\n",
              "    </div>\n",
              "  </div>\n",
              "  "
            ]
          },
          "metadata": {},
          "execution_count": 96
        }
      ]
    },
    {
      "cell_type": "code",
      "source": [
        "valid_xs[:3]"
      ],
      "metadata": {
        "colab": {
          "base_uri": "https://localhost:8080/",
          "height": 237
        },
        "id": "uyV1-p75Jp7B",
        "outputId": "7458b96c-36f3-4255-d209-cd9d19af4863"
      },
      "execution_count": 97,
      "outputs": [
        {
          "output_type": "execute_result",
          "data": {
            "text/plain": [
              "      PassengerId  HomePlanet  CryoSleep  Cabin  Destination  VIP  Name  \\\n",
              "6585         6586           1          1   1938            1    1  5054   \n",
              "7020         7021           3          2   2975            3    1  6383   \n",
              "3039         3040           1          1   5838            2    1  4281   \n",
              "\n",
              "      Passenger_Gp  Passenger_Gp_Nb  Cabin_Deck  ...  FoodCourt_na  \\\n",
              "6585          4677                1           5  ...             1   \n",
              "7020          5024                1           6  ...             1   \n",
              "3039          2201                1           7  ...             1   \n",
              "\n",
              "      ShoppingMall_na  Spa_na  VRDeck_na       Age  RoomService  FoodCourt  \\\n",
              "6585                1       1          1 -0.265485    -0.327109  -0.276454   \n",
              "7020                1       1          1  0.986393    -0.327109  -0.284032   \n",
              "3039                1       1          1 -1.865107    -0.327109  -0.284032   \n",
              "\n",
              "      ShoppingMall       Spa    VRDeck  \n",
              "6585      1.162162 -0.251768 -0.169989  \n",
              "7020     -0.280746 -0.267988 -0.263122  \n",
              "3039     -0.280746 -0.267988 -0.263122  \n",
              "\n",
              "[3 rows x 24 columns]"
            ],
            "text/html": [
              "\n",
              "  <div id=\"df-f0eb0743-1543-4edf-8de0-48c85efa5cda\">\n",
              "    <div class=\"colab-df-container\">\n",
              "      <div>\n",
              "<style scoped>\n",
              "    .dataframe tbody tr th:only-of-type {\n",
              "        vertical-align: middle;\n",
              "    }\n",
              "\n",
              "    .dataframe tbody tr th {\n",
              "        vertical-align: top;\n",
              "    }\n",
              "\n",
              "    .dataframe thead th {\n",
              "        text-align: right;\n",
              "    }\n",
              "</style>\n",
              "<table border=\"1\" class=\"dataframe\">\n",
              "  <thead>\n",
              "    <tr style=\"text-align: right;\">\n",
              "      <th></th>\n",
              "      <th>PassengerId</th>\n",
              "      <th>HomePlanet</th>\n",
              "      <th>CryoSleep</th>\n",
              "      <th>Cabin</th>\n",
              "      <th>Destination</th>\n",
              "      <th>VIP</th>\n",
              "      <th>Name</th>\n",
              "      <th>Passenger_Gp</th>\n",
              "      <th>Passenger_Gp_Nb</th>\n",
              "      <th>Cabin_Deck</th>\n",
              "      <th>...</th>\n",
              "      <th>FoodCourt_na</th>\n",
              "      <th>ShoppingMall_na</th>\n",
              "      <th>Spa_na</th>\n",
              "      <th>VRDeck_na</th>\n",
              "      <th>Age</th>\n",
              "      <th>RoomService</th>\n",
              "      <th>FoodCourt</th>\n",
              "      <th>ShoppingMall</th>\n",
              "      <th>Spa</th>\n",
              "      <th>VRDeck</th>\n",
              "    </tr>\n",
              "  </thead>\n",
              "  <tbody>\n",
              "    <tr>\n",
              "      <th>6585</th>\n",
              "      <td>6586</td>\n",
              "      <td>1</td>\n",
              "      <td>1</td>\n",
              "      <td>1938</td>\n",
              "      <td>1</td>\n",
              "      <td>1</td>\n",
              "      <td>5054</td>\n",
              "      <td>4677</td>\n",
              "      <td>1</td>\n",
              "      <td>5</td>\n",
              "      <td>...</td>\n",
              "      <td>1</td>\n",
              "      <td>1</td>\n",
              "      <td>1</td>\n",
              "      <td>1</td>\n",
              "      <td>-0.265485</td>\n",
              "      <td>-0.327109</td>\n",
              "      <td>-0.276454</td>\n",
              "      <td>1.162162</td>\n",
              "      <td>-0.251768</td>\n",
              "      <td>-0.169989</td>\n",
              "    </tr>\n",
              "    <tr>\n",
              "      <th>7020</th>\n",
              "      <td>7021</td>\n",
              "      <td>3</td>\n",
              "      <td>2</td>\n",
              "      <td>2975</td>\n",
              "      <td>3</td>\n",
              "      <td>1</td>\n",
              "      <td>6383</td>\n",
              "      <td>5024</td>\n",
              "      <td>1</td>\n",
              "      <td>6</td>\n",
              "      <td>...</td>\n",
              "      <td>1</td>\n",
              "      <td>1</td>\n",
              "      <td>1</td>\n",
              "      <td>1</td>\n",
              "      <td>0.986393</td>\n",
              "      <td>-0.327109</td>\n",
              "      <td>-0.284032</td>\n",
              "      <td>-0.280746</td>\n",
              "      <td>-0.267988</td>\n",
              "      <td>-0.263122</td>\n",
              "    </tr>\n",
              "    <tr>\n",
              "      <th>3039</th>\n",
              "      <td>3040</td>\n",
              "      <td>1</td>\n",
              "      <td>1</td>\n",
              "      <td>5838</td>\n",
              "      <td>2</td>\n",
              "      <td>1</td>\n",
              "      <td>4281</td>\n",
              "      <td>2201</td>\n",
              "      <td>1</td>\n",
              "      <td>7</td>\n",
              "      <td>...</td>\n",
              "      <td>1</td>\n",
              "      <td>1</td>\n",
              "      <td>1</td>\n",
              "      <td>1</td>\n",
              "      <td>-1.865107</td>\n",
              "      <td>-0.327109</td>\n",
              "      <td>-0.284032</td>\n",
              "      <td>-0.280746</td>\n",
              "      <td>-0.267988</td>\n",
              "      <td>-0.263122</td>\n",
              "    </tr>\n",
              "  </tbody>\n",
              "</table>\n",
              "<p>3 rows × 24 columns</p>\n",
              "</div>\n",
              "      <button class=\"colab-df-convert\" onclick=\"convertToInteractive('df-f0eb0743-1543-4edf-8de0-48c85efa5cda')\"\n",
              "              title=\"Convert this dataframe to an interactive table.\"\n",
              "              style=\"display:none;\">\n",
              "        \n",
              "  <svg xmlns=\"http://www.w3.org/2000/svg\" height=\"24px\"viewBox=\"0 0 24 24\"\n",
              "       width=\"24px\">\n",
              "    <path d=\"M0 0h24v24H0V0z\" fill=\"none\"/>\n",
              "    <path d=\"M18.56 5.44l.94 2.06.94-2.06 2.06-.94-2.06-.94-.94-2.06-.94 2.06-2.06.94zm-11 1L8.5 8.5l.94-2.06 2.06-.94-2.06-.94L8.5 2.5l-.94 2.06-2.06.94zm10 10l.94 2.06.94-2.06 2.06-.94-2.06-.94-.94-2.06-.94 2.06-2.06.94z\"/><path d=\"M17.41 7.96l-1.37-1.37c-.4-.4-.92-.59-1.43-.59-.52 0-1.04.2-1.43.59L10.3 9.45l-7.72 7.72c-.78.78-.78 2.05 0 2.83L4 21.41c.39.39.9.59 1.41.59.51 0 1.02-.2 1.41-.59l7.78-7.78 2.81-2.81c.8-.78.8-2.07 0-2.86zM5.41 20L4 18.59l7.72-7.72 1.47 1.35L5.41 20z\"/>\n",
              "  </svg>\n",
              "      </button>\n",
              "      \n",
              "  <style>\n",
              "    .colab-df-container {\n",
              "      display:flex;\n",
              "      flex-wrap:wrap;\n",
              "      gap: 12px;\n",
              "    }\n",
              "\n",
              "    .colab-df-convert {\n",
              "      background-color: #E8F0FE;\n",
              "      border: none;\n",
              "      border-radius: 50%;\n",
              "      cursor: pointer;\n",
              "      display: none;\n",
              "      fill: #1967D2;\n",
              "      height: 32px;\n",
              "      padding: 0 0 0 0;\n",
              "      width: 32px;\n",
              "    }\n",
              "\n",
              "    .colab-df-convert:hover {\n",
              "      background-color: #E2EBFA;\n",
              "      box-shadow: 0px 1px 2px rgba(60, 64, 67, 0.3), 0px 1px 3px 1px rgba(60, 64, 67, 0.15);\n",
              "      fill: #174EA6;\n",
              "    }\n",
              "\n",
              "    [theme=dark] .colab-df-convert {\n",
              "      background-color: #3B4455;\n",
              "      fill: #D2E3FC;\n",
              "    }\n",
              "\n",
              "    [theme=dark] .colab-df-convert:hover {\n",
              "      background-color: #434B5C;\n",
              "      box-shadow: 0px 1px 3px 1px rgba(0, 0, 0, 0.15);\n",
              "      filter: drop-shadow(0px 1px 2px rgba(0, 0, 0, 0.3));\n",
              "      fill: #FFFFFF;\n",
              "    }\n",
              "  </style>\n",
              "\n",
              "      <script>\n",
              "        const buttonEl =\n",
              "          document.querySelector('#df-f0eb0743-1543-4edf-8de0-48c85efa5cda button.colab-df-convert');\n",
              "        buttonEl.style.display =\n",
              "          google.colab.kernel.accessAllowed ? 'block' : 'none';\n",
              "\n",
              "        async function convertToInteractive(key) {\n",
              "          const element = document.querySelector('#df-f0eb0743-1543-4edf-8de0-48c85efa5cda');\n",
              "          const dataTable =\n",
              "            await google.colab.kernel.invokeFunction('convertToInteractive',\n",
              "                                                     [key], {});\n",
              "          if (!dataTable) return;\n",
              "\n",
              "          const docLinkHtml = 'Like what you see? Visit the ' +\n",
              "            '<a target=\"_blank\" href=https://colab.research.google.com/notebooks/data_table.ipynb>data table notebook</a>'\n",
              "            + ' to learn more about interactive tables.';\n",
              "          element.innerHTML = '';\n",
              "          dataTable['output_type'] = 'display_data';\n",
              "          await google.colab.output.renderOutput(dataTable, element);\n",
              "          const docLink = document.createElement('div');\n",
              "          docLink.innerHTML = docLinkHtml;\n",
              "          element.appendChild(docLink);\n",
              "        }\n",
              "      </script>\n",
              "    </div>\n",
              "  </div>\n",
              "  "
            ]
          },
          "metadata": {},
          "execution_count": 97
        }
      ]
    },
    {
      "cell_type": "code",
      "source": [
        "type(test_to.xs), type(valid_xs)"
      ],
      "metadata": {
        "colab": {
          "base_uri": "https://localhost:8080/"
        },
        "id": "V50ZYduoKPfD",
        "outputId": "ccefdc64-c71b-4d58-e342-11291bae2300"
      },
      "execution_count": 98,
      "outputs": [
        {
          "output_type": "execute_result",
          "data": {
            "text/plain": [
              "(pandas.core.frame.DataFrame, pandas.core.frame.DataFrame)"
            ]
          },
          "metadata": {},
          "execution_count": 98
        }
      ]
    },
    {
      "cell_type": "code",
      "source": [
        "# make test df more readable #\n",
        "test_xs = test_to.xs"
      ],
      "metadata": {
        "id": "sk1-LQ1UJp1m"
      },
      "execution_count": 99,
      "outputs": []
    },
    {
      "cell_type": "code",
      "source": [
        "rfc_model.predict(test_xs)"
      ],
      "metadata": {
        "colab": {
          "base_uri": "https://localhost:8080/"
        },
        "id": "Ae7qyy2xJps1",
        "outputId": "172b4ce2-8b4b-4631-f0f2-6449114df894"
      },
      "execution_count": 46,
      "outputs": [
        {
          "output_type": "execute_result",
          "data": {
            "text/plain": [
              "array([1, 0, 1, ..., 1, 1, 1], dtype=int8)"
            ]
          },
          "metadata": {},
          "execution_count": 46
        }
      ]
    },
    {
      "cell_type": "code",
      "source": [
        "rfc_model_predictions = rfc_model.predict(test_xs)"
      ],
      "metadata": {
        "id": "oyrz8xxLJ1n8"
      },
      "execution_count": 100,
      "outputs": []
    },
    {
      "cell_type": "code",
      "source": [
        "rfc_model_predictions.shape"
      ],
      "metadata": {
        "colab": {
          "base_uri": "https://localhost:8080/"
        },
        "id": "rb-I2TthT94x",
        "outputId": "222b35eb-a796-47b8-b5fb-1d6eafaa9512"
      },
      "execution_count": 101,
      "outputs": [
        {
          "output_type": "execute_result",
          "data": {
            "text/plain": [
              "(4277,)"
            ]
          },
          "metadata": {},
          "execution_count": 101
        }
      ]
    },
    {
      "cell_type": "code",
      "source": [
        "len(rfc_model_predictions)"
      ],
      "metadata": {
        "colab": {
          "base_uri": "https://localhost:8080/"
        },
        "id": "FxVH8hj3J1gR",
        "outputId": "7becdeb0-740e-480d-fc99-eed1590afad5"
      },
      "execution_count": 80,
      "outputs": [
        {
          "output_type": "execute_result",
          "data": {
            "text/plain": [
              "4277"
            ]
          },
          "metadata": {},
          "execution_count": 80
        }
      ]
    },
    {
      "cell_type": "code",
      "source": [],
      "metadata": {
        "id": "FoKn_yCe77CE"
      },
      "execution_count": null,
      "outputs": []
    },
    {
      "cell_type": "markdown",
      "source": [
        "## submit 3"
      ],
      "metadata": {
        "id": "Oj7PyhmJW3Gd"
      }
    },
    {
      "cell_type": "code",
      "source": [
        "tst_df.shape"
      ],
      "metadata": {
        "colab": {
          "base_uri": "https://localhost:8080/"
        },
        "id": "btcTPZPcLe_i",
        "outputId": "c3c573b1-b7dd-4cc1-e18d-15c34cd39215"
      },
      "execution_count": 51,
      "outputs": [
        {
          "output_type": "execute_result",
          "data": {
            "text/plain": [
              "(4277, 18)"
            ]
          },
          "metadata": {},
          "execution_count": 51
        }
      ]
    },
    {
      "cell_type": "code",
      "source": [
        "tst_df.head(2)"
      ],
      "metadata": {
        "colab": {
          "base_uri": "https://localhost:8080/",
          "height": 211
        },
        "id": "cnN1gpB1LVtB",
        "outputId": "bb4b3651-8a94-4959-870f-1ed704623fd7"
      },
      "execution_count": 50,
      "outputs": [
        {
          "output_type": "execute_result",
          "data": {
            "text/plain": [
              "  PassengerId HomePlanet CryoSleep  Cabin  Destination   Age    VIP  \\\n",
              "0     0013_01      Earth      True  G/3/S  TRAPPIST-1e  27.0  False   \n",
              "1     0018_01      Earth     False  F/4/S  TRAPPIST-1e  19.0  False   \n",
              "\n",
              "   RoomService  FoodCourt  ShoppingMall     Spa  VRDeck             Name  \\\n",
              "0          0.0        0.0           0.0     0.0     0.0  Nelly Carsoning   \n",
              "1          0.0        9.0           0.0  2823.0     0.0   Lerome Peckers   \n",
              "\n",
              "  Passenger_Gp Passenger_Gp_Nb Cabin_Deck Cabin_Num Cabin_Side  \n",
              "0         0013              01          G         3          S  \n",
              "1         0018              01          F         4          S  "
            ],
            "text/html": [
              "\n",
              "  <div id=\"df-2d1cb004-e46c-45a0-b0a2-22463133b632\">\n",
              "    <div class=\"colab-df-container\">\n",
              "      <div>\n",
              "<style scoped>\n",
              "    .dataframe tbody tr th:only-of-type {\n",
              "        vertical-align: middle;\n",
              "    }\n",
              "\n",
              "    .dataframe tbody tr th {\n",
              "        vertical-align: top;\n",
              "    }\n",
              "\n",
              "    .dataframe thead th {\n",
              "        text-align: right;\n",
              "    }\n",
              "</style>\n",
              "<table border=\"1\" class=\"dataframe\">\n",
              "  <thead>\n",
              "    <tr style=\"text-align: right;\">\n",
              "      <th></th>\n",
              "      <th>PassengerId</th>\n",
              "      <th>HomePlanet</th>\n",
              "      <th>CryoSleep</th>\n",
              "      <th>Cabin</th>\n",
              "      <th>Destination</th>\n",
              "      <th>Age</th>\n",
              "      <th>VIP</th>\n",
              "      <th>RoomService</th>\n",
              "      <th>FoodCourt</th>\n",
              "      <th>ShoppingMall</th>\n",
              "      <th>Spa</th>\n",
              "      <th>VRDeck</th>\n",
              "      <th>Name</th>\n",
              "      <th>Passenger_Gp</th>\n",
              "      <th>Passenger_Gp_Nb</th>\n",
              "      <th>Cabin_Deck</th>\n",
              "      <th>Cabin_Num</th>\n",
              "      <th>Cabin_Side</th>\n",
              "    </tr>\n",
              "  </thead>\n",
              "  <tbody>\n",
              "    <tr>\n",
              "      <th>0</th>\n",
              "      <td>0013_01</td>\n",
              "      <td>Earth</td>\n",
              "      <td>True</td>\n",
              "      <td>G/3/S</td>\n",
              "      <td>TRAPPIST-1e</td>\n",
              "      <td>27.0</td>\n",
              "      <td>False</td>\n",
              "      <td>0.0</td>\n",
              "      <td>0.0</td>\n",
              "      <td>0.0</td>\n",
              "      <td>0.0</td>\n",
              "      <td>0.0</td>\n",
              "      <td>Nelly Carsoning</td>\n",
              "      <td>0013</td>\n",
              "      <td>01</td>\n",
              "      <td>G</td>\n",
              "      <td>3</td>\n",
              "      <td>S</td>\n",
              "    </tr>\n",
              "    <tr>\n",
              "      <th>1</th>\n",
              "      <td>0018_01</td>\n",
              "      <td>Earth</td>\n",
              "      <td>False</td>\n",
              "      <td>F/4/S</td>\n",
              "      <td>TRAPPIST-1e</td>\n",
              "      <td>19.0</td>\n",
              "      <td>False</td>\n",
              "      <td>0.0</td>\n",
              "      <td>9.0</td>\n",
              "      <td>0.0</td>\n",
              "      <td>2823.0</td>\n",
              "      <td>0.0</td>\n",
              "      <td>Lerome Peckers</td>\n",
              "      <td>0018</td>\n",
              "      <td>01</td>\n",
              "      <td>F</td>\n",
              "      <td>4</td>\n",
              "      <td>S</td>\n",
              "    </tr>\n",
              "  </tbody>\n",
              "</table>\n",
              "</div>\n",
              "      <button class=\"colab-df-convert\" onclick=\"convertToInteractive('df-2d1cb004-e46c-45a0-b0a2-22463133b632')\"\n",
              "              title=\"Convert this dataframe to an interactive table.\"\n",
              "              style=\"display:none;\">\n",
              "        \n",
              "  <svg xmlns=\"http://www.w3.org/2000/svg\" height=\"24px\"viewBox=\"0 0 24 24\"\n",
              "       width=\"24px\">\n",
              "    <path d=\"M0 0h24v24H0V0z\" fill=\"none\"/>\n",
              "    <path d=\"M18.56 5.44l.94 2.06.94-2.06 2.06-.94-2.06-.94-.94-2.06-.94 2.06-2.06.94zm-11 1L8.5 8.5l.94-2.06 2.06-.94-2.06-.94L8.5 2.5l-.94 2.06-2.06.94zm10 10l.94 2.06.94-2.06 2.06-.94-2.06-.94-.94-2.06-.94 2.06-2.06.94z\"/><path d=\"M17.41 7.96l-1.37-1.37c-.4-.4-.92-.59-1.43-.59-.52 0-1.04.2-1.43.59L10.3 9.45l-7.72 7.72c-.78.78-.78 2.05 0 2.83L4 21.41c.39.39.9.59 1.41.59.51 0 1.02-.2 1.41-.59l7.78-7.78 2.81-2.81c.8-.78.8-2.07 0-2.86zM5.41 20L4 18.59l7.72-7.72 1.47 1.35L5.41 20z\"/>\n",
              "  </svg>\n",
              "      </button>\n",
              "      \n",
              "  <style>\n",
              "    .colab-df-container {\n",
              "      display:flex;\n",
              "      flex-wrap:wrap;\n",
              "      gap: 12px;\n",
              "    }\n",
              "\n",
              "    .colab-df-convert {\n",
              "      background-color: #E8F0FE;\n",
              "      border: none;\n",
              "      border-radius: 50%;\n",
              "      cursor: pointer;\n",
              "      display: none;\n",
              "      fill: #1967D2;\n",
              "      height: 32px;\n",
              "      padding: 0 0 0 0;\n",
              "      width: 32px;\n",
              "    }\n",
              "\n",
              "    .colab-df-convert:hover {\n",
              "      background-color: #E2EBFA;\n",
              "      box-shadow: 0px 1px 2px rgba(60, 64, 67, 0.3), 0px 1px 3px 1px rgba(60, 64, 67, 0.15);\n",
              "      fill: #174EA6;\n",
              "    }\n",
              "\n",
              "    [theme=dark] .colab-df-convert {\n",
              "      background-color: #3B4455;\n",
              "      fill: #D2E3FC;\n",
              "    }\n",
              "\n",
              "    [theme=dark] .colab-df-convert:hover {\n",
              "      background-color: #434B5C;\n",
              "      box-shadow: 0px 1px 3px 1px rgba(0, 0, 0, 0.15);\n",
              "      filter: drop-shadow(0px 1px 2px rgba(0, 0, 0, 0.3));\n",
              "      fill: #FFFFFF;\n",
              "    }\n",
              "  </style>\n",
              "\n",
              "      <script>\n",
              "        const buttonEl =\n",
              "          document.querySelector('#df-2d1cb004-e46c-45a0-b0a2-22463133b632 button.colab-df-convert');\n",
              "        buttonEl.style.display =\n",
              "          google.colab.kernel.accessAllowed ? 'block' : 'none';\n",
              "\n",
              "        async function convertToInteractive(key) {\n",
              "          const element = document.querySelector('#df-2d1cb004-e46c-45a0-b0a2-22463133b632');\n",
              "          const dataTable =\n",
              "            await google.colab.kernel.invokeFunction('convertToInteractive',\n",
              "                                                     [key], {});\n",
              "          if (!dataTable) return;\n",
              "\n",
              "          const docLinkHtml = 'Like what you see? Visit the ' +\n",
              "            '<a target=\"_blank\" href=https://colab.research.google.com/notebooks/data_table.ipynb>data table notebook</a>'\n",
              "            + ' to learn more about interactive tables.';\n",
              "          element.innerHTML = '';\n",
              "          dataTable['output_type'] = 'display_data';\n",
              "          await google.colab.output.renderOutput(dataTable, element);\n",
              "          const docLink = document.createElement('div');\n",
              "          docLink.innerHTML = docLinkHtml;\n",
              "          element.appendChild(docLink);\n",
              "        }\n",
              "      </script>\n",
              "    </div>\n",
              "  </div>\n",
              "  "
            ]
          },
          "metadata": {},
          "execution_count": 50
        }
      ]
    },
    {
      "cell_type": "code",
      "source": [
        "path.ls()"
      ],
      "metadata": {
        "colab": {
          "base_uri": "https://localhost:8080/"
        },
        "id": "vMv80NlZLvVo",
        "outputId": "e3c6aa6a-cbec-4639-d99d-6a1298394139"
      },
      "execution_count": 53,
      "outputs": [
        {
          "output_type": "execute_result",
          "data": {
            "text/plain": [
              "(#3) [Path('spaceship-titanic/test.csv'),Path('spaceship-titanic/sample_submission.csv'),Path('spaceship-titanic/train.csv')]"
            ]
          },
          "metadata": {},
          "execution_count": 53
        }
      ]
    },
    {
      "cell_type": "code",
      "source": [
        "ss = pd.read_csv(path/\"sample_submission.csv\")\n",
        "ss"
      ],
      "metadata": {
        "colab": {
          "base_uri": "https://localhost:8080/",
          "height": 424
        },
        "id": "3_4QwgMDLqyR",
        "outputId": "864d8515-2cf7-4c51-eeb4-0547db28a58a"
      },
      "execution_count": 54,
      "outputs": [
        {
          "output_type": "execute_result",
          "data": {
            "text/plain": [
              "     PassengerId  Transported\n",
              "0        0013_01        False\n",
              "1        0018_01        False\n",
              "2        0019_01        False\n",
              "3        0021_01        False\n",
              "4        0023_01        False\n",
              "...          ...          ...\n",
              "4272     9266_02        False\n",
              "4273     9269_01        False\n",
              "4274     9271_01        False\n",
              "4275     9273_01        False\n",
              "4276     9277_01        False\n",
              "\n",
              "[4277 rows x 2 columns]"
            ],
            "text/html": [
              "\n",
              "  <div id=\"df-2148238e-ffa1-49b0-9204-db4a685eead0\">\n",
              "    <div class=\"colab-df-container\">\n",
              "      <div>\n",
              "<style scoped>\n",
              "    .dataframe tbody tr th:only-of-type {\n",
              "        vertical-align: middle;\n",
              "    }\n",
              "\n",
              "    .dataframe tbody tr th {\n",
              "        vertical-align: top;\n",
              "    }\n",
              "\n",
              "    .dataframe thead th {\n",
              "        text-align: right;\n",
              "    }\n",
              "</style>\n",
              "<table border=\"1\" class=\"dataframe\">\n",
              "  <thead>\n",
              "    <tr style=\"text-align: right;\">\n",
              "      <th></th>\n",
              "      <th>PassengerId</th>\n",
              "      <th>Transported</th>\n",
              "    </tr>\n",
              "  </thead>\n",
              "  <tbody>\n",
              "    <tr>\n",
              "      <th>0</th>\n",
              "      <td>0013_01</td>\n",
              "      <td>False</td>\n",
              "    </tr>\n",
              "    <tr>\n",
              "      <th>1</th>\n",
              "      <td>0018_01</td>\n",
              "      <td>False</td>\n",
              "    </tr>\n",
              "    <tr>\n",
              "      <th>2</th>\n",
              "      <td>0019_01</td>\n",
              "      <td>False</td>\n",
              "    </tr>\n",
              "    <tr>\n",
              "      <th>3</th>\n",
              "      <td>0021_01</td>\n",
              "      <td>False</td>\n",
              "    </tr>\n",
              "    <tr>\n",
              "      <th>4</th>\n",
              "      <td>0023_01</td>\n",
              "      <td>False</td>\n",
              "    </tr>\n",
              "    <tr>\n",
              "      <th>...</th>\n",
              "      <td>...</td>\n",
              "      <td>...</td>\n",
              "    </tr>\n",
              "    <tr>\n",
              "      <th>4272</th>\n",
              "      <td>9266_02</td>\n",
              "      <td>False</td>\n",
              "    </tr>\n",
              "    <tr>\n",
              "      <th>4273</th>\n",
              "      <td>9269_01</td>\n",
              "      <td>False</td>\n",
              "    </tr>\n",
              "    <tr>\n",
              "      <th>4274</th>\n",
              "      <td>9271_01</td>\n",
              "      <td>False</td>\n",
              "    </tr>\n",
              "    <tr>\n",
              "      <th>4275</th>\n",
              "      <td>9273_01</td>\n",
              "      <td>False</td>\n",
              "    </tr>\n",
              "    <tr>\n",
              "      <th>4276</th>\n",
              "      <td>9277_01</td>\n",
              "      <td>False</td>\n",
              "    </tr>\n",
              "  </tbody>\n",
              "</table>\n",
              "<p>4277 rows × 2 columns</p>\n",
              "</div>\n",
              "      <button class=\"colab-df-convert\" onclick=\"convertToInteractive('df-2148238e-ffa1-49b0-9204-db4a685eead0')\"\n",
              "              title=\"Convert this dataframe to an interactive table.\"\n",
              "              style=\"display:none;\">\n",
              "        \n",
              "  <svg xmlns=\"http://www.w3.org/2000/svg\" height=\"24px\"viewBox=\"0 0 24 24\"\n",
              "       width=\"24px\">\n",
              "    <path d=\"M0 0h24v24H0V0z\" fill=\"none\"/>\n",
              "    <path d=\"M18.56 5.44l.94 2.06.94-2.06 2.06-.94-2.06-.94-.94-2.06-.94 2.06-2.06.94zm-11 1L8.5 8.5l.94-2.06 2.06-.94-2.06-.94L8.5 2.5l-.94 2.06-2.06.94zm10 10l.94 2.06.94-2.06 2.06-.94-2.06-.94-.94-2.06-.94 2.06-2.06.94z\"/><path d=\"M17.41 7.96l-1.37-1.37c-.4-.4-.92-.59-1.43-.59-.52 0-1.04.2-1.43.59L10.3 9.45l-7.72 7.72c-.78.78-.78 2.05 0 2.83L4 21.41c.39.39.9.59 1.41.59.51 0 1.02-.2 1.41-.59l7.78-7.78 2.81-2.81c.8-.78.8-2.07 0-2.86zM5.41 20L4 18.59l7.72-7.72 1.47 1.35L5.41 20z\"/>\n",
              "  </svg>\n",
              "      </button>\n",
              "      \n",
              "  <style>\n",
              "    .colab-df-container {\n",
              "      display:flex;\n",
              "      flex-wrap:wrap;\n",
              "      gap: 12px;\n",
              "    }\n",
              "\n",
              "    .colab-df-convert {\n",
              "      background-color: #E8F0FE;\n",
              "      border: none;\n",
              "      border-radius: 50%;\n",
              "      cursor: pointer;\n",
              "      display: none;\n",
              "      fill: #1967D2;\n",
              "      height: 32px;\n",
              "      padding: 0 0 0 0;\n",
              "      width: 32px;\n",
              "    }\n",
              "\n",
              "    .colab-df-convert:hover {\n",
              "      background-color: #E2EBFA;\n",
              "      box-shadow: 0px 1px 2px rgba(60, 64, 67, 0.3), 0px 1px 3px 1px rgba(60, 64, 67, 0.15);\n",
              "      fill: #174EA6;\n",
              "    }\n",
              "\n",
              "    [theme=dark] .colab-df-convert {\n",
              "      background-color: #3B4455;\n",
              "      fill: #D2E3FC;\n",
              "    }\n",
              "\n",
              "    [theme=dark] .colab-df-convert:hover {\n",
              "      background-color: #434B5C;\n",
              "      box-shadow: 0px 1px 3px 1px rgba(0, 0, 0, 0.15);\n",
              "      filter: drop-shadow(0px 1px 2px rgba(0, 0, 0, 0.3));\n",
              "      fill: #FFFFFF;\n",
              "    }\n",
              "  </style>\n",
              "\n",
              "      <script>\n",
              "        const buttonEl =\n",
              "          document.querySelector('#df-2148238e-ffa1-49b0-9204-db4a685eead0 button.colab-df-convert');\n",
              "        buttonEl.style.display =\n",
              "          google.colab.kernel.accessAllowed ? 'block' : 'none';\n",
              "\n",
              "        async function convertToInteractive(key) {\n",
              "          const element = document.querySelector('#df-2148238e-ffa1-49b0-9204-db4a685eead0');\n",
              "          const dataTable =\n",
              "            await google.colab.kernel.invokeFunction('convertToInteractive',\n",
              "                                                     [key], {});\n",
              "          if (!dataTable) return;\n",
              "\n",
              "          const docLinkHtml = 'Like what you see? Visit the ' +\n",
              "            '<a target=\"_blank\" href=https://colab.research.google.com/notebooks/data_table.ipynb>data table notebook</a>'\n",
              "            + ' to learn more about interactive tables.';\n",
              "          element.innerHTML = '';\n",
              "          dataTable['output_type'] = 'display_data';\n",
              "          await google.colab.output.renderOutput(dataTable, element);\n",
              "          const docLink = document.createElement('div');\n",
              "          docLink.innerHTML = docLinkHtml;\n",
              "          element.appendChild(docLink);\n",
              "        }\n",
              "      </script>\n",
              "    </div>\n",
              "  </div>\n",
              "  "
            ]
          },
          "metadata": {},
          "execution_count": 54
        }
      ]
    },
    {
      "cell_type": "code",
      "source": [
        "rfc_model_predictions.dtype"
      ],
      "metadata": {
        "colab": {
          "base_uri": "https://localhost:8080/"
        },
        "id": "O5cnrR99L_JV",
        "outputId": "e4dec7cc-fec4-4d52-8724-92fefbe60388"
      },
      "execution_count": 55,
      "outputs": [
        {
          "output_type": "execute_result",
          "data": {
            "text/plain": [
              "dtype('int8')"
            ]
          },
          "metadata": {},
          "execution_count": 55
        }
      ]
    },
    {
      "cell_type": "code",
      "source": [
        "tst_df['Transported'] = rfc_model_predictions\n",
        "sub_df = tst_df[['PassengerId', 'Transported']]\n",
        "# sub_df.to_csv('sub4.csv', index=False)"
      ],
      "metadata": {
        "id": "uuj5td55W55J"
      },
      "execution_count": 81,
      "outputs": []
    },
    {
      "cell_type": "code",
      "source": [
        "sub_df"
      ],
      "metadata": {
        "colab": {
          "base_uri": "https://localhost:8080/",
          "height": 424
        },
        "id": "9WmZcDnUMWOH",
        "outputId": "47732c85-b055-40bd-a7c3-f275ae40c318"
      },
      "execution_count": 82,
      "outputs": [
        {
          "output_type": "execute_result",
          "data": {
            "text/plain": [
              "     PassengerId  Transported\n",
              "0        0013_01            1\n",
              "1        0018_01            0\n",
              "2        0019_01            1\n",
              "3        0021_01            1\n",
              "4        0023_01            1\n",
              "...          ...          ...\n",
              "4272     9266_02            1\n",
              "4273     9269_01            0\n",
              "4274     9271_01            1\n",
              "4275     9273_01            1\n",
              "4276     9277_01            1\n",
              "\n",
              "[4277 rows x 2 columns]"
            ],
            "text/html": [
              "\n",
              "  <div id=\"df-01d37555-41ee-4f43-99bf-4a7a68674b9f\">\n",
              "    <div class=\"colab-df-container\">\n",
              "      <div>\n",
              "<style scoped>\n",
              "    .dataframe tbody tr th:only-of-type {\n",
              "        vertical-align: middle;\n",
              "    }\n",
              "\n",
              "    .dataframe tbody tr th {\n",
              "        vertical-align: top;\n",
              "    }\n",
              "\n",
              "    .dataframe thead th {\n",
              "        text-align: right;\n",
              "    }\n",
              "</style>\n",
              "<table border=\"1\" class=\"dataframe\">\n",
              "  <thead>\n",
              "    <tr style=\"text-align: right;\">\n",
              "      <th></th>\n",
              "      <th>PassengerId</th>\n",
              "      <th>Transported</th>\n",
              "    </tr>\n",
              "  </thead>\n",
              "  <tbody>\n",
              "    <tr>\n",
              "      <th>0</th>\n",
              "      <td>0013_01</td>\n",
              "      <td>1</td>\n",
              "    </tr>\n",
              "    <tr>\n",
              "      <th>1</th>\n",
              "      <td>0018_01</td>\n",
              "      <td>0</td>\n",
              "    </tr>\n",
              "    <tr>\n",
              "      <th>2</th>\n",
              "      <td>0019_01</td>\n",
              "      <td>1</td>\n",
              "    </tr>\n",
              "    <tr>\n",
              "      <th>3</th>\n",
              "      <td>0021_01</td>\n",
              "      <td>1</td>\n",
              "    </tr>\n",
              "    <tr>\n",
              "      <th>4</th>\n",
              "      <td>0023_01</td>\n",
              "      <td>1</td>\n",
              "    </tr>\n",
              "    <tr>\n",
              "      <th>...</th>\n",
              "      <td>...</td>\n",
              "      <td>...</td>\n",
              "    </tr>\n",
              "    <tr>\n",
              "      <th>4272</th>\n",
              "      <td>9266_02</td>\n",
              "      <td>1</td>\n",
              "    </tr>\n",
              "    <tr>\n",
              "      <th>4273</th>\n",
              "      <td>9269_01</td>\n",
              "      <td>0</td>\n",
              "    </tr>\n",
              "    <tr>\n",
              "      <th>4274</th>\n",
              "      <td>9271_01</td>\n",
              "      <td>1</td>\n",
              "    </tr>\n",
              "    <tr>\n",
              "      <th>4275</th>\n",
              "      <td>9273_01</td>\n",
              "      <td>1</td>\n",
              "    </tr>\n",
              "    <tr>\n",
              "      <th>4276</th>\n",
              "      <td>9277_01</td>\n",
              "      <td>1</td>\n",
              "    </tr>\n",
              "  </tbody>\n",
              "</table>\n",
              "<p>4277 rows × 2 columns</p>\n",
              "</div>\n",
              "      <button class=\"colab-df-convert\" onclick=\"convertToInteractive('df-01d37555-41ee-4f43-99bf-4a7a68674b9f')\"\n",
              "              title=\"Convert this dataframe to an interactive table.\"\n",
              "              style=\"display:none;\">\n",
              "        \n",
              "  <svg xmlns=\"http://www.w3.org/2000/svg\" height=\"24px\"viewBox=\"0 0 24 24\"\n",
              "       width=\"24px\">\n",
              "    <path d=\"M0 0h24v24H0V0z\" fill=\"none\"/>\n",
              "    <path d=\"M18.56 5.44l.94 2.06.94-2.06 2.06-.94-2.06-.94-.94-2.06-.94 2.06-2.06.94zm-11 1L8.5 8.5l.94-2.06 2.06-.94-2.06-.94L8.5 2.5l-.94 2.06-2.06.94zm10 10l.94 2.06.94-2.06 2.06-.94-2.06-.94-.94-2.06-.94 2.06-2.06.94z\"/><path d=\"M17.41 7.96l-1.37-1.37c-.4-.4-.92-.59-1.43-.59-.52 0-1.04.2-1.43.59L10.3 9.45l-7.72 7.72c-.78.78-.78 2.05 0 2.83L4 21.41c.39.39.9.59 1.41.59.51 0 1.02-.2 1.41-.59l7.78-7.78 2.81-2.81c.8-.78.8-2.07 0-2.86zM5.41 20L4 18.59l7.72-7.72 1.47 1.35L5.41 20z\"/>\n",
              "  </svg>\n",
              "      </button>\n",
              "      \n",
              "  <style>\n",
              "    .colab-df-container {\n",
              "      display:flex;\n",
              "      flex-wrap:wrap;\n",
              "      gap: 12px;\n",
              "    }\n",
              "\n",
              "    .colab-df-convert {\n",
              "      background-color: #E8F0FE;\n",
              "      border: none;\n",
              "      border-radius: 50%;\n",
              "      cursor: pointer;\n",
              "      display: none;\n",
              "      fill: #1967D2;\n",
              "      height: 32px;\n",
              "      padding: 0 0 0 0;\n",
              "      width: 32px;\n",
              "    }\n",
              "\n",
              "    .colab-df-convert:hover {\n",
              "      background-color: #E2EBFA;\n",
              "      box-shadow: 0px 1px 2px rgba(60, 64, 67, 0.3), 0px 1px 3px 1px rgba(60, 64, 67, 0.15);\n",
              "      fill: #174EA6;\n",
              "    }\n",
              "\n",
              "    [theme=dark] .colab-df-convert {\n",
              "      background-color: #3B4455;\n",
              "      fill: #D2E3FC;\n",
              "    }\n",
              "\n",
              "    [theme=dark] .colab-df-convert:hover {\n",
              "      background-color: #434B5C;\n",
              "      box-shadow: 0px 1px 3px 1px rgba(0, 0, 0, 0.15);\n",
              "      filter: drop-shadow(0px 1px 2px rgba(0, 0, 0, 0.3));\n",
              "      fill: #FFFFFF;\n",
              "    }\n",
              "  </style>\n",
              "\n",
              "      <script>\n",
              "        const buttonEl =\n",
              "          document.querySelector('#df-01d37555-41ee-4f43-99bf-4a7a68674b9f button.colab-df-convert');\n",
              "        buttonEl.style.display =\n",
              "          google.colab.kernel.accessAllowed ? 'block' : 'none';\n",
              "\n",
              "        async function convertToInteractive(key) {\n",
              "          const element = document.querySelector('#df-01d37555-41ee-4f43-99bf-4a7a68674b9f');\n",
              "          const dataTable =\n",
              "            await google.colab.kernel.invokeFunction('convertToInteractive',\n",
              "                                                     [key], {});\n",
              "          if (!dataTable) return;\n",
              "\n",
              "          const docLinkHtml = 'Like what you see? Visit the ' +\n",
              "            '<a target=\"_blank\" href=https://colab.research.google.com/notebooks/data_table.ipynb>data table notebook</a>'\n",
              "            + ' to learn more about interactive tables.';\n",
              "          element.innerHTML = '';\n",
              "          dataTable['output_type'] = 'display_data';\n",
              "          await google.colab.output.renderOutput(dataTable, element);\n",
              "          const docLink = document.createElement('div');\n",
              "          docLink.innerHTML = docLinkHtml;\n",
              "          element.appendChild(docLink);\n",
              "        }\n",
              "      </script>\n",
              "    </div>\n",
              "  </div>\n",
              "  "
            ]
          },
          "metadata": {},
          "execution_count": 82
        }
      ]
    },
    {
      "cell_type": "markdown",
      "source": [
        "Convert `Transported` col to a bool"
      ],
      "metadata": {
        "id": "sQlX9vDGNqOf"
      }
    },
    {
      "cell_type": "code",
      "source": [
        "sub_df[\"Transported\"] = sub_df[\"Transported\"].astype(bool)"
      ],
      "metadata": {
        "id": "Y2YR7izsMWDH"
      },
      "execution_count": null,
      "outputs": []
    },
    {
      "cell_type": "code",
      "source": [
        "sub_df"
      ],
      "metadata": {
        "colab": {
          "base_uri": "https://localhost:8080/",
          "height": 424
        },
        "id": "s5AhpgIENZub",
        "outputId": "548f0b2b-0755-4538-f39f-a41b53395c50"
      },
      "execution_count": 84,
      "outputs": [
        {
          "output_type": "execute_result",
          "data": {
            "text/plain": [
              "     PassengerId  Transported\n",
              "0        0013_01         True\n",
              "1        0018_01        False\n",
              "2        0019_01         True\n",
              "3        0021_01         True\n",
              "4        0023_01         True\n",
              "...          ...          ...\n",
              "4272     9266_02         True\n",
              "4273     9269_01        False\n",
              "4274     9271_01         True\n",
              "4275     9273_01         True\n",
              "4276     9277_01         True\n",
              "\n",
              "[4277 rows x 2 columns]"
            ],
            "text/html": [
              "\n",
              "  <div id=\"df-93735e94-10a9-4bc1-a6bd-5a72104bc48b\">\n",
              "    <div class=\"colab-df-container\">\n",
              "      <div>\n",
              "<style scoped>\n",
              "    .dataframe tbody tr th:only-of-type {\n",
              "        vertical-align: middle;\n",
              "    }\n",
              "\n",
              "    .dataframe tbody tr th {\n",
              "        vertical-align: top;\n",
              "    }\n",
              "\n",
              "    .dataframe thead th {\n",
              "        text-align: right;\n",
              "    }\n",
              "</style>\n",
              "<table border=\"1\" class=\"dataframe\">\n",
              "  <thead>\n",
              "    <tr style=\"text-align: right;\">\n",
              "      <th></th>\n",
              "      <th>PassengerId</th>\n",
              "      <th>Transported</th>\n",
              "    </tr>\n",
              "  </thead>\n",
              "  <tbody>\n",
              "    <tr>\n",
              "      <th>0</th>\n",
              "      <td>0013_01</td>\n",
              "      <td>True</td>\n",
              "    </tr>\n",
              "    <tr>\n",
              "      <th>1</th>\n",
              "      <td>0018_01</td>\n",
              "      <td>False</td>\n",
              "    </tr>\n",
              "    <tr>\n",
              "      <th>2</th>\n",
              "      <td>0019_01</td>\n",
              "      <td>True</td>\n",
              "    </tr>\n",
              "    <tr>\n",
              "      <th>3</th>\n",
              "      <td>0021_01</td>\n",
              "      <td>True</td>\n",
              "    </tr>\n",
              "    <tr>\n",
              "      <th>4</th>\n",
              "      <td>0023_01</td>\n",
              "      <td>True</td>\n",
              "    </tr>\n",
              "    <tr>\n",
              "      <th>...</th>\n",
              "      <td>...</td>\n",
              "      <td>...</td>\n",
              "    </tr>\n",
              "    <tr>\n",
              "      <th>4272</th>\n",
              "      <td>9266_02</td>\n",
              "      <td>True</td>\n",
              "    </tr>\n",
              "    <tr>\n",
              "      <th>4273</th>\n",
              "      <td>9269_01</td>\n",
              "      <td>False</td>\n",
              "    </tr>\n",
              "    <tr>\n",
              "      <th>4274</th>\n",
              "      <td>9271_01</td>\n",
              "      <td>True</td>\n",
              "    </tr>\n",
              "    <tr>\n",
              "      <th>4275</th>\n",
              "      <td>9273_01</td>\n",
              "      <td>True</td>\n",
              "    </tr>\n",
              "    <tr>\n",
              "      <th>4276</th>\n",
              "      <td>9277_01</td>\n",
              "      <td>True</td>\n",
              "    </tr>\n",
              "  </tbody>\n",
              "</table>\n",
              "<p>4277 rows × 2 columns</p>\n",
              "</div>\n",
              "      <button class=\"colab-df-convert\" onclick=\"convertToInteractive('df-93735e94-10a9-4bc1-a6bd-5a72104bc48b')\"\n",
              "              title=\"Convert this dataframe to an interactive table.\"\n",
              "              style=\"display:none;\">\n",
              "        \n",
              "  <svg xmlns=\"http://www.w3.org/2000/svg\" height=\"24px\"viewBox=\"0 0 24 24\"\n",
              "       width=\"24px\">\n",
              "    <path d=\"M0 0h24v24H0V0z\" fill=\"none\"/>\n",
              "    <path d=\"M18.56 5.44l.94 2.06.94-2.06 2.06-.94-2.06-.94-.94-2.06-.94 2.06-2.06.94zm-11 1L8.5 8.5l.94-2.06 2.06-.94-2.06-.94L8.5 2.5l-.94 2.06-2.06.94zm10 10l.94 2.06.94-2.06 2.06-.94-2.06-.94-.94-2.06-.94 2.06-2.06.94z\"/><path d=\"M17.41 7.96l-1.37-1.37c-.4-.4-.92-.59-1.43-.59-.52 0-1.04.2-1.43.59L10.3 9.45l-7.72 7.72c-.78.78-.78 2.05 0 2.83L4 21.41c.39.39.9.59 1.41.59.51 0 1.02-.2 1.41-.59l7.78-7.78 2.81-2.81c.8-.78.8-2.07 0-2.86zM5.41 20L4 18.59l7.72-7.72 1.47 1.35L5.41 20z\"/>\n",
              "  </svg>\n",
              "      </button>\n",
              "      \n",
              "  <style>\n",
              "    .colab-df-container {\n",
              "      display:flex;\n",
              "      flex-wrap:wrap;\n",
              "      gap: 12px;\n",
              "    }\n",
              "\n",
              "    .colab-df-convert {\n",
              "      background-color: #E8F0FE;\n",
              "      border: none;\n",
              "      border-radius: 50%;\n",
              "      cursor: pointer;\n",
              "      display: none;\n",
              "      fill: #1967D2;\n",
              "      height: 32px;\n",
              "      padding: 0 0 0 0;\n",
              "      width: 32px;\n",
              "    }\n",
              "\n",
              "    .colab-df-convert:hover {\n",
              "      background-color: #E2EBFA;\n",
              "      box-shadow: 0px 1px 2px rgba(60, 64, 67, 0.3), 0px 1px 3px 1px rgba(60, 64, 67, 0.15);\n",
              "      fill: #174EA6;\n",
              "    }\n",
              "\n",
              "    [theme=dark] .colab-df-convert {\n",
              "      background-color: #3B4455;\n",
              "      fill: #D2E3FC;\n",
              "    }\n",
              "\n",
              "    [theme=dark] .colab-df-convert:hover {\n",
              "      background-color: #434B5C;\n",
              "      box-shadow: 0px 1px 3px 1px rgba(0, 0, 0, 0.15);\n",
              "      filter: drop-shadow(0px 1px 2px rgba(0, 0, 0, 0.3));\n",
              "      fill: #FFFFFF;\n",
              "    }\n",
              "  </style>\n",
              "\n",
              "      <script>\n",
              "        const buttonEl =\n",
              "          document.querySelector('#df-93735e94-10a9-4bc1-a6bd-5a72104bc48b button.colab-df-convert');\n",
              "        buttonEl.style.display =\n",
              "          google.colab.kernel.accessAllowed ? 'block' : 'none';\n",
              "\n",
              "        async function convertToInteractive(key) {\n",
              "          const element = document.querySelector('#df-93735e94-10a9-4bc1-a6bd-5a72104bc48b');\n",
              "          const dataTable =\n",
              "            await google.colab.kernel.invokeFunction('convertToInteractive',\n",
              "                                                     [key], {});\n",
              "          if (!dataTable) return;\n",
              "\n",
              "          const docLinkHtml = 'Like what you see? Visit the ' +\n",
              "            '<a target=\"_blank\" href=https://colab.research.google.com/notebooks/data_table.ipynb>data table notebook</a>'\n",
              "            + ' to learn more about interactive tables.';\n",
              "          element.innerHTML = '';\n",
              "          dataTable['output_type'] = 'display_data';\n",
              "          await google.colab.output.renderOutput(dataTable, element);\n",
              "          const docLink = document.createElement('div');\n",
              "          docLink.innerHTML = docLinkHtml;\n",
              "          element.appendChild(docLink);\n",
              "        }\n",
              "      </script>\n",
              "    </div>\n",
              "  </div>\n",
              "  "
            ]
          },
          "metadata": {},
          "execution_count": 84
        }
      ]
    },
    {
      "cell_type": "code",
      "source": [
        "sub_df.to_csv('sub4.csv', index=False)"
      ],
      "metadata": {
        "id": "FXUNro99ODPZ"
      },
      "execution_count": 85,
      "outputs": []
    },
    {
      "cell_type": "code",
      "source": [
        "!head sub4.csv"
      ],
      "metadata": {
        "colab": {
          "base_uri": "https://localhost:8080/"
        },
        "id": "4c0VW5A-POwq",
        "outputId": "f361a715-eceb-41db-e705-fb40e61a36fd"
      },
      "execution_count": 86,
      "outputs": [
        {
          "output_type": "stream",
          "name": "stdout",
          "text": [
            "PassengerId,Transported\n",
            "0013_01,True\n",
            "0018_01,False\n",
            "0019_01,True\n",
            "0021_01,True\n",
            "0023_01,True\n",
            "0027_01,True\n",
            "0029_01,True\n",
            "0032_01,True\n",
            "0032_02,True\n"
          ]
        }
      ]
    },
    {
      "cell_type": "code",
      "source": [
        "!head sub4.csv"
      ],
      "metadata": {
        "id": "pmYqbfNbbnNE",
        "colab": {
          "base_uri": "https://localhost:8080/"
        },
        "outputId": "896d75d0-712a-4fdb-b5ee-0ce9ca02de1c"
      },
      "execution_count": 65,
      "outputs": [
        {
          "output_type": "stream",
          "name": "stdout",
          "text": [
            "PassengerId,Transported\n",
            "0013_01,True\n",
            "0018_01,False\n",
            "0019_01,True\n",
            "0021_01,True\n",
            "0023_01,True\n",
            "0027_01,True\n",
            "0029_01,True\n",
            "0032_01,True\n",
            "0032_02,True\n"
          ]
        }
      ]
    },
    {
      "cell_type": "code",
      "source": [
        "if not iskaggle:\n",
        "    from kaggle import api\n",
        "    api.competition_submit_cli('sub4.csv', 'Random forest model', comp)"
      ],
      "metadata": {
        "id": "2a3VF8NJbnHu",
        "colab": {
          "base_uri": "https://localhost:8080/"
        },
        "outputId": "c7a42a44-22a6-442f-eb07-8040cd31ab25"
      },
      "execution_count": 87,
      "outputs": [
        {
          "output_type": "stream",
          "name": "stderr",
          "text": [
            "100%|██████████| 56.8k/56.8k [00:00<00:00, 276kB/s]\n"
          ]
        }
      ]
    },
    {
      "cell_type": "markdown",
      "source": [
        "### Leaderborad = 1556 => 0.78255"
      ],
      "metadata": {
        "id": "j1-daidDPclk"
      }
    },
    {
      "cell_type": "markdown",
      "source": [
        "# Model 4\n",
        "Gridsearch random forest"
      ],
      "metadata": {
        "id": "gsjYKhL6bIZ8"
      }
    },
    {
      "cell_type": "code",
      "source": [
        "rfc_params={\n",
        " 'bootstrap': [True,False],\n",
        " 'max_features': ['auto','sqrt'],\n",
        " 'min_samples_leaf': [4,5,6],\n",
        " 'min_samples_split': [2,5],\n",
        " 'n_estimators': [100,200,300]\n",
        "}"
      ],
      "metadata": {
        "id": "gHlVE3N8bOOb"
      },
      "execution_count": 88,
      "outputs": []
    },
    {
      "cell_type": "code",
      "source": [
        "# Using gridsearch to find the best params for SVC #\n",
        "from sklearn.model_selection import GridSearchCV"
      ],
      "metadata": {
        "id": "SmNd5vIdQEy5"
      },
      "execution_count": 89,
      "outputs": []
    },
    {
      "cell_type": "code",
      "source": [
        "# creating a gridsearch with random forest classifier #\n",
        "grid_rcf = GridSearchCV(RandomForestClassifier(),rfc_params,verbose=5)"
      ],
      "metadata": {
        "id": "BRwByp9MQEvz"
      },
      "execution_count": 90,
      "outputs": []
    },
    {
      "cell_type": "code",
      "source": [
        "grid_rcf.fit(xs, y)"
      ],
      "metadata": {
        "colab": {
          "base_uri": "https://localhost:8080/"
        },
        "id": "JV8q9H2AQErw",
        "outputId": "0cb11e40-07f1-46dc-b594-6e579fc2fcc1"
      },
      "execution_count": 91,
      "outputs": [
        {
          "output_type": "stream",
          "name": "stdout",
          "text": [
            "Fitting 5 folds for each of 72 candidates, totalling 360 fits\n",
            "[CV 1/5] END bootstrap=True, max_features=auto, min_samples_leaf=4, min_samples_split=2, n_estimators=100;, score=0.805 total time=   0.7s\n",
            "[CV 2/5] END bootstrap=True, max_features=auto, min_samples_leaf=4, min_samples_split=2, n_estimators=100;, score=0.790 total time=   0.8s\n",
            "[CV 3/5] END bootstrap=True, max_features=auto, min_samples_leaf=4, min_samples_split=2, n_estimators=100;, score=0.802 total time=   1.5s\n",
            "[CV 4/5] END bootstrap=True, max_features=auto, min_samples_leaf=4, min_samples_split=2, n_estimators=100;, score=0.786 total time=   1.1s\n",
            "[CV 5/5] END bootstrap=True, max_features=auto, min_samples_leaf=4, min_samples_split=2, n_estimators=100;, score=0.821 total time=   0.9s\n",
            "[CV 1/5] END bootstrap=True, max_features=auto, min_samples_leaf=4, min_samples_split=2, n_estimators=200;, score=0.808 total time=   1.5s\n",
            "[CV 2/5] END bootstrap=True, max_features=auto, min_samples_leaf=4, min_samples_split=2, n_estimators=200;, score=0.793 total time=   1.5s\n",
            "[CV 3/5] END bootstrap=True, max_features=auto, min_samples_leaf=4, min_samples_split=2, n_estimators=200;, score=0.805 total time=   1.4s\n",
            "[CV 4/5] END bootstrap=True, max_features=auto, min_samples_leaf=4, min_samples_split=2, n_estimators=200;, score=0.794 total time=   1.4s\n",
            "[CV 5/5] END bootstrap=True, max_features=auto, min_samples_leaf=4, min_samples_split=2, n_estimators=200;, score=0.815 total time=   1.4s\n",
            "[CV 1/5] END bootstrap=True, max_features=auto, min_samples_leaf=4, min_samples_split=2, n_estimators=300;, score=0.806 total time=   2.2s\n",
            "[CV 2/5] END bootstrap=True, max_features=auto, min_samples_leaf=4, min_samples_split=2, n_estimators=300;, score=0.797 total time=   2.2s\n",
            "[CV 3/5] END bootstrap=True, max_features=auto, min_samples_leaf=4, min_samples_split=2, n_estimators=300;, score=0.804 total time=   2.2s\n",
            "[CV 4/5] END bootstrap=True, max_features=auto, min_samples_leaf=4, min_samples_split=2, n_estimators=300;, score=0.792 total time=   2.1s\n",
            "[CV 5/5] END bootstrap=True, max_features=auto, min_samples_leaf=4, min_samples_split=2, n_estimators=300;, score=0.818 total time=   2.2s\n",
            "[CV 1/5] END bootstrap=True, max_features=auto, min_samples_leaf=4, min_samples_split=5, n_estimators=100;, score=0.812 total time=   0.7s\n",
            "[CV 2/5] END bootstrap=True, max_features=auto, min_samples_leaf=4, min_samples_split=5, n_estimators=100;, score=0.794 total time=   0.7s\n",
            "[CV 3/5] END bootstrap=True, max_features=auto, min_samples_leaf=4, min_samples_split=5, n_estimators=100;, score=0.802 total time=   0.7s\n",
            "[CV 4/5] END bootstrap=True, max_features=auto, min_samples_leaf=4, min_samples_split=5, n_estimators=100;, score=0.786 total time=   0.7s\n",
            "[CV 5/5] END bootstrap=True, max_features=auto, min_samples_leaf=4, min_samples_split=5, n_estimators=100;, score=0.817 total time=   0.7s\n",
            "[CV 1/5] END bootstrap=True, max_features=auto, min_samples_leaf=4, min_samples_split=5, n_estimators=200;, score=0.809 total time=   1.9s\n",
            "[CV 2/5] END bootstrap=True, max_features=auto, min_samples_leaf=4, min_samples_split=5, n_estimators=200;, score=0.797 total time=   2.3s\n",
            "[CV 3/5] END bootstrap=True, max_features=auto, min_samples_leaf=4, min_samples_split=5, n_estimators=200;, score=0.802 total time=   1.4s\n",
            "[CV 4/5] END bootstrap=True, max_features=auto, min_samples_leaf=4, min_samples_split=5, n_estimators=200;, score=0.792 total time=   1.4s\n",
            "[CV 5/5] END bootstrap=True, max_features=auto, min_samples_leaf=4, min_samples_split=5, n_estimators=200;, score=0.825 total time=   1.4s\n",
            "[CV 1/5] END bootstrap=True, max_features=auto, min_samples_leaf=4, min_samples_split=5, n_estimators=300;, score=0.809 total time=   2.2s\n",
            "[CV 2/5] END bootstrap=True, max_features=auto, min_samples_leaf=4, min_samples_split=5, n_estimators=300;, score=0.791 total time=   2.2s\n",
            "[CV 3/5] END bootstrap=True, max_features=auto, min_samples_leaf=4, min_samples_split=5, n_estimators=300;, score=0.806 total time=   2.2s\n",
            "[CV 4/5] END bootstrap=True, max_features=auto, min_samples_leaf=4, min_samples_split=5, n_estimators=300;, score=0.795 total time=   2.1s\n",
            "[CV 5/5] END bootstrap=True, max_features=auto, min_samples_leaf=4, min_samples_split=5, n_estimators=300;, score=0.820 total time=   2.2s\n",
            "[CV 1/5] END bootstrap=True, max_features=auto, min_samples_leaf=5, min_samples_split=2, n_estimators=100;, score=0.809 total time=   0.7s\n",
            "[CV 2/5] END bootstrap=True, max_features=auto, min_samples_leaf=5, min_samples_split=2, n_estimators=100;, score=0.795 total time=   0.7s\n",
            "[CV 3/5] END bootstrap=True, max_features=auto, min_samples_leaf=5, min_samples_split=2, n_estimators=100;, score=0.800 total time=   0.7s\n",
            "[CV 4/5] END bootstrap=True, max_features=auto, min_samples_leaf=5, min_samples_split=2, n_estimators=100;, score=0.792 total time=   0.7s\n",
            "[CV 5/5] END bootstrap=True, max_features=auto, min_samples_leaf=5, min_samples_split=2, n_estimators=100;, score=0.820 total time=   0.7s\n",
            "[CV 1/5] END bootstrap=True, max_features=auto, min_samples_leaf=5, min_samples_split=2, n_estimators=200;, score=0.807 total time=   1.4s\n",
            "[CV 2/5] END bootstrap=True, max_features=auto, min_samples_leaf=5, min_samples_split=2, n_estimators=200;, score=0.795 total time=   1.4s\n",
            "[CV 3/5] END bootstrap=True, max_features=auto, min_samples_leaf=5, min_samples_split=2, n_estimators=200;, score=0.805 total time=   1.4s\n",
            "[CV 4/5] END bootstrap=True, max_features=auto, min_samples_leaf=5, min_samples_split=2, n_estimators=200;, score=0.794 total time=   1.4s\n",
            "[CV 5/5] END bootstrap=True, max_features=auto, min_samples_leaf=5, min_samples_split=2, n_estimators=200;, score=0.819 total time=   1.4s\n",
            "[CV 1/5] END bootstrap=True, max_features=auto, min_samples_leaf=5, min_samples_split=2, n_estimators=300;, score=0.812 total time=   2.1s\n",
            "[CV 2/5] END bootstrap=True, max_features=auto, min_samples_leaf=5, min_samples_split=2, n_estimators=300;, score=0.796 total time=   2.1s\n",
            "[CV 3/5] END bootstrap=True, max_features=auto, min_samples_leaf=5, min_samples_split=2, n_estimators=300;, score=0.801 total time=   2.2s\n",
            "[CV 4/5] END bootstrap=True, max_features=auto, min_samples_leaf=5, min_samples_split=2, n_estimators=300;, score=0.789 total time=   2.1s\n",
            "[CV 5/5] END bootstrap=True, max_features=auto, min_samples_leaf=5, min_samples_split=2, n_estimators=300;, score=0.817 total time=   2.1s\n",
            "[CV 1/5] END bootstrap=True, max_features=auto, min_samples_leaf=5, min_samples_split=5, n_estimators=100;, score=0.812 total time=   0.7s\n",
            "[CV 2/5] END bootstrap=True, max_features=auto, min_samples_leaf=5, min_samples_split=5, n_estimators=100;, score=0.794 total time=   0.7s\n",
            "[CV 3/5] END bootstrap=True, max_features=auto, min_samples_leaf=5, min_samples_split=5, n_estimators=100;, score=0.799 total time=   0.7s\n",
            "[CV 4/5] END bootstrap=True, max_features=auto, min_samples_leaf=5, min_samples_split=5, n_estimators=100;, score=0.791 total time=   0.7s\n",
            "[CV 5/5] END bootstrap=True, max_features=auto, min_samples_leaf=5, min_samples_split=5, n_estimators=100;, score=0.818 total time=   0.7s\n",
            "[CV 1/5] END bootstrap=True, max_features=auto, min_samples_leaf=5, min_samples_split=5, n_estimators=200;, score=0.810 total time=   1.4s\n",
            "[CV 2/5] END bootstrap=True, max_features=auto, min_samples_leaf=5, min_samples_split=5, n_estimators=200;, score=0.791 total time=   1.4s\n",
            "[CV 3/5] END bootstrap=True, max_features=auto, min_samples_leaf=5, min_samples_split=5, n_estimators=200;, score=0.802 total time=   1.5s\n",
            "[CV 4/5] END bootstrap=True, max_features=auto, min_samples_leaf=5, min_samples_split=5, n_estimators=200;, score=0.791 total time=   1.9s\n",
            "[CV 5/5] END bootstrap=True, max_features=auto, min_samples_leaf=5, min_samples_split=5, n_estimators=200;, score=0.820 total time=   1.4s\n",
            "[CV 1/5] END bootstrap=True, max_features=auto, min_samples_leaf=5, min_samples_split=5, n_estimators=300;, score=0.809 total time=   2.1s\n",
            "[CV 2/5] END bootstrap=True, max_features=auto, min_samples_leaf=5, min_samples_split=5, n_estimators=300;, score=0.795 total time=   2.1s\n",
            "[CV 3/5] END bootstrap=True, max_features=auto, min_samples_leaf=5, min_samples_split=5, n_estimators=300;, score=0.802 total time=   3.3s\n",
            "[CV 4/5] END bootstrap=True, max_features=auto, min_samples_leaf=5, min_samples_split=5, n_estimators=300;, score=0.792 total time=   2.1s\n",
            "[CV 5/5] END bootstrap=True, max_features=auto, min_samples_leaf=5, min_samples_split=5, n_estimators=300;, score=0.823 total time=   2.1s\n",
            "[CV 1/5] END bootstrap=True, max_features=auto, min_samples_leaf=6, min_samples_split=2, n_estimators=100;, score=0.811 total time=   0.7s\n",
            "[CV 2/5] END bootstrap=True, max_features=auto, min_samples_leaf=6, min_samples_split=2, n_estimators=100;, score=0.793 total time=   0.7s\n",
            "[CV 3/5] END bootstrap=True, max_features=auto, min_samples_leaf=6, min_samples_split=2, n_estimators=100;, score=0.801 total time=   0.7s\n",
            "[CV 4/5] END bootstrap=True, max_features=auto, min_samples_leaf=6, min_samples_split=2, n_estimators=100;, score=0.789 total time=   0.7s\n",
            "[CV 5/5] END bootstrap=True, max_features=auto, min_samples_leaf=6, min_samples_split=2, n_estimators=100;, score=0.815 total time=   0.7s\n",
            "[CV 1/5] END bootstrap=True, max_features=auto, min_samples_leaf=6, min_samples_split=2, n_estimators=200;, score=0.806 total time=   1.4s\n",
            "[CV 2/5] END bootstrap=True, max_features=auto, min_samples_leaf=6, min_samples_split=2, n_estimators=200;, score=0.799 total time=   1.4s\n",
            "[CV 3/5] END bootstrap=True, max_features=auto, min_samples_leaf=6, min_samples_split=2, n_estimators=200;, score=0.808 total time=   1.4s\n",
            "[CV 4/5] END bootstrap=True, max_features=auto, min_samples_leaf=6, min_samples_split=2, n_estimators=200;, score=0.790 total time=   1.4s\n",
            "[CV 5/5] END bootstrap=True, max_features=auto, min_samples_leaf=6, min_samples_split=2, n_estimators=200;, score=0.818 total time=   1.4s\n",
            "[CV 1/5] END bootstrap=True, max_features=auto, min_samples_leaf=6, min_samples_split=2, n_estimators=300;, score=0.808 total time=   2.1s\n",
            "[CV 2/5] END bootstrap=True, max_features=auto, min_samples_leaf=6, min_samples_split=2, n_estimators=300;, score=0.795 total time=   2.1s\n",
            "[CV 3/5] END bootstrap=True, max_features=auto, min_samples_leaf=6, min_samples_split=2, n_estimators=300;, score=0.802 total time=   2.1s\n",
            "[CV 4/5] END bootstrap=True, max_features=auto, min_samples_leaf=6, min_samples_split=2, n_estimators=300;, score=0.795 total time=   2.1s\n",
            "[CV 5/5] END bootstrap=True, max_features=auto, min_samples_leaf=6, min_samples_split=2, n_estimators=300;, score=0.818 total time=   2.0s\n",
            "[CV 1/5] END bootstrap=True, max_features=auto, min_samples_leaf=6, min_samples_split=5, n_estimators=100;, score=0.809 total time=   0.7s\n",
            "[CV 2/5] END bootstrap=True, max_features=auto, min_samples_leaf=6, min_samples_split=5, n_estimators=100;, score=0.797 total time=   0.7s\n",
            "[CV 3/5] END bootstrap=True, max_features=auto, min_samples_leaf=6, min_samples_split=5, n_estimators=100;, score=0.804 total time=   0.7s\n",
            "[CV 4/5] END bootstrap=True, max_features=auto, min_samples_leaf=6, min_samples_split=5, n_estimators=100;, score=0.782 total time=   0.7s\n",
            "[CV 5/5] END bootstrap=True, max_features=auto, min_samples_leaf=6, min_samples_split=5, n_estimators=100;, score=0.812 total time=   0.7s\n",
            "[CV 1/5] END bootstrap=True, max_features=auto, min_samples_leaf=6, min_samples_split=5, n_estimators=200;, score=0.807 total time=   1.4s\n",
            "[CV 2/5] END bootstrap=True, max_features=auto, min_samples_leaf=6, min_samples_split=5, n_estimators=200;, score=0.791 total time=   1.4s\n",
            "[CV 3/5] END bootstrap=True, max_features=auto, min_samples_leaf=6, min_samples_split=5, n_estimators=200;, score=0.806 total time=   1.4s\n",
            "[CV 4/5] END bootstrap=True, max_features=auto, min_samples_leaf=6, min_samples_split=5, n_estimators=200;, score=0.789 total time=   1.4s\n",
            "[CV 5/5] END bootstrap=True, max_features=auto, min_samples_leaf=6, min_samples_split=5, n_estimators=200;, score=0.817 total time=   1.3s\n",
            "[CV 1/5] END bootstrap=True, max_features=auto, min_samples_leaf=6, min_samples_split=5, n_estimators=300;, score=0.817 total time=   2.1s\n",
            "[CV 2/5] END bootstrap=True, max_features=auto, min_samples_leaf=6, min_samples_split=5, n_estimators=300;, score=0.797 total time=   2.1s\n",
            "[CV 3/5] END bootstrap=True, max_features=auto, min_samples_leaf=6, min_samples_split=5, n_estimators=300;, score=0.802 total time=   2.1s\n",
            "[CV 4/5] END bootstrap=True, max_features=auto, min_samples_leaf=6, min_samples_split=5, n_estimators=300;, score=0.789 total time=   2.0s\n",
            "[CV 5/5] END bootstrap=True, max_features=auto, min_samples_leaf=6, min_samples_split=5, n_estimators=300;, score=0.819 total time=   2.0s\n",
            "[CV 1/5] END bootstrap=True, max_features=sqrt, min_samples_leaf=4, min_samples_split=2, n_estimators=100;, score=0.809 total time=   0.7s\n",
            "[CV 2/5] END bootstrap=True, max_features=sqrt, min_samples_leaf=4, min_samples_split=2, n_estimators=100;, score=0.792 total time=   0.7s\n",
            "[CV 3/5] END bootstrap=True, max_features=sqrt, min_samples_leaf=4, min_samples_split=2, n_estimators=100;, score=0.802 total time=   0.7s\n",
            "[CV 4/5] END bootstrap=True, max_features=sqrt, min_samples_leaf=4, min_samples_split=2, n_estimators=100;, score=0.785 total time=   0.7s\n",
            "[CV 5/5] END bootstrap=True, max_features=sqrt, min_samples_leaf=4, min_samples_split=2, n_estimators=100;, score=0.821 total time=   0.7s\n",
            "[CV 1/5] END bootstrap=True, max_features=sqrt, min_samples_leaf=4, min_samples_split=2, n_estimators=200;, score=0.807 total time=   1.5s\n",
            "[CV 2/5] END bootstrap=True, max_features=sqrt, min_samples_leaf=4, min_samples_split=2, n_estimators=200;, score=0.794 total time=   1.4s\n",
            "[CV 3/5] END bootstrap=True, max_features=sqrt, min_samples_leaf=4, min_samples_split=2, n_estimators=200;, score=0.800 total time=   1.4s\n",
            "[CV 4/5] END bootstrap=True, max_features=sqrt, min_samples_leaf=4, min_samples_split=2, n_estimators=200;, score=0.786 total time=   1.4s\n",
            "[CV 5/5] END bootstrap=True, max_features=sqrt, min_samples_leaf=4, min_samples_split=2, n_estimators=200;, score=0.818 total time=   1.4s\n",
            "[CV 1/5] END bootstrap=True, max_features=sqrt, min_samples_leaf=4, min_samples_split=2, n_estimators=300;, score=0.813 total time=   2.2s\n",
            "[CV 2/5] END bootstrap=True, max_features=sqrt, min_samples_leaf=4, min_samples_split=2, n_estimators=300;, score=0.793 total time=   2.2s\n",
            "[CV 3/5] END bootstrap=True, max_features=sqrt, min_samples_leaf=4, min_samples_split=2, n_estimators=300;, score=0.809 total time=   2.1s\n",
            "[CV 4/5] END bootstrap=True, max_features=sqrt, min_samples_leaf=4, min_samples_split=2, n_estimators=300;, score=0.788 total time=   2.1s\n",
            "[CV 5/5] END bootstrap=True, max_features=sqrt, min_samples_leaf=4, min_samples_split=2, n_estimators=300;, score=0.821 total time=   2.2s\n",
            "[CV 1/5] END bootstrap=True, max_features=sqrt, min_samples_leaf=4, min_samples_split=5, n_estimators=100;, score=0.811 total time=   0.7s\n",
            "[CV 2/5] END bootstrap=True, max_features=sqrt, min_samples_leaf=4, min_samples_split=5, n_estimators=100;, score=0.792 total time=   0.7s\n",
            "[CV 3/5] END bootstrap=True, max_features=sqrt, min_samples_leaf=4, min_samples_split=5, n_estimators=100;, score=0.804 total time=   0.7s\n",
            "[CV 4/5] END bootstrap=True, max_features=sqrt, min_samples_leaf=4, min_samples_split=5, n_estimators=100;, score=0.790 total time=   0.7s\n",
            "[CV 5/5] END bootstrap=True, max_features=sqrt, min_samples_leaf=4, min_samples_split=5, n_estimators=100;, score=0.819 total time=   0.7s\n",
            "[CV 1/5] END bootstrap=True, max_features=sqrt, min_samples_leaf=4, min_samples_split=5, n_estimators=200;, score=0.809 total time=   1.5s\n",
            "[CV 2/5] END bootstrap=True, max_features=sqrt, min_samples_leaf=4, min_samples_split=5, n_estimators=200;, score=0.792 total time=   1.4s\n",
            "[CV 3/5] END bootstrap=True, max_features=sqrt, min_samples_leaf=4, min_samples_split=5, n_estimators=200;, score=0.802 total time=   1.4s\n",
            "[CV 4/5] END bootstrap=True, max_features=sqrt, min_samples_leaf=4, min_samples_split=5, n_estimators=200;, score=0.790 total time=   1.4s\n",
            "[CV 5/5] END bootstrap=True, max_features=sqrt, min_samples_leaf=4, min_samples_split=5, n_estimators=200;, score=0.821 total time=   1.4s\n",
            "[CV 1/5] END bootstrap=True, max_features=sqrt, min_samples_leaf=4, min_samples_split=5, n_estimators=300;, score=0.807 total time=   2.2s\n",
            "[CV 2/5] END bootstrap=True, max_features=sqrt, min_samples_leaf=4, min_samples_split=5, n_estimators=300;, score=0.792 total time=   2.2s\n",
            "[CV 3/5] END bootstrap=True, max_features=sqrt, min_samples_leaf=4, min_samples_split=5, n_estimators=300;, score=0.799 total time=   2.2s\n",
            "[CV 4/5] END bootstrap=True, max_features=sqrt, min_samples_leaf=4, min_samples_split=5, n_estimators=300;, score=0.792 total time=   2.2s\n",
            "[CV 5/5] END bootstrap=True, max_features=sqrt, min_samples_leaf=4, min_samples_split=5, n_estimators=300;, score=0.822 total time=   2.2s\n",
            "[CV 1/5] END bootstrap=True, max_features=sqrt, min_samples_leaf=5, min_samples_split=2, n_estimators=100;, score=0.806 total time=   0.7s\n",
            "[CV 2/5] END bootstrap=True, max_features=sqrt, min_samples_leaf=5, min_samples_split=2, n_estimators=100;, score=0.789 total time=   0.7s\n",
            "[CV 3/5] END bootstrap=True, max_features=sqrt, min_samples_leaf=5, min_samples_split=2, n_estimators=100;, score=0.804 total time=   0.7s\n",
            "[CV 4/5] END bootstrap=True, max_features=sqrt, min_samples_leaf=5, min_samples_split=2, n_estimators=100;, score=0.793 total time=   0.7s\n",
            "[CV 5/5] END bootstrap=True, max_features=sqrt, min_samples_leaf=5, min_samples_split=2, n_estimators=100;, score=0.820 total time=   0.8s\n",
            "[CV 1/5] END bootstrap=True, max_features=sqrt, min_samples_leaf=5, min_samples_split=2, n_estimators=200;, score=0.812 total time=   1.4s\n",
            "[CV 2/5] END bootstrap=True, max_features=sqrt, min_samples_leaf=5, min_samples_split=2, n_estimators=200;, score=0.791 total time=   1.4s\n",
            "[CV 3/5] END bootstrap=True, max_features=sqrt, min_samples_leaf=5, min_samples_split=2, n_estimators=200;, score=0.807 total time=   1.4s\n",
            "[CV 4/5] END bootstrap=True, max_features=sqrt, min_samples_leaf=5, min_samples_split=2, n_estimators=200;, score=0.797 total time=   1.4s\n",
            "[CV 5/5] END bootstrap=True, max_features=sqrt, min_samples_leaf=5, min_samples_split=2, n_estimators=200;, score=0.821 total time=   1.4s\n",
            "[CV 1/5] END bootstrap=True, max_features=sqrt, min_samples_leaf=5, min_samples_split=2, n_estimators=300;, score=0.811 total time=   2.1s\n",
            "[CV 2/5] END bootstrap=True, max_features=sqrt, min_samples_leaf=5, min_samples_split=2, n_estimators=300;, score=0.794 total time=   2.1s\n",
            "[CV 3/5] END bootstrap=True, max_features=sqrt, min_samples_leaf=5, min_samples_split=2, n_estimators=300;, score=0.804 total time=   2.1s\n",
            "[CV 4/5] END bootstrap=True, max_features=sqrt, min_samples_leaf=5, min_samples_split=2, n_estimators=300;, score=0.793 total time=   2.1s\n",
            "[CV 5/5] END bootstrap=True, max_features=sqrt, min_samples_leaf=5, min_samples_split=2, n_estimators=300;, score=0.820 total time=   2.1s\n",
            "[CV 1/5] END bootstrap=True, max_features=sqrt, min_samples_leaf=5, min_samples_split=5, n_estimators=100;, score=0.799 total time=   0.7s\n",
            "[CV 2/5] END bootstrap=True, max_features=sqrt, min_samples_leaf=5, min_samples_split=5, n_estimators=100;, score=0.797 total time=   0.7s\n",
            "[CV 3/5] END bootstrap=True, max_features=sqrt, min_samples_leaf=5, min_samples_split=5, n_estimators=100;, score=0.811 total time=   0.7s\n",
            "[CV 4/5] END bootstrap=True, max_features=sqrt, min_samples_leaf=5, min_samples_split=5, n_estimators=100;, score=0.790 total time=   0.7s\n",
            "[CV 5/5] END bootstrap=True, max_features=sqrt, min_samples_leaf=5, min_samples_split=5, n_estimators=100;, score=0.822 total time=   0.7s\n",
            "[CV 1/5] END bootstrap=True, max_features=sqrt, min_samples_leaf=5, min_samples_split=5, n_estimators=200;, score=0.814 total time=   1.4s\n",
            "[CV 2/5] END bootstrap=True, max_features=sqrt, min_samples_leaf=5, min_samples_split=5, n_estimators=200;, score=0.788 total time=   1.4s\n",
            "[CV 3/5] END bootstrap=True, max_features=sqrt, min_samples_leaf=5, min_samples_split=5, n_estimators=200;, score=0.806 total time=   1.4s\n",
            "[CV 4/5] END bootstrap=True, max_features=sqrt, min_samples_leaf=5, min_samples_split=5, n_estimators=200;, score=0.791 total time=   1.6s\n",
            "[CV 5/5] END bootstrap=True, max_features=sqrt, min_samples_leaf=5, min_samples_split=5, n_estimators=200;, score=0.816 total time=   1.8s\n",
            "[CV 1/5] END bootstrap=True, max_features=sqrt, min_samples_leaf=5, min_samples_split=5, n_estimators=300;, score=0.810 total time=   2.1s\n",
            "[CV 2/5] END bootstrap=True, max_features=sqrt, min_samples_leaf=5, min_samples_split=5, n_estimators=300;, score=0.792 total time=   2.1s\n",
            "[CV 3/5] END bootstrap=True, max_features=sqrt, min_samples_leaf=5, min_samples_split=5, n_estimators=300;, score=0.801 total time=   2.2s\n",
            "[CV 4/5] END bootstrap=True, max_features=sqrt, min_samples_leaf=5, min_samples_split=5, n_estimators=300;, score=0.790 total time=   2.1s\n",
            "[CV 5/5] END bootstrap=True, max_features=sqrt, min_samples_leaf=5, min_samples_split=5, n_estimators=300;, score=0.817 total time=   2.2s\n",
            "[CV 1/5] END bootstrap=True, max_features=sqrt, min_samples_leaf=6, min_samples_split=2, n_estimators=100;, score=0.806 total time=   0.7s\n",
            "[CV 2/5] END bootstrap=True, max_features=sqrt, min_samples_leaf=6, min_samples_split=2, n_estimators=100;, score=0.799 total time=   0.7s\n",
            "[CV 3/5] END bootstrap=True, max_features=sqrt, min_samples_leaf=6, min_samples_split=2, n_estimators=100;, score=0.799 total time=   0.7s\n",
            "[CV 4/5] END bootstrap=True, max_features=sqrt, min_samples_leaf=6, min_samples_split=2, n_estimators=100;, score=0.792 total time=   0.7s\n",
            "[CV 5/5] END bootstrap=True, max_features=sqrt, min_samples_leaf=6, min_samples_split=2, n_estimators=100;, score=0.822 total time=   0.7s\n",
            "[CV 1/5] END bootstrap=True, max_features=sqrt, min_samples_leaf=6, min_samples_split=2, n_estimators=200;, score=0.815 total time=   1.4s\n",
            "[CV 2/5] END bootstrap=True, max_features=sqrt, min_samples_leaf=6, min_samples_split=2, n_estimators=200;, score=0.794 total time=   1.4s\n",
            "[CV 3/5] END bootstrap=True, max_features=sqrt, min_samples_leaf=6, min_samples_split=2, n_estimators=200;, score=0.802 total time=   1.4s\n",
            "[CV 4/5] END bootstrap=True, max_features=sqrt, min_samples_leaf=6, min_samples_split=2, n_estimators=200;, score=0.791 total time=   1.4s\n",
            "[CV 5/5] END bootstrap=True, max_features=sqrt, min_samples_leaf=6, min_samples_split=2, n_estimators=200;, score=0.815 total time=   1.4s\n",
            "[CV 1/5] END bootstrap=True, max_features=sqrt, min_samples_leaf=6, min_samples_split=2, n_estimators=300;, score=0.812 total time=   2.1s\n",
            "[CV 2/5] END bootstrap=True, max_features=sqrt, min_samples_leaf=6, min_samples_split=2, n_estimators=300;, score=0.794 total time=   2.0s\n",
            "[CV 3/5] END bootstrap=True, max_features=sqrt, min_samples_leaf=6, min_samples_split=2, n_estimators=300;, score=0.808 total time=   2.0s\n",
            "[CV 4/5] END bootstrap=True, max_features=sqrt, min_samples_leaf=6, min_samples_split=2, n_estimators=300;, score=0.786 total time=   2.1s\n",
            "[CV 5/5] END bootstrap=True, max_features=sqrt, min_samples_leaf=6, min_samples_split=2, n_estimators=300;, score=0.817 total time=   2.1s\n",
            "[CV 1/5] END bootstrap=True, max_features=sqrt, min_samples_leaf=6, min_samples_split=5, n_estimators=100;, score=0.811 total time=   0.7s\n",
            "[CV 2/5] END bootstrap=True, max_features=sqrt, min_samples_leaf=6, min_samples_split=5, n_estimators=100;, score=0.789 total time=   0.7s\n",
            "[CV 3/5] END bootstrap=True, max_features=sqrt, min_samples_leaf=6, min_samples_split=5, n_estimators=100;, score=0.800 total time=   0.7s\n",
            "[CV 4/5] END bootstrap=True, max_features=sqrt, min_samples_leaf=6, min_samples_split=5, n_estimators=100;, score=0.789 total time=   0.7s\n",
            "[CV 5/5] END bootstrap=True, max_features=sqrt, min_samples_leaf=6, min_samples_split=5, n_estimators=100;, score=0.809 total time=   0.7s\n",
            "[CV 1/5] END bootstrap=True, max_features=sqrt, min_samples_leaf=6, min_samples_split=5, n_estimators=200;, score=0.815 total time=   1.4s\n",
            "[CV 2/5] END bootstrap=True, max_features=sqrt, min_samples_leaf=6, min_samples_split=5, n_estimators=200;, score=0.797 total time=   1.4s\n",
            "[CV 3/5] END bootstrap=True, max_features=sqrt, min_samples_leaf=6, min_samples_split=5, n_estimators=200;, score=0.806 total time=   1.4s\n",
            "[CV 4/5] END bootstrap=True, max_features=sqrt, min_samples_leaf=6, min_samples_split=5, n_estimators=200;, score=0.792 total time=   1.4s\n",
            "[CV 5/5] END bootstrap=True, max_features=sqrt, min_samples_leaf=6, min_samples_split=5, n_estimators=200;, score=0.818 total time=   1.4s\n",
            "[CV 1/5] END bootstrap=True, max_features=sqrt, min_samples_leaf=6, min_samples_split=5, n_estimators=300;, score=0.813 total time=   2.0s\n",
            "[CV 2/5] END bootstrap=True, max_features=sqrt, min_samples_leaf=6, min_samples_split=5, n_estimators=300;, score=0.798 total time=   2.0s\n",
            "[CV 3/5] END bootstrap=True, max_features=sqrt, min_samples_leaf=6, min_samples_split=5, n_estimators=300;, score=0.801 total time=   2.1s\n",
            "[CV 4/5] END bootstrap=True, max_features=sqrt, min_samples_leaf=6, min_samples_split=5, n_estimators=300;, score=0.790 total time=   2.1s\n",
            "[CV 5/5] END bootstrap=True, max_features=sqrt, min_samples_leaf=6, min_samples_split=5, n_estimators=300;, score=0.822 total time=   2.0s\n",
            "[CV 1/5] END bootstrap=False, max_features=auto, min_samples_leaf=4, min_samples_split=2, n_estimators=100;, score=0.813 total time=   1.0s\n",
            "[CV 2/5] END bootstrap=False, max_features=auto, min_samples_leaf=4, min_samples_split=2, n_estimators=100;, score=0.792 total time=   1.0s\n",
            "[CV 3/5] END bootstrap=False, max_features=auto, min_samples_leaf=4, min_samples_split=2, n_estimators=100;, score=0.801 total time=   1.1s\n",
            "[CV 4/5] END bootstrap=False, max_features=auto, min_samples_leaf=4, min_samples_split=2, n_estimators=100;, score=0.788 total time=   1.1s\n",
            "[CV 5/5] END bootstrap=False, max_features=auto, min_samples_leaf=4, min_samples_split=2, n_estimators=100;, score=0.820 total time=   1.0s\n",
            "[CV 1/5] END bootstrap=False, max_features=auto, min_samples_leaf=4, min_samples_split=2, n_estimators=200;, score=0.816 total time=   2.1s\n",
            "[CV 2/5] END bootstrap=False, max_features=auto, min_samples_leaf=4, min_samples_split=2, n_estimators=200;, score=0.790 total time=   2.1s\n",
            "[CV 3/5] END bootstrap=False, max_features=auto, min_samples_leaf=4, min_samples_split=2, n_estimators=200;, score=0.793 total time=   2.1s\n",
            "[CV 4/5] END bootstrap=False, max_features=auto, min_samples_leaf=4, min_samples_split=2, n_estimators=200;, score=0.791 total time=   2.2s\n",
            "[CV 5/5] END bootstrap=False, max_features=auto, min_samples_leaf=4, min_samples_split=2, n_estimators=200;, score=0.820 total time=   2.2s\n",
            "[CV 1/5] END bootstrap=False, max_features=auto, min_samples_leaf=4, min_samples_split=2, n_estimators=300;, score=0.811 total time=   3.2s\n",
            "[CV 2/5] END bootstrap=False, max_features=auto, min_samples_leaf=4, min_samples_split=2, n_estimators=300;, score=0.792 total time=   3.2s\n",
            "[CV 3/5] END bootstrap=False, max_features=auto, min_samples_leaf=4, min_samples_split=2, n_estimators=300;, score=0.799 total time=   3.2s\n",
            "[CV 4/5] END bootstrap=False, max_features=auto, min_samples_leaf=4, min_samples_split=2, n_estimators=300;, score=0.797 total time=   3.2s\n",
            "[CV 5/5] END bootstrap=False, max_features=auto, min_samples_leaf=4, min_samples_split=2, n_estimators=300;, score=0.813 total time=   3.2s\n",
            "[CV 1/5] END bootstrap=False, max_features=auto, min_samples_leaf=4, min_samples_split=5, n_estimators=100;, score=0.812 total time=   1.1s\n",
            "[CV 2/5] END bootstrap=False, max_features=auto, min_samples_leaf=4, min_samples_split=5, n_estimators=100;, score=0.786 total time=   1.1s\n",
            "[CV 3/5] END bootstrap=False, max_features=auto, min_samples_leaf=4, min_samples_split=5, n_estimators=100;, score=0.796 total time=   1.1s\n",
            "[CV 4/5] END bootstrap=False, max_features=auto, min_samples_leaf=4, min_samples_split=5, n_estimators=100;, score=0.794 total time=   1.1s\n",
            "[CV 5/5] END bootstrap=False, max_features=auto, min_samples_leaf=4, min_samples_split=5, n_estimators=100;, score=0.817 total time=   1.1s\n",
            "[CV 1/5] END bootstrap=False, max_features=auto, min_samples_leaf=4, min_samples_split=5, n_estimators=200;, score=0.816 total time=   2.2s\n",
            "[CV 2/5] END bootstrap=False, max_features=auto, min_samples_leaf=4, min_samples_split=5, n_estimators=200;, score=0.782 total time=   2.1s\n",
            "[CV 3/5] END bootstrap=False, max_features=auto, min_samples_leaf=4, min_samples_split=5, n_estimators=200;, score=0.798 total time=   2.1s\n",
            "[CV 4/5] END bootstrap=False, max_features=auto, min_samples_leaf=4, min_samples_split=5, n_estimators=200;, score=0.793 total time=   2.1s\n",
            "[CV 5/5] END bootstrap=False, max_features=auto, min_samples_leaf=4, min_samples_split=5, n_estimators=200;, score=0.820 total time=   2.2s\n",
            "[CV 1/5] END bootstrap=False, max_features=auto, min_samples_leaf=4, min_samples_split=5, n_estimators=300;, score=0.811 total time=   3.2s\n",
            "[CV 2/5] END bootstrap=False, max_features=auto, min_samples_leaf=4, min_samples_split=5, n_estimators=300;, score=0.789 total time=   3.2s\n",
            "[CV 3/5] END bootstrap=False, max_features=auto, min_samples_leaf=4, min_samples_split=5, n_estimators=300;, score=0.797 total time=   3.2s\n",
            "[CV 4/5] END bootstrap=False, max_features=auto, min_samples_leaf=4, min_samples_split=5, n_estimators=300;, score=0.789 total time=   3.2s\n",
            "[CV 5/5] END bootstrap=False, max_features=auto, min_samples_leaf=4, min_samples_split=5, n_estimators=300;, score=0.817 total time=   3.1s\n",
            "[CV 1/5] END bootstrap=False, max_features=auto, min_samples_leaf=5, min_samples_split=2, n_estimators=100;, score=0.815 total time=   1.0s\n",
            "[CV 2/5] END bootstrap=False, max_features=auto, min_samples_leaf=5, min_samples_split=2, n_estimators=100;, score=0.795 total time=   1.0s\n",
            "[CV 3/5] END bootstrap=False, max_features=auto, min_samples_leaf=5, min_samples_split=2, n_estimators=100;, score=0.802 total time=   1.0s\n",
            "[CV 4/5] END bootstrap=False, max_features=auto, min_samples_leaf=5, min_samples_split=2, n_estimators=100;, score=0.789 total time=   1.0s\n",
            "[CV 5/5] END bootstrap=False, max_features=auto, min_samples_leaf=5, min_samples_split=2, n_estimators=100;, score=0.817 total time=   1.0s\n",
            "[CV 1/5] END bootstrap=False, max_features=auto, min_samples_leaf=5, min_samples_split=2, n_estimators=200;, score=0.805 total time=   2.0s\n",
            "[CV 2/5] END bootstrap=False, max_features=auto, min_samples_leaf=5, min_samples_split=2, n_estimators=200;, score=0.791 total time=   2.1s\n",
            "[CV 3/5] END bootstrap=False, max_features=auto, min_samples_leaf=5, min_samples_split=2, n_estimators=200;, score=0.797 total time=   2.1s\n",
            "[CV 4/5] END bootstrap=False, max_features=auto, min_samples_leaf=5, min_samples_split=2, n_estimators=200;, score=0.791 total time=   2.7s\n",
            "[CV 5/5] END bootstrap=False, max_features=auto, min_samples_leaf=5, min_samples_split=2, n_estimators=200;, score=0.817 total time=   2.0s\n",
            "[CV 1/5] END bootstrap=False, max_features=auto, min_samples_leaf=5, min_samples_split=2, n_estimators=300;, score=0.805 total time=   3.1s\n",
            "[CV 2/5] END bootstrap=False, max_features=auto, min_samples_leaf=5, min_samples_split=2, n_estimators=300;, score=0.796 total time=   3.1s\n",
            "[CV 3/5] END bootstrap=False, max_features=auto, min_samples_leaf=5, min_samples_split=2, n_estimators=300;, score=0.799 total time=   3.1s\n",
            "[CV 4/5] END bootstrap=False, max_features=auto, min_samples_leaf=5, min_samples_split=2, n_estimators=300;, score=0.792 total time=   3.1s\n",
            "[CV 5/5] END bootstrap=False, max_features=auto, min_samples_leaf=5, min_samples_split=2, n_estimators=300;, score=0.819 total time=   3.0s\n",
            "[CV 1/5] END bootstrap=False, max_features=auto, min_samples_leaf=5, min_samples_split=5, n_estimators=100;, score=0.813 total time=   1.0s\n",
            "[CV 2/5] END bootstrap=False, max_features=auto, min_samples_leaf=5, min_samples_split=5, n_estimators=100;, score=0.786 total time=   1.0s\n",
            "[CV 3/5] END bootstrap=False, max_features=auto, min_samples_leaf=5, min_samples_split=5, n_estimators=100;, score=0.794 total time=   1.1s\n",
            "[CV 4/5] END bootstrap=False, max_features=auto, min_samples_leaf=5, min_samples_split=5, n_estimators=100;, score=0.792 total time=   1.0s\n",
            "[CV 5/5] END bootstrap=False, max_features=auto, min_samples_leaf=5, min_samples_split=5, n_estimators=100;, score=0.812 total time=   1.0s\n",
            "[CV 1/5] END bootstrap=False, max_features=auto, min_samples_leaf=5, min_samples_split=5, n_estimators=200;, score=0.811 total time=   2.0s\n",
            "[CV 2/5] END bootstrap=False, max_features=auto, min_samples_leaf=5, min_samples_split=5, n_estimators=200;, score=0.782 total time=   2.1s\n",
            "[CV 3/5] END bootstrap=False, max_features=auto, min_samples_leaf=5, min_samples_split=5, n_estimators=200;, score=0.801 total time=   2.0s\n",
            "[CV 4/5] END bootstrap=False, max_features=auto, min_samples_leaf=5, min_samples_split=5, n_estimators=200;, score=0.789 total time=   2.1s\n",
            "[CV 5/5] END bootstrap=False, max_features=auto, min_samples_leaf=5, min_samples_split=5, n_estimators=200;, score=0.821 total time=   2.0s\n",
            "[CV 1/5] END bootstrap=False, max_features=auto, min_samples_leaf=5, min_samples_split=5, n_estimators=300;, score=0.809 total time=   3.1s\n",
            "[CV 2/5] END bootstrap=False, max_features=auto, min_samples_leaf=5, min_samples_split=5, n_estimators=300;, score=0.787 total time=   3.1s\n",
            "[CV 3/5] END bootstrap=False, max_features=auto, min_samples_leaf=5, min_samples_split=5, n_estimators=300;, score=0.797 total time=   3.0s\n",
            "[CV 4/5] END bootstrap=False, max_features=auto, min_samples_leaf=5, min_samples_split=5, n_estimators=300;, score=0.790 total time=   3.0s\n",
            "[CV 5/5] END bootstrap=False, max_features=auto, min_samples_leaf=5, min_samples_split=5, n_estimators=300;, score=0.819 total time=   3.0s\n",
            "[CV 1/5] END bootstrap=False, max_features=auto, min_samples_leaf=6, min_samples_split=2, n_estimators=100;, score=0.808 total time=   1.0s\n",
            "[CV 2/5] END bootstrap=False, max_features=auto, min_samples_leaf=6, min_samples_split=2, n_estimators=100;, score=0.794 total time=   1.0s\n",
            "[CV 3/5] END bootstrap=False, max_features=auto, min_samples_leaf=6, min_samples_split=2, n_estimators=100;, score=0.799 total time=   1.0s\n",
            "[CV 4/5] END bootstrap=False, max_features=auto, min_samples_leaf=6, min_samples_split=2, n_estimators=100;, score=0.789 total time=   1.0s\n",
            "[CV 5/5] END bootstrap=False, max_features=auto, min_samples_leaf=6, min_samples_split=2, n_estimators=100;, score=0.819 total time=   1.0s\n",
            "[CV 1/5] END bootstrap=False, max_features=auto, min_samples_leaf=6, min_samples_split=2, n_estimators=200;, score=0.808 total time=   2.0s\n",
            "[CV 2/5] END bootstrap=False, max_features=auto, min_samples_leaf=6, min_samples_split=2, n_estimators=200;, score=0.797 total time=   2.0s\n",
            "[CV 3/5] END bootstrap=False, max_features=auto, min_samples_leaf=6, min_samples_split=2, n_estimators=200;, score=0.804 total time=   2.0s\n",
            "[CV 4/5] END bootstrap=False, max_features=auto, min_samples_leaf=6, min_samples_split=2, n_estimators=200;, score=0.792 total time=   2.0s\n",
            "[CV 5/5] END bootstrap=False, max_features=auto, min_samples_leaf=6, min_samples_split=2, n_estimators=200;, score=0.822 total time=   2.0s\n",
            "[CV 1/5] END bootstrap=False, max_features=auto, min_samples_leaf=6, min_samples_split=2, n_estimators=300;, score=0.808 total time=   3.0s\n",
            "[CV 2/5] END bootstrap=False, max_features=auto, min_samples_leaf=6, min_samples_split=2, n_estimators=300;, score=0.794 total time=   3.0s\n",
            "[CV 3/5] END bootstrap=False, max_features=auto, min_samples_leaf=6, min_samples_split=2, n_estimators=300;, score=0.803 total time=   3.0s\n",
            "[CV 4/5] END bootstrap=False, max_features=auto, min_samples_leaf=6, min_samples_split=2, n_estimators=300;, score=0.796 total time=   3.0s\n",
            "[CV 5/5] END bootstrap=False, max_features=auto, min_samples_leaf=6, min_samples_split=2, n_estimators=300;, score=0.818 total time=   2.9s\n",
            "[CV 1/5] END bootstrap=False, max_features=auto, min_samples_leaf=6, min_samples_split=5, n_estimators=100;, score=0.805 total time=   1.0s\n",
            "[CV 2/5] END bootstrap=False, max_features=auto, min_samples_leaf=6, min_samples_split=5, n_estimators=100;, score=0.792 total time=   1.0s\n",
            "[CV 3/5] END bootstrap=False, max_features=auto, min_samples_leaf=6, min_samples_split=5, n_estimators=100;, score=0.800 total time=   1.0s\n",
            "[CV 4/5] END bootstrap=False, max_features=auto, min_samples_leaf=6, min_samples_split=5, n_estimators=100;, score=0.783 total time=   1.0s\n",
            "[CV 5/5] END bootstrap=False, max_features=auto, min_samples_leaf=6, min_samples_split=5, n_estimators=100;, score=0.825 total time=   1.0s\n",
            "[CV 1/5] END bootstrap=False, max_features=auto, min_samples_leaf=6, min_samples_split=5, n_estimators=200;, score=0.809 total time=   2.0s\n",
            "[CV 2/5] END bootstrap=False, max_features=auto, min_samples_leaf=6, min_samples_split=5, n_estimators=200;, score=0.789 total time=   2.0s\n",
            "[CV 3/5] END bootstrap=False, max_features=auto, min_samples_leaf=6, min_samples_split=5, n_estimators=200;, score=0.804 total time=   2.0s\n",
            "[CV 4/5] END bootstrap=False, max_features=auto, min_samples_leaf=6, min_samples_split=5, n_estimators=200;, score=0.792 total time=   2.0s\n",
            "[CV 5/5] END bootstrap=False, max_features=auto, min_samples_leaf=6, min_samples_split=5, n_estimators=200;, score=0.817 total time=   2.0s\n",
            "[CV 1/5] END bootstrap=False, max_features=auto, min_samples_leaf=6, min_samples_split=5, n_estimators=300;, score=0.812 total time=   3.0s\n",
            "[CV 2/5] END bootstrap=False, max_features=auto, min_samples_leaf=6, min_samples_split=5, n_estimators=300;, score=0.794 total time=   3.0s\n",
            "[CV 3/5] END bootstrap=False, max_features=auto, min_samples_leaf=6, min_samples_split=5, n_estimators=300;, score=0.807 total time=   3.0s\n",
            "[CV 4/5] END bootstrap=False, max_features=auto, min_samples_leaf=6, min_samples_split=5, n_estimators=300;, score=0.794 total time=   2.9s\n",
            "[CV 5/5] END bootstrap=False, max_features=auto, min_samples_leaf=6, min_samples_split=5, n_estimators=300;, score=0.823 total time=   3.0s\n",
            "[CV 1/5] END bootstrap=False, max_features=sqrt, min_samples_leaf=4, min_samples_split=2, n_estimators=100;, score=0.811 total time=   1.0s\n",
            "[CV 2/5] END bootstrap=False, max_features=sqrt, min_samples_leaf=4, min_samples_split=2, n_estimators=100;, score=0.786 total time=   1.1s\n",
            "[CV 3/5] END bootstrap=False, max_features=sqrt, min_samples_leaf=4, min_samples_split=2, n_estimators=100;, score=0.801 total time=   1.1s\n",
            "[CV 4/5] END bootstrap=False, max_features=sqrt, min_samples_leaf=4, min_samples_split=2, n_estimators=100;, score=0.793 total time=   1.0s\n",
            "[CV 5/5] END bootstrap=False, max_features=sqrt, min_samples_leaf=4, min_samples_split=2, n_estimators=100;, score=0.815 total time=   1.1s\n",
            "[CV 1/5] END bootstrap=False, max_features=sqrt, min_samples_leaf=4, min_samples_split=2, n_estimators=200;, score=0.806 total time=   2.1s\n",
            "[CV 2/5] END bootstrap=False, max_features=sqrt, min_samples_leaf=4, min_samples_split=2, n_estimators=200;, score=0.793 total time=   2.1s\n",
            "[CV 3/5] END bootstrap=False, max_features=sqrt, min_samples_leaf=4, min_samples_split=2, n_estimators=200;, score=0.796 total time=   2.1s\n",
            "[CV 4/5] END bootstrap=False, max_features=sqrt, min_samples_leaf=4, min_samples_split=2, n_estimators=200;, score=0.793 total time=   2.1s\n",
            "[CV 5/5] END bootstrap=False, max_features=sqrt, min_samples_leaf=4, min_samples_split=2, n_estimators=200;, score=0.822 total time=   2.1s\n",
            "[CV 1/5] END bootstrap=False, max_features=sqrt, min_samples_leaf=4, min_samples_split=2, n_estimators=300;, score=0.807 total time=   3.2s\n",
            "[CV 2/5] END bootstrap=False, max_features=sqrt, min_samples_leaf=4, min_samples_split=2, n_estimators=300;, score=0.792 total time=   3.7s\n",
            "[CV 3/5] END bootstrap=False, max_features=sqrt, min_samples_leaf=4, min_samples_split=2, n_estimators=300;, score=0.799 total time=   3.2s\n",
            "[CV 4/5] END bootstrap=False, max_features=sqrt, min_samples_leaf=4, min_samples_split=2, n_estimators=300;, score=0.785 total time=   3.1s\n",
            "[CV 5/5] END bootstrap=False, max_features=sqrt, min_samples_leaf=4, min_samples_split=2, n_estimators=300;, score=0.817 total time=   3.1s\n",
            "[CV 1/5] END bootstrap=False, max_features=sqrt, min_samples_leaf=4, min_samples_split=5, n_estimators=100;, score=0.812 total time=   1.0s\n",
            "[CV 2/5] END bootstrap=False, max_features=sqrt, min_samples_leaf=4, min_samples_split=5, n_estimators=100;, score=0.785 total time=   1.1s\n",
            "[CV 3/5] END bootstrap=False, max_features=sqrt, min_samples_leaf=4, min_samples_split=5, n_estimators=100;, score=0.793 total time=   1.0s\n",
            "[CV 4/5] END bootstrap=False, max_features=sqrt, min_samples_leaf=4, min_samples_split=5, n_estimators=100;, score=0.797 total time=   1.1s\n",
            "[CV 5/5] END bootstrap=False, max_features=sqrt, min_samples_leaf=4, min_samples_split=5, n_estimators=100;, score=0.822 total time=   1.0s\n",
            "[CV 1/5] END bootstrap=False, max_features=sqrt, min_samples_leaf=4, min_samples_split=5, n_estimators=200;, score=0.816 total time=   2.1s\n",
            "[CV 2/5] END bootstrap=False, max_features=sqrt, min_samples_leaf=4, min_samples_split=5, n_estimators=200;, score=0.789 total time=   2.1s\n",
            "[CV 3/5] END bootstrap=False, max_features=sqrt, min_samples_leaf=4, min_samples_split=5, n_estimators=200;, score=0.797 total time=   2.2s\n",
            "[CV 4/5] END bootstrap=False, max_features=sqrt, min_samples_leaf=4, min_samples_split=5, n_estimators=200;, score=0.797 total time=   2.1s\n",
            "[CV 5/5] END bootstrap=False, max_features=sqrt, min_samples_leaf=4, min_samples_split=5, n_estimators=200;, score=0.816 total time=   2.1s\n",
            "[CV 1/5] END bootstrap=False, max_features=sqrt, min_samples_leaf=4, min_samples_split=5, n_estimators=300;, score=0.816 total time=   3.2s\n",
            "[CV 2/5] END bootstrap=False, max_features=sqrt, min_samples_leaf=4, min_samples_split=5, n_estimators=300;, score=0.785 total time=   3.2s\n",
            "[CV 3/5] END bootstrap=False, max_features=sqrt, min_samples_leaf=4, min_samples_split=5, n_estimators=300;, score=0.799 total time=   3.1s\n",
            "[CV 4/5] END bootstrap=False, max_features=sqrt, min_samples_leaf=4, min_samples_split=5, n_estimators=300;, score=0.792 total time=   3.1s\n",
            "[CV 5/5] END bootstrap=False, max_features=sqrt, min_samples_leaf=4, min_samples_split=5, n_estimators=300;, score=0.817 total time=   3.2s\n",
            "[CV 1/5] END bootstrap=False, max_features=sqrt, min_samples_leaf=5, min_samples_split=2, n_estimators=100;, score=0.807 total time=   1.0s\n",
            "[CV 2/5] END bootstrap=False, max_features=sqrt, min_samples_leaf=5, min_samples_split=2, n_estimators=100;, score=0.791 total time=   1.0s\n",
            "[CV 3/5] END bootstrap=False, max_features=sqrt, min_samples_leaf=5, min_samples_split=2, n_estimators=100;, score=0.801 total time=   1.1s\n",
            "[CV 4/5] END bootstrap=False, max_features=sqrt, min_samples_leaf=5, min_samples_split=2, n_estimators=100;, score=0.789 total time=   1.0s\n",
            "[CV 5/5] END bootstrap=False, max_features=sqrt, min_samples_leaf=5, min_samples_split=2, n_estimators=100;, score=0.816 total time=   1.0s\n",
            "[CV 1/5] END bootstrap=False, max_features=sqrt, min_samples_leaf=5, min_samples_split=2, n_estimators=200;, score=0.809 total time=   2.0s\n",
            "[CV 2/5] END bootstrap=False, max_features=sqrt, min_samples_leaf=5, min_samples_split=2, n_estimators=200;, score=0.787 total time=   2.0s\n",
            "[CV 3/5] END bootstrap=False, max_features=sqrt, min_samples_leaf=5, min_samples_split=2, n_estimators=200;, score=0.802 total time=   2.1s\n",
            "[CV 4/5] END bootstrap=False, max_features=sqrt, min_samples_leaf=5, min_samples_split=2, n_estimators=200;, score=0.794 total time=   2.0s\n",
            "[CV 5/5] END bootstrap=False, max_features=sqrt, min_samples_leaf=5, min_samples_split=2, n_estimators=200;, score=0.816 total time=   2.0s\n",
            "[CV 1/5] END bootstrap=False, max_features=sqrt, min_samples_leaf=5, min_samples_split=2, n_estimators=300;, score=0.811 total time=   3.1s\n",
            "[CV 2/5] END bootstrap=False, max_features=sqrt, min_samples_leaf=5, min_samples_split=2, n_estimators=300;, score=0.792 total time=   3.1s\n",
            "[CV 3/5] END bootstrap=False, max_features=sqrt, min_samples_leaf=5, min_samples_split=2, n_estimators=300;, score=0.803 total time=   3.1s\n",
            "[CV 4/5] END bootstrap=False, max_features=sqrt, min_samples_leaf=5, min_samples_split=2, n_estimators=300;, score=0.797 total time=   3.1s\n",
            "[CV 5/5] END bootstrap=False, max_features=sqrt, min_samples_leaf=5, min_samples_split=2, n_estimators=300;, score=0.822 total time=   3.1s\n",
            "[CV 1/5] END bootstrap=False, max_features=sqrt, min_samples_leaf=5, min_samples_split=5, n_estimators=100;, score=0.802 total time=   1.0s\n",
            "[CV 2/5] END bootstrap=False, max_features=sqrt, min_samples_leaf=5, min_samples_split=5, n_estimators=100;, score=0.789 total time=   1.0s\n",
            "[CV 3/5] END bootstrap=False, max_features=sqrt, min_samples_leaf=5, min_samples_split=5, n_estimators=100;, score=0.802 total time=   1.0s\n",
            "[CV 4/5] END bootstrap=False, max_features=sqrt, min_samples_leaf=5, min_samples_split=5, n_estimators=100;, score=0.790 total time=   1.0s\n",
            "[CV 5/5] END bootstrap=False, max_features=sqrt, min_samples_leaf=5, min_samples_split=5, n_estimators=100;, score=0.814 total time=   1.0s\n",
            "[CV 1/5] END bootstrap=False, max_features=sqrt, min_samples_leaf=5, min_samples_split=5, n_estimators=200;, score=0.809 total time=   2.0s\n",
            "[CV 2/5] END bootstrap=False, max_features=sqrt, min_samples_leaf=5, min_samples_split=5, n_estimators=200;, score=0.793 total time=   2.1s\n",
            "[CV 3/5] END bootstrap=False, max_features=sqrt, min_samples_leaf=5, min_samples_split=5, n_estimators=200;, score=0.798 total time=   2.1s\n",
            "[CV 4/5] END bootstrap=False, max_features=sqrt, min_samples_leaf=5, min_samples_split=5, n_estimators=200;, score=0.796 total time=   2.0s\n",
            "[CV 5/5] END bootstrap=False, max_features=sqrt, min_samples_leaf=5, min_samples_split=5, n_estimators=200;, score=0.818 total time=   2.0s\n",
            "[CV 1/5] END bootstrap=False, max_features=sqrt, min_samples_leaf=5, min_samples_split=5, n_estimators=300;, score=0.806 total time=   3.0s\n",
            "[CV 2/5] END bootstrap=False, max_features=sqrt, min_samples_leaf=5, min_samples_split=5, n_estimators=300;, score=0.794 total time=   3.1s\n",
            "[CV 3/5] END bootstrap=False, max_features=sqrt, min_samples_leaf=5, min_samples_split=5, n_estimators=300;, score=0.803 total time=   3.0s\n",
            "[CV 4/5] END bootstrap=False, max_features=sqrt, min_samples_leaf=5, min_samples_split=5, n_estimators=300;, score=0.797 total time=   3.0s\n",
            "[CV 5/5] END bootstrap=False, max_features=sqrt, min_samples_leaf=5, min_samples_split=5, n_estimators=300;, score=0.815 total time=   3.0s\n",
            "[CV 1/5] END bootstrap=False, max_features=sqrt, min_samples_leaf=6, min_samples_split=2, n_estimators=100;, score=0.811 total time=   1.0s\n",
            "[CV 2/5] END bootstrap=False, max_features=sqrt, min_samples_leaf=6, min_samples_split=2, n_estimators=100;, score=0.792 total time=   1.0s\n",
            "[CV 3/5] END bootstrap=False, max_features=sqrt, min_samples_leaf=6, min_samples_split=2, n_estimators=100;, score=0.799 total time=   1.0s\n",
            "[CV 4/5] END bootstrap=False, max_features=sqrt, min_samples_leaf=6, min_samples_split=2, n_estimators=100;, score=0.786 total time=   1.0s\n",
            "[CV 5/5] END bootstrap=False, max_features=sqrt, min_samples_leaf=6, min_samples_split=2, n_estimators=100;, score=0.825 total time=   1.0s\n",
            "[CV 1/5] END bootstrap=False, max_features=sqrt, min_samples_leaf=6, min_samples_split=2, n_estimators=200;, score=0.807 total time=   2.0s\n",
            "[CV 2/5] END bootstrap=False, max_features=sqrt, min_samples_leaf=6, min_samples_split=2, n_estimators=200;, score=0.792 total time=   2.0s\n",
            "[CV 3/5] END bootstrap=False, max_features=sqrt, min_samples_leaf=6, min_samples_split=2, n_estimators=200;, score=0.805 total time=   2.0s\n",
            "[CV 4/5] END bootstrap=False, max_features=sqrt, min_samples_leaf=6, min_samples_split=2, n_estimators=200;, score=0.796 total time=   2.0s\n",
            "[CV 5/5] END bootstrap=False, max_features=sqrt, min_samples_leaf=6, min_samples_split=2, n_estimators=200;, score=0.822 total time=   2.0s\n",
            "[CV 1/5] END bootstrap=False, max_features=sqrt, min_samples_leaf=6, min_samples_split=2, n_estimators=300;, score=0.805 total time=   3.0s\n",
            "[CV 2/5] END bootstrap=False, max_features=sqrt, min_samples_leaf=6, min_samples_split=2, n_estimators=300;, score=0.794 total time=   3.0s\n",
            "[CV 3/5] END bootstrap=False, max_features=sqrt, min_samples_leaf=6, min_samples_split=2, n_estimators=300;, score=0.802 total time=   3.0s\n",
            "[CV 4/5] END bootstrap=False, max_features=sqrt, min_samples_leaf=6, min_samples_split=2, n_estimators=300;, score=0.792 total time=   3.3s\n",
            "[CV 5/5] END bootstrap=False, max_features=sqrt, min_samples_leaf=6, min_samples_split=2, n_estimators=300;, score=0.820 total time=   3.3s\n",
            "[CV 1/5] END bootstrap=False, max_features=sqrt, min_samples_leaf=6, min_samples_split=5, n_estimators=100;, score=0.806 total time=   1.0s\n",
            "[CV 2/5] END bootstrap=False, max_features=sqrt, min_samples_leaf=6, min_samples_split=5, n_estimators=100;, score=0.802 total time=   1.0s\n",
            "[CV 3/5] END bootstrap=False, max_features=sqrt, min_samples_leaf=6, min_samples_split=5, n_estimators=100;, score=0.797 total time=   1.0s\n",
            "[CV 4/5] END bootstrap=False, max_features=sqrt, min_samples_leaf=6, min_samples_split=5, n_estimators=100;, score=0.793 total time=   1.0s\n",
            "[CV 5/5] END bootstrap=False, max_features=sqrt, min_samples_leaf=6, min_samples_split=5, n_estimators=100;, score=0.820 total time=   1.0s\n",
            "[CV 1/5] END bootstrap=False, max_features=sqrt, min_samples_leaf=6, min_samples_split=5, n_estimators=200;, score=0.809 total time=   2.0s\n",
            "[CV 2/5] END bootstrap=False, max_features=sqrt, min_samples_leaf=6, min_samples_split=5, n_estimators=200;, score=0.789 total time=   2.0s\n",
            "[CV 3/5] END bootstrap=False, max_features=sqrt, min_samples_leaf=6, min_samples_split=5, n_estimators=200;, score=0.802 total time=   2.0s\n",
            "[CV 4/5] END bootstrap=False, max_features=sqrt, min_samples_leaf=6, min_samples_split=5, n_estimators=200;, score=0.796 total time=   2.0s\n",
            "[CV 5/5] END bootstrap=False, max_features=sqrt, min_samples_leaf=6, min_samples_split=5, n_estimators=200;, score=0.818 total time=   2.0s\n",
            "[CV 1/5] END bootstrap=False, max_features=sqrt, min_samples_leaf=6, min_samples_split=5, n_estimators=300;, score=0.806 total time=   3.0s\n",
            "[CV 2/5] END bootstrap=False, max_features=sqrt, min_samples_leaf=6, min_samples_split=5, n_estimators=300;, score=0.794 total time=   2.9s\n",
            "[CV 3/5] END bootstrap=False, max_features=sqrt, min_samples_leaf=6, min_samples_split=5, n_estimators=300;, score=0.801 total time=   3.0s\n",
            "[CV 4/5] END bootstrap=False, max_features=sqrt, min_samples_leaf=6, min_samples_split=5, n_estimators=300;, score=0.792 total time=   3.0s\n",
            "[CV 5/5] END bootstrap=False, max_features=sqrt, min_samples_leaf=6, min_samples_split=5, n_estimators=300;, score=0.817 total time=   3.0s\n"
          ]
        },
        {
          "output_type": "execute_result",
          "data": {
            "text/plain": [
              "GridSearchCV(estimator=RandomForestClassifier(),\n",
              "             param_grid={'bootstrap': [True, False],\n",
              "                         'max_features': ['auto', 'sqrt'],\n",
              "                         'min_samples_leaf': [4, 5, 6],\n",
              "                         'min_samples_split': [2, 5],\n",
              "                         'n_estimators': [100, 200, 300]},\n",
              "             verbose=5)"
            ]
          },
          "metadata": {},
          "execution_count": 91
        }
      ]
    },
    {
      "cell_type": "markdown",
      "source": [
        "`10m34s` execution time. use less folds.(verbose=3 instead of 5)"
      ],
      "metadata": {
        "id": "mnJVukUFTjJT"
      }
    },
    {
      "cell_type": "code",
      "source": [],
      "metadata": {
        "id": "nsCf6Ll9TyGl"
      },
      "execution_count": null,
      "outputs": []
    },
    {
      "cell_type": "code",
      "source": [
        "grid_rcf.best_params_"
      ],
      "metadata": {
        "colab": {
          "base_uri": "https://localhost:8080/"
        },
        "id": "Uv3ulSOmQEpD",
        "outputId": "e5bea13c-85e6-45fc-8e2d-e9d4a9daa2bc"
      },
      "execution_count": 92,
      "outputs": [
        {
          "output_type": "execute_result",
          "data": {
            "text/plain": [
              "{'bootstrap': False,\n",
              " 'max_features': 'auto',\n",
              " 'min_samples_leaf': 6,\n",
              " 'min_samples_split': 5,\n",
              " 'n_estimators': 300}"
            ]
          },
          "metadata": {},
          "execution_count": 92
        }
      ]
    },
    {
      "cell_type": "code",
      "source": [
        "grid_rcf.best_estimator_"
      ],
      "metadata": {
        "colab": {
          "base_uri": "https://localhost:8080/"
        },
        "id": "Pa33Mh4fQEie",
        "outputId": "bd84471c-efea-4093-ea02-092c81961f8f"
      },
      "execution_count": 93,
      "outputs": [
        {
          "output_type": "execute_result",
          "data": {
            "text/plain": [
              "RandomForestClassifier(bootstrap=False, min_samples_leaf=6, min_samples_split=5,\n",
              "                       n_estimators=300)"
            ]
          },
          "metadata": {},
          "execution_count": 93
        }
      ]
    },
    {
      "cell_type": "code",
      "source": [
        "grid_rcf.best_score_"
      ],
      "metadata": {
        "colab": {
          "base_uri": "https://localhost:8080/"
        },
        "id": "4NhAet3HUJww",
        "outputId": "030099fb-8abc-45c2-d977-aa3102f81867"
      },
      "execution_count": 95,
      "outputs": [
        {
          "output_type": "execute_result",
          "data": {
            "text/plain": [
              "0.8058950395398993"
            ]
          },
          "metadata": {},
          "execution_count": 95
        }
      ]
    },
    {
      "cell_type": "markdown",
      "source": [
        "**Model**"
      ],
      "metadata": {
        "id": "q8O2TjBeUX_a"
      }
    },
    {
      "cell_type": "code",
      "source": [
        "rfc_model_grid = rfc(xs, y, bootstrap=False, min_samples_leaf=6, min_samples_split=5, n_estimators=300)"
      ],
      "metadata": {
        "id": "UuSAsh04QjxI"
      },
      "execution_count": 100,
      "outputs": []
    },
    {
      "cell_type": "code",
      "source": [
        "accuracy = acc(rfc_model_grid, valid_xs, valid_y)\n",
        "accuracy"
      ],
      "metadata": {
        "colab": {
          "base_uri": "https://localhost:8080/"
        },
        "id": "Sfc85EHrQct4",
        "outputId": "5c94fb22-06e8-476b-9011-44236a47c821"
      },
      "execution_count": 101,
      "outputs": [
        {
          "output_type": "execute_result",
          "data": {
            "text/plain": [
              "0.7934407364787112"
            ]
          },
          "metadata": {},
          "execution_count": 101
        }
      ]
    },
    {
      "cell_type": "code",
      "source": [
        "rfc_model_grid_predictions = rfc_model_grid.predict(test_xs)"
      ],
      "metadata": {
        "id": "DU_CvpWCQcgj"
      },
      "execution_count": 107,
      "outputs": []
    },
    {
      "cell_type": "code",
      "source": [
        "rfc_model_grid_predictions"
      ],
      "metadata": {
        "colab": {
          "base_uri": "https://localhost:8080/"
        },
        "id": "zs2q8qlwWbDh",
        "outputId": "8ca6dd95-82cc-4eda-cb2d-b4ec13d70759"
      },
      "execution_count": 108,
      "outputs": [
        {
          "output_type": "execute_result",
          "data": {
            "text/plain": [
              "array([0, 0, 1, ..., 1, 1, 1], dtype=int8)"
            ]
          },
          "metadata": {},
          "execution_count": 108
        }
      ]
    },
    {
      "cell_type": "code",
      "source": [],
      "metadata": {
        "id": "djMphkCkWa7g"
      },
      "execution_count": null,
      "outputs": []
    },
    {
      "cell_type": "markdown",
      "source": [
        "## submit 4"
      ],
      "metadata": {
        "id": "DctbsUtrWGJP"
      }
    },
    {
      "cell_type": "code",
      "source": [
        "ss"
      ],
      "metadata": {
        "colab": {
          "base_uri": "https://localhost:8080/",
          "height": 424
        },
        "id": "ntVpQ9DlWL5r",
        "outputId": "5faeb805-3f9e-450c-9cf9-10a7ae2ab77d"
      },
      "execution_count": 102,
      "outputs": [
        {
          "output_type": "execute_result",
          "data": {
            "text/plain": [
              "     PassengerId  Transported\n",
              "0        0013_01        False\n",
              "1        0018_01        False\n",
              "2        0019_01        False\n",
              "3        0021_01        False\n",
              "4        0023_01        False\n",
              "...          ...          ...\n",
              "4272     9266_02        False\n",
              "4273     9269_01        False\n",
              "4274     9271_01        False\n",
              "4275     9273_01        False\n",
              "4276     9277_01        False\n",
              "\n",
              "[4277 rows x 2 columns]"
            ],
            "text/html": [
              "\n",
              "  <div id=\"df-92277cad-3242-400e-900d-bc046e46f009\">\n",
              "    <div class=\"colab-df-container\">\n",
              "      <div>\n",
              "<style scoped>\n",
              "    .dataframe tbody tr th:only-of-type {\n",
              "        vertical-align: middle;\n",
              "    }\n",
              "\n",
              "    .dataframe tbody tr th {\n",
              "        vertical-align: top;\n",
              "    }\n",
              "\n",
              "    .dataframe thead th {\n",
              "        text-align: right;\n",
              "    }\n",
              "</style>\n",
              "<table border=\"1\" class=\"dataframe\">\n",
              "  <thead>\n",
              "    <tr style=\"text-align: right;\">\n",
              "      <th></th>\n",
              "      <th>PassengerId</th>\n",
              "      <th>Transported</th>\n",
              "    </tr>\n",
              "  </thead>\n",
              "  <tbody>\n",
              "    <tr>\n",
              "      <th>0</th>\n",
              "      <td>0013_01</td>\n",
              "      <td>False</td>\n",
              "    </tr>\n",
              "    <tr>\n",
              "      <th>1</th>\n",
              "      <td>0018_01</td>\n",
              "      <td>False</td>\n",
              "    </tr>\n",
              "    <tr>\n",
              "      <th>2</th>\n",
              "      <td>0019_01</td>\n",
              "      <td>False</td>\n",
              "    </tr>\n",
              "    <tr>\n",
              "      <th>3</th>\n",
              "      <td>0021_01</td>\n",
              "      <td>False</td>\n",
              "    </tr>\n",
              "    <tr>\n",
              "      <th>4</th>\n",
              "      <td>0023_01</td>\n",
              "      <td>False</td>\n",
              "    </tr>\n",
              "    <tr>\n",
              "      <th>...</th>\n",
              "      <td>...</td>\n",
              "      <td>...</td>\n",
              "    </tr>\n",
              "    <tr>\n",
              "      <th>4272</th>\n",
              "      <td>9266_02</td>\n",
              "      <td>False</td>\n",
              "    </tr>\n",
              "    <tr>\n",
              "      <th>4273</th>\n",
              "      <td>9269_01</td>\n",
              "      <td>False</td>\n",
              "    </tr>\n",
              "    <tr>\n",
              "      <th>4274</th>\n",
              "      <td>9271_01</td>\n",
              "      <td>False</td>\n",
              "    </tr>\n",
              "    <tr>\n",
              "      <th>4275</th>\n",
              "      <td>9273_01</td>\n",
              "      <td>False</td>\n",
              "    </tr>\n",
              "    <tr>\n",
              "      <th>4276</th>\n",
              "      <td>9277_01</td>\n",
              "      <td>False</td>\n",
              "    </tr>\n",
              "  </tbody>\n",
              "</table>\n",
              "<p>4277 rows × 2 columns</p>\n",
              "</div>\n",
              "      <button class=\"colab-df-convert\" onclick=\"convertToInteractive('df-92277cad-3242-400e-900d-bc046e46f009')\"\n",
              "              title=\"Convert this dataframe to an interactive table.\"\n",
              "              style=\"display:none;\">\n",
              "        \n",
              "  <svg xmlns=\"http://www.w3.org/2000/svg\" height=\"24px\"viewBox=\"0 0 24 24\"\n",
              "       width=\"24px\">\n",
              "    <path d=\"M0 0h24v24H0V0z\" fill=\"none\"/>\n",
              "    <path d=\"M18.56 5.44l.94 2.06.94-2.06 2.06-.94-2.06-.94-.94-2.06-.94 2.06-2.06.94zm-11 1L8.5 8.5l.94-2.06 2.06-.94-2.06-.94L8.5 2.5l-.94 2.06-2.06.94zm10 10l.94 2.06.94-2.06 2.06-.94-2.06-.94-.94-2.06-.94 2.06-2.06.94z\"/><path d=\"M17.41 7.96l-1.37-1.37c-.4-.4-.92-.59-1.43-.59-.52 0-1.04.2-1.43.59L10.3 9.45l-7.72 7.72c-.78.78-.78 2.05 0 2.83L4 21.41c.39.39.9.59 1.41.59.51 0 1.02-.2 1.41-.59l7.78-7.78 2.81-2.81c.8-.78.8-2.07 0-2.86zM5.41 20L4 18.59l7.72-7.72 1.47 1.35L5.41 20z\"/>\n",
              "  </svg>\n",
              "      </button>\n",
              "      \n",
              "  <style>\n",
              "    .colab-df-container {\n",
              "      display:flex;\n",
              "      flex-wrap:wrap;\n",
              "      gap: 12px;\n",
              "    }\n",
              "\n",
              "    .colab-df-convert {\n",
              "      background-color: #E8F0FE;\n",
              "      border: none;\n",
              "      border-radius: 50%;\n",
              "      cursor: pointer;\n",
              "      display: none;\n",
              "      fill: #1967D2;\n",
              "      height: 32px;\n",
              "      padding: 0 0 0 0;\n",
              "      width: 32px;\n",
              "    }\n",
              "\n",
              "    .colab-df-convert:hover {\n",
              "      background-color: #E2EBFA;\n",
              "      box-shadow: 0px 1px 2px rgba(60, 64, 67, 0.3), 0px 1px 3px 1px rgba(60, 64, 67, 0.15);\n",
              "      fill: #174EA6;\n",
              "    }\n",
              "\n",
              "    [theme=dark] .colab-df-convert {\n",
              "      background-color: #3B4455;\n",
              "      fill: #D2E3FC;\n",
              "    }\n",
              "\n",
              "    [theme=dark] .colab-df-convert:hover {\n",
              "      background-color: #434B5C;\n",
              "      box-shadow: 0px 1px 3px 1px rgba(0, 0, 0, 0.15);\n",
              "      filter: drop-shadow(0px 1px 2px rgba(0, 0, 0, 0.3));\n",
              "      fill: #FFFFFF;\n",
              "    }\n",
              "  </style>\n",
              "\n",
              "      <script>\n",
              "        const buttonEl =\n",
              "          document.querySelector('#df-92277cad-3242-400e-900d-bc046e46f009 button.colab-df-convert');\n",
              "        buttonEl.style.display =\n",
              "          google.colab.kernel.accessAllowed ? 'block' : 'none';\n",
              "\n",
              "        async function convertToInteractive(key) {\n",
              "          const element = document.querySelector('#df-92277cad-3242-400e-900d-bc046e46f009');\n",
              "          const dataTable =\n",
              "            await google.colab.kernel.invokeFunction('convertToInteractive',\n",
              "                                                     [key], {});\n",
              "          if (!dataTable) return;\n",
              "\n",
              "          const docLinkHtml = 'Like what you see? Visit the ' +\n",
              "            '<a target=\"_blank\" href=https://colab.research.google.com/notebooks/data_table.ipynb>data table notebook</a>'\n",
              "            + ' to learn more about interactive tables.';\n",
              "          element.innerHTML = '';\n",
              "          dataTable['output_type'] = 'display_data';\n",
              "          await google.colab.output.renderOutput(dataTable, element);\n",
              "          const docLink = document.createElement('div');\n",
              "          docLink.innerHTML = docLinkHtml;\n",
              "          element.appendChild(docLink);\n",
              "        }\n",
              "      </script>\n",
              "    </div>\n",
              "  </div>\n",
              "  "
            ]
          },
          "metadata": {},
          "execution_count": 102
        }
      ]
    },
    {
      "cell_type": "code",
      "source": [
        "tst_df['Transported'] = rfc_model_grid_predictions\n",
        "sub_df1 = tst_df[['PassengerId', 'Transported']]\n",
        "# sub_df.to_csv('sub4.csv', index=False)"
      ],
      "metadata": {
        "id": "2RudsXXxWE6n"
      },
      "execution_count": 109,
      "outputs": []
    },
    {
      "cell_type": "code",
      "source": [
        "sub_df1.head()"
      ],
      "metadata": {
        "colab": {
          "base_uri": "https://localhost:8080/",
          "height": 206
        },
        "id": "b_wrkKlQW1I5",
        "outputId": "d1ee6ca4-9ab9-4396-a0d0-e4f33c56cdd5"
      },
      "execution_count": 111,
      "outputs": [
        {
          "output_type": "execute_result",
          "data": {
            "text/plain": [
              "  PassengerId  Transported\n",
              "0     0013_01            0\n",
              "1     0018_01            0\n",
              "2     0019_01            1\n",
              "3     0021_01            1\n",
              "4     0023_01            1"
            ],
            "text/html": [
              "\n",
              "  <div id=\"df-7d540981-ec6d-477a-952b-bc98188644d0\">\n",
              "    <div class=\"colab-df-container\">\n",
              "      <div>\n",
              "<style scoped>\n",
              "    .dataframe tbody tr th:only-of-type {\n",
              "        vertical-align: middle;\n",
              "    }\n",
              "\n",
              "    .dataframe tbody tr th {\n",
              "        vertical-align: top;\n",
              "    }\n",
              "\n",
              "    .dataframe thead th {\n",
              "        text-align: right;\n",
              "    }\n",
              "</style>\n",
              "<table border=\"1\" class=\"dataframe\">\n",
              "  <thead>\n",
              "    <tr style=\"text-align: right;\">\n",
              "      <th></th>\n",
              "      <th>PassengerId</th>\n",
              "      <th>Transported</th>\n",
              "    </tr>\n",
              "  </thead>\n",
              "  <tbody>\n",
              "    <tr>\n",
              "      <th>0</th>\n",
              "      <td>0013_01</td>\n",
              "      <td>0</td>\n",
              "    </tr>\n",
              "    <tr>\n",
              "      <th>1</th>\n",
              "      <td>0018_01</td>\n",
              "      <td>0</td>\n",
              "    </tr>\n",
              "    <tr>\n",
              "      <th>2</th>\n",
              "      <td>0019_01</td>\n",
              "      <td>1</td>\n",
              "    </tr>\n",
              "    <tr>\n",
              "      <th>3</th>\n",
              "      <td>0021_01</td>\n",
              "      <td>1</td>\n",
              "    </tr>\n",
              "    <tr>\n",
              "      <th>4</th>\n",
              "      <td>0023_01</td>\n",
              "      <td>1</td>\n",
              "    </tr>\n",
              "  </tbody>\n",
              "</table>\n",
              "</div>\n",
              "      <button class=\"colab-df-convert\" onclick=\"convertToInteractive('df-7d540981-ec6d-477a-952b-bc98188644d0')\"\n",
              "              title=\"Convert this dataframe to an interactive table.\"\n",
              "              style=\"display:none;\">\n",
              "        \n",
              "  <svg xmlns=\"http://www.w3.org/2000/svg\" height=\"24px\"viewBox=\"0 0 24 24\"\n",
              "       width=\"24px\">\n",
              "    <path d=\"M0 0h24v24H0V0z\" fill=\"none\"/>\n",
              "    <path d=\"M18.56 5.44l.94 2.06.94-2.06 2.06-.94-2.06-.94-.94-2.06-.94 2.06-2.06.94zm-11 1L8.5 8.5l.94-2.06 2.06-.94-2.06-.94L8.5 2.5l-.94 2.06-2.06.94zm10 10l.94 2.06.94-2.06 2.06-.94-2.06-.94-.94-2.06-.94 2.06-2.06.94z\"/><path d=\"M17.41 7.96l-1.37-1.37c-.4-.4-.92-.59-1.43-.59-.52 0-1.04.2-1.43.59L10.3 9.45l-7.72 7.72c-.78.78-.78 2.05 0 2.83L4 21.41c.39.39.9.59 1.41.59.51 0 1.02-.2 1.41-.59l7.78-7.78 2.81-2.81c.8-.78.8-2.07 0-2.86zM5.41 20L4 18.59l7.72-7.72 1.47 1.35L5.41 20z\"/>\n",
              "  </svg>\n",
              "      </button>\n",
              "      \n",
              "  <style>\n",
              "    .colab-df-container {\n",
              "      display:flex;\n",
              "      flex-wrap:wrap;\n",
              "      gap: 12px;\n",
              "    }\n",
              "\n",
              "    .colab-df-convert {\n",
              "      background-color: #E8F0FE;\n",
              "      border: none;\n",
              "      border-radius: 50%;\n",
              "      cursor: pointer;\n",
              "      display: none;\n",
              "      fill: #1967D2;\n",
              "      height: 32px;\n",
              "      padding: 0 0 0 0;\n",
              "      width: 32px;\n",
              "    }\n",
              "\n",
              "    .colab-df-convert:hover {\n",
              "      background-color: #E2EBFA;\n",
              "      box-shadow: 0px 1px 2px rgba(60, 64, 67, 0.3), 0px 1px 3px 1px rgba(60, 64, 67, 0.15);\n",
              "      fill: #174EA6;\n",
              "    }\n",
              "\n",
              "    [theme=dark] .colab-df-convert {\n",
              "      background-color: #3B4455;\n",
              "      fill: #D2E3FC;\n",
              "    }\n",
              "\n",
              "    [theme=dark] .colab-df-convert:hover {\n",
              "      background-color: #434B5C;\n",
              "      box-shadow: 0px 1px 3px 1px rgba(0, 0, 0, 0.15);\n",
              "      filter: drop-shadow(0px 1px 2px rgba(0, 0, 0, 0.3));\n",
              "      fill: #FFFFFF;\n",
              "    }\n",
              "  </style>\n",
              "\n",
              "      <script>\n",
              "        const buttonEl =\n",
              "          document.querySelector('#df-7d540981-ec6d-477a-952b-bc98188644d0 button.colab-df-convert');\n",
              "        buttonEl.style.display =\n",
              "          google.colab.kernel.accessAllowed ? 'block' : 'none';\n",
              "\n",
              "        async function convertToInteractive(key) {\n",
              "          const element = document.querySelector('#df-7d540981-ec6d-477a-952b-bc98188644d0');\n",
              "          const dataTable =\n",
              "            await google.colab.kernel.invokeFunction('convertToInteractive',\n",
              "                                                     [key], {});\n",
              "          if (!dataTable) return;\n",
              "\n",
              "          const docLinkHtml = 'Like what you see? Visit the ' +\n",
              "            '<a target=\"_blank\" href=https://colab.research.google.com/notebooks/data_table.ipynb>data table notebook</a>'\n",
              "            + ' to learn more about interactive tables.';\n",
              "          element.innerHTML = '';\n",
              "          dataTable['output_type'] = 'display_data';\n",
              "          await google.colab.output.renderOutput(dataTable, element);\n",
              "          const docLink = document.createElement('div');\n",
              "          docLink.innerHTML = docLinkHtml;\n",
              "          element.appendChild(docLink);\n",
              "        }\n",
              "      </script>\n",
              "    </div>\n",
              "  </div>\n",
              "  "
            ]
          },
          "metadata": {},
          "execution_count": 111
        }
      ]
    },
    {
      "cell_type": "code",
      "source": [
        "sub_df1.loc[:,\"Transported\"] = sub_df1[\"Transported\"].astype(bool)"
      ],
      "metadata": {
        "colab": {
          "base_uri": "https://localhost:8080/",
          "height": 397
        },
        "id": "jVl_N_0HW29C",
        "outputId": "68729d52-4383-4c83-e19f-bf8407d206bb"
      },
      "execution_count": 117,
      "outputs": [
        {
          "output_type": "error",
          "ename": "SettingWithCopyError",
          "evalue": "ignored",
          "traceback": [
            "\u001b[0;31m---------------------------------------------------------------------------\u001b[0m",
            "\u001b[0;31mSettingWithCopyError\u001b[0m                      Traceback (most recent call last)",
            "\u001b[0;32m<ipython-input-117-6d2728f4cb64>\u001b[0m in \u001b[0;36m<module>\u001b[0;34m\u001b[0m\n\u001b[0;32m----> 1\u001b[0;31m \u001b[0msub_df1\u001b[0m\u001b[0;34m.\u001b[0m\u001b[0mloc\u001b[0m\u001b[0;34m[\u001b[0m\u001b[0;34m:\u001b[0m\u001b[0;34m,\u001b[0m\u001b[0;34m\"Transported\"\u001b[0m\u001b[0;34m]\u001b[0m \u001b[0;34m=\u001b[0m \u001b[0msub_df1\u001b[0m\u001b[0;34m[\u001b[0m\u001b[0;34m\"Transported\"\u001b[0m\u001b[0;34m]\u001b[0m\u001b[0;34m.\u001b[0m\u001b[0mastype\u001b[0m\u001b[0;34m(\u001b[0m\u001b[0mbool\u001b[0m\u001b[0;34m)\u001b[0m\u001b[0;34m\u001b[0m\u001b[0;34m\u001b[0m\u001b[0m\n\u001b[0m",
            "\u001b[0;32m/usr/local/lib/python3.7/dist-packages/pandas/core/indexing.py\u001b[0m in \u001b[0;36m__setitem__\u001b[0;34m(self, key, value)\u001b[0m\n\u001b[1;32m    721\u001b[0m \u001b[0;34m\u001b[0m\u001b[0m\n\u001b[1;32m    722\u001b[0m         \u001b[0miloc\u001b[0m \u001b[0;34m=\u001b[0m \u001b[0mself\u001b[0m \u001b[0;32mif\u001b[0m \u001b[0mself\u001b[0m\u001b[0;34m.\u001b[0m\u001b[0mname\u001b[0m \u001b[0;34m==\u001b[0m \u001b[0;34m\"iloc\"\u001b[0m \u001b[0;32melse\u001b[0m \u001b[0mself\u001b[0m\u001b[0;34m.\u001b[0m\u001b[0mobj\u001b[0m\u001b[0;34m.\u001b[0m\u001b[0miloc\u001b[0m\u001b[0;34m\u001b[0m\u001b[0;34m\u001b[0m\u001b[0m\n\u001b[0;32m--> 723\u001b[0;31m         \u001b[0miloc\u001b[0m\u001b[0;34m.\u001b[0m\u001b[0m_setitem_with_indexer\u001b[0m\u001b[0;34m(\u001b[0m\u001b[0mindexer\u001b[0m\u001b[0;34m,\u001b[0m \u001b[0mvalue\u001b[0m\u001b[0;34m,\u001b[0m \u001b[0mself\u001b[0m\u001b[0;34m.\u001b[0m\u001b[0mname\u001b[0m\u001b[0;34m)\u001b[0m\u001b[0;34m\u001b[0m\u001b[0;34m\u001b[0m\u001b[0m\n\u001b[0m\u001b[1;32m    724\u001b[0m \u001b[0;34m\u001b[0m\u001b[0m\n\u001b[1;32m    725\u001b[0m     \u001b[0;32mdef\u001b[0m \u001b[0m_validate_key\u001b[0m\u001b[0;34m(\u001b[0m\u001b[0mself\u001b[0m\u001b[0;34m,\u001b[0m \u001b[0mkey\u001b[0m\u001b[0;34m,\u001b[0m \u001b[0maxis\u001b[0m\u001b[0;34m:\u001b[0m \u001b[0mint\u001b[0m\u001b[0;34m)\u001b[0m\u001b[0;34m:\u001b[0m\u001b[0;34m\u001b[0m\u001b[0;34m\u001b[0m\u001b[0m\n",
            "\u001b[0;32m/usr/local/lib/python3.7/dist-packages/pandas/core/indexing.py\u001b[0m in \u001b[0;36m_setitem_with_indexer\u001b[0;34m(self, indexer, value, name)\u001b[0m\n\u001b[1;32m   1728\u001b[0m         \u001b[0;32mif\u001b[0m \u001b[0mtake_split_path\u001b[0m\u001b[0;34m:\u001b[0m\u001b[0;34m\u001b[0m\u001b[0;34m\u001b[0m\u001b[0m\n\u001b[1;32m   1729\u001b[0m             \u001b[0;31m# We have to operate column-wise\u001b[0m\u001b[0;34m\u001b[0m\u001b[0;34m\u001b[0m\u001b[0;34m\u001b[0m\u001b[0m\n\u001b[0;32m-> 1730\u001b[0;31m             \u001b[0mself\u001b[0m\u001b[0;34m.\u001b[0m\u001b[0m_setitem_with_indexer_split_path\u001b[0m\u001b[0;34m(\u001b[0m\u001b[0mindexer\u001b[0m\u001b[0;34m,\u001b[0m \u001b[0mvalue\u001b[0m\u001b[0;34m,\u001b[0m \u001b[0mname\u001b[0m\u001b[0;34m)\u001b[0m\u001b[0;34m\u001b[0m\u001b[0;34m\u001b[0m\u001b[0m\n\u001b[0m\u001b[1;32m   1731\u001b[0m         \u001b[0;32melse\u001b[0m\u001b[0;34m:\u001b[0m\u001b[0;34m\u001b[0m\u001b[0;34m\u001b[0m\u001b[0m\n\u001b[1;32m   1732\u001b[0m             \u001b[0mself\u001b[0m\u001b[0;34m.\u001b[0m\u001b[0m_setitem_single_block\u001b[0m\u001b[0;34m(\u001b[0m\u001b[0mindexer\u001b[0m\u001b[0;34m,\u001b[0m \u001b[0mvalue\u001b[0m\u001b[0;34m,\u001b[0m \u001b[0mname\u001b[0m\u001b[0;34m)\u001b[0m\u001b[0;34m\u001b[0m\u001b[0;34m\u001b[0m\u001b[0m\n",
            "\u001b[0;32m/usr/local/lib/python3.7/dist-packages/pandas/core/indexing.py\u001b[0m in \u001b[0;36m_setitem_with_indexer_split_path\u001b[0;34m(self, indexer, value, name)\u001b[0m\n\u001b[1;32m   1771\u001b[0m             \u001b[0;32melif\u001b[0m \u001b[0mlen\u001b[0m\u001b[0;34m(\u001b[0m\u001b[0milocs\u001b[0m\u001b[0;34m)\u001b[0m \u001b[0;34m==\u001b[0m \u001b[0;36m1\u001b[0m \u001b[0;32mand\u001b[0m \u001b[0mlplane_indexer\u001b[0m \u001b[0;34m==\u001b[0m \u001b[0mlen\u001b[0m\u001b[0;34m(\u001b[0m\u001b[0mvalue\u001b[0m\u001b[0;34m)\u001b[0m \u001b[0;32mand\u001b[0m \u001b[0;32mnot\u001b[0m \u001b[0mis_scalar\u001b[0m\u001b[0;34m(\u001b[0m\u001b[0mpi\u001b[0m\u001b[0;34m)\u001b[0m\u001b[0;34m:\u001b[0m\u001b[0;34m\u001b[0m\u001b[0;34m\u001b[0m\u001b[0m\n\u001b[1;32m   1772\u001b[0m                 \u001b[0;31m# We are setting multiple rows in a single column.\u001b[0m\u001b[0;34m\u001b[0m\u001b[0;34m\u001b[0m\u001b[0;34m\u001b[0m\u001b[0m\n\u001b[0;32m-> 1773\u001b[0;31m                 \u001b[0mself\u001b[0m\u001b[0;34m.\u001b[0m\u001b[0m_setitem_single_column\u001b[0m\u001b[0;34m(\u001b[0m\u001b[0milocs\u001b[0m\u001b[0;34m[\u001b[0m\u001b[0;36m0\u001b[0m\u001b[0;34m]\u001b[0m\u001b[0;34m,\u001b[0m \u001b[0mvalue\u001b[0m\u001b[0;34m,\u001b[0m \u001b[0mpi\u001b[0m\u001b[0;34m)\u001b[0m\u001b[0;34m\u001b[0m\u001b[0;34m\u001b[0m\u001b[0m\n\u001b[0m\u001b[1;32m   1774\u001b[0m \u001b[0;34m\u001b[0m\u001b[0m\n\u001b[1;32m   1775\u001b[0m             \u001b[0;32melif\u001b[0m \u001b[0mlen\u001b[0m\u001b[0;34m(\u001b[0m\u001b[0milocs\u001b[0m\u001b[0;34m)\u001b[0m \u001b[0;34m==\u001b[0m \u001b[0;36m1\u001b[0m \u001b[0;32mand\u001b[0m \u001b[0;36m0\u001b[0m \u001b[0;34m!=\u001b[0m \u001b[0mlplane_indexer\u001b[0m \u001b[0;34m!=\u001b[0m \u001b[0mlen\u001b[0m\u001b[0;34m(\u001b[0m\u001b[0mvalue\u001b[0m\u001b[0;34m)\u001b[0m\u001b[0;34m:\u001b[0m\u001b[0;34m\u001b[0m\u001b[0;34m\u001b[0m\u001b[0m\n",
            "\u001b[0;32m/usr/local/lib/python3.7/dist-packages/pandas/core/indexing.py\u001b[0m in \u001b[0;36m_setitem_single_column\u001b[0;34m(self, loc, value, plane_indexer)\u001b[0m\n\u001b[1;32m   1922\u001b[0m \u001b[0;34m\u001b[0m\u001b[0m\n\u001b[1;32m   1923\u001b[0m         \u001b[0;31m# reset the sliced object if unique\u001b[0m\u001b[0;34m\u001b[0m\u001b[0;34m\u001b[0m\u001b[0;34m\u001b[0m\u001b[0m\n\u001b[0;32m-> 1924\u001b[0;31m         \u001b[0mself\u001b[0m\u001b[0;34m.\u001b[0m\u001b[0mobj\u001b[0m\u001b[0;34m.\u001b[0m\u001b[0m_iset_item\u001b[0m\u001b[0;34m(\u001b[0m\u001b[0mloc\u001b[0m\u001b[0;34m,\u001b[0m \u001b[0mser\u001b[0m\u001b[0;34m)\u001b[0m\u001b[0;34m\u001b[0m\u001b[0;34m\u001b[0m\u001b[0m\n\u001b[0m\u001b[1;32m   1925\u001b[0m \u001b[0;34m\u001b[0m\u001b[0m\n\u001b[1;32m   1926\u001b[0m     \u001b[0;32mdef\u001b[0m \u001b[0m_setitem_single_block\u001b[0m\u001b[0;34m(\u001b[0m\u001b[0mself\u001b[0m\u001b[0;34m,\u001b[0m \u001b[0mindexer\u001b[0m\u001b[0;34m,\u001b[0m \u001b[0mvalue\u001b[0m\u001b[0;34m,\u001b[0m \u001b[0mname\u001b[0m\u001b[0;34m:\u001b[0m \u001b[0mstr\u001b[0m\u001b[0;34m)\u001b[0m\u001b[0;34m:\u001b[0m\u001b[0;34m\u001b[0m\u001b[0;34m\u001b[0m\u001b[0m\n",
            "\u001b[0;32m/usr/local/lib/python3.7/dist-packages/pandas/core/frame.py\u001b[0m in \u001b[0;36m_iset_item\u001b[0;34m(self, loc, value)\u001b[0m\n\u001b[1;32m   3770\u001b[0m         \u001b[0;31m# value exception to occur first\u001b[0m\u001b[0;34m\u001b[0m\u001b[0;34m\u001b[0m\u001b[0;34m\u001b[0m\u001b[0m\n\u001b[1;32m   3771\u001b[0m         \u001b[0;32mif\u001b[0m \u001b[0mlen\u001b[0m\u001b[0;34m(\u001b[0m\u001b[0mself\u001b[0m\u001b[0;34m)\u001b[0m\u001b[0;34m:\u001b[0m\u001b[0;34m\u001b[0m\u001b[0;34m\u001b[0m\u001b[0m\n\u001b[0;32m-> 3772\u001b[0;31m             \u001b[0mself\u001b[0m\u001b[0;34m.\u001b[0m\u001b[0m_check_setitem_copy\u001b[0m\u001b[0;34m(\u001b[0m\u001b[0;34m)\u001b[0m\u001b[0;34m\u001b[0m\u001b[0;34m\u001b[0m\u001b[0m\n\u001b[0m\u001b[1;32m   3773\u001b[0m \u001b[0;34m\u001b[0m\u001b[0m\n\u001b[1;32m   3774\u001b[0m     \u001b[0;32mdef\u001b[0m \u001b[0m_set_item\u001b[0m\u001b[0;34m(\u001b[0m\u001b[0mself\u001b[0m\u001b[0;34m,\u001b[0m \u001b[0mkey\u001b[0m\u001b[0;34m,\u001b[0m \u001b[0mvalue\u001b[0m\u001b[0;34m)\u001b[0m \u001b[0;34m->\u001b[0m \u001b[0;32mNone\u001b[0m\u001b[0;34m:\u001b[0m\u001b[0;34m\u001b[0m\u001b[0;34m\u001b[0m\u001b[0m\n",
            "\u001b[0;32m/usr/local/lib/python3.7/dist-packages/pandas/core/generic.py\u001b[0m in \u001b[0;36m_check_setitem_copy\u001b[0;34m(self, stacklevel, t, force)\u001b[0m\n\u001b[1;32m   3931\u001b[0m \u001b[0;34m\u001b[0m\u001b[0m\n\u001b[1;32m   3932\u001b[0m         \u001b[0;32mif\u001b[0m \u001b[0mvalue\u001b[0m \u001b[0;34m==\u001b[0m \u001b[0;34m\"raise\"\u001b[0m\u001b[0;34m:\u001b[0m\u001b[0;34m\u001b[0m\u001b[0;34m\u001b[0m\u001b[0m\n\u001b[0;32m-> 3933\u001b[0;31m             \u001b[0;32mraise\u001b[0m \u001b[0mcom\u001b[0m\u001b[0;34m.\u001b[0m\u001b[0mSettingWithCopyError\u001b[0m\u001b[0;34m(\u001b[0m\u001b[0mt\u001b[0m\u001b[0;34m)\u001b[0m\u001b[0;34m\u001b[0m\u001b[0;34m\u001b[0m\u001b[0m\n\u001b[0m\u001b[1;32m   3934\u001b[0m         \u001b[0;32melif\u001b[0m \u001b[0mvalue\u001b[0m \u001b[0;34m==\u001b[0m \u001b[0;34m\"warn\"\u001b[0m\u001b[0;34m:\u001b[0m\u001b[0;34m\u001b[0m\u001b[0;34m\u001b[0m\u001b[0m\n\u001b[1;32m   3935\u001b[0m             \u001b[0mwarnings\u001b[0m\u001b[0;34m.\u001b[0m\u001b[0mwarn\u001b[0m\u001b[0;34m(\u001b[0m\u001b[0mt\u001b[0m\u001b[0;34m,\u001b[0m \u001b[0mcom\u001b[0m\u001b[0;34m.\u001b[0m\u001b[0mSettingWithCopyWarning\u001b[0m\u001b[0;34m,\u001b[0m \u001b[0mstacklevel\u001b[0m\u001b[0;34m=\u001b[0m\u001b[0mstacklevel\u001b[0m\u001b[0;34m)\u001b[0m\u001b[0;34m\u001b[0m\u001b[0;34m\u001b[0m\u001b[0m\n",
            "\u001b[0;31mSettingWithCopyError\u001b[0m: \nA value is trying to be set on a copy of a slice from a DataFrame.\nTry using .loc[row_indexer,col_indexer] = value instead\n\nSee the caveats in the documentation: https://pandas.pydata.org/pandas-docs/stable/user_guide/indexing.html#returning-a-view-versus-a-copy"
          ]
        }
      ]
    },
    {
      "cell_type": "code",
      "source": [
        "sub_df1.head()"
      ],
      "metadata": {
        "colab": {
          "base_uri": "https://localhost:8080/",
          "height": 206
        },
        "id": "EcUi6wZ0XIJL",
        "outputId": "a96b1349-3774-43c0-cdbd-0652d4a71c0b"
      },
      "execution_count": 118,
      "outputs": [
        {
          "output_type": "execute_result",
          "data": {
            "text/plain": [
              "  PassengerId  Transported\n",
              "0     0013_01        False\n",
              "1     0018_01        False\n",
              "2     0019_01         True\n",
              "3     0021_01         True\n",
              "4     0023_01         True"
            ],
            "text/html": [
              "\n",
              "  <div id=\"df-47f499ee-6a36-4aa1-8316-f47baf04bfd3\">\n",
              "    <div class=\"colab-df-container\">\n",
              "      <div>\n",
              "<style scoped>\n",
              "    .dataframe tbody tr th:only-of-type {\n",
              "        vertical-align: middle;\n",
              "    }\n",
              "\n",
              "    .dataframe tbody tr th {\n",
              "        vertical-align: top;\n",
              "    }\n",
              "\n",
              "    .dataframe thead th {\n",
              "        text-align: right;\n",
              "    }\n",
              "</style>\n",
              "<table border=\"1\" class=\"dataframe\">\n",
              "  <thead>\n",
              "    <tr style=\"text-align: right;\">\n",
              "      <th></th>\n",
              "      <th>PassengerId</th>\n",
              "      <th>Transported</th>\n",
              "    </tr>\n",
              "  </thead>\n",
              "  <tbody>\n",
              "    <tr>\n",
              "      <th>0</th>\n",
              "      <td>0013_01</td>\n",
              "      <td>False</td>\n",
              "    </tr>\n",
              "    <tr>\n",
              "      <th>1</th>\n",
              "      <td>0018_01</td>\n",
              "      <td>False</td>\n",
              "    </tr>\n",
              "    <tr>\n",
              "      <th>2</th>\n",
              "      <td>0019_01</td>\n",
              "      <td>True</td>\n",
              "    </tr>\n",
              "    <tr>\n",
              "      <th>3</th>\n",
              "      <td>0021_01</td>\n",
              "      <td>True</td>\n",
              "    </tr>\n",
              "    <tr>\n",
              "      <th>4</th>\n",
              "      <td>0023_01</td>\n",
              "      <td>True</td>\n",
              "    </tr>\n",
              "  </tbody>\n",
              "</table>\n",
              "</div>\n",
              "      <button class=\"colab-df-convert\" onclick=\"convertToInteractive('df-47f499ee-6a36-4aa1-8316-f47baf04bfd3')\"\n",
              "              title=\"Convert this dataframe to an interactive table.\"\n",
              "              style=\"display:none;\">\n",
              "        \n",
              "  <svg xmlns=\"http://www.w3.org/2000/svg\" height=\"24px\"viewBox=\"0 0 24 24\"\n",
              "       width=\"24px\">\n",
              "    <path d=\"M0 0h24v24H0V0z\" fill=\"none\"/>\n",
              "    <path d=\"M18.56 5.44l.94 2.06.94-2.06 2.06-.94-2.06-.94-.94-2.06-.94 2.06-2.06.94zm-11 1L8.5 8.5l.94-2.06 2.06-.94-2.06-.94L8.5 2.5l-.94 2.06-2.06.94zm10 10l.94 2.06.94-2.06 2.06-.94-2.06-.94-.94-2.06-.94 2.06-2.06.94z\"/><path d=\"M17.41 7.96l-1.37-1.37c-.4-.4-.92-.59-1.43-.59-.52 0-1.04.2-1.43.59L10.3 9.45l-7.72 7.72c-.78.78-.78 2.05 0 2.83L4 21.41c.39.39.9.59 1.41.59.51 0 1.02-.2 1.41-.59l7.78-7.78 2.81-2.81c.8-.78.8-2.07 0-2.86zM5.41 20L4 18.59l7.72-7.72 1.47 1.35L5.41 20z\"/>\n",
              "  </svg>\n",
              "      </button>\n",
              "      \n",
              "  <style>\n",
              "    .colab-df-container {\n",
              "      display:flex;\n",
              "      flex-wrap:wrap;\n",
              "      gap: 12px;\n",
              "    }\n",
              "\n",
              "    .colab-df-convert {\n",
              "      background-color: #E8F0FE;\n",
              "      border: none;\n",
              "      border-radius: 50%;\n",
              "      cursor: pointer;\n",
              "      display: none;\n",
              "      fill: #1967D2;\n",
              "      height: 32px;\n",
              "      padding: 0 0 0 0;\n",
              "      width: 32px;\n",
              "    }\n",
              "\n",
              "    .colab-df-convert:hover {\n",
              "      background-color: #E2EBFA;\n",
              "      box-shadow: 0px 1px 2px rgba(60, 64, 67, 0.3), 0px 1px 3px 1px rgba(60, 64, 67, 0.15);\n",
              "      fill: #174EA6;\n",
              "    }\n",
              "\n",
              "    [theme=dark] .colab-df-convert {\n",
              "      background-color: #3B4455;\n",
              "      fill: #D2E3FC;\n",
              "    }\n",
              "\n",
              "    [theme=dark] .colab-df-convert:hover {\n",
              "      background-color: #434B5C;\n",
              "      box-shadow: 0px 1px 3px 1px rgba(0, 0, 0, 0.15);\n",
              "      filter: drop-shadow(0px 1px 2px rgba(0, 0, 0, 0.3));\n",
              "      fill: #FFFFFF;\n",
              "    }\n",
              "  </style>\n",
              "\n",
              "      <script>\n",
              "        const buttonEl =\n",
              "          document.querySelector('#df-47f499ee-6a36-4aa1-8316-f47baf04bfd3 button.colab-df-convert');\n",
              "        buttonEl.style.display =\n",
              "          google.colab.kernel.accessAllowed ? 'block' : 'none';\n",
              "\n",
              "        async function convertToInteractive(key) {\n",
              "          const element = document.querySelector('#df-47f499ee-6a36-4aa1-8316-f47baf04bfd3');\n",
              "          const dataTable =\n",
              "            await google.colab.kernel.invokeFunction('convertToInteractive',\n",
              "                                                     [key], {});\n",
              "          if (!dataTable) return;\n",
              "\n",
              "          const docLinkHtml = 'Like what you see? Visit the ' +\n",
              "            '<a target=\"_blank\" href=https://colab.research.google.com/notebooks/data_table.ipynb>data table notebook</a>'\n",
              "            + ' to learn more about interactive tables.';\n",
              "          element.innerHTML = '';\n",
              "          dataTable['output_type'] = 'display_data';\n",
              "          await google.colab.output.renderOutput(dataTable, element);\n",
              "          const docLink = document.createElement('div');\n",
              "          docLink.innerHTML = docLinkHtml;\n",
              "          element.appendChild(docLink);\n",
              "        }\n",
              "      </script>\n",
              "    </div>\n",
              "  </div>\n",
              "  "
            ]
          },
          "metadata": {},
          "execution_count": 118
        }
      ]
    },
    {
      "cell_type": "code",
      "source": [
        "sub_df1.to_csv('sub5.csv', index=False)"
      ],
      "metadata": {
        "id": "Kg6TWTPkXlWR"
      },
      "execution_count": 119,
      "outputs": []
    },
    {
      "cell_type": "code",
      "source": [
        "!head sub5.csv"
      ],
      "metadata": {
        "colab": {
          "base_uri": "https://localhost:8080/"
        },
        "id": "z-xEYXX_XKKw",
        "outputId": "a5703d24-affe-4c77-a2e1-6c4369ba6235"
      },
      "execution_count": 120,
      "outputs": [
        {
          "output_type": "stream",
          "name": "stdout",
          "text": [
            "PassengerId,Transported\n",
            "0013_01,False\n",
            "0018_01,False\n",
            "0019_01,True\n",
            "0021_01,True\n",
            "0023_01,True\n",
            "0027_01,True\n",
            "0029_01,True\n",
            "0032_01,True\n",
            "0032_02,True\n"
          ]
        }
      ]
    },
    {
      "cell_type": "code",
      "source": [
        "if not iskaggle:\n",
        "    from kaggle import api\n",
        "    api.competition_submit_cli('sub5.csv', 'Random forest model gridsearch', comp)"
      ],
      "metadata": {
        "colab": {
          "base_uri": "https://localhost:8080/"
        },
        "id": "w-NaRW_eXkeS",
        "outputId": "b207830b-9e2e-4c01-e947-e98edbffb418"
      },
      "execution_count": 124,
      "outputs": [
        {
          "output_type": "stream",
          "name": "stderr",
          "text": [
            "100%|██████████| 57.1k/57.1k [00:00<00:00, 284kB/s]\n"
          ]
        }
      ]
    },
    {
      "cell_type": "markdown",
      "source": [
        "Your submission scored 0.73579.\n",
        "getting worse results."
      ],
      "metadata": {
        "id": "tQzXPoZbYq9G"
      }
    },
    {
      "cell_type": "code",
      "source": [],
      "metadata": {
        "id": "zliP4xJFXkKF"
      },
      "execution_count": null,
      "outputs": []
    },
    {
      "cell_type": "markdown",
      "source": [
        "# Model 5\n",
        "ensemble random forest + neural net"
      ],
      "metadata": {
        "id": "shxGoAitKVEK"
      }
    },
    {
      "cell_type": "code",
      "source": [
        "# neural network predictions #\n",
        "preds_nn.shape, preds_nn"
      ],
      "metadata": {
        "colab": {
          "base_uri": "https://localhost:8080/"
        },
        "id": "eg5wQnGkScpU",
        "outputId": "c031ce47-f9c5-4018-8ede-a39623941a24"
      },
      "execution_count": 81,
      "outputs": [
        {
          "output_type": "execute_result",
          "data": {
            "text/plain": [
              "(torch.Size([4277, 2]), tensor([[1.0150e-03, 9.9898e-01],\n",
              "         [9.9956e-01, 4.4140e-04],\n",
              "         [2.0124e-05, 9.9998e-01],\n",
              "         ...,\n",
              "         [8.0959e-05, 9.9992e-01],\n",
              "         [5.6265e-01, 4.3735e-01],\n",
              "         [7.0089e-04, 9.9930e-01]]))"
            ]
          },
          "metadata": {},
          "execution_count": 81
        }
      ]
    },
    {
      "cell_type": "code",
      "source": [
        "(preds_nn[:,1]>0.5)"
      ],
      "metadata": {
        "colab": {
          "base_uri": "https://localhost:8080/"
        },
        "id": "sqx85X1vSytQ",
        "outputId": "38d5acd3-f67c-4834-c060-31929c3e2934"
      },
      "execution_count": 82,
      "outputs": [
        {
          "output_type": "execute_result",
          "data": {
            "text/plain": [
              "tensor([ True, False,  True,  ...,  True, False,  True])"
            ]
          },
          "metadata": {},
          "execution_count": 82
        }
      ]
    },
    {
      "cell_type": "code",
      "source": [
        "(preds_nn[:,1]>0.5).shape"
      ],
      "metadata": {
        "colab": {
          "base_uri": "https://localhost:8080/"
        },
        "id": "KBNNiI--Ta-8",
        "outputId": "035d57c2-38f2-437b-edcc-8ca8cf5f4537"
      },
      "execution_count": 83,
      "outputs": [
        {
          "output_type": "execute_result",
          "data": {
            "text/plain": [
              "torch.Size([4277])"
            ]
          },
          "metadata": {},
          "execution_count": 83
        }
      ]
    },
    {
      "cell_type": "code",
      "source": [
        "preds_nn_final = (preds_nn[:,1]>0.5)"
      ],
      "metadata": {
        "id": "l9WBEfFHU895"
      },
      "execution_count": 113,
      "outputs": []
    },
    {
      "cell_type": "code",
      "source": [
        "preds_nn_final"
      ],
      "metadata": {
        "colab": {
          "base_uri": "https://localhost:8080/"
        },
        "id": "zU5K5-KCUY3l",
        "outputId": "067b713d-8e46-4667-e2fe-dcc4061547aa"
      },
      "execution_count": 114,
      "outputs": [
        {
          "output_type": "execute_result",
          "data": {
            "text/plain": [
              "tensor([ True, False,  True,  ...,  True, False,  True])"
            ]
          },
          "metadata": {},
          "execution_count": 114
        }
      ]
    },
    {
      "cell_type": "code",
      "source": [
        "preds_nn_final.shape"
      ],
      "metadata": {
        "colab": {
          "base_uri": "https://localhost:8080/"
        },
        "id": "dXYdeM9lUhY-",
        "outputId": "67ecb077-9b86-45fe-e253-6dceedea9324"
      },
      "execution_count": 116,
      "outputs": [
        {
          "output_type": "execute_result",
          "data": {
            "text/plain": [
              "torch.Size([4277])"
            ]
          },
          "metadata": {},
          "execution_count": 116
        }
      ]
    },
    {
      "cell_type": "code",
      "source": [
        "(preds_nn_final.squeeze()).shape"
      ],
      "metadata": {
        "colab": {
          "base_uri": "https://localhost:8080/"
        },
        "id": "wq2w6OK0UYxE",
        "outputId": "8419dd85-468a-49a0-c53a-04b8cfa935e1"
      },
      "execution_count": 117,
      "outputs": [
        {
          "output_type": "execute_result",
          "data": {
            "text/plain": [
              "torch.Size([4277])"
            ]
          },
          "metadata": {},
          "execution_count": 117
        }
      ]
    },
    {
      "cell_type": "code",
      "source": [
        "to_np(preds_nn_final.squeeze()).shape"
      ],
      "metadata": {
        "colab": {
          "base_uri": "https://localhost:8080/"
        },
        "id": "i93rLYopUYsV",
        "outputId": "01e1c18e-7629-4f15-c997-8ebab588fb90"
      },
      "execution_count": 118,
      "outputs": [
        {
          "output_type": "execute_result",
          "data": {
            "text/plain": [
              "(4277,)"
            ]
          },
          "metadata": {},
          "execution_count": 118
        }
      ]
    },
    {
      "cell_type": "code",
      "source": [
        "to_np(preds_nn_final).shape"
      ],
      "metadata": {
        "colab": {
          "base_uri": "https://localhost:8080/"
        },
        "id": "KGHVuyzWUYf5",
        "outputId": "25807784-32bc-4dba-d2e0-e1428a28887f"
      },
      "execution_count": 119,
      "outputs": [
        {
          "output_type": "execute_result",
          "data": {
            "text/plain": [
              "(4277,)"
            ]
          },
          "metadata": {},
          "execution_count": 119
        }
      ]
    },
    {
      "cell_type": "markdown",
      "source": [
        "rfc preds"
      ],
      "metadata": {
        "id": "a_MlJFvYUHOG"
      }
    },
    {
      "cell_type": "code",
      "source": [
        "rfc_model_predictions.shape"
      ],
      "metadata": {
        "colab": {
          "base_uri": "https://localhost:8080/"
        },
        "id": "eGeDBkh7UFI0",
        "outputId": "292c2fec-3673-442e-d9a2-d7b9d95b0b01"
      },
      "execution_count": 102,
      "outputs": [
        {
          "output_type": "execute_result",
          "data": {
            "text/plain": [
              "(4277,)"
            ]
          },
          "metadata": {},
          "execution_count": 102
        }
      ]
    },
    {
      "cell_type": "markdown",
      "source": [
        "ensemble preds"
      ],
      "metadata": {
        "id": "NeFqE62bVkgT"
      }
    },
    {
      "cell_type": "code",
      "source": [],
      "metadata": {
        "id": "4FexcsSmUVaI"
      },
      "execution_count": null,
      "outputs": []
    },
    {
      "cell_type": "code",
      "source": [
        "ens_preds = (to_np(preds_nn_final.squeeze()) + rfc_model_predictions) /2"
      ],
      "metadata": {
        "id": "RDAnmheaPYT5"
      },
      "execution_count": 120,
      "outputs": []
    },
    {
      "cell_type": "code",
      "source": [
        "ens_preds.shape"
      ],
      "metadata": {
        "colab": {
          "base_uri": "https://localhost:8080/"
        },
        "id": "QPHvjOEnPkYu",
        "outputId": "d7d83618-9b0d-4c6b-ce9d-d3aa434a82c0"
      },
      "execution_count": 122,
      "outputs": [
        {
          "output_type": "execute_result",
          "data": {
            "text/plain": [
              "(4277,)"
            ]
          },
          "metadata": {},
          "execution_count": 122
        }
      ]
    },
    {
      "cell_type": "code",
      "source": [
        "valid_y.shape"
      ],
      "metadata": {
        "colab": {
          "base_uri": "https://localhost:8080/"
        },
        "id": "xxBzYh2SWmtk",
        "outputId": "3dfa05e4-f100-4b1f-f9dc-8f9835a09c75"
      },
      "execution_count": 125,
      "outputs": [
        {
          "output_type": "execute_result",
          "data": {
            "text/plain": [
              "(1738,)"
            ]
          },
          "metadata": {},
          "execution_count": 125
        }
      ]
    },
    {
      "cell_type": "code",
      "source": [],
      "metadata": {
        "id": "MvCeIA0YXBWA"
      },
      "execution_count": null,
      "outputs": []
    },
    {
      "cell_type": "code",
      "source": [
        "accuracy_score(valid_y, ens_preds)"
      ],
      "metadata": {
        "colab": {
          "base_uri": "https://localhost:8080/",
          "height": 311
        },
        "id": "ybTrLD10PkVd",
        "outputId": "43010811-0062-4b08-8599-5214ba8bba6a"
      },
      "execution_count": 123,
      "outputs": [
        {
          "output_type": "error",
          "ename": "ValueError",
          "evalue": "ignored",
          "traceback": [
            "\u001b[0;31m---------------------------------------------------------------------------\u001b[0m",
            "\u001b[0;31mValueError\u001b[0m                                Traceback (most recent call last)",
            "\u001b[0;32m<ipython-input-123-f5ad66b74920>\u001b[0m in \u001b[0;36m<module>\u001b[0;34m\u001b[0m\n\u001b[0;32m----> 1\u001b[0;31m \u001b[0maccuracy_score\u001b[0m\u001b[0;34m(\u001b[0m\u001b[0mvalid_y\u001b[0m\u001b[0;34m,\u001b[0m \u001b[0mens_preds\u001b[0m\u001b[0;34m)\u001b[0m\u001b[0;34m\u001b[0m\u001b[0;34m\u001b[0m\u001b[0m\n\u001b[0m",
            "\u001b[0;32m/usr/local/lib/python3.7/dist-packages/sklearn/metrics/_classification.py\u001b[0m in \u001b[0;36maccuracy_score\u001b[0;34m(y_true, y_pred, normalize, sample_weight)\u001b[0m\n\u001b[1;32m    209\u001b[0m \u001b[0;34m\u001b[0m\u001b[0m\n\u001b[1;32m    210\u001b[0m     \u001b[0;31m# Compute accuracy for each possible representation\u001b[0m\u001b[0;34m\u001b[0m\u001b[0;34m\u001b[0m\u001b[0;34m\u001b[0m\u001b[0m\n\u001b[0;32m--> 211\u001b[0;31m     \u001b[0my_type\u001b[0m\u001b[0;34m,\u001b[0m \u001b[0my_true\u001b[0m\u001b[0;34m,\u001b[0m \u001b[0my_pred\u001b[0m \u001b[0;34m=\u001b[0m \u001b[0m_check_targets\u001b[0m\u001b[0;34m(\u001b[0m\u001b[0my_true\u001b[0m\u001b[0;34m,\u001b[0m \u001b[0my_pred\u001b[0m\u001b[0;34m)\u001b[0m\u001b[0;34m\u001b[0m\u001b[0;34m\u001b[0m\u001b[0m\n\u001b[0m\u001b[1;32m    212\u001b[0m     \u001b[0mcheck_consistent_length\u001b[0m\u001b[0;34m(\u001b[0m\u001b[0my_true\u001b[0m\u001b[0;34m,\u001b[0m \u001b[0my_pred\u001b[0m\u001b[0;34m,\u001b[0m \u001b[0msample_weight\u001b[0m\u001b[0;34m)\u001b[0m\u001b[0;34m\u001b[0m\u001b[0;34m\u001b[0m\u001b[0m\n\u001b[1;32m    213\u001b[0m     \u001b[0;32mif\u001b[0m \u001b[0my_type\u001b[0m\u001b[0;34m.\u001b[0m\u001b[0mstartswith\u001b[0m\u001b[0;34m(\u001b[0m\u001b[0;34m\"multilabel\"\u001b[0m\u001b[0;34m)\u001b[0m\u001b[0;34m:\u001b[0m\u001b[0;34m\u001b[0m\u001b[0;34m\u001b[0m\u001b[0m\n",
            "\u001b[0;32m/usr/local/lib/python3.7/dist-packages/sklearn/metrics/_classification.py\u001b[0m in \u001b[0;36m_check_targets\u001b[0;34m(y_true, y_pred)\u001b[0m\n\u001b[1;32m     82\u001b[0m     \u001b[0my_pred\u001b[0m \u001b[0;34m:\u001b[0m \u001b[0marray\u001b[0m \u001b[0;32mor\u001b[0m \u001b[0mindicator\u001b[0m \u001b[0mmatrix\u001b[0m\u001b[0;34m\u001b[0m\u001b[0;34m\u001b[0m\u001b[0m\n\u001b[1;32m     83\u001b[0m     \"\"\"\n\u001b[0;32m---> 84\u001b[0;31m     \u001b[0mcheck_consistent_length\u001b[0m\u001b[0;34m(\u001b[0m\u001b[0my_true\u001b[0m\u001b[0;34m,\u001b[0m \u001b[0my_pred\u001b[0m\u001b[0;34m)\u001b[0m\u001b[0;34m\u001b[0m\u001b[0;34m\u001b[0m\u001b[0m\n\u001b[0m\u001b[1;32m     85\u001b[0m     \u001b[0mtype_true\u001b[0m \u001b[0;34m=\u001b[0m \u001b[0mtype_of_target\u001b[0m\u001b[0;34m(\u001b[0m\u001b[0my_true\u001b[0m\u001b[0;34m)\u001b[0m\u001b[0;34m\u001b[0m\u001b[0;34m\u001b[0m\u001b[0m\n\u001b[1;32m     86\u001b[0m     \u001b[0mtype_pred\u001b[0m \u001b[0;34m=\u001b[0m \u001b[0mtype_of_target\u001b[0m\u001b[0;34m(\u001b[0m\u001b[0my_pred\u001b[0m\u001b[0;34m)\u001b[0m\u001b[0;34m\u001b[0m\u001b[0;34m\u001b[0m\u001b[0m\n",
            "\u001b[0;32m/usr/local/lib/python3.7/dist-packages/sklearn/utils/validation.py\u001b[0m in \u001b[0;36mcheck_consistent_length\u001b[0;34m(*arrays)\u001b[0m\n\u001b[1;32m    332\u001b[0m         raise ValueError(\n\u001b[1;32m    333\u001b[0m             \u001b[0;34m\"Found input variables with inconsistent numbers of samples: %r\"\u001b[0m\u001b[0;34m\u001b[0m\u001b[0;34m\u001b[0m\u001b[0m\n\u001b[0;32m--> 334\u001b[0;31m             \u001b[0;34m%\u001b[0m \u001b[0;34m[\u001b[0m\u001b[0mint\u001b[0m\u001b[0;34m(\u001b[0m\u001b[0ml\u001b[0m\u001b[0;34m)\u001b[0m \u001b[0;32mfor\u001b[0m \u001b[0ml\u001b[0m \u001b[0;32min\u001b[0m \u001b[0mlengths\u001b[0m\u001b[0;34m]\u001b[0m\u001b[0;34m\u001b[0m\u001b[0;34m\u001b[0m\u001b[0m\n\u001b[0m\u001b[1;32m    335\u001b[0m         )\n\u001b[1;32m    336\u001b[0m \u001b[0;34m\u001b[0m\u001b[0m\n",
            "\u001b[0;31mValueError\u001b[0m: Found input variables with inconsistent numbers of samples: [1738, 4277]"
          ]
        }
      ]
    },
    {
      "cell_type": "code",
      "source": [],
      "metadata": {
        "id": "FTayJomRWG-X"
      },
      "execution_count": null,
      "outputs": []
    },
    {
      "cell_type": "markdown",
      "source": [
        "## Submit 5"
      ],
      "metadata": {
        "id": "ZtpexdLrPlBl"
      }
    },
    {
      "cell_type": "code",
      "source": [
        "tst_df"
      ],
      "metadata": {
        "colab": {
          "base_uri": "https://localhost:8080/",
          "height": 661
        },
        "id": "XlWOD2omXPek",
        "outputId": "7b8ff294-83cf-4232-a644-90605be1c603"
      },
      "execution_count": 131,
      "outputs": [
        {
          "output_type": "execute_result",
          "data": {
            "text/plain": [
              "     PassengerId HomePlanet CryoSleep     Cabin    Destination   Age    VIP  \\\n",
              "0        0013_01      Earth      True     G/3/S    TRAPPIST-1e  27.0  False   \n",
              "1        0018_01      Earth     False     F/4/S    TRAPPIST-1e  19.0  False   \n",
              "2        0019_01     Europa      True     C/0/S    55 Cancri e  31.0  False   \n",
              "3        0021_01     Europa     False     C/1/S    TRAPPIST-1e  38.0  False   \n",
              "4        0023_01      Earth     False     F/5/S    TRAPPIST-1e  20.0  False   \n",
              "...          ...        ...       ...       ...            ...   ...    ...   \n",
              "4272     9266_02      Earth      True  G/1496/S    TRAPPIST-1e  34.0  False   \n",
              "4273     9269_01      Earth     False       NaN    TRAPPIST-1e  42.0  False   \n",
              "4274     9271_01       Mars      True   D/296/P    55 Cancri e   NaN  False   \n",
              "4275     9273_01     Europa     False   D/297/P            NaN   NaN  False   \n",
              "4276     9277_01      Earth      True  G/1498/S  PSO J318.5-22  43.0  False   \n",
              "\n",
              "      RoomService  FoodCourt  ShoppingMall     Spa  VRDeck              Name  \\\n",
              "0             0.0        0.0           0.0     0.0     0.0   Nelly Carsoning   \n",
              "1             0.0        9.0           0.0  2823.0     0.0    Lerome Peckers   \n",
              "2             0.0        0.0           0.0     0.0     0.0   Sabih Unhearfus   \n",
              "3             0.0     6652.0           0.0   181.0   585.0  Meratz Caltilter   \n",
              "4            10.0        0.0         635.0     0.0     0.0   Brence Harperez   \n",
              "...           ...        ...           ...     ...     ...               ...   \n",
              "4272          0.0        0.0           0.0     0.0     0.0       Jeron Peter   \n",
              "4273          0.0      847.0          17.0    10.0   144.0     Matty Scheron   \n",
              "4274          0.0        0.0           0.0     0.0     0.0       Jayrin Pore   \n",
              "4275          0.0     2680.0           0.0     0.0   523.0    Kitakan Conale   \n",
              "4276          0.0        0.0           0.0     0.0     0.0  Lilace Leonzaley   \n",
              "\n",
              "     Passenger_Gp Passenger_Gp_Nb Cabin_Deck Cabin_Num Cabin_Side  \n",
              "0            0013              01          G         3          S  \n",
              "1            0018              01          F         4          S  \n",
              "2            0019              01          C         0          S  \n",
              "3            0021              01          C         1          S  \n",
              "4            0023              01          F         5          S  \n",
              "...           ...             ...        ...       ...        ...  \n",
              "4272         9266              02          G      1496          S  \n",
              "4273         9269              01        NaN       NaN        NaN  \n",
              "4274         9271              01          D       296          P  \n",
              "4275         9273              01          D       297          P  \n",
              "4276         9277              01          G      1498          S  \n",
              "\n",
              "[4277 rows x 18 columns]"
            ],
            "text/html": [
              "\n",
              "  <div id=\"df-112daf9f-ebed-493e-a429-0f9a27d00f06\">\n",
              "    <div class=\"colab-df-container\">\n",
              "      <div>\n",
              "<style scoped>\n",
              "    .dataframe tbody tr th:only-of-type {\n",
              "        vertical-align: middle;\n",
              "    }\n",
              "\n",
              "    .dataframe tbody tr th {\n",
              "        vertical-align: top;\n",
              "    }\n",
              "\n",
              "    .dataframe thead th {\n",
              "        text-align: right;\n",
              "    }\n",
              "</style>\n",
              "<table border=\"1\" class=\"dataframe\">\n",
              "  <thead>\n",
              "    <tr style=\"text-align: right;\">\n",
              "      <th></th>\n",
              "      <th>PassengerId</th>\n",
              "      <th>HomePlanet</th>\n",
              "      <th>CryoSleep</th>\n",
              "      <th>Cabin</th>\n",
              "      <th>Destination</th>\n",
              "      <th>Age</th>\n",
              "      <th>VIP</th>\n",
              "      <th>RoomService</th>\n",
              "      <th>FoodCourt</th>\n",
              "      <th>ShoppingMall</th>\n",
              "      <th>Spa</th>\n",
              "      <th>VRDeck</th>\n",
              "      <th>Name</th>\n",
              "      <th>Passenger_Gp</th>\n",
              "      <th>Passenger_Gp_Nb</th>\n",
              "      <th>Cabin_Deck</th>\n",
              "      <th>Cabin_Num</th>\n",
              "      <th>Cabin_Side</th>\n",
              "    </tr>\n",
              "  </thead>\n",
              "  <tbody>\n",
              "    <tr>\n",
              "      <th>0</th>\n",
              "      <td>0013_01</td>\n",
              "      <td>Earth</td>\n",
              "      <td>True</td>\n",
              "      <td>G/3/S</td>\n",
              "      <td>TRAPPIST-1e</td>\n",
              "      <td>27.0</td>\n",
              "      <td>False</td>\n",
              "      <td>0.0</td>\n",
              "      <td>0.0</td>\n",
              "      <td>0.0</td>\n",
              "      <td>0.0</td>\n",
              "      <td>0.0</td>\n",
              "      <td>Nelly Carsoning</td>\n",
              "      <td>0013</td>\n",
              "      <td>01</td>\n",
              "      <td>G</td>\n",
              "      <td>3</td>\n",
              "      <td>S</td>\n",
              "    </tr>\n",
              "    <tr>\n",
              "      <th>1</th>\n",
              "      <td>0018_01</td>\n",
              "      <td>Earth</td>\n",
              "      <td>False</td>\n",
              "      <td>F/4/S</td>\n",
              "      <td>TRAPPIST-1e</td>\n",
              "      <td>19.0</td>\n",
              "      <td>False</td>\n",
              "      <td>0.0</td>\n",
              "      <td>9.0</td>\n",
              "      <td>0.0</td>\n",
              "      <td>2823.0</td>\n",
              "      <td>0.0</td>\n",
              "      <td>Lerome Peckers</td>\n",
              "      <td>0018</td>\n",
              "      <td>01</td>\n",
              "      <td>F</td>\n",
              "      <td>4</td>\n",
              "      <td>S</td>\n",
              "    </tr>\n",
              "    <tr>\n",
              "      <th>2</th>\n",
              "      <td>0019_01</td>\n",
              "      <td>Europa</td>\n",
              "      <td>True</td>\n",
              "      <td>C/0/S</td>\n",
              "      <td>55 Cancri e</td>\n",
              "      <td>31.0</td>\n",
              "      <td>False</td>\n",
              "      <td>0.0</td>\n",
              "      <td>0.0</td>\n",
              "      <td>0.0</td>\n",
              "      <td>0.0</td>\n",
              "      <td>0.0</td>\n",
              "      <td>Sabih Unhearfus</td>\n",
              "      <td>0019</td>\n",
              "      <td>01</td>\n",
              "      <td>C</td>\n",
              "      <td>0</td>\n",
              "      <td>S</td>\n",
              "    </tr>\n",
              "    <tr>\n",
              "      <th>3</th>\n",
              "      <td>0021_01</td>\n",
              "      <td>Europa</td>\n",
              "      <td>False</td>\n",
              "      <td>C/1/S</td>\n",
              "      <td>TRAPPIST-1e</td>\n",
              "      <td>38.0</td>\n",
              "      <td>False</td>\n",
              "      <td>0.0</td>\n",
              "      <td>6652.0</td>\n",
              "      <td>0.0</td>\n",
              "      <td>181.0</td>\n",
              "      <td>585.0</td>\n",
              "      <td>Meratz Caltilter</td>\n",
              "      <td>0021</td>\n",
              "      <td>01</td>\n",
              "      <td>C</td>\n",
              "      <td>1</td>\n",
              "      <td>S</td>\n",
              "    </tr>\n",
              "    <tr>\n",
              "      <th>4</th>\n",
              "      <td>0023_01</td>\n",
              "      <td>Earth</td>\n",
              "      <td>False</td>\n",
              "      <td>F/5/S</td>\n",
              "      <td>TRAPPIST-1e</td>\n",
              "      <td>20.0</td>\n",
              "      <td>False</td>\n",
              "      <td>10.0</td>\n",
              "      <td>0.0</td>\n",
              "      <td>635.0</td>\n",
              "      <td>0.0</td>\n",
              "      <td>0.0</td>\n",
              "      <td>Brence Harperez</td>\n",
              "      <td>0023</td>\n",
              "      <td>01</td>\n",
              "      <td>F</td>\n",
              "      <td>5</td>\n",
              "      <td>S</td>\n",
              "    </tr>\n",
              "    <tr>\n",
              "      <th>...</th>\n",
              "      <td>...</td>\n",
              "      <td>...</td>\n",
              "      <td>...</td>\n",
              "      <td>...</td>\n",
              "      <td>...</td>\n",
              "      <td>...</td>\n",
              "      <td>...</td>\n",
              "      <td>...</td>\n",
              "      <td>...</td>\n",
              "      <td>...</td>\n",
              "      <td>...</td>\n",
              "      <td>...</td>\n",
              "      <td>...</td>\n",
              "      <td>...</td>\n",
              "      <td>...</td>\n",
              "      <td>...</td>\n",
              "      <td>...</td>\n",
              "      <td>...</td>\n",
              "    </tr>\n",
              "    <tr>\n",
              "      <th>4272</th>\n",
              "      <td>9266_02</td>\n",
              "      <td>Earth</td>\n",
              "      <td>True</td>\n",
              "      <td>G/1496/S</td>\n",
              "      <td>TRAPPIST-1e</td>\n",
              "      <td>34.0</td>\n",
              "      <td>False</td>\n",
              "      <td>0.0</td>\n",
              "      <td>0.0</td>\n",
              "      <td>0.0</td>\n",
              "      <td>0.0</td>\n",
              "      <td>0.0</td>\n",
              "      <td>Jeron Peter</td>\n",
              "      <td>9266</td>\n",
              "      <td>02</td>\n",
              "      <td>G</td>\n",
              "      <td>1496</td>\n",
              "      <td>S</td>\n",
              "    </tr>\n",
              "    <tr>\n",
              "      <th>4273</th>\n",
              "      <td>9269_01</td>\n",
              "      <td>Earth</td>\n",
              "      <td>False</td>\n",
              "      <td>NaN</td>\n",
              "      <td>TRAPPIST-1e</td>\n",
              "      <td>42.0</td>\n",
              "      <td>False</td>\n",
              "      <td>0.0</td>\n",
              "      <td>847.0</td>\n",
              "      <td>17.0</td>\n",
              "      <td>10.0</td>\n",
              "      <td>144.0</td>\n",
              "      <td>Matty Scheron</td>\n",
              "      <td>9269</td>\n",
              "      <td>01</td>\n",
              "      <td>NaN</td>\n",
              "      <td>NaN</td>\n",
              "      <td>NaN</td>\n",
              "    </tr>\n",
              "    <tr>\n",
              "      <th>4274</th>\n",
              "      <td>9271_01</td>\n",
              "      <td>Mars</td>\n",
              "      <td>True</td>\n",
              "      <td>D/296/P</td>\n",
              "      <td>55 Cancri e</td>\n",
              "      <td>NaN</td>\n",
              "      <td>False</td>\n",
              "      <td>0.0</td>\n",
              "      <td>0.0</td>\n",
              "      <td>0.0</td>\n",
              "      <td>0.0</td>\n",
              "      <td>0.0</td>\n",
              "      <td>Jayrin Pore</td>\n",
              "      <td>9271</td>\n",
              "      <td>01</td>\n",
              "      <td>D</td>\n",
              "      <td>296</td>\n",
              "      <td>P</td>\n",
              "    </tr>\n",
              "    <tr>\n",
              "      <th>4275</th>\n",
              "      <td>9273_01</td>\n",
              "      <td>Europa</td>\n",
              "      <td>False</td>\n",
              "      <td>D/297/P</td>\n",
              "      <td>NaN</td>\n",
              "      <td>NaN</td>\n",
              "      <td>False</td>\n",
              "      <td>0.0</td>\n",
              "      <td>2680.0</td>\n",
              "      <td>0.0</td>\n",
              "      <td>0.0</td>\n",
              "      <td>523.0</td>\n",
              "      <td>Kitakan Conale</td>\n",
              "      <td>9273</td>\n",
              "      <td>01</td>\n",
              "      <td>D</td>\n",
              "      <td>297</td>\n",
              "      <td>P</td>\n",
              "    </tr>\n",
              "    <tr>\n",
              "      <th>4276</th>\n",
              "      <td>9277_01</td>\n",
              "      <td>Earth</td>\n",
              "      <td>True</td>\n",
              "      <td>G/1498/S</td>\n",
              "      <td>PSO J318.5-22</td>\n",
              "      <td>43.0</td>\n",
              "      <td>False</td>\n",
              "      <td>0.0</td>\n",
              "      <td>0.0</td>\n",
              "      <td>0.0</td>\n",
              "      <td>0.0</td>\n",
              "      <td>0.0</td>\n",
              "      <td>Lilace Leonzaley</td>\n",
              "      <td>9277</td>\n",
              "      <td>01</td>\n",
              "      <td>G</td>\n",
              "      <td>1498</td>\n",
              "      <td>S</td>\n",
              "    </tr>\n",
              "  </tbody>\n",
              "</table>\n",
              "<p>4277 rows × 18 columns</p>\n",
              "</div>\n",
              "      <button class=\"colab-df-convert\" onclick=\"convertToInteractive('df-112daf9f-ebed-493e-a429-0f9a27d00f06')\"\n",
              "              title=\"Convert this dataframe to an interactive table.\"\n",
              "              style=\"display:none;\">\n",
              "        \n",
              "  <svg xmlns=\"http://www.w3.org/2000/svg\" height=\"24px\"viewBox=\"0 0 24 24\"\n",
              "       width=\"24px\">\n",
              "    <path d=\"M0 0h24v24H0V0z\" fill=\"none\"/>\n",
              "    <path d=\"M18.56 5.44l.94 2.06.94-2.06 2.06-.94-2.06-.94-.94-2.06-.94 2.06-2.06.94zm-11 1L8.5 8.5l.94-2.06 2.06-.94-2.06-.94L8.5 2.5l-.94 2.06-2.06.94zm10 10l.94 2.06.94-2.06 2.06-.94-2.06-.94-.94-2.06-.94 2.06-2.06.94z\"/><path d=\"M17.41 7.96l-1.37-1.37c-.4-.4-.92-.59-1.43-.59-.52 0-1.04.2-1.43.59L10.3 9.45l-7.72 7.72c-.78.78-.78 2.05 0 2.83L4 21.41c.39.39.9.59 1.41.59.51 0 1.02-.2 1.41-.59l7.78-7.78 2.81-2.81c.8-.78.8-2.07 0-2.86zM5.41 20L4 18.59l7.72-7.72 1.47 1.35L5.41 20z\"/>\n",
              "  </svg>\n",
              "      </button>\n",
              "      \n",
              "  <style>\n",
              "    .colab-df-container {\n",
              "      display:flex;\n",
              "      flex-wrap:wrap;\n",
              "      gap: 12px;\n",
              "    }\n",
              "\n",
              "    .colab-df-convert {\n",
              "      background-color: #E8F0FE;\n",
              "      border: none;\n",
              "      border-radius: 50%;\n",
              "      cursor: pointer;\n",
              "      display: none;\n",
              "      fill: #1967D2;\n",
              "      height: 32px;\n",
              "      padding: 0 0 0 0;\n",
              "      width: 32px;\n",
              "    }\n",
              "\n",
              "    .colab-df-convert:hover {\n",
              "      background-color: #E2EBFA;\n",
              "      box-shadow: 0px 1px 2px rgba(60, 64, 67, 0.3), 0px 1px 3px 1px rgba(60, 64, 67, 0.15);\n",
              "      fill: #174EA6;\n",
              "    }\n",
              "\n",
              "    [theme=dark] .colab-df-convert {\n",
              "      background-color: #3B4455;\n",
              "      fill: #D2E3FC;\n",
              "    }\n",
              "\n",
              "    [theme=dark] .colab-df-convert:hover {\n",
              "      background-color: #434B5C;\n",
              "      box-shadow: 0px 1px 3px 1px rgba(0, 0, 0, 0.15);\n",
              "      filter: drop-shadow(0px 1px 2px rgba(0, 0, 0, 0.3));\n",
              "      fill: #FFFFFF;\n",
              "    }\n",
              "  </style>\n",
              "\n",
              "      <script>\n",
              "        const buttonEl =\n",
              "          document.querySelector('#df-112daf9f-ebed-493e-a429-0f9a27d00f06 button.colab-df-convert');\n",
              "        buttonEl.style.display =\n",
              "          google.colab.kernel.accessAllowed ? 'block' : 'none';\n",
              "\n",
              "        async function convertToInteractive(key) {\n",
              "          const element = document.querySelector('#df-112daf9f-ebed-493e-a429-0f9a27d00f06');\n",
              "          const dataTable =\n",
              "            await google.colab.kernel.invokeFunction('convertToInteractive',\n",
              "                                                     [key], {});\n",
              "          if (!dataTable) return;\n",
              "\n",
              "          const docLinkHtml = 'Like what you see? Visit the ' +\n",
              "            '<a target=\"_blank\" href=https://colab.research.google.com/notebooks/data_table.ipynb>data table notebook</a>'\n",
              "            + ' to learn more about interactive tables.';\n",
              "          element.innerHTML = '';\n",
              "          dataTable['output_type'] = 'display_data';\n",
              "          await google.colab.output.renderOutput(dataTable, element);\n",
              "          const docLink = document.createElement('div');\n",
              "          docLink.innerHTML = docLinkHtml;\n",
              "          element.appendChild(docLink);\n",
              "        }\n",
              "      </script>\n",
              "    </div>\n",
              "  </div>\n",
              "  "
            ]
          },
          "metadata": {},
          "execution_count": 131
        }
      ]
    },
    {
      "cell_type": "code",
      "source": [
        "tst_df['Transported'] = ens_preds\n",
        "sub_df2 = tst_df[['PassengerId', 'Transported']]\n",
        "# sub_df.to_csv('sub4.csv', index=False)"
      ],
      "metadata": {
        "id": "M53FOdrJPnZE"
      },
      "execution_count": 132,
      "outputs": []
    },
    {
      "cell_type": "code",
      "source": [
        "sub_df2"
      ],
      "metadata": {
        "colab": {
          "base_uri": "https://localhost:8080/",
          "height": 424
        },
        "id": "lLrBgiydXbFi",
        "outputId": "16d49ba1-9def-4a1e-8deb-eb9734e01ac6"
      },
      "execution_count": 133,
      "outputs": [
        {
          "output_type": "execute_result",
          "data": {
            "text/plain": [
              "     PassengerId  Transported\n",
              "0        0013_01          1.0\n",
              "1        0018_01          0.0\n",
              "2        0019_01          1.0\n",
              "3        0021_01          1.0\n",
              "4        0023_01          0.5\n",
              "...          ...          ...\n",
              "4272     9266_02          1.0\n",
              "4273     9269_01          0.0\n",
              "4274     9271_01          1.0\n",
              "4275     9273_01          0.5\n",
              "4276     9277_01          1.0\n",
              "\n",
              "[4277 rows x 2 columns]"
            ],
            "text/html": [
              "\n",
              "  <div id=\"df-5b587f99-5ee4-414d-986e-0b840b4ab12d\">\n",
              "    <div class=\"colab-df-container\">\n",
              "      <div>\n",
              "<style scoped>\n",
              "    .dataframe tbody tr th:only-of-type {\n",
              "        vertical-align: middle;\n",
              "    }\n",
              "\n",
              "    .dataframe tbody tr th {\n",
              "        vertical-align: top;\n",
              "    }\n",
              "\n",
              "    .dataframe thead th {\n",
              "        text-align: right;\n",
              "    }\n",
              "</style>\n",
              "<table border=\"1\" class=\"dataframe\">\n",
              "  <thead>\n",
              "    <tr style=\"text-align: right;\">\n",
              "      <th></th>\n",
              "      <th>PassengerId</th>\n",
              "      <th>Transported</th>\n",
              "    </tr>\n",
              "  </thead>\n",
              "  <tbody>\n",
              "    <tr>\n",
              "      <th>0</th>\n",
              "      <td>0013_01</td>\n",
              "      <td>1.0</td>\n",
              "    </tr>\n",
              "    <tr>\n",
              "      <th>1</th>\n",
              "      <td>0018_01</td>\n",
              "      <td>0.0</td>\n",
              "    </tr>\n",
              "    <tr>\n",
              "      <th>2</th>\n",
              "      <td>0019_01</td>\n",
              "      <td>1.0</td>\n",
              "    </tr>\n",
              "    <tr>\n",
              "      <th>3</th>\n",
              "      <td>0021_01</td>\n",
              "      <td>1.0</td>\n",
              "    </tr>\n",
              "    <tr>\n",
              "      <th>4</th>\n",
              "      <td>0023_01</td>\n",
              "      <td>0.5</td>\n",
              "    </tr>\n",
              "    <tr>\n",
              "      <th>...</th>\n",
              "      <td>...</td>\n",
              "      <td>...</td>\n",
              "    </tr>\n",
              "    <tr>\n",
              "      <th>4272</th>\n",
              "      <td>9266_02</td>\n",
              "      <td>1.0</td>\n",
              "    </tr>\n",
              "    <tr>\n",
              "      <th>4273</th>\n",
              "      <td>9269_01</td>\n",
              "      <td>0.0</td>\n",
              "    </tr>\n",
              "    <tr>\n",
              "      <th>4274</th>\n",
              "      <td>9271_01</td>\n",
              "      <td>1.0</td>\n",
              "    </tr>\n",
              "    <tr>\n",
              "      <th>4275</th>\n",
              "      <td>9273_01</td>\n",
              "      <td>0.5</td>\n",
              "    </tr>\n",
              "    <tr>\n",
              "      <th>4276</th>\n",
              "      <td>9277_01</td>\n",
              "      <td>1.0</td>\n",
              "    </tr>\n",
              "  </tbody>\n",
              "</table>\n",
              "<p>4277 rows × 2 columns</p>\n",
              "</div>\n",
              "      <button class=\"colab-df-convert\" onclick=\"convertToInteractive('df-5b587f99-5ee4-414d-986e-0b840b4ab12d')\"\n",
              "              title=\"Convert this dataframe to an interactive table.\"\n",
              "              style=\"display:none;\">\n",
              "        \n",
              "  <svg xmlns=\"http://www.w3.org/2000/svg\" height=\"24px\"viewBox=\"0 0 24 24\"\n",
              "       width=\"24px\">\n",
              "    <path d=\"M0 0h24v24H0V0z\" fill=\"none\"/>\n",
              "    <path d=\"M18.56 5.44l.94 2.06.94-2.06 2.06-.94-2.06-.94-.94-2.06-.94 2.06-2.06.94zm-11 1L8.5 8.5l.94-2.06 2.06-.94-2.06-.94L8.5 2.5l-.94 2.06-2.06.94zm10 10l.94 2.06.94-2.06 2.06-.94-2.06-.94-.94-2.06-.94 2.06-2.06.94z\"/><path d=\"M17.41 7.96l-1.37-1.37c-.4-.4-.92-.59-1.43-.59-.52 0-1.04.2-1.43.59L10.3 9.45l-7.72 7.72c-.78.78-.78 2.05 0 2.83L4 21.41c.39.39.9.59 1.41.59.51 0 1.02-.2 1.41-.59l7.78-7.78 2.81-2.81c.8-.78.8-2.07 0-2.86zM5.41 20L4 18.59l7.72-7.72 1.47 1.35L5.41 20z\"/>\n",
              "  </svg>\n",
              "      </button>\n",
              "      \n",
              "  <style>\n",
              "    .colab-df-container {\n",
              "      display:flex;\n",
              "      flex-wrap:wrap;\n",
              "      gap: 12px;\n",
              "    }\n",
              "\n",
              "    .colab-df-convert {\n",
              "      background-color: #E8F0FE;\n",
              "      border: none;\n",
              "      border-radius: 50%;\n",
              "      cursor: pointer;\n",
              "      display: none;\n",
              "      fill: #1967D2;\n",
              "      height: 32px;\n",
              "      padding: 0 0 0 0;\n",
              "      width: 32px;\n",
              "    }\n",
              "\n",
              "    .colab-df-convert:hover {\n",
              "      background-color: #E2EBFA;\n",
              "      box-shadow: 0px 1px 2px rgba(60, 64, 67, 0.3), 0px 1px 3px 1px rgba(60, 64, 67, 0.15);\n",
              "      fill: #174EA6;\n",
              "    }\n",
              "\n",
              "    [theme=dark] .colab-df-convert {\n",
              "      background-color: #3B4455;\n",
              "      fill: #D2E3FC;\n",
              "    }\n",
              "\n",
              "    [theme=dark] .colab-df-convert:hover {\n",
              "      background-color: #434B5C;\n",
              "      box-shadow: 0px 1px 3px 1px rgba(0, 0, 0, 0.15);\n",
              "      filter: drop-shadow(0px 1px 2px rgba(0, 0, 0, 0.3));\n",
              "      fill: #FFFFFF;\n",
              "    }\n",
              "  </style>\n",
              "\n",
              "      <script>\n",
              "        const buttonEl =\n",
              "          document.querySelector('#df-5b587f99-5ee4-414d-986e-0b840b4ab12d button.colab-df-convert');\n",
              "        buttonEl.style.display =\n",
              "          google.colab.kernel.accessAllowed ? 'block' : 'none';\n",
              "\n",
              "        async function convertToInteractive(key) {\n",
              "          const element = document.querySelector('#df-5b587f99-5ee4-414d-986e-0b840b4ab12d');\n",
              "          const dataTable =\n",
              "            await google.colab.kernel.invokeFunction('convertToInteractive',\n",
              "                                                     [key], {});\n",
              "          if (!dataTable) return;\n",
              "\n",
              "          const docLinkHtml = 'Like what you see? Visit the ' +\n",
              "            '<a target=\"_blank\" href=https://colab.research.google.com/notebooks/data_table.ipynb>data table notebook</a>'\n",
              "            + ' to learn more about interactive tables.';\n",
              "          element.innerHTML = '';\n",
              "          dataTable['output_type'] = 'display_data';\n",
              "          await google.colab.output.renderOutput(dataTable, element);\n",
              "          const docLink = document.createElement('div');\n",
              "          docLink.innerHTML = docLinkHtml;\n",
              "          element.appendChild(docLink);\n",
              "        }\n",
              "      </script>\n",
              "    </div>\n",
              "  </div>\n",
              "  "
            ]
          },
          "metadata": {},
          "execution_count": 133
        }
      ]
    },
    {
      "cell_type": "code",
      "source": [
        "sub_df3 = sub_df2.copy()"
      ],
      "metadata": {
        "id": "u0y2mffNXte7"
      },
      "execution_count": 138,
      "outputs": []
    },
    {
      "cell_type": "code",
      "source": [
        "sub_df3.head()"
      ],
      "metadata": {
        "colab": {
          "base_uri": "https://localhost:8080/",
          "height": 206
        },
        "id": "VbyEYid0X5wT",
        "outputId": "1fc313c5-ddba-4404-b855-afe41e64285a"
      },
      "execution_count": 139,
      "outputs": [
        {
          "output_type": "execute_result",
          "data": {
            "text/plain": [
              "  PassengerId  Transported\n",
              "0     0013_01          1.0\n",
              "1     0018_01          0.0\n",
              "2     0019_01          1.0\n",
              "3     0021_01          1.0\n",
              "4     0023_01          0.5"
            ],
            "text/html": [
              "\n",
              "  <div id=\"df-5be8709a-691c-49f7-850c-301a9453acdd\">\n",
              "    <div class=\"colab-df-container\">\n",
              "      <div>\n",
              "<style scoped>\n",
              "    .dataframe tbody tr th:only-of-type {\n",
              "        vertical-align: middle;\n",
              "    }\n",
              "\n",
              "    .dataframe tbody tr th {\n",
              "        vertical-align: top;\n",
              "    }\n",
              "\n",
              "    .dataframe thead th {\n",
              "        text-align: right;\n",
              "    }\n",
              "</style>\n",
              "<table border=\"1\" class=\"dataframe\">\n",
              "  <thead>\n",
              "    <tr style=\"text-align: right;\">\n",
              "      <th></th>\n",
              "      <th>PassengerId</th>\n",
              "      <th>Transported</th>\n",
              "    </tr>\n",
              "  </thead>\n",
              "  <tbody>\n",
              "    <tr>\n",
              "      <th>0</th>\n",
              "      <td>0013_01</td>\n",
              "      <td>1.0</td>\n",
              "    </tr>\n",
              "    <tr>\n",
              "      <th>1</th>\n",
              "      <td>0018_01</td>\n",
              "      <td>0.0</td>\n",
              "    </tr>\n",
              "    <tr>\n",
              "      <th>2</th>\n",
              "      <td>0019_01</td>\n",
              "      <td>1.0</td>\n",
              "    </tr>\n",
              "    <tr>\n",
              "      <th>3</th>\n",
              "      <td>0021_01</td>\n",
              "      <td>1.0</td>\n",
              "    </tr>\n",
              "    <tr>\n",
              "      <th>4</th>\n",
              "      <td>0023_01</td>\n",
              "      <td>0.5</td>\n",
              "    </tr>\n",
              "  </tbody>\n",
              "</table>\n",
              "</div>\n",
              "      <button class=\"colab-df-convert\" onclick=\"convertToInteractive('df-5be8709a-691c-49f7-850c-301a9453acdd')\"\n",
              "              title=\"Convert this dataframe to an interactive table.\"\n",
              "              style=\"display:none;\">\n",
              "        \n",
              "  <svg xmlns=\"http://www.w3.org/2000/svg\" height=\"24px\"viewBox=\"0 0 24 24\"\n",
              "       width=\"24px\">\n",
              "    <path d=\"M0 0h24v24H0V0z\" fill=\"none\"/>\n",
              "    <path d=\"M18.56 5.44l.94 2.06.94-2.06 2.06-.94-2.06-.94-.94-2.06-.94 2.06-2.06.94zm-11 1L8.5 8.5l.94-2.06 2.06-.94-2.06-.94L8.5 2.5l-.94 2.06-2.06.94zm10 10l.94 2.06.94-2.06 2.06-.94-2.06-.94-.94-2.06-.94 2.06-2.06.94z\"/><path d=\"M17.41 7.96l-1.37-1.37c-.4-.4-.92-.59-1.43-.59-.52 0-1.04.2-1.43.59L10.3 9.45l-7.72 7.72c-.78.78-.78 2.05 0 2.83L4 21.41c.39.39.9.59 1.41.59.51 0 1.02-.2 1.41-.59l7.78-7.78 2.81-2.81c.8-.78.8-2.07 0-2.86zM5.41 20L4 18.59l7.72-7.72 1.47 1.35L5.41 20z\"/>\n",
              "  </svg>\n",
              "      </button>\n",
              "      \n",
              "  <style>\n",
              "    .colab-df-container {\n",
              "      display:flex;\n",
              "      flex-wrap:wrap;\n",
              "      gap: 12px;\n",
              "    }\n",
              "\n",
              "    .colab-df-convert {\n",
              "      background-color: #E8F0FE;\n",
              "      border: none;\n",
              "      border-radius: 50%;\n",
              "      cursor: pointer;\n",
              "      display: none;\n",
              "      fill: #1967D2;\n",
              "      height: 32px;\n",
              "      padding: 0 0 0 0;\n",
              "      width: 32px;\n",
              "    }\n",
              "\n",
              "    .colab-df-convert:hover {\n",
              "      background-color: #E2EBFA;\n",
              "      box-shadow: 0px 1px 2px rgba(60, 64, 67, 0.3), 0px 1px 3px 1px rgba(60, 64, 67, 0.15);\n",
              "      fill: #174EA6;\n",
              "    }\n",
              "\n",
              "    [theme=dark] .colab-df-convert {\n",
              "      background-color: #3B4455;\n",
              "      fill: #D2E3FC;\n",
              "    }\n",
              "\n",
              "    [theme=dark] .colab-df-convert:hover {\n",
              "      background-color: #434B5C;\n",
              "      box-shadow: 0px 1px 3px 1px rgba(0, 0, 0, 0.15);\n",
              "      filter: drop-shadow(0px 1px 2px rgba(0, 0, 0, 0.3));\n",
              "      fill: #FFFFFF;\n",
              "    }\n",
              "  </style>\n",
              "\n",
              "      <script>\n",
              "        const buttonEl =\n",
              "          document.querySelector('#df-5be8709a-691c-49f7-850c-301a9453acdd button.colab-df-convert');\n",
              "        buttonEl.style.display =\n",
              "          google.colab.kernel.accessAllowed ? 'block' : 'none';\n",
              "\n",
              "        async function convertToInteractive(key) {\n",
              "          const element = document.querySelector('#df-5be8709a-691c-49f7-850c-301a9453acdd');\n",
              "          const dataTable =\n",
              "            await google.colab.kernel.invokeFunction('convertToInteractive',\n",
              "                                                     [key], {});\n",
              "          if (!dataTable) return;\n",
              "\n",
              "          const docLinkHtml = 'Like what you see? Visit the ' +\n",
              "            '<a target=\"_blank\" href=https://colab.research.google.com/notebooks/data_table.ipynb>data table notebook</a>'\n",
              "            + ' to learn more about interactive tables.';\n",
              "          element.innerHTML = '';\n",
              "          dataTable['output_type'] = 'display_data';\n",
              "          await google.colab.output.renderOutput(dataTable, element);\n",
              "          const docLink = document.createElement('div');\n",
              "          docLink.innerHTML = docLinkHtml;\n",
              "          element.appendChild(docLink);\n",
              "        }\n",
              "      </script>\n",
              "    </div>\n",
              "  </div>\n",
              "  "
            ]
          },
          "metadata": {},
          "execution_count": 139
        }
      ]
    },
    {
      "cell_type": "code",
      "source": [
        "sub_df3[\"Transported\"] = sub_df2[\"Transported\"].astype(bool)"
      ],
      "metadata": {
        "id": "0pTL3eWIXc2K"
      },
      "execution_count": 140,
      "outputs": []
    },
    {
      "cell_type": "code",
      "source": [
        "sub_df3"
      ],
      "metadata": {
        "colab": {
          "base_uri": "https://localhost:8080/",
          "height": 424
        },
        "id": "ILp1zqkMXqAc",
        "outputId": "c692ab36-7d92-4e6d-e805-e7d9d62d9e19"
      },
      "execution_count": 141,
      "outputs": [
        {
          "output_type": "execute_result",
          "data": {
            "text/plain": [
              "     PassengerId  Transported\n",
              "0        0013_01         True\n",
              "1        0018_01        False\n",
              "2        0019_01         True\n",
              "3        0021_01         True\n",
              "4        0023_01         True\n",
              "...          ...          ...\n",
              "4272     9266_02         True\n",
              "4273     9269_01        False\n",
              "4274     9271_01         True\n",
              "4275     9273_01         True\n",
              "4276     9277_01         True\n",
              "\n",
              "[4277 rows x 2 columns]"
            ],
            "text/html": [
              "\n",
              "  <div id=\"df-978688e0-ee1f-4981-abb3-51d993f3b925\">\n",
              "    <div class=\"colab-df-container\">\n",
              "      <div>\n",
              "<style scoped>\n",
              "    .dataframe tbody tr th:only-of-type {\n",
              "        vertical-align: middle;\n",
              "    }\n",
              "\n",
              "    .dataframe tbody tr th {\n",
              "        vertical-align: top;\n",
              "    }\n",
              "\n",
              "    .dataframe thead th {\n",
              "        text-align: right;\n",
              "    }\n",
              "</style>\n",
              "<table border=\"1\" class=\"dataframe\">\n",
              "  <thead>\n",
              "    <tr style=\"text-align: right;\">\n",
              "      <th></th>\n",
              "      <th>PassengerId</th>\n",
              "      <th>Transported</th>\n",
              "    </tr>\n",
              "  </thead>\n",
              "  <tbody>\n",
              "    <tr>\n",
              "      <th>0</th>\n",
              "      <td>0013_01</td>\n",
              "      <td>True</td>\n",
              "    </tr>\n",
              "    <tr>\n",
              "      <th>1</th>\n",
              "      <td>0018_01</td>\n",
              "      <td>False</td>\n",
              "    </tr>\n",
              "    <tr>\n",
              "      <th>2</th>\n",
              "      <td>0019_01</td>\n",
              "      <td>True</td>\n",
              "    </tr>\n",
              "    <tr>\n",
              "      <th>3</th>\n",
              "      <td>0021_01</td>\n",
              "      <td>True</td>\n",
              "    </tr>\n",
              "    <tr>\n",
              "      <th>4</th>\n",
              "      <td>0023_01</td>\n",
              "      <td>True</td>\n",
              "    </tr>\n",
              "    <tr>\n",
              "      <th>...</th>\n",
              "      <td>...</td>\n",
              "      <td>...</td>\n",
              "    </tr>\n",
              "    <tr>\n",
              "      <th>4272</th>\n",
              "      <td>9266_02</td>\n",
              "      <td>True</td>\n",
              "    </tr>\n",
              "    <tr>\n",
              "      <th>4273</th>\n",
              "      <td>9269_01</td>\n",
              "      <td>False</td>\n",
              "    </tr>\n",
              "    <tr>\n",
              "      <th>4274</th>\n",
              "      <td>9271_01</td>\n",
              "      <td>True</td>\n",
              "    </tr>\n",
              "    <tr>\n",
              "      <th>4275</th>\n",
              "      <td>9273_01</td>\n",
              "      <td>True</td>\n",
              "    </tr>\n",
              "    <tr>\n",
              "      <th>4276</th>\n",
              "      <td>9277_01</td>\n",
              "      <td>True</td>\n",
              "    </tr>\n",
              "  </tbody>\n",
              "</table>\n",
              "<p>4277 rows × 2 columns</p>\n",
              "</div>\n",
              "      <button class=\"colab-df-convert\" onclick=\"convertToInteractive('df-978688e0-ee1f-4981-abb3-51d993f3b925')\"\n",
              "              title=\"Convert this dataframe to an interactive table.\"\n",
              "              style=\"display:none;\">\n",
              "        \n",
              "  <svg xmlns=\"http://www.w3.org/2000/svg\" height=\"24px\"viewBox=\"0 0 24 24\"\n",
              "       width=\"24px\">\n",
              "    <path d=\"M0 0h24v24H0V0z\" fill=\"none\"/>\n",
              "    <path d=\"M18.56 5.44l.94 2.06.94-2.06 2.06-.94-2.06-.94-.94-2.06-.94 2.06-2.06.94zm-11 1L8.5 8.5l.94-2.06 2.06-.94-2.06-.94L8.5 2.5l-.94 2.06-2.06.94zm10 10l.94 2.06.94-2.06 2.06-.94-2.06-.94-.94-2.06-.94 2.06-2.06.94z\"/><path d=\"M17.41 7.96l-1.37-1.37c-.4-.4-.92-.59-1.43-.59-.52 0-1.04.2-1.43.59L10.3 9.45l-7.72 7.72c-.78.78-.78 2.05 0 2.83L4 21.41c.39.39.9.59 1.41.59.51 0 1.02-.2 1.41-.59l7.78-7.78 2.81-2.81c.8-.78.8-2.07 0-2.86zM5.41 20L4 18.59l7.72-7.72 1.47 1.35L5.41 20z\"/>\n",
              "  </svg>\n",
              "      </button>\n",
              "      \n",
              "  <style>\n",
              "    .colab-df-container {\n",
              "      display:flex;\n",
              "      flex-wrap:wrap;\n",
              "      gap: 12px;\n",
              "    }\n",
              "\n",
              "    .colab-df-convert {\n",
              "      background-color: #E8F0FE;\n",
              "      border: none;\n",
              "      border-radius: 50%;\n",
              "      cursor: pointer;\n",
              "      display: none;\n",
              "      fill: #1967D2;\n",
              "      height: 32px;\n",
              "      padding: 0 0 0 0;\n",
              "      width: 32px;\n",
              "    }\n",
              "\n",
              "    .colab-df-convert:hover {\n",
              "      background-color: #E2EBFA;\n",
              "      box-shadow: 0px 1px 2px rgba(60, 64, 67, 0.3), 0px 1px 3px 1px rgba(60, 64, 67, 0.15);\n",
              "      fill: #174EA6;\n",
              "    }\n",
              "\n",
              "    [theme=dark] .colab-df-convert {\n",
              "      background-color: #3B4455;\n",
              "      fill: #D2E3FC;\n",
              "    }\n",
              "\n",
              "    [theme=dark] .colab-df-convert:hover {\n",
              "      background-color: #434B5C;\n",
              "      box-shadow: 0px 1px 3px 1px rgba(0, 0, 0, 0.15);\n",
              "      filter: drop-shadow(0px 1px 2px rgba(0, 0, 0, 0.3));\n",
              "      fill: #FFFFFF;\n",
              "    }\n",
              "  </style>\n",
              "\n",
              "      <script>\n",
              "        const buttonEl =\n",
              "          document.querySelector('#df-978688e0-ee1f-4981-abb3-51d993f3b925 button.colab-df-convert');\n",
              "        buttonEl.style.display =\n",
              "          google.colab.kernel.accessAllowed ? 'block' : 'none';\n",
              "\n",
              "        async function convertToInteractive(key) {\n",
              "          const element = document.querySelector('#df-978688e0-ee1f-4981-abb3-51d993f3b925');\n",
              "          const dataTable =\n",
              "            await google.colab.kernel.invokeFunction('convertToInteractive',\n",
              "                                                     [key], {});\n",
              "          if (!dataTable) return;\n",
              "\n",
              "          const docLinkHtml = 'Like what you see? Visit the ' +\n",
              "            '<a target=\"_blank\" href=https://colab.research.google.com/notebooks/data_table.ipynb>data table notebook</a>'\n",
              "            + ' to learn more about interactive tables.';\n",
              "          element.innerHTML = '';\n",
              "          dataTable['output_type'] = 'display_data';\n",
              "          await google.colab.output.renderOutput(dataTable, element);\n",
              "          const docLink = document.createElement('div');\n",
              "          docLink.innerHTML = docLinkHtml;\n",
              "          element.appendChild(docLink);\n",
              "        }\n",
              "      </script>\n",
              "    </div>\n",
              "  </div>\n",
              "  "
            ]
          },
          "metadata": {},
          "execution_count": 141
        }
      ]
    },
    {
      "cell_type": "code",
      "source": [
        "sub_df3.to_csv('sub6.csv', index=False)\n"
      ],
      "metadata": {
        "id": "gMHr87IvYIvg"
      },
      "execution_count": 142,
      "outputs": []
    },
    {
      "cell_type": "code",
      "source": [
        "!head sub6.csv"
      ],
      "metadata": {
        "colab": {
          "base_uri": "https://localhost:8080/"
        },
        "id": "fRC-j9VkYnGY",
        "outputId": "215a8474-6360-4e7c-9232-4e1292814a89"
      },
      "execution_count": 143,
      "outputs": [
        {
          "output_type": "stream",
          "name": "stdout",
          "text": [
            "PassengerId,Transported\n",
            "0013_01,True\n",
            "0018_01,False\n",
            "0019_01,True\n",
            "0021_01,True\n",
            "0023_01,True\n",
            "0027_01,True\n",
            "0029_01,True\n",
            "0032_01,True\n",
            "0032_02,True\n"
          ]
        }
      ]
    },
    {
      "cell_type": "code",
      "source": [
        "if not iskaggle:\n",
        "    from kaggle import api\n",
        "    api.competition_submit_cli('sub6.csv', 'Random forest neuralnet ensemble', comp)"
      ],
      "metadata": {
        "colab": {
          "base_uri": "https://localhost:8080/"
        },
        "id": "7UWzzEurYdkl",
        "outputId": "b0af36c0-5d21-4a33-dfc8-929fa3e7645f"
      },
      "execution_count": 144,
      "outputs": [
        {
          "output_type": "stream",
          "name": "stderr",
          "text": [
            "100%|██████████| 56.4k/56.4k [00:02<00:00, 22.2kB/s]\n"
          ]
        }
      ]
    },
    {
      "cell_type": "markdown",
      "source": [
        "best result so far:\n",
        "\n",
        "### Leaderborad = 1233 => 0.79144"
      ],
      "metadata": {
        "id": "IbzRLCO7Y9F3"
      }
    },
    {
      "cell_type": "markdown",
      "source": [
        "# Feature Importance"
      ],
      "metadata": {
        "id": "zUIy-NowZUk7"
      }
    },
    {
      "cell_type": "code",
      "source": [
        "def rf_feat_importance(m, df):\n",
        "    return pd.DataFrame({'cols':df.columns, 'imp':m.feature_importances_}\n",
        "                       ).sort_values('imp', ascending=False)"
      ],
      "metadata": {
        "id": "taUPCu-AY8Vh"
      },
      "execution_count": 145,
      "outputs": []
    },
    {
      "cell_type": "markdown",
      "source": [
        "for Random Forest model"
      ],
      "metadata": {
        "id": "emA76GgmZ6IB"
      }
    },
    {
      "cell_type": "code",
      "source": [
        "xs"
      ],
      "metadata": {
        "colab": {
          "base_uri": "https://localhost:8080/",
          "height": 488
        },
        "id": "enkARlZYaK_J",
        "outputId": "eb5b84f3-f846-43b8-ee07-7f71c2f79b32"
      },
      "execution_count": 146,
      "outputs": [
        {
          "output_type": "execute_result",
          "data": {
            "text/plain": [
              "      PassengerId  HomePlanet  CryoSleep  Cabin  Destination  VIP  Name  \\\n",
              "8388         8389           3          1   3242            3    1  2424   \n",
              "1917         1918           1          2   5560            3    1     0   \n",
              "5173         5174           1          1   6379            2    1  6619   \n",
              "8246         8247           1          1   2091            2    1  4592   \n",
              "61             62           1          2   4563            2    1  5982   \n",
              "...           ...         ...        ...    ...          ...  ...   ...   \n",
              "4489         4490           3          2   4518            3    1  3321   \n",
              "2308         2309           1          1   3865            3    1  5332   \n",
              "6485         6486           2          2    401            1    1  6910   \n",
              "2770         2771           3          1   1554            3    1  7398   \n",
              "4322         4323           2          1    708            3    1  6379   \n",
              "\n",
              "      Passenger_Gp  Passenger_Gp_Nb  Cabin_Deck  ...  FoodCourt_na  \\\n",
              "8388          6005                1           6  ...             1   \n",
              "1917          1362                3           7  ...             1   \n",
              "5173          3719                1           7  ...             1   \n",
              "8246          5905                1           5  ...             1   \n",
              "61              44                1           7  ...             1   \n",
              "...            ...              ...         ...  ...           ...   \n",
              "4489          3210                4           6  ...             1   \n",
              "2308          1660                1           6  ...             1   \n",
              "6485          4608                2           2  ...             1   \n",
              "2770          2004                1           5  ...             1   \n",
              "4322          3099                1           3  ...             1   \n",
              "\n",
              "      ShoppingMall_na  Spa_na  VRDeck_na       Age  RoomService  FoodCourt  \\\n",
              "8388                1       1          1  1.612332     1.470626  -0.282769   \n",
              "1917                1       1          1 -0.265485    -0.327109  -0.284032   \n",
              "5173                1       1          1  0.012710    -0.327109  -0.284032   \n",
              "8246                1       1          1  2.377369    -0.327109  -0.284032   \n",
              "61                  1       1          1 -2.004205    -0.327109  -0.284032   \n",
              "...               ...     ...        ...       ...          ...        ...   \n",
              "4489                1       1          1 -1.586912    -0.327109  -0.284032   \n",
              "2308                1       1          1 -0.195937     0.479024  -0.162781   \n",
              "6485                1       1          1  0.082259    -0.327109  -0.284032   \n",
              "2770                1       1          1 -0.960973     8.013157  -0.284032   \n",
              "4322                1       1          1 -0.474132    -0.086146  -0.261297   \n",
              "\n",
              "      ShoppingMall       Spa    VRDeck  \n",
              "8388     -0.267182 -0.267988 -0.263122  \n",
              "1917     -0.280746 -0.267988 -0.263122  \n",
              "5173     -0.246835 -0.267988  0.100366  \n",
              "8246     -0.145103 -0.267988  1.836429  \n",
              "61       -0.280746 -0.267988 -0.263122  \n",
              "...            ...       ...       ...  \n",
              "4489     -0.280746 -0.267988 -0.263122  \n",
              "2308     -0.229880 -0.267988 -0.262217  \n",
              "6485     -0.280746 -0.267988 -0.263122  \n",
              "2770      3.985243 -0.267988  0.975631  \n",
              "4322     -0.280746  2.330684  0.239613  \n",
              "\n",
              "[6955 rows x 24 columns]"
            ],
            "text/html": [
              "\n",
              "  <div id=\"df-d79fe7c1-7cb2-429f-8a56-2bded35aa40b\">\n",
              "    <div class=\"colab-df-container\">\n",
              "      <div>\n",
              "<style scoped>\n",
              "    .dataframe tbody tr th:only-of-type {\n",
              "        vertical-align: middle;\n",
              "    }\n",
              "\n",
              "    .dataframe tbody tr th {\n",
              "        vertical-align: top;\n",
              "    }\n",
              "\n",
              "    .dataframe thead th {\n",
              "        text-align: right;\n",
              "    }\n",
              "</style>\n",
              "<table border=\"1\" class=\"dataframe\">\n",
              "  <thead>\n",
              "    <tr style=\"text-align: right;\">\n",
              "      <th></th>\n",
              "      <th>PassengerId</th>\n",
              "      <th>HomePlanet</th>\n",
              "      <th>CryoSleep</th>\n",
              "      <th>Cabin</th>\n",
              "      <th>Destination</th>\n",
              "      <th>VIP</th>\n",
              "      <th>Name</th>\n",
              "      <th>Passenger_Gp</th>\n",
              "      <th>Passenger_Gp_Nb</th>\n",
              "      <th>Cabin_Deck</th>\n",
              "      <th>...</th>\n",
              "      <th>FoodCourt_na</th>\n",
              "      <th>ShoppingMall_na</th>\n",
              "      <th>Spa_na</th>\n",
              "      <th>VRDeck_na</th>\n",
              "      <th>Age</th>\n",
              "      <th>RoomService</th>\n",
              "      <th>FoodCourt</th>\n",
              "      <th>ShoppingMall</th>\n",
              "      <th>Spa</th>\n",
              "      <th>VRDeck</th>\n",
              "    </tr>\n",
              "  </thead>\n",
              "  <tbody>\n",
              "    <tr>\n",
              "      <th>8388</th>\n",
              "      <td>8389</td>\n",
              "      <td>3</td>\n",
              "      <td>1</td>\n",
              "      <td>3242</td>\n",
              "      <td>3</td>\n",
              "      <td>1</td>\n",
              "      <td>2424</td>\n",
              "      <td>6005</td>\n",
              "      <td>1</td>\n",
              "      <td>6</td>\n",
              "      <td>...</td>\n",
              "      <td>1</td>\n",
              "      <td>1</td>\n",
              "      <td>1</td>\n",
              "      <td>1</td>\n",
              "      <td>1.612332</td>\n",
              "      <td>1.470626</td>\n",
              "      <td>-0.282769</td>\n",
              "      <td>-0.267182</td>\n",
              "      <td>-0.267988</td>\n",
              "      <td>-0.263122</td>\n",
              "    </tr>\n",
              "    <tr>\n",
              "      <th>1917</th>\n",
              "      <td>1918</td>\n",
              "      <td>1</td>\n",
              "      <td>2</td>\n",
              "      <td>5560</td>\n",
              "      <td>3</td>\n",
              "      <td>1</td>\n",
              "      <td>0</td>\n",
              "      <td>1362</td>\n",
              "      <td>3</td>\n",
              "      <td>7</td>\n",
              "      <td>...</td>\n",
              "      <td>1</td>\n",
              "      <td>1</td>\n",
              "      <td>1</td>\n",
              "      <td>1</td>\n",
              "      <td>-0.265485</td>\n",
              "      <td>-0.327109</td>\n",
              "      <td>-0.284032</td>\n",
              "      <td>-0.280746</td>\n",
              "      <td>-0.267988</td>\n",
              "      <td>-0.263122</td>\n",
              "    </tr>\n",
              "    <tr>\n",
              "      <th>5173</th>\n",
              "      <td>5174</td>\n",
              "      <td>1</td>\n",
              "      <td>1</td>\n",
              "      <td>6379</td>\n",
              "      <td>2</td>\n",
              "      <td>1</td>\n",
              "      <td>6619</td>\n",
              "      <td>3719</td>\n",
              "      <td>1</td>\n",
              "      <td>7</td>\n",
              "      <td>...</td>\n",
              "      <td>1</td>\n",
              "      <td>1</td>\n",
              "      <td>1</td>\n",
              "      <td>1</td>\n",
              "      <td>0.012710</td>\n",
              "      <td>-0.327109</td>\n",
              "      <td>-0.284032</td>\n",
              "      <td>-0.246835</td>\n",
              "      <td>-0.267988</td>\n",
              "      <td>0.100366</td>\n",
              "    </tr>\n",
              "    <tr>\n",
              "      <th>8246</th>\n",
              "      <td>8247</td>\n",
              "      <td>1</td>\n",
              "      <td>1</td>\n",
              "      <td>2091</td>\n",
              "      <td>2</td>\n",
              "      <td>1</td>\n",
              "      <td>4592</td>\n",
              "      <td>5905</td>\n",
              "      <td>1</td>\n",
              "      <td>5</td>\n",
              "      <td>...</td>\n",
              "      <td>1</td>\n",
              "      <td>1</td>\n",
              "      <td>1</td>\n",
              "      <td>1</td>\n",
              "      <td>2.377369</td>\n",
              "      <td>-0.327109</td>\n",
              "      <td>-0.284032</td>\n",
              "      <td>-0.145103</td>\n",
              "      <td>-0.267988</td>\n",
              "      <td>1.836429</td>\n",
              "    </tr>\n",
              "    <tr>\n",
              "      <th>61</th>\n",
              "      <td>62</td>\n",
              "      <td>1</td>\n",
              "      <td>2</td>\n",
              "      <td>4563</td>\n",
              "      <td>2</td>\n",
              "      <td>1</td>\n",
              "      <td>5982</td>\n",
              "      <td>44</td>\n",
              "      <td>1</td>\n",
              "      <td>7</td>\n",
              "      <td>...</td>\n",
              "      <td>1</td>\n",
              "      <td>1</td>\n",
              "      <td>1</td>\n",
              "      <td>1</td>\n",
              "      <td>-2.004205</td>\n",
              "      <td>-0.327109</td>\n",
              "      <td>-0.284032</td>\n",
              "      <td>-0.280746</td>\n",
              "      <td>-0.267988</td>\n",
              "      <td>-0.263122</td>\n",
              "    </tr>\n",
              "    <tr>\n",
              "      <th>...</th>\n",
              "      <td>...</td>\n",
              "      <td>...</td>\n",
              "      <td>...</td>\n",
              "      <td>...</td>\n",
              "      <td>...</td>\n",
              "      <td>...</td>\n",
              "      <td>...</td>\n",
              "      <td>...</td>\n",
              "      <td>...</td>\n",
              "      <td>...</td>\n",
              "      <td>...</td>\n",
              "      <td>...</td>\n",
              "      <td>...</td>\n",
              "      <td>...</td>\n",
              "      <td>...</td>\n",
              "      <td>...</td>\n",
              "      <td>...</td>\n",
              "      <td>...</td>\n",
              "      <td>...</td>\n",
              "      <td>...</td>\n",
              "      <td>...</td>\n",
              "    </tr>\n",
              "    <tr>\n",
              "      <th>4489</th>\n",
              "      <td>4490</td>\n",
              "      <td>3</td>\n",
              "      <td>2</td>\n",
              "      <td>4518</td>\n",
              "      <td>3</td>\n",
              "      <td>1</td>\n",
              "      <td>3321</td>\n",
              "      <td>3210</td>\n",
              "      <td>4</td>\n",
              "      <td>6</td>\n",
              "      <td>...</td>\n",
              "      <td>1</td>\n",
              "      <td>1</td>\n",
              "      <td>1</td>\n",
              "      <td>1</td>\n",
              "      <td>-1.586912</td>\n",
              "      <td>-0.327109</td>\n",
              "      <td>-0.284032</td>\n",
              "      <td>-0.280746</td>\n",
              "      <td>-0.267988</td>\n",
              "      <td>-0.263122</td>\n",
              "    </tr>\n",
              "    <tr>\n",
              "      <th>2308</th>\n",
              "      <td>2309</td>\n",
              "      <td>1</td>\n",
              "      <td>1</td>\n",
              "      <td>3865</td>\n",
              "      <td>3</td>\n",
              "      <td>1</td>\n",
              "      <td>5332</td>\n",
              "      <td>1660</td>\n",
              "      <td>1</td>\n",
              "      <td>6</td>\n",
              "      <td>...</td>\n",
              "      <td>1</td>\n",
              "      <td>1</td>\n",
              "      <td>1</td>\n",
              "      <td>1</td>\n",
              "      <td>-0.195937</td>\n",
              "      <td>0.479024</td>\n",
              "      <td>-0.162781</td>\n",
              "      <td>-0.229880</td>\n",
              "      <td>-0.267988</td>\n",
              "      <td>-0.262217</td>\n",
              "    </tr>\n",
              "    <tr>\n",
              "      <th>6485</th>\n",
              "      <td>6486</td>\n",
              "      <td>2</td>\n",
              "      <td>2</td>\n",
              "      <td>401</td>\n",
              "      <td>1</td>\n",
              "      <td>1</td>\n",
              "      <td>6910</td>\n",
              "      <td>4608</td>\n",
              "      <td>2</td>\n",
              "      <td>2</td>\n",
              "      <td>...</td>\n",
              "      <td>1</td>\n",
              "      <td>1</td>\n",
              "      <td>1</td>\n",
              "      <td>1</td>\n",
              "      <td>0.082259</td>\n",
              "      <td>-0.327109</td>\n",
              "      <td>-0.284032</td>\n",
              "      <td>-0.280746</td>\n",
              "      <td>-0.267988</td>\n",
              "      <td>-0.263122</td>\n",
              "    </tr>\n",
              "    <tr>\n",
              "      <th>2770</th>\n",
              "      <td>2771</td>\n",
              "      <td>3</td>\n",
              "      <td>1</td>\n",
              "      <td>1554</td>\n",
              "      <td>3</td>\n",
              "      <td>1</td>\n",
              "      <td>7398</td>\n",
              "      <td>2004</td>\n",
              "      <td>1</td>\n",
              "      <td>5</td>\n",
              "      <td>...</td>\n",
              "      <td>1</td>\n",
              "      <td>1</td>\n",
              "      <td>1</td>\n",
              "      <td>1</td>\n",
              "      <td>-0.960973</td>\n",
              "      <td>8.013157</td>\n",
              "      <td>-0.284032</td>\n",
              "      <td>3.985243</td>\n",
              "      <td>-0.267988</td>\n",
              "      <td>0.975631</td>\n",
              "    </tr>\n",
              "    <tr>\n",
              "      <th>4322</th>\n",
              "      <td>4323</td>\n",
              "      <td>2</td>\n",
              "      <td>1</td>\n",
              "      <td>708</td>\n",
              "      <td>3</td>\n",
              "      <td>1</td>\n",
              "      <td>6379</td>\n",
              "      <td>3099</td>\n",
              "      <td>1</td>\n",
              "      <td>3</td>\n",
              "      <td>...</td>\n",
              "      <td>1</td>\n",
              "      <td>1</td>\n",
              "      <td>1</td>\n",
              "      <td>1</td>\n",
              "      <td>-0.474132</td>\n",
              "      <td>-0.086146</td>\n",
              "      <td>-0.261297</td>\n",
              "      <td>-0.280746</td>\n",
              "      <td>2.330684</td>\n",
              "      <td>0.239613</td>\n",
              "    </tr>\n",
              "  </tbody>\n",
              "</table>\n",
              "<p>6955 rows × 24 columns</p>\n",
              "</div>\n",
              "      <button class=\"colab-df-convert\" onclick=\"convertToInteractive('df-d79fe7c1-7cb2-429f-8a56-2bded35aa40b')\"\n",
              "              title=\"Convert this dataframe to an interactive table.\"\n",
              "              style=\"display:none;\">\n",
              "        \n",
              "  <svg xmlns=\"http://www.w3.org/2000/svg\" height=\"24px\"viewBox=\"0 0 24 24\"\n",
              "       width=\"24px\">\n",
              "    <path d=\"M0 0h24v24H0V0z\" fill=\"none\"/>\n",
              "    <path d=\"M18.56 5.44l.94 2.06.94-2.06 2.06-.94-2.06-.94-.94-2.06-.94 2.06-2.06.94zm-11 1L8.5 8.5l.94-2.06 2.06-.94-2.06-.94L8.5 2.5l-.94 2.06-2.06.94zm10 10l.94 2.06.94-2.06 2.06-.94-2.06-.94-.94-2.06-.94 2.06-2.06.94z\"/><path d=\"M17.41 7.96l-1.37-1.37c-.4-.4-.92-.59-1.43-.59-.52 0-1.04.2-1.43.59L10.3 9.45l-7.72 7.72c-.78.78-.78 2.05 0 2.83L4 21.41c.39.39.9.59 1.41.59.51 0 1.02-.2 1.41-.59l7.78-7.78 2.81-2.81c.8-.78.8-2.07 0-2.86zM5.41 20L4 18.59l7.72-7.72 1.47 1.35L5.41 20z\"/>\n",
              "  </svg>\n",
              "      </button>\n",
              "      \n",
              "  <style>\n",
              "    .colab-df-container {\n",
              "      display:flex;\n",
              "      flex-wrap:wrap;\n",
              "      gap: 12px;\n",
              "    }\n",
              "\n",
              "    .colab-df-convert {\n",
              "      background-color: #E8F0FE;\n",
              "      border: none;\n",
              "      border-radius: 50%;\n",
              "      cursor: pointer;\n",
              "      display: none;\n",
              "      fill: #1967D2;\n",
              "      height: 32px;\n",
              "      padding: 0 0 0 0;\n",
              "      width: 32px;\n",
              "    }\n",
              "\n",
              "    .colab-df-convert:hover {\n",
              "      background-color: #E2EBFA;\n",
              "      box-shadow: 0px 1px 2px rgba(60, 64, 67, 0.3), 0px 1px 3px 1px rgba(60, 64, 67, 0.15);\n",
              "      fill: #174EA6;\n",
              "    }\n",
              "\n",
              "    [theme=dark] .colab-df-convert {\n",
              "      background-color: #3B4455;\n",
              "      fill: #D2E3FC;\n",
              "    }\n",
              "\n",
              "    [theme=dark] .colab-df-convert:hover {\n",
              "      background-color: #434B5C;\n",
              "      box-shadow: 0px 1px 3px 1px rgba(0, 0, 0, 0.15);\n",
              "      filter: drop-shadow(0px 1px 2px rgba(0, 0, 0, 0.3));\n",
              "      fill: #FFFFFF;\n",
              "    }\n",
              "  </style>\n",
              "\n",
              "      <script>\n",
              "        const buttonEl =\n",
              "          document.querySelector('#df-d79fe7c1-7cb2-429f-8a56-2bded35aa40b button.colab-df-convert');\n",
              "        buttonEl.style.display =\n",
              "          google.colab.kernel.accessAllowed ? 'block' : 'none';\n",
              "\n",
              "        async function convertToInteractive(key) {\n",
              "          const element = document.querySelector('#df-d79fe7c1-7cb2-429f-8a56-2bded35aa40b');\n",
              "          const dataTable =\n",
              "            await google.colab.kernel.invokeFunction('convertToInteractive',\n",
              "                                                     [key], {});\n",
              "          if (!dataTable) return;\n",
              "\n",
              "          const docLinkHtml = 'Like what you see? Visit the ' +\n",
              "            '<a target=\"_blank\" href=https://colab.research.google.com/notebooks/data_table.ipynb>data table notebook</a>'\n",
              "            + ' to learn more about interactive tables.';\n",
              "          element.innerHTML = '';\n",
              "          dataTable['output_type'] = 'display_data';\n",
              "          await google.colab.output.renderOutput(dataTable, element);\n",
              "          const docLink = document.createElement('div');\n",
              "          docLink.innerHTML = docLinkHtml;\n",
              "          element.appendChild(docLink);\n",
              "        }\n",
              "      </script>\n",
              "    </div>\n",
              "  </div>\n",
              "  "
            ]
          },
          "metadata": {},
          "execution_count": 146
        }
      ]
    },
    {
      "cell_type": "code",
      "source": [
        "fi = rf_feat_importance(rfc_model, xs)\n",
        "fi[:10]"
      ],
      "metadata": {
        "colab": {
          "base_uri": "https://localhost:8080/",
          "height": 363
        },
        "id": "G3EVEfIYYxBO",
        "outputId": "52f1f598-c72c-4e01-834b-b02e73b41aa4"
      },
      "execution_count": 148,
      "outputs": [
        {
          "output_type": "execute_result",
          "data": {
            "text/plain": [
              "            cols       imp\n",
              "2      CryoSleep  0.146013\n",
              "19   RoomService  0.110770\n",
              "23        VRDeck  0.100498\n",
              "22           Spa  0.097576\n",
              "20     FoodCourt  0.079306\n",
              "3          Cabin  0.075399\n",
              "21  ShoppingMall  0.065379\n",
              "18           Age  0.047065\n",
              "10     Cabin_Num  0.046448\n",
              "7   Passenger_Gp  0.041337"
            ],
            "text/html": [
              "\n",
              "  <div id=\"df-2f3bb398-a33c-4aa6-be49-a8acb874432c\">\n",
              "    <div class=\"colab-df-container\">\n",
              "      <div>\n",
              "<style scoped>\n",
              "    .dataframe tbody tr th:only-of-type {\n",
              "        vertical-align: middle;\n",
              "    }\n",
              "\n",
              "    .dataframe tbody tr th {\n",
              "        vertical-align: top;\n",
              "    }\n",
              "\n",
              "    .dataframe thead th {\n",
              "        text-align: right;\n",
              "    }\n",
              "</style>\n",
              "<table border=\"1\" class=\"dataframe\">\n",
              "  <thead>\n",
              "    <tr style=\"text-align: right;\">\n",
              "      <th></th>\n",
              "      <th>cols</th>\n",
              "      <th>imp</th>\n",
              "    </tr>\n",
              "  </thead>\n",
              "  <tbody>\n",
              "    <tr>\n",
              "      <th>2</th>\n",
              "      <td>CryoSleep</td>\n",
              "      <td>0.146013</td>\n",
              "    </tr>\n",
              "    <tr>\n",
              "      <th>19</th>\n",
              "      <td>RoomService</td>\n",
              "      <td>0.110770</td>\n",
              "    </tr>\n",
              "    <tr>\n",
              "      <th>23</th>\n",
              "      <td>VRDeck</td>\n",
              "      <td>0.100498</td>\n",
              "    </tr>\n",
              "    <tr>\n",
              "      <th>22</th>\n",
              "      <td>Spa</td>\n",
              "      <td>0.097576</td>\n",
              "    </tr>\n",
              "    <tr>\n",
              "      <th>20</th>\n",
              "      <td>FoodCourt</td>\n",
              "      <td>0.079306</td>\n",
              "    </tr>\n",
              "    <tr>\n",
              "      <th>3</th>\n",
              "      <td>Cabin</td>\n",
              "      <td>0.075399</td>\n",
              "    </tr>\n",
              "    <tr>\n",
              "      <th>21</th>\n",
              "      <td>ShoppingMall</td>\n",
              "      <td>0.065379</td>\n",
              "    </tr>\n",
              "    <tr>\n",
              "      <th>18</th>\n",
              "      <td>Age</td>\n",
              "      <td>0.047065</td>\n",
              "    </tr>\n",
              "    <tr>\n",
              "      <th>10</th>\n",
              "      <td>Cabin_Num</td>\n",
              "      <td>0.046448</td>\n",
              "    </tr>\n",
              "    <tr>\n",
              "      <th>7</th>\n",
              "      <td>Passenger_Gp</td>\n",
              "      <td>0.041337</td>\n",
              "    </tr>\n",
              "  </tbody>\n",
              "</table>\n",
              "</div>\n",
              "      <button class=\"colab-df-convert\" onclick=\"convertToInteractive('df-2f3bb398-a33c-4aa6-be49-a8acb874432c')\"\n",
              "              title=\"Convert this dataframe to an interactive table.\"\n",
              "              style=\"display:none;\">\n",
              "        \n",
              "  <svg xmlns=\"http://www.w3.org/2000/svg\" height=\"24px\"viewBox=\"0 0 24 24\"\n",
              "       width=\"24px\">\n",
              "    <path d=\"M0 0h24v24H0V0z\" fill=\"none\"/>\n",
              "    <path d=\"M18.56 5.44l.94 2.06.94-2.06 2.06-.94-2.06-.94-.94-2.06-.94 2.06-2.06.94zm-11 1L8.5 8.5l.94-2.06 2.06-.94-2.06-.94L8.5 2.5l-.94 2.06-2.06.94zm10 10l.94 2.06.94-2.06 2.06-.94-2.06-.94-.94-2.06-.94 2.06-2.06.94z\"/><path d=\"M17.41 7.96l-1.37-1.37c-.4-.4-.92-.59-1.43-.59-.52 0-1.04.2-1.43.59L10.3 9.45l-7.72 7.72c-.78.78-.78 2.05 0 2.83L4 21.41c.39.39.9.59 1.41.59.51 0 1.02-.2 1.41-.59l7.78-7.78 2.81-2.81c.8-.78.8-2.07 0-2.86zM5.41 20L4 18.59l7.72-7.72 1.47 1.35L5.41 20z\"/>\n",
              "  </svg>\n",
              "      </button>\n",
              "      \n",
              "  <style>\n",
              "    .colab-df-container {\n",
              "      display:flex;\n",
              "      flex-wrap:wrap;\n",
              "      gap: 12px;\n",
              "    }\n",
              "\n",
              "    .colab-df-convert {\n",
              "      background-color: #E8F0FE;\n",
              "      border: none;\n",
              "      border-radius: 50%;\n",
              "      cursor: pointer;\n",
              "      display: none;\n",
              "      fill: #1967D2;\n",
              "      height: 32px;\n",
              "      padding: 0 0 0 0;\n",
              "      width: 32px;\n",
              "    }\n",
              "\n",
              "    .colab-df-convert:hover {\n",
              "      background-color: #E2EBFA;\n",
              "      box-shadow: 0px 1px 2px rgba(60, 64, 67, 0.3), 0px 1px 3px 1px rgba(60, 64, 67, 0.15);\n",
              "      fill: #174EA6;\n",
              "    }\n",
              "\n",
              "    [theme=dark] .colab-df-convert {\n",
              "      background-color: #3B4455;\n",
              "      fill: #D2E3FC;\n",
              "    }\n",
              "\n",
              "    [theme=dark] .colab-df-convert:hover {\n",
              "      background-color: #434B5C;\n",
              "      box-shadow: 0px 1px 3px 1px rgba(0, 0, 0, 0.15);\n",
              "      filter: drop-shadow(0px 1px 2px rgba(0, 0, 0, 0.3));\n",
              "      fill: #FFFFFF;\n",
              "    }\n",
              "  </style>\n",
              "\n",
              "      <script>\n",
              "        const buttonEl =\n",
              "          document.querySelector('#df-2f3bb398-a33c-4aa6-be49-a8acb874432c button.colab-df-convert');\n",
              "        buttonEl.style.display =\n",
              "          google.colab.kernel.accessAllowed ? 'block' : 'none';\n",
              "\n",
              "        async function convertToInteractive(key) {\n",
              "          const element = document.querySelector('#df-2f3bb398-a33c-4aa6-be49-a8acb874432c');\n",
              "          const dataTable =\n",
              "            await google.colab.kernel.invokeFunction('convertToInteractive',\n",
              "                                                     [key], {});\n",
              "          if (!dataTable) return;\n",
              "\n",
              "          const docLinkHtml = 'Like what you see? Visit the ' +\n",
              "            '<a target=\"_blank\" href=https://colab.research.google.com/notebooks/data_table.ipynb>data table notebook</a>'\n",
              "            + ' to learn more about interactive tables.';\n",
              "          element.innerHTML = '';\n",
              "          dataTable['output_type'] = 'display_data';\n",
              "          await google.colab.output.renderOutput(dataTable, element);\n",
              "          const docLink = document.createElement('div');\n",
              "          docLink.innerHTML = docLinkHtml;\n",
              "          element.appendChild(docLink);\n",
              "        }\n",
              "      </script>\n",
              "    </div>\n",
              "  </div>\n",
              "  "
            ]
          },
          "metadata": {},
          "execution_count": 148
        }
      ]
    },
    {
      "cell_type": "markdown",
      "source": [
        "A plot of the feature importances shows the relative importances more clearly"
      ],
      "metadata": {
        "id": "2eq6kRItadoZ"
      }
    },
    {
      "cell_type": "code",
      "source": [
        "def plot_fi(fi):\n",
        "    return fi.plot('cols', 'imp', 'barh', figsize=(12,7), legend=False)\n",
        "\n",
        "plot_fi(fi);"
      ],
      "metadata": {
        "colab": {
          "base_uri": "https://localhost:8080/",
          "height": 428
        },
        "id": "LsERCCHfaXuo",
        "outputId": "89ed937f-1909-4d55-8794-0c3dcbfc1cc2"
      },
      "execution_count": 149,
      "outputs": [
        {
          "output_type": "display_data",
          "data": {
            "text/plain": [
              "<Figure size 864x504 with 1 Axes>"
            ],
            "image/png": "[encoded data removed]"
          },
          "metadata": {
            "needs_background": "light"
          }
        }
      ]
    },
    {
      "cell_type": "markdown",
      "source": [
        "## Removing Low-Importance Variables"
      ],
      "metadata": {
        "id": "ymv6F-BpawnN"
      }
    },
    {
      "cell_type": "code",
      "source": [
        "to_keep = fi[fi.imp>0.04].cols\n",
        "len(to_keep)"
      ],
      "metadata": {
        "colab": {
          "base_uri": "https://localhost:8080/"
        },
        "id": "yXwdvVP5al1U",
        "outputId": "fef7626d-1e8d-41c7-8118-118255f1e8ad"
      },
      "execution_count": 150,
      "outputs": [
        {
          "output_type": "execute_result",
          "data": {
            "text/plain": [
              "11"
            ]
          },
          "metadata": {},
          "execution_count": 150
        }
      ]
    },
    {
      "cell_type": "code",
      "source": [
        "xs_imp = xs[to_keep]\n",
        "valid_xs_imp = valid_xs[to_keep]"
      ],
      "metadata": {
        "id": "nOhneebra5Va"
      },
      "execution_count": 151,
      "outputs": []
    },
    {
      "cell_type": "code",
      "source": [
        "rfc_model_imp = rfc(xs_imp, y, n_estimators=100, min_samples_leaf=5)"
      ],
      "metadata": {
        "id": "ypJh_Vn8bJqJ"
      },
      "execution_count": 152,
      "outputs": []
    },
    {
      "cell_type": "code",
      "source": [
        "accuracy = acc(rfc_model_imp, valid_xs_imp, valid_y)\n",
        "accuracy"
      ],
      "metadata": {
        "colab": {
          "base_uri": "https://localhost:8080/"
        },
        "id": "03uXK2DRbso6",
        "outputId": "c0f1d0d9-6be1-4e38-b6ce-43242e8710d0"
      },
      "execution_count": 153,
      "outputs": [
        {
          "output_type": "execute_result",
          "data": {
            "text/plain": [
              "0.7957422324510932"
            ]
          },
          "metadata": {},
          "execution_count": 153
        }
      ]
    },
    {
      "cell_type": "markdown",
      "source": [
        "same acc. "
      ],
      "metadata": {
        "id": "cXM2ZrLqb4gC"
      }
    },
    {
      "cell_type": "markdown",
      "source": [
        "NB. find feature importance after the first model you make."
      ],
      "metadata": {
        "id": "eKK-l1ZKb8Mn"
      }
    },
    {
      "cell_type": "code",
      "source": [],
      "metadata": {
        "id": "oQLwGaqSb276"
      },
      "execution_count": null,
      "outputs": []
    }
  ]
}