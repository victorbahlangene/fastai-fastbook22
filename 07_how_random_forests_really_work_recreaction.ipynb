{
  "nbformat": 4,
  "nbformat_minor": 0,
  "metadata": {
    "colab": {
      "provenance": [],
      "collapsed_sections": [],
      "authorship_tag": "ABX9TyOBZRfg0U4JkTJ/WfKjMb7H",
      "include_colab_link": true
    },
    "kernelspec": {
      "name": "python3",
      "display_name": "Python 3"
    },
    "language_info": {
      "name": "python"
    },
    "gpuClass": "standard"
  },
  "cells": [
    {
      "cell_type": "markdown",
      "metadata": {
        "id": "view-in-github",
        "colab_type": "text"
      },
      "source": [
        "<a href=\"https://colab.research.google.com/github/victorbahlangene/fastai-fastbook22/blob/main/07_how_random_forests_really_work_recreaction.ipynb\" target=\"_parent\"><img src=\"https://colab.research.google.com/assets/colab-badge.svg\" alt=\"Open In Colab\"/></a>"
      ]
    },
    {
      "cell_type": "markdown",
      "source": [
        "# Introduction"
      ],
      "metadata": {
        "id": "dNryApHGAFE4"
      }
    },
    {
      "cell_type": "code",
      "source": [
        "from fastai.imports import *\n",
        "np.set_printoptions(linewidth=130)"
      ],
      "metadata": {
        "id": "4DGuzcAcAICb"
      },
      "execution_count": 1,
      "outputs": []
    },
    {
      "cell_type": "markdown",
      "source": [
        "# Data preproccesing"
      ],
      "metadata": {
        "id": "n9ubHQ-1AIpP"
      }
    },
    {
      "cell_type": "code",
      "source": [
        "# to use kaggle api #\n",
        "!pip install kaggle\n",
        "\n",
        "# kaggle API creds #\n",
        "creds = '{\"username\":\"victorbahlangene\",\"key\":\"2cd1abe2f1c35ea3060e6a2f18a055ea\"}'\n",
        "\n",
        "from pathlib import Path\n",
        "\n",
        "cred_path = Path('~/.kaggle/kaggle.json').expanduser()\n",
        "if not cred_path.exists():\n",
        "    cred_path.parent.mkdir(exist_ok=True)\n",
        "    cred_path.write_text(creds)\n",
        "    cred_path.chmod(0o600)"
      ],
      "metadata": {
        "id": "IKw7_D3wAO85"
      },
      "execution_count": null,
      "outputs": []
    },
    {
      "cell_type": "code",
      "source": [
        "import os\n",
        "iskaggle = os.environ.get('KAGGLE_KERNEL_RUN_TYPE', '')\n",
        "\n",
        "if iskaggle: path = Path('../input/titanic')\n",
        "else:\n",
        "    import zipfile,kaggle\n",
        "    path = Path('titanic')\n",
        "    kaggle.api.competition_download_cli(str(path))\n",
        "    zipfile.ZipFile(f'{path}.zip').extractall(path)\n",
        "\n",
        "df = pd.read_csv(path/'train.csv')\n",
        "tst_df = pd.read_csv(path/'test.csv')\n",
        "modes = df.mode().iloc[0]"
      ],
      "metadata": {
        "colab": {
          "base_uri": "https://localhost:8080/"
        },
        "id": "UkP1OKH_P4XY",
        "outputId": "e9138e60-9dfd-4893-fbbc-898486b0aaf7"
      },
      "execution_count": 4,
      "outputs": [
        {
          "output_type": "stream",
          "name": "stdout",
          "text": [
            "Downloading titanic.zip to /content\n"
          ]
        },
        {
          "output_type": "stream",
          "name": "stderr",
          "text": [
            "100%|██████████| 34.1k/34.1k [00:00<00:00, 21.0MB/s]"
          ]
        },
        {
          "output_type": "stream",
          "name": "stdout",
          "text": [
            "\n"
          ]
        },
        {
          "output_type": "stream",
          "name": "stderr",
          "text": [
            "\n"
          ]
        }
      ]
    },
    {
      "cell_type": "code",
      "source": [
        "path.ls()"
      ],
      "metadata": {
        "colab": {
          "base_uri": "https://localhost:8080/"
        },
        "id": "8cxl8WbXP4TA",
        "outputId": "c3607537-d9b1-44ce-8416-3d164cf48866"
      },
      "execution_count": 6,
      "outputs": [
        {
          "output_type": "execute_result",
          "data": {
            "text/plain": [
              "(#3) [Path('titanic/train.csv'),Path('titanic/gender_submission.csv'),Path('titanic/test.csv')]"
            ]
          },
          "metadata": {},
          "execution_count": 6
        }
      ]
    },
    {
      "cell_type": "code",
      "source": [
        "cont_cat_split??"
      ],
      "metadata": {
        "colab": {
          "base_uri": "https://localhost:8080/"
        },
        "id": "xmJjIIoTQQaa",
        "outputId": "feea96d5-7ff1-4c5b-f2b7-f7be7291d5f6"
      },
      "execution_count": 8,
      "outputs": [
        {
          "output_type": "stream",
          "name": "stdout",
          "text": [
            "Object `cont_cat_split` not found.\n"
          ]
        }
      ]
    },
    {
      "cell_type": "code",
      "source": [
        "df = pd.read_csv(path/'train.csv')\n",
        "df"
      ],
      "metadata": {
        "colab": {
          "base_uri": "https://localhost:8080/",
          "height": 424
        },
        "id": "HzBfQ_hfP4RD",
        "outputId": "f1ebfca4-2d45-4eea-fd31-40f60dc858fc"
      },
      "execution_count": 9,
      "outputs": [
        {
          "output_type": "execute_result",
          "data": {
            "text/plain": [
              "     PassengerId  Survived  Pclass  \\\n",
              "0              1         0       3   \n",
              "1              2         1       1   \n",
              "2              3         1       3   \n",
              "3              4         1       1   \n",
              "4              5         0       3   \n",
              "..           ...       ...     ...   \n",
              "886          887         0       2   \n",
              "887          888         1       1   \n",
              "888          889         0       3   \n",
              "889          890         1       1   \n",
              "890          891         0       3   \n",
              "\n",
              "                                                    Name     Sex   Age  SibSp  \\\n",
              "0                                Braund, Mr. Owen Harris    male  22.0      1   \n",
              "1    Cumings, Mrs. John Bradley (Florence Briggs Thayer)  female  38.0      1   \n",
              "2                                 Heikkinen, Miss. Laina  female  26.0      0   \n",
              "3           Futrelle, Mrs. Jacques Heath (Lily May Peel)  female  35.0      1   \n",
              "4                               Allen, Mr. William Henry    male  35.0      0   \n",
              "..                                                   ...     ...   ...    ...   \n",
              "886                                Montvila, Rev. Juozas    male  27.0      0   \n",
              "887                         Graham, Miss. Margaret Edith  female  19.0      0   \n",
              "888             Johnston, Miss. Catherine Helen \"Carrie\"  female   NaN      1   \n",
              "889                                Behr, Mr. Karl Howell    male  26.0      0   \n",
              "890                                  Dooley, Mr. Patrick    male  32.0      0   \n",
              "\n",
              "     Parch            Ticket     Fare Cabin Embarked  \n",
              "0        0         A/5 21171   7.2500   NaN        S  \n",
              "1        0          PC 17599  71.2833   C85        C  \n",
              "2        0  STON/O2. 3101282   7.9250   NaN        S  \n",
              "3        0            113803  53.1000  C123        S  \n",
              "4        0            373450   8.0500   NaN        S  \n",
              "..     ...               ...      ...   ...      ...  \n",
              "886      0            211536  13.0000   NaN        S  \n",
              "887      0            112053  30.0000   B42        S  \n",
              "888      2        W./C. 6607  23.4500   NaN        S  \n",
              "889      0            111369  30.0000  C148        C  \n",
              "890      0            370376   7.7500   NaN        Q  \n",
              "\n",
              "[891 rows x 12 columns]"
            ],
            "text/html": [
              "\n",
              "  <div id=\"df-37a8c37d-9732-4f6c-bebc-d4e72650767e\">\n",
              "    <div class=\"colab-df-container\">\n",
              "      <div>\n",
              "<style scoped>\n",
              "    .dataframe tbody tr th:only-of-type {\n",
              "        vertical-align: middle;\n",
              "    }\n",
              "\n",
              "    .dataframe tbody tr th {\n",
              "        vertical-align: top;\n",
              "    }\n",
              "\n",
              "    .dataframe thead th {\n",
              "        text-align: right;\n",
              "    }\n",
              "</style>\n",
              "<table border=\"1\" class=\"dataframe\">\n",
              "  <thead>\n",
              "    <tr style=\"text-align: right;\">\n",
              "      <th></th>\n",
              "      <th>PassengerId</th>\n",
              "      <th>Survived</th>\n",
              "      <th>Pclass</th>\n",
              "      <th>Name</th>\n",
              "      <th>Sex</th>\n",
              "      <th>Age</th>\n",
              "      <th>SibSp</th>\n",
              "      <th>Parch</th>\n",
              "      <th>Ticket</th>\n",
              "      <th>Fare</th>\n",
              "      <th>Cabin</th>\n",
              "      <th>Embarked</th>\n",
              "    </tr>\n",
              "  </thead>\n",
              "  <tbody>\n",
              "    <tr>\n",
              "      <th>0</th>\n",
              "      <td>1</td>\n",
              "      <td>0</td>\n",
              "      <td>3</td>\n",
              "      <td>Braund, Mr. Owen Harris</td>\n",
              "      <td>male</td>\n",
              "      <td>22.0</td>\n",
              "      <td>1</td>\n",
              "      <td>0</td>\n",
              "      <td>A/5 21171</td>\n",
              "      <td>7.2500</td>\n",
              "      <td>NaN</td>\n",
              "      <td>S</td>\n",
              "    </tr>\n",
              "    <tr>\n",
              "      <th>1</th>\n",
              "      <td>2</td>\n",
              "      <td>1</td>\n",
              "      <td>1</td>\n",
              "      <td>Cumings, Mrs. John Bradley (Florence Briggs Thayer)</td>\n",
              "      <td>female</td>\n",
              "      <td>38.0</td>\n",
              "      <td>1</td>\n",
              "      <td>0</td>\n",
              "      <td>PC 17599</td>\n",
              "      <td>71.2833</td>\n",
              "      <td>C85</td>\n",
              "      <td>C</td>\n",
              "    </tr>\n",
              "    <tr>\n",
              "      <th>2</th>\n",
              "      <td>3</td>\n",
              "      <td>1</td>\n",
              "      <td>3</td>\n",
              "      <td>Heikkinen, Miss. Laina</td>\n",
              "      <td>female</td>\n",
              "      <td>26.0</td>\n",
              "      <td>0</td>\n",
              "      <td>0</td>\n",
              "      <td>STON/O2. 3101282</td>\n",
              "      <td>7.9250</td>\n",
              "      <td>NaN</td>\n",
              "      <td>S</td>\n",
              "    </tr>\n",
              "    <tr>\n",
              "      <th>3</th>\n",
              "      <td>4</td>\n",
              "      <td>1</td>\n",
              "      <td>1</td>\n",
              "      <td>Futrelle, Mrs. Jacques Heath (Lily May Peel)</td>\n",
              "      <td>female</td>\n",
              "      <td>35.0</td>\n",
              "      <td>1</td>\n",
              "      <td>0</td>\n",
              "      <td>113803</td>\n",
              "      <td>53.1000</td>\n",
              "      <td>C123</td>\n",
              "      <td>S</td>\n",
              "    </tr>\n",
              "    <tr>\n",
              "      <th>4</th>\n",
              "      <td>5</td>\n",
              "      <td>0</td>\n",
              "      <td>3</td>\n",
              "      <td>Allen, Mr. William Henry</td>\n",
              "      <td>male</td>\n",
              "      <td>35.0</td>\n",
              "      <td>0</td>\n",
              "      <td>0</td>\n",
              "      <td>373450</td>\n",
              "      <td>8.0500</td>\n",
              "      <td>NaN</td>\n",
              "      <td>S</td>\n",
              "    </tr>\n",
              "    <tr>\n",
              "      <th>...</th>\n",
              "      <td>...</td>\n",
              "      <td>...</td>\n",
              "      <td>...</td>\n",
              "      <td>...</td>\n",
              "      <td>...</td>\n",
              "      <td>...</td>\n",
              "      <td>...</td>\n",
              "      <td>...</td>\n",
              "      <td>...</td>\n",
              "      <td>...</td>\n",
              "      <td>...</td>\n",
              "      <td>...</td>\n",
              "    </tr>\n",
              "    <tr>\n",
              "      <th>886</th>\n",
              "      <td>887</td>\n",
              "      <td>0</td>\n",
              "      <td>2</td>\n",
              "      <td>Montvila, Rev. Juozas</td>\n",
              "      <td>male</td>\n",
              "      <td>27.0</td>\n",
              "      <td>0</td>\n",
              "      <td>0</td>\n",
              "      <td>211536</td>\n",
              "      <td>13.0000</td>\n",
              "      <td>NaN</td>\n",
              "      <td>S</td>\n",
              "    </tr>\n",
              "    <tr>\n",
              "      <th>887</th>\n",
              "      <td>888</td>\n",
              "      <td>1</td>\n",
              "      <td>1</td>\n",
              "      <td>Graham, Miss. Margaret Edith</td>\n",
              "      <td>female</td>\n",
              "      <td>19.0</td>\n",
              "      <td>0</td>\n",
              "      <td>0</td>\n",
              "      <td>112053</td>\n",
              "      <td>30.0000</td>\n",
              "      <td>B42</td>\n",
              "      <td>S</td>\n",
              "    </tr>\n",
              "    <tr>\n",
              "      <th>888</th>\n",
              "      <td>889</td>\n",
              "      <td>0</td>\n",
              "      <td>3</td>\n",
              "      <td>Johnston, Miss. Catherine Helen \"Carrie\"</td>\n",
              "      <td>female</td>\n",
              "      <td>NaN</td>\n",
              "      <td>1</td>\n",
              "      <td>2</td>\n",
              "      <td>W./C. 6607</td>\n",
              "      <td>23.4500</td>\n",
              "      <td>NaN</td>\n",
              "      <td>S</td>\n",
              "    </tr>\n",
              "    <tr>\n",
              "      <th>889</th>\n",
              "      <td>890</td>\n",
              "      <td>1</td>\n",
              "      <td>1</td>\n",
              "      <td>Behr, Mr. Karl Howell</td>\n",
              "      <td>male</td>\n",
              "      <td>26.0</td>\n",
              "      <td>0</td>\n",
              "      <td>0</td>\n",
              "      <td>111369</td>\n",
              "      <td>30.0000</td>\n",
              "      <td>C148</td>\n",
              "      <td>C</td>\n",
              "    </tr>\n",
              "    <tr>\n",
              "      <th>890</th>\n",
              "      <td>891</td>\n",
              "      <td>0</td>\n",
              "      <td>3</td>\n",
              "      <td>Dooley, Mr. Patrick</td>\n",
              "      <td>male</td>\n",
              "      <td>32.0</td>\n",
              "      <td>0</td>\n",
              "      <td>0</td>\n",
              "      <td>370376</td>\n",
              "      <td>7.7500</td>\n",
              "      <td>NaN</td>\n",
              "      <td>Q</td>\n",
              "    </tr>\n",
              "  </tbody>\n",
              "</table>\n",
              "<p>891 rows × 12 columns</p>\n",
              "</div>\n",
              "      <button class=\"colab-df-convert\" onclick=\"convertToInteractive('df-37a8c37d-9732-4f6c-bebc-d4e72650767e')\"\n",
              "              title=\"Convert this dataframe to an interactive table.\"\n",
              "              style=\"display:none;\">\n",
              "        \n",
              "  <svg xmlns=\"http://www.w3.org/2000/svg\" height=\"24px\"viewBox=\"0 0 24 24\"\n",
              "       width=\"24px\">\n",
              "    <path d=\"M0 0h24v24H0V0z\" fill=\"none\"/>\n",
              "    <path d=\"M18.56 5.44l.94 2.06.94-2.06 2.06-.94-2.06-.94-.94-2.06-.94 2.06-2.06.94zm-11 1L8.5 8.5l.94-2.06 2.06-.94-2.06-.94L8.5 2.5l-.94 2.06-2.06.94zm10 10l.94 2.06.94-2.06 2.06-.94-2.06-.94-.94-2.06-.94 2.06-2.06.94z\"/><path d=\"M17.41 7.96l-1.37-1.37c-.4-.4-.92-.59-1.43-.59-.52 0-1.04.2-1.43.59L10.3 9.45l-7.72 7.72c-.78.78-.78 2.05 0 2.83L4 21.41c.39.39.9.59 1.41.59.51 0 1.02-.2 1.41-.59l7.78-7.78 2.81-2.81c.8-.78.8-2.07 0-2.86zM5.41 20L4 18.59l7.72-7.72 1.47 1.35L5.41 20z\"/>\n",
              "  </svg>\n",
              "      </button>\n",
              "      \n",
              "  <style>\n",
              "    .colab-df-container {\n",
              "      display:flex;\n",
              "      flex-wrap:wrap;\n",
              "      gap: 12px;\n",
              "    }\n",
              "\n",
              "    .colab-df-convert {\n",
              "      background-color: #E8F0FE;\n",
              "      border: none;\n",
              "      border-radius: 50%;\n",
              "      cursor: pointer;\n",
              "      display: none;\n",
              "      fill: #1967D2;\n",
              "      height: 32px;\n",
              "      padding: 0 0 0 0;\n",
              "      width: 32px;\n",
              "    }\n",
              "\n",
              "    .colab-df-convert:hover {\n",
              "      background-color: #E2EBFA;\n",
              "      box-shadow: 0px 1px 2px rgba(60, 64, 67, 0.3), 0px 1px 3px 1px rgba(60, 64, 67, 0.15);\n",
              "      fill: #174EA6;\n",
              "    }\n",
              "\n",
              "    [theme=dark] .colab-df-convert {\n",
              "      background-color: #3B4455;\n",
              "      fill: #D2E3FC;\n",
              "    }\n",
              "\n",
              "    [theme=dark] .colab-df-convert:hover {\n",
              "      background-color: #434B5C;\n",
              "      box-shadow: 0px 1px 3px 1px rgba(0, 0, 0, 0.15);\n",
              "      filter: drop-shadow(0px 1px 2px rgba(0, 0, 0, 0.3));\n",
              "      fill: #FFFFFF;\n",
              "    }\n",
              "  </style>\n",
              "\n",
              "      <script>\n",
              "        const buttonEl =\n",
              "          document.querySelector('#df-37a8c37d-9732-4f6c-bebc-d4e72650767e button.colab-df-convert');\n",
              "        buttonEl.style.display =\n",
              "          google.colab.kernel.accessAllowed ? 'block' : 'none';\n",
              "\n",
              "        async function convertToInteractive(key) {\n",
              "          const element = document.querySelector('#df-37a8c37d-9732-4f6c-bebc-d4e72650767e');\n",
              "          const dataTable =\n",
              "            await google.colab.kernel.invokeFunction('convertToInteractive',\n",
              "                                                     [key], {});\n",
              "          if (!dataTable) return;\n",
              "\n",
              "          const docLinkHtml = 'Like what you see? Visit the ' +\n",
              "            '<a target=\"_blank\" href=https://colab.research.google.com/notebooks/data_table.ipynb>data table notebook</a>'\n",
              "            + ' to learn more about interactive tables.';\n",
              "          element.innerHTML = '';\n",
              "          dataTable['output_type'] = 'display_data';\n",
              "          await google.colab.output.renderOutput(dataTable, element);\n",
              "          const docLink = document.createElement('div');\n",
              "          docLink.innerHTML = docLinkHtml;\n",
              "          element.appendChild(docLink);\n",
              "        }\n",
              "      </script>\n",
              "    </div>\n",
              "  </div>\n",
              "  "
            ]
          },
          "metadata": {},
          "execution_count": 9
        }
      ]
    },
    {
      "cell_type": "code",
      "source": [
        "tst_df = pd.read_csv(path/'test.csv')\n",
        "tst_df.head()"
      ],
      "metadata": {
        "colab": {
          "base_uri": "https://localhost:8080/",
          "height": 206
        },
        "id": "qp4O9SQDTh39",
        "outputId": "b0cbd9b2-86ac-4f2c-d91b-10ebc6ab4999"
      },
      "execution_count": 37,
      "outputs": [
        {
          "output_type": "execute_result",
          "data": {
            "text/plain": [
              "   PassengerId  Pclass                                          Name     Sex  \\\n",
              "0          892       3                              Kelly, Mr. James    male   \n",
              "1          893       3              Wilkes, Mrs. James (Ellen Needs)  female   \n",
              "2          894       2                     Myles, Mr. Thomas Francis    male   \n",
              "3          895       3                              Wirz, Mr. Albert    male   \n",
              "4          896       3  Hirvonen, Mrs. Alexander (Helga E Lindqvist)  female   \n",
              "\n",
              "    Age  SibSp  Parch   Ticket     Fare Cabin Embarked  \n",
              "0  34.5      0      0   330911   7.8292   NaN        Q  \n",
              "1  47.0      1      0   363272   7.0000   NaN        S  \n",
              "2  62.0      0      0   240276   9.6875   NaN        Q  \n",
              "3  27.0      0      0   315154   8.6625   NaN        S  \n",
              "4  22.0      1      1  3101298  12.2875   NaN        S  "
            ],
            "text/html": [
              "\n",
              "  <div id=\"df-3edaa275-03c4-45c4-83ea-4724fa6ae056\">\n",
              "    <div class=\"colab-df-container\">\n",
              "      <div>\n",
              "<style scoped>\n",
              "    .dataframe tbody tr th:only-of-type {\n",
              "        vertical-align: middle;\n",
              "    }\n",
              "\n",
              "    .dataframe tbody tr th {\n",
              "        vertical-align: top;\n",
              "    }\n",
              "\n",
              "    .dataframe thead th {\n",
              "        text-align: right;\n",
              "    }\n",
              "</style>\n",
              "<table border=\"1\" class=\"dataframe\">\n",
              "  <thead>\n",
              "    <tr style=\"text-align: right;\">\n",
              "      <th></th>\n",
              "      <th>PassengerId</th>\n",
              "      <th>Pclass</th>\n",
              "      <th>Name</th>\n",
              "      <th>Sex</th>\n",
              "      <th>Age</th>\n",
              "      <th>SibSp</th>\n",
              "      <th>Parch</th>\n",
              "      <th>Ticket</th>\n",
              "      <th>Fare</th>\n",
              "      <th>Cabin</th>\n",
              "      <th>Embarked</th>\n",
              "    </tr>\n",
              "  </thead>\n",
              "  <tbody>\n",
              "    <tr>\n",
              "      <th>0</th>\n",
              "      <td>892</td>\n",
              "      <td>3</td>\n",
              "      <td>Kelly, Mr. James</td>\n",
              "      <td>male</td>\n",
              "      <td>34.5</td>\n",
              "      <td>0</td>\n",
              "      <td>0</td>\n",
              "      <td>330911</td>\n",
              "      <td>7.8292</td>\n",
              "      <td>NaN</td>\n",
              "      <td>Q</td>\n",
              "    </tr>\n",
              "    <tr>\n",
              "      <th>1</th>\n",
              "      <td>893</td>\n",
              "      <td>3</td>\n",
              "      <td>Wilkes, Mrs. James (Ellen Needs)</td>\n",
              "      <td>female</td>\n",
              "      <td>47.0</td>\n",
              "      <td>1</td>\n",
              "      <td>0</td>\n",
              "      <td>363272</td>\n",
              "      <td>7.0000</td>\n",
              "      <td>NaN</td>\n",
              "      <td>S</td>\n",
              "    </tr>\n",
              "    <tr>\n",
              "      <th>2</th>\n",
              "      <td>894</td>\n",
              "      <td>2</td>\n",
              "      <td>Myles, Mr. Thomas Francis</td>\n",
              "      <td>male</td>\n",
              "      <td>62.0</td>\n",
              "      <td>0</td>\n",
              "      <td>0</td>\n",
              "      <td>240276</td>\n",
              "      <td>9.6875</td>\n",
              "      <td>NaN</td>\n",
              "      <td>Q</td>\n",
              "    </tr>\n",
              "    <tr>\n",
              "      <th>3</th>\n",
              "      <td>895</td>\n",
              "      <td>3</td>\n",
              "      <td>Wirz, Mr. Albert</td>\n",
              "      <td>male</td>\n",
              "      <td>27.0</td>\n",
              "      <td>0</td>\n",
              "      <td>0</td>\n",
              "      <td>315154</td>\n",
              "      <td>8.6625</td>\n",
              "      <td>NaN</td>\n",
              "      <td>S</td>\n",
              "    </tr>\n",
              "    <tr>\n",
              "      <th>4</th>\n",
              "      <td>896</td>\n",
              "      <td>3</td>\n",
              "      <td>Hirvonen, Mrs. Alexander (Helga E Lindqvist)</td>\n",
              "      <td>female</td>\n",
              "      <td>22.0</td>\n",
              "      <td>1</td>\n",
              "      <td>1</td>\n",
              "      <td>3101298</td>\n",
              "      <td>12.2875</td>\n",
              "      <td>NaN</td>\n",
              "      <td>S</td>\n",
              "    </tr>\n",
              "  </tbody>\n",
              "</table>\n",
              "</div>\n",
              "      <button class=\"colab-df-convert\" onclick=\"convertToInteractive('df-3edaa275-03c4-45c4-83ea-4724fa6ae056')\"\n",
              "              title=\"Convert this dataframe to an interactive table.\"\n",
              "              style=\"display:none;\">\n",
              "        \n",
              "  <svg xmlns=\"http://www.w3.org/2000/svg\" height=\"24px\"viewBox=\"0 0 24 24\"\n",
              "       width=\"24px\">\n",
              "    <path d=\"M0 0h24v24H0V0z\" fill=\"none\"/>\n",
              "    <path d=\"M18.56 5.44l.94 2.06.94-2.06 2.06-.94-2.06-.94-.94-2.06-.94 2.06-2.06.94zm-11 1L8.5 8.5l.94-2.06 2.06-.94-2.06-.94L8.5 2.5l-.94 2.06-2.06.94zm10 10l.94 2.06.94-2.06 2.06-.94-2.06-.94-.94-2.06-.94 2.06-2.06.94z\"/><path d=\"M17.41 7.96l-1.37-1.37c-.4-.4-.92-.59-1.43-.59-.52 0-1.04.2-1.43.59L10.3 9.45l-7.72 7.72c-.78.78-.78 2.05 0 2.83L4 21.41c.39.39.9.59 1.41.59.51 0 1.02-.2 1.41-.59l7.78-7.78 2.81-2.81c.8-.78.8-2.07 0-2.86zM5.41 20L4 18.59l7.72-7.72 1.47 1.35L5.41 20z\"/>\n",
              "  </svg>\n",
              "      </button>\n",
              "      \n",
              "  <style>\n",
              "    .colab-df-container {\n",
              "      display:flex;\n",
              "      flex-wrap:wrap;\n",
              "      gap: 12px;\n",
              "    }\n",
              "\n",
              "    .colab-df-convert {\n",
              "      background-color: #E8F0FE;\n",
              "      border: none;\n",
              "      border-radius: 50%;\n",
              "      cursor: pointer;\n",
              "      display: none;\n",
              "      fill: #1967D2;\n",
              "      height: 32px;\n",
              "      padding: 0 0 0 0;\n",
              "      width: 32px;\n",
              "    }\n",
              "\n",
              "    .colab-df-convert:hover {\n",
              "      background-color: #E2EBFA;\n",
              "      box-shadow: 0px 1px 2px rgba(60, 64, 67, 0.3), 0px 1px 3px 1px rgba(60, 64, 67, 0.15);\n",
              "      fill: #174EA6;\n",
              "    }\n",
              "\n",
              "    [theme=dark] .colab-df-convert {\n",
              "      background-color: #3B4455;\n",
              "      fill: #D2E3FC;\n",
              "    }\n",
              "\n",
              "    [theme=dark] .colab-df-convert:hover {\n",
              "      background-color: #434B5C;\n",
              "      box-shadow: 0px 1px 3px 1px rgba(0, 0, 0, 0.15);\n",
              "      filter: drop-shadow(0px 1px 2px rgba(0, 0, 0, 0.3));\n",
              "      fill: #FFFFFF;\n",
              "    }\n",
              "  </style>\n",
              "\n",
              "      <script>\n",
              "        const buttonEl =\n",
              "          document.querySelector('#df-3edaa275-03c4-45c4-83ea-4724fa6ae056 button.colab-df-convert');\n",
              "        buttonEl.style.display =\n",
              "          google.colab.kernel.accessAllowed ? 'block' : 'none';\n",
              "\n",
              "        async function convertToInteractive(key) {\n",
              "          const element = document.querySelector('#df-3edaa275-03c4-45c4-83ea-4724fa6ae056');\n",
              "          const dataTable =\n",
              "            await google.colab.kernel.invokeFunction('convertToInteractive',\n",
              "                                                     [key], {});\n",
              "          if (!dataTable) return;\n",
              "\n",
              "          const docLinkHtml = 'Like what you see? Visit the ' +\n",
              "            '<a target=\"_blank\" href=https://colab.research.google.com/notebooks/data_table.ipynb>data table notebook</a>'\n",
              "            + ' to learn more about interactive tables.';\n",
              "          element.innerHTML = '';\n",
              "          dataTable['output_type'] = 'display_data';\n",
              "          await google.colab.output.renderOutput(dataTable, element);\n",
              "          const docLink = document.createElement('div');\n",
              "          docLink.innerHTML = docLinkHtml;\n",
              "          element.appendChild(docLink);\n",
              "        }\n",
              "      </script>\n",
              "    </div>\n",
              "  </div>\n",
              "  "
            ]
          },
          "metadata": {},
          "execution_count": 37
        }
      ]
    },
    {
      "cell_type": "code",
      "source": [
        "from fastai.tabular.all import *"
      ],
      "metadata": {
        "id": "LNu8AnYORDVU"
      },
      "execution_count": 13,
      "outputs": []
    },
    {
      "cell_type": "code",
      "source": [
        "cont_cat_split??"
      ],
      "metadata": {
        "id": "bzXgbkaQRl5M"
      },
      "execution_count": 18,
      "outputs": []
    },
    {
      "cell_type": "code",
      "source": [
        "dep_var = \"Survived\""
      ],
      "metadata": {
        "id": "WHkrNYELRg-3"
      },
      "execution_count": 26,
      "outputs": []
    },
    {
      "cell_type": "markdown",
      "source": [
        "look at default categorical cols"
      ],
      "metadata": {
        "id": "8ACVjvMQTvSA"
      }
    },
    {
      "cell_type": "code",
      "source": [
        "cont, cat = cont_cat_split(df, dep_var=dep_var)"
      ],
      "metadata": {
        "id": "iLkOPVQEP4Mo"
      },
      "execution_count": 27,
      "outputs": []
    },
    {
      "cell_type": "code",
      "source": [
        "cont"
      ],
      "metadata": {
        "colab": {
          "base_uri": "https://localhost:8080/"
        },
        "id": "1dQN7RPQP4KP",
        "outputId": "35923d88-8eaa-4ff8-d093-b1c999c0f7cd"
      },
      "execution_count": 28,
      "outputs": [
        {
          "output_type": "execute_result",
          "data": {
            "text/plain": [
              "['PassengerId', 'Age', 'Fare']"
            ]
          },
          "metadata": {},
          "execution_count": 28
        }
      ]
    },
    {
      "cell_type": "code",
      "source": [
        "cat"
      ],
      "metadata": {
        "colab": {
          "base_uri": "https://localhost:8080/"
        },
        "id": "B-leLxJhP4FL",
        "outputId": "2d56dea0-54f5-449e-ece5-99a95cb15f98"
      },
      "execution_count": 29,
      "outputs": [
        {
          "output_type": "execute_result",
          "data": {
            "text/plain": [
              "['Pclass', 'Name', 'Sex', 'SibSp', 'Parch', 'Ticket', 'Cabin', 'Embarked']"
            ]
          },
          "metadata": {},
          "execution_count": 29
        }
      ]
    },
    {
      "cell_type": "markdown",
      "source": [
        "categorical data"
      ],
      "metadata": {
        "id": "sdXYhr0_R9Ox"
      }
    },
    {
      "cell_type": "code",
      "source": [
        "pd.Categorical??"
      ],
      "metadata": {
        "id": "ZQsYZ7xSSPJi"
      },
      "execution_count": 32,
      "outputs": []
    },
    {
      "cell_type": "code",
      "source": [
        "df[cat].head()"
      ],
      "metadata": {
        "colab": {
          "base_uri": "https://localhost:8080/",
          "height": 206
        },
        "id": "QqdeBeqbP4DY",
        "outputId": "27d2d93c-63f5-47c4-9417-9ee7a39e40cc"
      },
      "execution_count": 33,
      "outputs": [
        {
          "output_type": "execute_result",
          "data": {
            "text/plain": [
              "   Pclass                                                 Name     Sex  SibSp  \\\n",
              "0       3                              Braund, Mr. Owen Harris    male      1   \n",
              "1       1  Cumings, Mrs. John Bradley (Florence Briggs Thayer)  female      1   \n",
              "2       3                               Heikkinen, Miss. Laina  female      0   \n",
              "3       1         Futrelle, Mrs. Jacques Heath (Lily May Peel)  female      1   \n",
              "4       3                             Allen, Mr. William Henry    male      0   \n",
              "\n",
              "   Parch            Ticket Cabin Embarked  \n",
              "0      0         A/5 21171   NaN        S  \n",
              "1      0          PC 17599   C85        C  \n",
              "2      0  STON/O2. 3101282   NaN        S  \n",
              "3      0            113803  C123        S  \n",
              "4      0            373450   NaN        S  "
            ],
            "text/html": [
              "\n",
              "  <div id=\"df-6d734c00-2d3b-40c9-b0d6-755994eac1a5\">\n",
              "    <div class=\"colab-df-container\">\n",
              "      <div>\n",
              "<style scoped>\n",
              "    .dataframe tbody tr th:only-of-type {\n",
              "        vertical-align: middle;\n",
              "    }\n",
              "\n",
              "    .dataframe tbody tr th {\n",
              "        vertical-align: top;\n",
              "    }\n",
              "\n",
              "    .dataframe thead th {\n",
              "        text-align: right;\n",
              "    }\n",
              "</style>\n",
              "<table border=\"1\" class=\"dataframe\">\n",
              "  <thead>\n",
              "    <tr style=\"text-align: right;\">\n",
              "      <th></th>\n",
              "      <th>Pclass</th>\n",
              "      <th>Name</th>\n",
              "      <th>Sex</th>\n",
              "      <th>SibSp</th>\n",
              "      <th>Parch</th>\n",
              "      <th>Ticket</th>\n",
              "      <th>Cabin</th>\n",
              "      <th>Embarked</th>\n",
              "    </tr>\n",
              "  </thead>\n",
              "  <tbody>\n",
              "    <tr>\n",
              "      <th>0</th>\n",
              "      <td>3</td>\n",
              "      <td>Braund, Mr. Owen Harris</td>\n",
              "      <td>male</td>\n",
              "      <td>1</td>\n",
              "      <td>0</td>\n",
              "      <td>A/5 21171</td>\n",
              "      <td>NaN</td>\n",
              "      <td>S</td>\n",
              "    </tr>\n",
              "    <tr>\n",
              "      <th>1</th>\n",
              "      <td>1</td>\n",
              "      <td>Cumings, Mrs. John Bradley (Florence Briggs Thayer)</td>\n",
              "      <td>female</td>\n",
              "      <td>1</td>\n",
              "      <td>0</td>\n",
              "      <td>PC 17599</td>\n",
              "      <td>C85</td>\n",
              "      <td>C</td>\n",
              "    </tr>\n",
              "    <tr>\n",
              "      <th>2</th>\n",
              "      <td>3</td>\n",
              "      <td>Heikkinen, Miss. Laina</td>\n",
              "      <td>female</td>\n",
              "      <td>0</td>\n",
              "      <td>0</td>\n",
              "      <td>STON/O2. 3101282</td>\n",
              "      <td>NaN</td>\n",
              "      <td>S</td>\n",
              "    </tr>\n",
              "    <tr>\n",
              "      <th>3</th>\n",
              "      <td>1</td>\n",
              "      <td>Futrelle, Mrs. Jacques Heath (Lily May Peel)</td>\n",
              "      <td>female</td>\n",
              "      <td>1</td>\n",
              "      <td>0</td>\n",
              "      <td>113803</td>\n",
              "      <td>C123</td>\n",
              "      <td>S</td>\n",
              "    </tr>\n",
              "    <tr>\n",
              "      <th>4</th>\n",
              "      <td>3</td>\n",
              "      <td>Allen, Mr. William Henry</td>\n",
              "      <td>male</td>\n",
              "      <td>0</td>\n",
              "      <td>0</td>\n",
              "      <td>373450</td>\n",
              "      <td>NaN</td>\n",
              "      <td>S</td>\n",
              "    </tr>\n",
              "  </tbody>\n",
              "</table>\n",
              "</div>\n",
              "      <button class=\"colab-df-convert\" onclick=\"convertToInteractive('df-6d734c00-2d3b-40c9-b0d6-755994eac1a5')\"\n",
              "              title=\"Convert this dataframe to an interactive table.\"\n",
              "              style=\"display:none;\">\n",
              "        \n",
              "  <svg xmlns=\"http://www.w3.org/2000/svg\" height=\"24px\"viewBox=\"0 0 24 24\"\n",
              "       width=\"24px\">\n",
              "    <path d=\"M0 0h24v24H0V0z\" fill=\"none\"/>\n",
              "    <path d=\"M18.56 5.44l.94 2.06.94-2.06 2.06-.94-2.06-.94-.94-2.06-.94 2.06-2.06.94zm-11 1L8.5 8.5l.94-2.06 2.06-.94-2.06-.94L8.5 2.5l-.94 2.06-2.06.94zm10 10l.94 2.06.94-2.06 2.06-.94-2.06-.94-.94-2.06-.94 2.06-2.06.94z\"/><path d=\"M17.41 7.96l-1.37-1.37c-.4-.4-.92-.59-1.43-.59-.52 0-1.04.2-1.43.59L10.3 9.45l-7.72 7.72c-.78.78-.78 2.05 0 2.83L4 21.41c.39.39.9.59 1.41.59.51 0 1.02-.2 1.41-.59l7.78-7.78 2.81-2.81c.8-.78.8-2.07 0-2.86zM5.41 20L4 18.59l7.72-7.72 1.47 1.35L5.41 20z\"/>\n",
              "  </svg>\n",
              "      </button>\n",
              "      \n",
              "  <style>\n",
              "    .colab-df-container {\n",
              "      display:flex;\n",
              "      flex-wrap:wrap;\n",
              "      gap: 12px;\n",
              "    }\n",
              "\n",
              "    .colab-df-convert {\n",
              "      background-color: #E8F0FE;\n",
              "      border: none;\n",
              "      border-radius: 50%;\n",
              "      cursor: pointer;\n",
              "      display: none;\n",
              "      fill: #1967D2;\n",
              "      height: 32px;\n",
              "      padding: 0 0 0 0;\n",
              "      width: 32px;\n",
              "    }\n",
              "\n",
              "    .colab-df-convert:hover {\n",
              "      background-color: #E2EBFA;\n",
              "      box-shadow: 0px 1px 2px rgba(60, 64, 67, 0.3), 0px 1px 3px 1px rgba(60, 64, 67, 0.15);\n",
              "      fill: #174EA6;\n",
              "    }\n",
              "\n",
              "    [theme=dark] .colab-df-convert {\n",
              "      background-color: #3B4455;\n",
              "      fill: #D2E3FC;\n",
              "    }\n",
              "\n",
              "    [theme=dark] .colab-df-convert:hover {\n",
              "      background-color: #434B5C;\n",
              "      box-shadow: 0px 1px 3px 1px rgba(0, 0, 0, 0.15);\n",
              "      filter: drop-shadow(0px 1px 2px rgba(0, 0, 0, 0.3));\n",
              "      fill: #FFFFFF;\n",
              "    }\n",
              "  </style>\n",
              "\n",
              "      <script>\n",
              "        const buttonEl =\n",
              "          document.querySelector('#df-6d734c00-2d3b-40c9-b0d6-755994eac1a5 button.colab-df-convert');\n",
              "        buttonEl.style.display =\n",
              "          google.colab.kernel.accessAllowed ? 'block' : 'none';\n",
              "\n",
              "        async function convertToInteractive(key) {\n",
              "          const element = document.querySelector('#df-6d734c00-2d3b-40c9-b0d6-755994eac1a5');\n",
              "          const dataTable =\n",
              "            await google.colab.kernel.invokeFunction('convertToInteractive',\n",
              "                                                     [key], {});\n",
              "          if (!dataTable) return;\n",
              "\n",
              "          const docLinkHtml = 'Like what you see? Visit the ' +\n",
              "            '<a target=\"_blank\" href=https://colab.research.google.com/notebooks/data_table.ipynb>data table notebook</a>'\n",
              "            + ' to learn more about interactive tables.';\n",
              "          element.innerHTML = '';\n",
              "          dataTable['output_type'] = 'display_data';\n",
              "          await google.colab.output.renderOutput(dataTable, element);\n",
              "          const docLink = document.createElement('div');\n",
              "          docLink.innerHTML = docLinkHtml;\n",
              "          element.appendChild(docLink);\n",
              "        }\n",
              "      </script>\n",
              "    </div>\n",
              "  </div>\n",
              "  "
            ]
          },
          "metadata": {},
          "execution_count": 33
        }
      ]
    },
    {
      "cell_type": "code",
      "source": [
        "cat"
      ],
      "metadata": {
        "colab": {
          "base_uri": "https://localhost:8080/"
        },
        "id": "Z7b9W-7sT8Hv",
        "outputId": "aa9cfde1-c44e-4e94-9eed-2aa85ebc51c9"
      },
      "execution_count": 38,
      "outputs": [
        {
          "output_type": "execute_result",
          "data": {
            "text/plain": [
              "['Pclass', 'Name', 'Sex', 'SibSp', 'Parch', 'Ticket', 'Cabin', 'Embarked']"
            ]
          },
          "metadata": {},
          "execution_count": 38
        }
      ]
    },
    {
      "cell_type": "markdown",
      "source": [
        "mode of data frame"
      ],
      "metadata": {
        "id": "gMjHwSt_UXuG"
      }
    },
    {
      "cell_type": "code",
      "source": [
        "modes = df.mode().iloc[0]"
      ],
      "metadata": {
        "id": "hlG-gBKIUWx7"
      },
      "execution_count": 43,
      "outputs": []
    },
    {
      "cell_type": "code",
      "source": [
        "def proc_data(df):\n",
        "  df['Fare'] = df.Fare.fillna(0)\n",
        "  df.fillna(modes, inplace=True)\n",
        "  df['LogFare'] = np.log1p(df['Fare'])\n",
        "  df['Pclass'] = pd.Categorical(df.Pclass)  \n",
        "  df['Name'] = pd.Categorical(df.Name)\n",
        "  df['Sex'] = pd.Categorical(df.Sex)\n",
        "  df['SibSp'] = pd.Categorical(df.SibSp)\n",
        "  df['Parch'] = pd.Categorical(df.Parch)\n",
        "  df['Ticket'] = pd.Categorical(df.Ticket)\n",
        "  df['Cabin'] = pd.Categorical(df.Cabin)\n",
        "  df['Embarked'] = pd.Categorical(df.Embarked)"
      ],
      "metadata": {
        "id": "5qK61-OGSnyj"
      },
      "execution_count": 44,
      "outputs": []
    },
    {
      "cell_type": "code",
      "source": [
        "proc_data(df)\n",
        "proc_data(tst_df)"
      ],
      "metadata": {
        "id": "GYUKPXTJP38J"
      },
      "execution_count": 45,
      "outputs": []
    },
    {
      "cell_type": "code",
      "source": [
        "df['Embarked'].head()"
      ],
      "metadata": {
        "colab": {
          "base_uri": "https://localhost:8080/"
        },
        "id": "ygyvPwBHP32x",
        "outputId": "4686da4e-afd4-4402-983f-148842b15917"
      },
      "execution_count": 46,
      "outputs": [
        {
          "output_type": "execute_result",
          "data": {
            "text/plain": [
              "0    S\n",
              "1    C\n",
              "2    S\n",
              "3    S\n",
              "4    S\n",
              "Name: Embarked, dtype: category\n",
              "Categories (3, object): ['C', 'Q', 'S']"
            ]
          },
          "metadata": {},
          "execution_count": 46
        }
      ]
    },
    {
      "cell_type": "code",
      "source": [
        "df['Embarked'].cat.codes.head()"
      ],
      "metadata": {
        "colab": {
          "base_uri": "https://localhost:8080/"
        },
        "id": "femkRordWDuA",
        "outputId": "cc62444b-6dac-4b99-e7f7-50f9bf83fec9"
      },
      "execution_count": 51,
      "outputs": [
        {
          "output_type": "execute_result",
          "data": {
            "text/plain": [
              "0    2\n",
              "1    0\n",
              "2    2\n",
              "3    2\n",
              "4    2\n",
              "dtype: int8"
            ]
          },
          "metadata": {},
          "execution_count": 51
        }
      ]
    },
    {
      "cell_type": "code",
      "source": [
        "cat"
      ],
      "metadata": {
        "colab": {
          "base_uri": "https://localhost:8080/"
        },
        "id": "GL1MQf8UP30-",
        "outputId": "6d96d8ae-6f61-41b1-9f70-d7763be78b93"
      },
      "execution_count": 48,
      "outputs": [
        {
          "output_type": "execute_result",
          "data": {
            "text/plain": [
              "['Pclass', 'Name', 'Sex', 'SibSp', 'Parch', 'Ticket', 'Cabin', 'Embarked']"
            ]
          },
          "metadata": {},
          "execution_count": 48
        }
      ]
    },
    {
      "cell_type": "code",
      "source": [
        "cont"
      ],
      "metadata": {
        "colab": {
          "base_uri": "https://localhost:8080/"
        },
        "id": "uJbgBi_0VrbF",
        "outputId": "dc400f17-bbea-4f6a-fa20-c10b97ba82bd"
      },
      "execution_count": 49,
      "outputs": [
        {
          "output_type": "execute_result",
          "data": {
            "text/plain": [
              "['PassengerId', 'Age', 'Fare']"
            ]
          },
          "metadata": {},
          "execution_count": 49
        }
      ]
    },
    {
      "cell_type": "code",
      "source": [
        "df.info()"
      ],
      "metadata": {
        "colab": {
          "base_uri": "https://localhost:8080/"
        },
        "id": "3XhHYGGKWten",
        "outputId": "7f384372-6e8d-4fc5-ed11-3bffa8a13276"
      },
      "execution_count": 52,
      "outputs": [
        {
          "output_type": "stream",
          "name": "stdout",
          "text": [
            "<class 'pandas.core.frame.DataFrame'>\n",
            "RangeIndex: 891 entries, 0 to 890\n",
            "Data columns (total 13 columns):\n",
            " #   Column       Non-Null Count  Dtype   \n",
            "---  ------       --------------  -----   \n",
            " 0   PassengerId  891 non-null    int64   \n",
            " 1   Survived     891 non-null    int64   \n",
            " 2   Pclass       891 non-null    category\n",
            " 3   Name         891 non-null    category\n",
            " 4   Sex          891 non-null    category\n",
            " 5   Age          891 non-null    float64 \n",
            " 6   SibSp        891 non-null    category\n",
            " 7   Parch        891 non-null    category\n",
            " 8   Ticket       891 non-null    category\n",
            " 9   Fare         891 non-null    float64 \n",
            " 10  Cabin        891 non-null    category\n",
            " 11  Embarked     891 non-null    category\n",
            " 12  LogFare      891 non-null    float64 \n",
            "dtypes: category(8), float64(3), int64(2)\n",
            "memory usage: 111.5 KB\n"
          ]
        }
      ]
    },
    {
      "cell_type": "code",
      "source": [
        "splits = RandomSplitter(valid_pct=0.2, seed=42)(df)\n",
        "splits"
      ],
      "metadata": {
        "colab": {
          "base_uri": "https://localhost:8080/"
        },
        "id": "nBianAUxXD83",
        "outputId": "495b636e-313b-4dd4-d8ec-cde0bad6f2cf"
      },
      "execution_count": 54,
      "outputs": [
        {
          "output_type": "execute_result",
          "data": {
            "text/plain": [
              "((#713) [788,525,821,253,374,98,215,313,281,305...],\n",
              " (#178) [303,778,531,385,134,476,691,443,386,128...])"
            ]
          },
          "metadata": {},
          "execution_count": 54
        }
      ]
    },
    {
      "cell_type": "code",
      "source": [
        "to = TabularPandas (df,cat_names=cat, cont_names=cont,\n",
        "                y_names=dep_var, y_block=CategoryBlock(), splits=splits)"
      ],
      "metadata": {
        "id": "H8Kcx6yeVWES"
      },
      "execution_count": 55,
      "outputs": []
    },
    {
      "cell_type": "code",
      "source": [
        "procs = [Categorify, FillMissing, Normalize]"
      ],
      "metadata": {
        "id": "jWiHQIStZZUZ"
      },
      "execution_count": 62,
      "outputs": []
    },
    {
      "cell_type": "code",
      "source": [
        "to1 = TabularPandas (df, procs=procs, cat_names=cat, cont_names=cont,\n",
        "                y_names=dep_var, y_block=CategoryBlock(), splits=splits)"
      ],
      "metadata": {
        "id": "RerJDTqraWYO"
      },
      "execution_count": 63,
      "outputs": []
    },
    {
      "cell_type": "code",
      "source": [
        "to1.show()"
      ],
      "metadata": {
        "colab": {
          "base_uri": "https://localhost:8080/",
          "height": 363
        },
        "id": "YCOk1kHSaf04",
        "outputId": "d653ba33-c7a5-4673-f7a5-e44cd257cdac"
      },
      "execution_count": 64,
      "outputs": [
        {
          "output_type": "display_data",
          "data": {
            "text/plain": [
              "<IPython.core.display.HTML object>"
            ],
            "text/html": [
              "<table border=\"1\" class=\"dataframe\">\n",
              "  <thead>\n",
              "    <tr style=\"text-align: right;\">\n",
              "      <th></th>\n",
              "      <th>Pclass</th>\n",
              "      <th>Name</th>\n",
              "      <th>Sex</th>\n",
              "      <th>SibSp</th>\n",
              "      <th>Parch</th>\n",
              "      <th>Ticket</th>\n",
              "      <th>Cabin</th>\n",
              "      <th>Embarked</th>\n",
              "      <th>PassengerId</th>\n",
              "      <th>Age</th>\n",
              "      <th>Fare</th>\n",
              "      <th>Survived</th>\n",
              "    </tr>\n",
              "  </thead>\n",
              "  <tbody>\n",
              "    <tr>\n",
              "      <th>788</th>\n",
              "      <td>3</td>\n",
              "      <td>Dean, Master. Bertram Vere</td>\n",
              "      <td>male</td>\n",
              "      <td>1</td>\n",
              "      <td>2</td>\n",
              "      <td>C.A. 2315</td>\n",
              "      <td>B96 B98</td>\n",
              "      <td>S</td>\n",
              "      <td>789.0</td>\n",
              "      <td>1.00</td>\n",
              "      <td>20.575001</td>\n",
              "      <td>1</td>\n",
              "    </tr>\n",
              "    <tr>\n",
              "      <th>525</th>\n",
              "      <td>3</td>\n",
              "      <td>Farrell, Mr. James</td>\n",
              "      <td>male</td>\n",
              "      <td>0</td>\n",
              "      <td>0</td>\n",
              "      <td>367232</td>\n",
              "      <td>B96 B98</td>\n",
              "      <td>Q</td>\n",
              "      <td>526.0</td>\n",
              "      <td>40.50</td>\n",
              "      <td>7.750000</td>\n",
              "      <td>0</td>\n",
              "    </tr>\n",
              "    <tr>\n",
              "      <th>821</th>\n",
              "      <td>3</td>\n",
              "      <td>Lulic, Mr. Nikola</td>\n",
              "      <td>male</td>\n",
              "      <td>0</td>\n",
              "      <td>0</td>\n",
              "      <td>315098</td>\n",
              "      <td>B96 B98</td>\n",
              "      <td>S</td>\n",
              "      <td>822.0</td>\n",
              "      <td>27.00</td>\n",
              "      <td>8.662500</td>\n",
              "      <td>1</td>\n",
              "    </tr>\n",
              "    <tr>\n",
              "      <th>253</th>\n",
              "      <td>3</td>\n",
              "      <td>Lobb, Mr. William Arthur</td>\n",
              "      <td>male</td>\n",
              "      <td>1</td>\n",
              "      <td>0</td>\n",
              "      <td>A/5. 3336</td>\n",
              "      <td>B96 B98</td>\n",
              "      <td>S</td>\n",
              "      <td>254.0</td>\n",
              "      <td>30.00</td>\n",
              "      <td>16.100000</td>\n",
              "      <td>0</td>\n",
              "    </tr>\n",
              "    <tr>\n",
              "      <th>374</th>\n",
              "      <td>3</td>\n",
              "      <td>Palsson, Miss. Stina Viola</td>\n",
              "      <td>female</td>\n",
              "      <td>3</td>\n",
              "      <td>1</td>\n",
              "      <td>349909</td>\n",
              "      <td>B96 B98</td>\n",
              "      <td>S</td>\n",
              "      <td>375.0</td>\n",
              "      <td>3.00</td>\n",
              "      <td>21.075001</td>\n",
              "      <td>0</td>\n",
              "    </tr>\n",
              "    <tr>\n",
              "      <th>98</th>\n",
              "      <td>2</td>\n",
              "      <td>Doling, Mrs. John T (Ada Julia Bone)</td>\n",
              "      <td>female</td>\n",
              "      <td>0</td>\n",
              "      <td>1</td>\n",
              "      <td>231919</td>\n",
              "      <td>B96 B98</td>\n",
              "      <td>S</td>\n",
              "      <td>99.0</td>\n",
              "      <td>34.00</td>\n",
              "      <td>23.000000</td>\n",
              "      <td>1</td>\n",
              "    </tr>\n",
              "    <tr>\n",
              "      <th>215</th>\n",
              "      <td>1</td>\n",
              "      <td>Newell, Miss. Madeleine</td>\n",
              "      <td>female</td>\n",
              "      <td>1</td>\n",
              "      <td>0</td>\n",
              "      <td>35273</td>\n",
              "      <td>D36</td>\n",
              "      <td>C</td>\n",
              "      <td>216.0</td>\n",
              "      <td>31.00</td>\n",
              "      <td>113.275002</td>\n",
              "      <td>1</td>\n",
              "    </tr>\n",
              "    <tr>\n",
              "      <th>313</th>\n",
              "      <td>3</td>\n",
              "      <td>Hendekovic, Mr. Ignjac</td>\n",
              "      <td>male</td>\n",
              "      <td>0</td>\n",
              "      <td>0</td>\n",
              "      <td>349243</td>\n",
              "      <td>B96 B98</td>\n",
              "      <td>S</td>\n",
              "      <td>314.0</td>\n",
              "      <td>28.00</td>\n",
              "      <td>7.895800</td>\n",
              "      <td>0</td>\n",
              "    </tr>\n",
              "    <tr>\n",
              "      <th>281</th>\n",
              "      <td>3</td>\n",
              "      <td>Olsson, Mr. Nils Johan Goransson</td>\n",
              "      <td>male</td>\n",
              "      <td>0</td>\n",
              "      <td>0</td>\n",
              "      <td>347464</td>\n",
              "      <td>B96 B98</td>\n",
              "      <td>S</td>\n",
              "      <td>282.0</td>\n",
              "      <td>28.00</td>\n",
              "      <td>7.854200</td>\n",
              "      <td>0</td>\n",
              "    </tr>\n",
              "    <tr>\n",
              "      <th>305</th>\n",
              "      <td>1</td>\n",
              "      <td>Allison, Master. Hudson Trevor</td>\n",
              "      <td>male</td>\n",
              "      <td>1</td>\n",
              "      <td>2</td>\n",
              "      <td>113781</td>\n",
              "      <td>C22 C26</td>\n",
              "      <td>S</td>\n",
              "      <td>306.0</td>\n",
              "      <td>0.92</td>\n",
              "      <td>151.550003</td>\n",
              "      <td>1</td>\n",
              "    </tr>\n",
              "  </tbody>\n",
              "</table>"
            ]
          },
          "metadata": {}
        }
      ]
    },
    {
      "cell_type": "code",
      "source": [
        "to1.items"
      ],
      "metadata": {
        "colab": {
          "base_uri": "https://localhost:8080/",
          "height": 424
        },
        "id": "WvHY3vYcafvJ",
        "outputId": "7a14a456-7175-4e2a-d325-b631c4ce1e7c"
      },
      "execution_count": 65,
      "outputs": [
        {
          "output_type": "execute_result",
          "data": {
            "text/plain": [
              "     PassengerId  Survived  Pclass  Name  Sex       Age  SibSp  Parch  Ticket  \\\n",
              "788     1.324792         1       3   209    2 -2.092618      2      3     549   \n",
              "525     0.310172         0       3   245    2  0.910474      1      1     447   \n",
              "821     1.452102         1       3   494    2 -0.115899      1      1     270   \n",
              "253    -0.739169         0       3   488    2  0.112184      2      1     537   \n",
              "374    -0.272367         0       3   626    1 -1.940563      4      2     396   \n",
              "..           ...       ...     ...   ...  ...       ...    ...    ...     ...   \n",
              "770     1.255351         0       3   481    2 -0.343982      1      1     314   \n",
              "414    -0.118052         1       3   793    2  1.176571      1      1     656   \n",
              "540     0.368040         1       1   189    1  0.568350      1      3     681   \n",
              "298    -0.565565         1       1   715    2 -0.343982      1      1      99   \n",
              "489     0.171288         1       3   183    2 -1.484397      2      2     563   \n",
              "\n",
              "         Fare  Cabin  Embarked   LogFare  \n",
              "788 -0.226999     48         3  3.071535  \n",
              "525 -0.477002     48         2  2.169054  \n",
              "821 -0.459214     48         3  2.268252  \n",
              "253 -0.314232     48         3  2.839078  \n",
              "374 -0.217253     48         3  3.094446  \n",
              "..        ...    ...       ...       ...  \n",
              "770 -0.442889     48         3  2.351375  \n",
              "414 -0.473591     48         3  2.188856  \n",
              "540  0.755954     21         3  4.276666  \n",
              "298 -0.033528     52         3  3.449988  \n",
              "489 -0.318131     48         3  2.827314  \n",
              "\n",
              "[891 rows x 13 columns]"
            ],
            "text/html": [
              "\n",
              "  <div id=\"df-b1538b82-1261-42dc-8fc2-2f653f2c3ec8\">\n",
              "    <div class=\"colab-df-container\">\n",
              "      <div>\n",
              "<style scoped>\n",
              "    .dataframe tbody tr th:only-of-type {\n",
              "        vertical-align: middle;\n",
              "    }\n",
              "\n",
              "    .dataframe tbody tr th {\n",
              "        vertical-align: top;\n",
              "    }\n",
              "\n",
              "    .dataframe thead th {\n",
              "        text-align: right;\n",
              "    }\n",
              "</style>\n",
              "<table border=\"1\" class=\"dataframe\">\n",
              "  <thead>\n",
              "    <tr style=\"text-align: right;\">\n",
              "      <th></th>\n",
              "      <th>PassengerId</th>\n",
              "      <th>Survived</th>\n",
              "      <th>Pclass</th>\n",
              "      <th>Name</th>\n",
              "      <th>Sex</th>\n",
              "      <th>Age</th>\n",
              "      <th>SibSp</th>\n",
              "      <th>Parch</th>\n",
              "      <th>Ticket</th>\n",
              "      <th>Fare</th>\n",
              "      <th>Cabin</th>\n",
              "      <th>Embarked</th>\n",
              "      <th>LogFare</th>\n",
              "    </tr>\n",
              "  </thead>\n",
              "  <tbody>\n",
              "    <tr>\n",
              "      <th>788</th>\n",
              "      <td>1.324792</td>\n",
              "      <td>1</td>\n",
              "      <td>3</td>\n",
              "      <td>209</td>\n",
              "      <td>2</td>\n",
              "      <td>-2.092618</td>\n",
              "      <td>2</td>\n",
              "      <td>3</td>\n",
              "      <td>549</td>\n",
              "      <td>-0.226999</td>\n",
              "      <td>48</td>\n",
              "      <td>3</td>\n",
              "      <td>3.071535</td>\n",
              "    </tr>\n",
              "    <tr>\n",
              "      <th>525</th>\n",
              "      <td>0.310172</td>\n",
              "      <td>0</td>\n",
              "      <td>3</td>\n",
              "      <td>245</td>\n",
              "      <td>2</td>\n",
              "      <td>0.910474</td>\n",
              "      <td>1</td>\n",
              "      <td>1</td>\n",
              "      <td>447</td>\n",
              "      <td>-0.477002</td>\n",
              "      <td>48</td>\n",
              "      <td>2</td>\n",
              "      <td>2.169054</td>\n",
              "    </tr>\n",
              "    <tr>\n",
              "      <th>821</th>\n",
              "      <td>1.452102</td>\n",
              "      <td>1</td>\n",
              "      <td>3</td>\n",
              "      <td>494</td>\n",
              "      <td>2</td>\n",
              "      <td>-0.115899</td>\n",
              "      <td>1</td>\n",
              "      <td>1</td>\n",
              "      <td>270</td>\n",
              "      <td>-0.459214</td>\n",
              "      <td>48</td>\n",
              "      <td>3</td>\n",
              "      <td>2.268252</td>\n",
              "    </tr>\n",
              "    <tr>\n",
              "      <th>253</th>\n",
              "      <td>-0.739169</td>\n",
              "      <td>0</td>\n",
              "      <td>3</td>\n",
              "      <td>488</td>\n",
              "      <td>2</td>\n",
              "      <td>0.112184</td>\n",
              "      <td>2</td>\n",
              "      <td>1</td>\n",
              "      <td>537</td>\n",
              "      <td>-0.314232</td>\n",
              "      <td>48</td>\n",
              "      <td>3</td>\n",
              "      <td>2.839078</td>\n",
              "    </tr>\n",
              "    <tr>\n",
              "      <th>374</th>\n",
              "      <td>-0.272367</td>\n",
              "      <td>0</td>\n",
              "      <td>3</td>\n",
              "      <td>626</td>\n",
              "      <td>1</td>\n",
              "      <td>-1.940563</td>\n",
              "      <td>4</td>\n",
              "      <td>2</td>\n",
              "      <td>396</td>\n",
              "      <td>-0.217253</td>\n",
              "      <td>48</td>\n",
              "      <td>3</td>\n",
              "      <td>3.094446</td>\n",
              "    </tr>\n",
              "    <tr>\n",
              "      <th>...</th>\n",
              "      <td>...</td>\n",
              "      <td>...</td>\n",
              "      <td>...</td>\n",
              "      <td>...</td>\n",
              "      <td>...</td>\n",
              "      <td>...</td>\n",
              "      <td>...</td>\n",
              "      <td>...</td>\n",
              "      <td>...</td>\n",
              "      <td>...</td>\n",
              "      <td>...</td>\n",
              "      <td>...</td>\n",
              "      <td>...</td>\n",
              "    </tr>\n",
              "    <tr>\n",
              "      <th>770</th>\n",
              "      <td>1.255351</td>\n",
              "      <td>0</td>\n",
              "      <td>3</td>\n",
              "      <td>481</td>\n",
              "      <td>2</td>\n",
              "      <td>-0.343982</td>\n",
              "      <td>1</td>\n",
              "      <td>1</td>\n",
              "      <td>314</td>\n",
              "      <td>-0.442889</td>\n",
              "      <td>48</td>\n",
              "      <td>3</td>\n",
              "      <td>2.351375</td>\n",
              "    </tr>\n",
              "    <tr>\n",
              "      <th>414</th>\n",
              "      <td>-0.118052</td>\n",
              "      <td>1</td>\n",
              "      <td>3</td>\n",
              "      <td>793</td>\n",
              "      <td>2</td>\n",
              "      <td>1.176571</td>\n",
              "      <td>1</td>\n",
              "      <td>1</td>\n",
              "      <td>656</td>\n",
              "      <td>-0.473591</td>\n",
              "      <td>48</td>\n",
              "      <td>3</td>\n",
              "      <td>2.188856</td>\n",
              "    </tr>\n",
              "    <tr>\n",
              "      <th>540</th>\n",
              "      <td>0.368040</td>\n",
              "      <td>1</td>\n",
              "      <td>1</td>\n",
              "      <td>189</td>\n",
              "      <td>1</td>\n",
              "      <td>0.568350</td>\n",
              "      <td>1</td>\n",
              "      <td>3</td>\n",
              "      <td>681</td>\n",
              "      <td>0.755954</td>\n",
              "      <td>21</td>\n",
              "      <td>3</td>\n",
              "      <td>4.276666</td>\n",
              "    </tr>\n",
              "    <tr>\n",
              "      <th>298</th>\n",
              "      <td>-0.565565</td>\n",
              "      <td>1</td>\n",
              "      <td>1</td>\n",
              "      <td>715</td>\n",
              "      <td>2</td>\n",
              "      <td>-0.343982</td>\n",
              "      <td>1</td>\n",
              "      <td>1</td>\n",
              "      <td>99</td>\n",
              "      <td>-0.033528</td>\n",
              "      <td>52</td>\n",
              "      <td>3</td>\n",
              "      <td>3.449988</td>\n",
              "    </tr>\n",
              "    <tr>\n",
              "      <th>489</th>\n",
              "      <td>0.171288</td>\n",
              "      <td>1</td>\n",
              "      <td>3</td>\n",
              "      <td>183</td>\n",
              "      <td>2</td>\n",
              "      <td>-1.484397</td>\n",
              "      <td>2</td>\n",
              "      <td>2</td>\n",
              "      <td>563</td>\n",
              "      <td>-0.318131</td>\n",
              "      <td>48</td>\n",
              "      <td>3</td>\n",
              "      <td>2.827314</td>\n",
              "    </tr>\n",
              "  </tbody>\n",
              "</table>\n",
              "<p>891 rows × 13 columns</p>\n",
              "</div>\n",
              "      <button class=\"colab-df-convert\" onclick=\"convertToInteractive('df-b1538b82-1261-42dc-8fc2-2f653f2c3ec8')\"\n",
              "              title=\"Convert this dataframe to an interactive table.\"\n",
              "              style=\"display:none;\">\n",
              "        \n",
              "  <svg xmlns=\"http://www.w3.org/2000/svg\" height=\"24px\"viewBox=\"0 0 24 24\"\n",
              "       width=\"24px\">\n",
              "    <path d=\"M0 0h24v24H0V0z\" fill=\"none\"/>\n",
              "    <path d=\"M18.56 5.44l.94 2.06.94-2.06 2.06-.94-2.06-.94-.94-2.06-.94 2.06-2.06.94zm-11 1L8.5 8.5l.94-2.06 2.06-.94-2.06-.94L8.5 2.5l-.94 2.06-2.06.94zm10 10l.94 2.06.94-2.06 2.06-.94-2.06-.94-.94-2.06-.94 2.06-2.06.94z\"/><path d=\"M17.41 7.96l-1.37-1.37c-.4-.4-.92-.59-1.43-.59-.52 0-1.04.2-1.43.59L10.3 9.45l-7.72 7.72c-.78.78-.78 2.05 0 2.83L4 21.41c.39.39.9.59 1.41.59.51 0 1.02-.2 1.41-.59l7.78-7.78 2.81-2.81c.8-.78.8-2.07 0-2.86zM5.41 20L4 18.59l7.72-7.72 1.47 1.35L5.41 20z\"/>\n",
              "  </svg>\n",
              "      </button>\n",
              "      \n",
              "  <style>\n",
              "    .colab-df-container {\n",
              "      display:flex;\n",
              "      flex-wrap:wrap;\n",
              "      gap: 12px;\n",
              "    }\n",
              "\n",
              "    .colab-df-convert {\n",
              "      background-color: #E8F0FE;\n",
              "      border: none;\n",
              "      border-radius: 50%;\n",
              "      cursor: pointer;\n",
              "      display: none;\n",
              "      fill: #1967D2;\n",
              "      height: 32px;\n",
              "      padding: 0 0 0 0;\n",
              "      width: 32px;\n",
              "    }\n",
              "\n",
              "    .colab-df-convert:hover {\n",
              "      background-color: #E2EBFA;\n",
              "      box-shadow: 0px 1px 2px rgba(60, 64, 67, 0.3), 0px 1px 3px 1px rgba(60, 64, 67, 0.15);\n",
              "      fill: #174EA6;\n",
              "    }\n",
              "\n",
              "    [theme=dark] .colab-df-convert {\n",
              "      background-color: #3B4455;\n",
              "      fill: #D2E3FC;\n",
              "    }\n",
              "\n",
              "    [theme=dark] .colab-df-convert:hover {\n",
              "      background-color: #434B5C;\n",
              "      box-shadow: 0px 1px 3px 1px rgba(0, 0, 0, 0.15);\n",
              "      filter: drop-shadow(0px 1px 2px rgba(0, 0, 0, 0.3));\n",
              "      fill: #FFFFFF;\n",
              "    }\n",
              "  </style>\n",
              "\n",
              "      <script>\n",
              "        const buttonEl =\n",
              "          document.querySelector('#df-b1538b82-1261-42dc-8fc2-2f653f2c3ec8 button.colab-df-convert');\n",
              "        buttonEl.style.display =\n",
              "          google.colab.kernel.accessAllowed ? 'block' : 'none';\n",
              "\n",
              "        async function convertToInteractive(key) {\n",
              "          const element = document.querySelector('#df-b1538b82-1261-42dc-8fc2-2f653f2c3ec8');\n",
              "          const dataTable =\n",
              "            await google.colab.kernel.invokeFunction('convertToInteractive',\n",
              "                                                     [key], {});\n",
              "          if (!dataTable) return;\n",
              "\n",
              "          const docLinkHtml = 'Like what you see? Visit the ' +\n",
              "            '<a target=\"_blank\" href=https://colab.research.google.com/notebooks/data_table.ipynb>data table notebook</a>'\n",
              "            + ' to learn more about interactive tables.';\n",
              "          element.innerHTML = '';\n",
              "          dataTable['output_type'] = 'display_data';\n",
              "          await google.colab.output.renderOutput(dataTable, element);\n",
              "          const docLink = document.createElement('div');\n",
              "          docLink.innerHTML = docLinkHtml;\n",
              "          element.appendChild(docLink);\n",
              "        }\n",
              "      </script>\n",
              "    </div>\n",
              "  </div>\n",
              "  "
            ]
          },
          "metadata": {},
          "execution_count": 65
        }
      ]
    },
    {
      "cell_type": "code",
      "source": [
        "to.show()"
      ],
      "metadata": {
        "colab": {
          "base_uri": "https://localhost:8080/",
          "height": 363
        },
        "id": "lG4-EzQEVV-x",
        "outputId": "3280354a-9d2c-415d-ea8d-a5e78a41c8a3"
      },
      "execution_count": 57,
      "outputs": [
        {
          "output_type": "display_data",
          "data": {
            "text/plain": [
              "<IPython.core.display.HTML object>"
            ],
            "text/html": [
              "<table border=\"1\" class=\"dataframe\">\n",
              "  <thead>\n",
              "    <tr style=\"text-align: right;\">\n",
              "      <th></th>\n",
              "      <th>Pclass</th>\n",
              "      <th>Name</th>\n",
              "      <th>Sex</th>\n",
              "      <th>SibSp</th>\n",
              "      <th>Parch</th>\n",
              "      <th>Ticket</th>\n",
              "      <th>Cabin</th>\n",
              "      <th>Embarked</th>\n",
              "      <th>PassengerId</th>\n",
              "      <th>Age</th>\n",
              "      <th>Fare</th>\n",
              "      <th>Survived</th>\n",
              "    </tr>\n",
              "  </thead>\n",
              "  <tbody>\n",
              "    <tr>\n",
              "      <th>788</th>\n",
              "      <td>3</td>\n",
              "      <td>Dean, Master. Bertram Vere</td>\n",
              "      <td>male</td>\n",
              "      <td>1</td>\n",
              "      <td>2</td>\n",
              "      <td>C.A. 2315</td>\n",
              "      <td>B96 B98</td>\n",
              "      <td>S</td>\n",
              "      <td>789</td>\n",
              "      <td>1.00</td>\n",
              "      <td>20.575001</td>\n",
              "      <td>1</td>\n",
              "    </tr>\n",
              "    <tr>\n",
              "      <th>525</th>\n",
              "      <td>3</td>\n",
              "      <td>Farrell, Mr. James</td>\n",
              "      <td>male</td>\n",
              "      <td>0</td>\n",
              "      <td>0</td>\n",
              "      <td>367232</td>\n",
              "      <td>B96 B98</td>\n",
              "      <td>Q</td>\n",
              "      <td>526</td>\n",
              "      <td>40.50</td>\n",
              "      <td>7.750000</td>\n",
              "      <td>0</td>\n",
              "    </tr>\n",
              "    <tr>\n",
              "      <th>821</th>\n",
              "      <td>3</td>\n",
              "      <td>Lulic, Mr. Nikola</td>\n",
              "      <td>male</td>\n",
              "      <td>0</td>\n",
              "      <td>0</td>\n",
              "      <td>315098</td>\n",
              "      <td>B96 B98</td>\n",
              "      <td>S</td>\n",
              "      <td>822</td>\n",
              "      <td>27.00</td>\n",
              "      <td>8.662500</td>\n",
              "      <td>1</td>\n",
              "    </tr>\n",
              "    <tr>\n",
              "      <th>253</th>\n",
              "      <td>3</td>\n",
              "      <td>Lobb, Mr. William Arthur</td>\n",
              "      <td>male</td>\n",
              "      <td>1</td>\n",
              "      <td>0</td>\n",
              "      <td>A/5. 3336</td>\n",
              "      <td>B96 B98</td>\n",
              "      <td>S</td>\n",
              "      <td>254</td>\n",
              "      <td>30.00</td>\n",
              "      <td>16.100000</td>\n",
              "      <td>0</td>\n",
              "    </tr>\n",
              "    <tr>\n",
              "      <th>374</th>\n",
              "      <td>3</td>\n",
              "      <td>Palsson, Miss. Stina Viola</td>\n",
              "      <td>female</td>\n",
              "      <td>3</td>\n",
              "      <td>1</td>\n",
              "      <td>349909</td>\n",
              "      <td>B96 B98</td>\n",
              "      <td>S</td>\n",
              "      <td>375</td>\n",
              "      <td>3.00</td>\n",
              "      <td>21.075001</td>\n",
              "      <td>0</td>\n",
              "    </tr>\n",
              "    <tr>\n",
              "      <th>98</th>\n",
              "      <td>2</td>\n",
              "      <td>Doling, Mrs. John T (Ada Julia Bone)</td>\n",
              "      <td>female</td>\n",
              "      <td>0</td>\n",
              "      <td>1</td>\n",
              "      <td>231919</td>\n",
              "      <td>B96 B98</td>\n",
              "      <td>S</td>\n",
              "      <td>99</td>\n",
              "      <td>34.00</td>\n",
              "      <td>23.000000</td>\n",
              "      <td>1</td>\n",
              "    </tr>\n",
              "    <tr>\n",
              "      <th>215</th>\n",
              "      <td>1</td>\n",
              "      <td>Newell, Miss. Madeleine</td>\n",
              "      <td>female</td>\n",
              "      <td>1</td>\n",
              "      <td>0</td>\n",
              "      <td>35273</td>\n",
              "      <td>D36</td>\n",
              "      <td>C</td>\n",
              "      <td>216</td>\n",
              "      <td>31.00</td>\n",
              "      <td>113.275002</td>\n",
              "      <td>1</td>\n",
              "    </tr>\n",
              "    <tr>\n",
              "      <th>313</th>\n",
              "      <td>3</td>\n",
              "      <td>Hendekovic, Mr. Ignjac</td>\n",
              "      <td>male</td>\n",
              "      <td>0</td>\n",
              "      <td>0</td>\n",
              "      <td>349243</td>\n",
              "      <td>B96 B98</td>\n",
              "      <td>S</td>\n",
              "      <td>314</td>\n",
              "      <td>28.00</td>\n",
              "      <td>7.895800</td>\n",
              "      <td>0</td>\n",
              "    </tr>\n",
              "    <tr>\n",
              "      <th>281</th>\n",
              "      <td>3</td>\n",
              "      <td>Olsson, Mr. Nils Johan Goransson</td>\n",
              "      <td>male</td>\n",
              "      <td>0</td>\n",
              "      <td>0</td>\n",
              "      <td>347464</td>\n",
              "      <td>B96 B98</td>\n",
              "      <td>S</td>\n",
              "      <td>282</td>\n",
              "      <td>28.00</td>\n",
              "      <td>7.854200</td>\n",
              "      <td>0</td>\n",
              "    </tr>\n",
              "    <tr>\n",
              "      <th>305</th>\n",
              "      <td>1</td>\n",
              "      <td>Allison, Master. Hudson Trevor</td>\n",
              "      <td>male</td>\n",
              "      <td>1</td>\n",
              "      <td>2</td>\n",
              "      <td>113781</td>\n",
              "      <td>C22 C26</td>\n",
              "      <td>S</td>\n",
              "      <td>306</td>\n",
              "      <td>0.92</td>\n",
              "      <td>151.550003</td>\n",
              "      <td>1</td>\n",
              "    </tr>\n",
              "  </tbody>\n",
              "</table>"
            ]
          },
          "metadata": {}
        }
      ]
    },
    {
      "cell_type": "code",
      "source": [
        "to.items"
      ],
      "metadata": {
        "colab": {
          "base_uri": "https://localhost:8080/",
          "height": 424
        },
        "id": "Owf_zPv1VV6O",
        "outputId": "6fbb5cdd-41f4-4c46-fcfc-0bee68392145"
      },
      "execution_count": 59,
      "outputs": [
        {
          "output_type": "execute_result",
          "data": {
            "text/plain": [
              "     PassengerId  Survived Pclass                                   Name  \\\n",
              "788          789         1      3             Dean, Master. Bertram Vere   \n",
              "525          526         0      3                     Farrell, Mr. James   \n",
              "821          822         1      3                      Lulic, Mr. Nikola   \n",
              "253          254         0      3               Lobb, Mr. William Arthur   \n",
              "374          375         0      3             Palsson, Miss. Stina Viola   \n",
              "..           ...       ...    ...                                    ...   \n",
              "770          771         0      3                 Lievens, Mr. Rene Aime   \n",
              "414          415         1      3              Sundman, Mr. Johan Julian   \n",
              "540          541         1      1                Crosby, Miss. Harriet R   \n",
              "298          299         1      1                  Saalfeld, Mr. Adolphe   \n",
              "489          490         1      3  Coutts, Master. Eden Leslie \"Neville\"   \n",
              "\n",
              "        Sex   Age SibSp Parch             Ticket       Fare    Cabin Embarked  \\\n",
              "788    male   1.0     1     2          C.A. 2315  20.575001  B96 B98        S   \n",
              "525    male  40.5     0     0             367232   7.750000  B96 B98        Q   \n",
              "821    male  27.0     0     0             315098   8.662500  B96 B98        S   \n",
              "253    male  30.0     1     0          A/5. 3336  16.100000  B96 B98        S   \n",
              "374  female   3.0     3     1             349909  21.075001  B96 B98        S   \n",
              "..      ...   ...   ...   ...                ...        ...      ...      ...   \n",
              "770    male  24.0     0     0             345781   9.500000  B96 B98        S   \n",
              "414    male  44.0     0     0  STON/O 2. 3101269   7.925000  B96 B98        S   \n",
              "540  female  36.0     0     2          WE/P 5735  71.000000      B22        S   \n",
              "298    male  24.0     0     0              19988  30.500000     C106        S   \n",
              "489    male   9.0     1     1         C.A. 37671  15.900000  B96 B98        S   \n",
              "\n",
              "      LogFare  \n",
              "788  3.071535  \n",
              "525  2.169054  \n",
              "821  2.268252  \n",
              "253  2.839078  \n",
              "374  3.094446  \n",
              "..        ...  \n",
              "770  2.351375  \n",
              "414  2.188856  \n",
              "540  4.276666  \n",
              "298  3.449988  \n",
              "489  2.827314  \n",
              "\n",
              "[891 rows x 13 columns]"
            ],
            "text/html": [
              "\n",
              "  <div id=\"df-5886f378-0405-4ec3-aa01-6394bd17962b\">\n",
              "    <div class=\"colab-df-container\">\n",
              "      <div>\n",
              "<style scoped>\n",
              "    .dataframe tbody tr th:only-of-type {\n",
              "        vertical-align: middle;\n",
              "    }\n",
              "\n",
              "    .dataframe tbody tr th {\n",
              "        vertical-align: top;\n",
              "    }\n",
              "\n",
              "    .dataframe thead th {\n",
              "        text-align: right;\n",
              "    }\n",
              "</style>\n",
              "<table border=\"1\" class=\"dataframe\">\n",
              "  <thead>\n",
              "    <tr style=\"text-align: right;\">\n",
              "      <th></th>\n",
              "      <th>PassengerId</th>\n",
              "      <th>Survived</th>\n",
              "      <th>Pclass</th>\n",
              "      <th>Name</th>\n",
              "      <th>Sex</th>\n",
              "      <th>Age</th>\n",
              "      <th>SibSp</th>\n",
              "      <th>Parch</th>\n",
              "      <th>Ticket</th>\n",
              "      <th>Fare</th>\n",
              "      <th>Cabin</th>\n",
              "      <th>Embarked</th>\n",
              "      <th>LogFare</th>\n",
              "    </tr>\n",
              "  </thead>\n",
              "  <tbody>\n",
              "    <tr>\n",
              "      <th>788</th>\n",
              "      <td>789</td>\n",
              "      <td>1</td>\n",
              "      <td>3</td>\n",
              "      <td>Dean, Master. Bertram Vere</td>\n",
              "      <td>male</td>\n",
              "      <td>1.0</td>\n",
              "      <td>1</td>\n",
              "      <td>2</td>\n",
              "      <td>C.A. 2315</td>\n",
              "      <td>20.575001</td>\n",
              "      <td>B96 B98</td>\n",
              "      <td>S</td>\n",
              "      <td>3.071535</td>\n",
              "    </tr>\n",
              "    <tr>\n",
              "      <th>525</th>\n",
              "      <td>526</td>\n",
              "      <td>0</td>\n",
              "      <td>3</td>\n",
              "      <td>Farrell, Mr. James</td>\n",
              "      <td>male</td>\n",
              "      <td>40.5</td>\n",
              "      <td>0</td>\n",
              "      <td>0</td>\n",
              "      <td>367232</td>\n",
              "      <td>7.750000</td>\n",
              "      <td>B96 B98</td>\n",
              "      <td>Q</td>\n",
              "      <td>2.169054</td>\n",
              "    </tr>\n",
              "    <tr>\n",
              "      <th>821</th>\n",
              "      <td>822</td>\n",
              "      <td>1</td>\n",
              "      <td>3</td>\n",
              "      <td>Lulic, Mr. Nikola</td>\n",
              "      <td>male</td>\n",
              "      <td>27.0</td>\n",
              "      <td>0</td>\n",
              "      <td>0</td>\n",
              "      <td>315098</td>\n",
              "      <td>8.662500</td>\n",
              "      <td>B96 B98</td>\n",
              "      <td>S</td>\n",
              "      <td>2.268252</td>\n",
              "    </tr>\n",
              "    <tr>\n",
              "      <th>253</th>\n",
              "      <td>254</td>\n",
              "      <td>0</td>\n",
              "      <td>3</td>\n",
              "      <td>Lobb, Mr. William Arthur</td>\n",
              "      <td>male</td>\n",
              "      <td>30.0</td>\n",
              "      <td>1</td>\n",
              "      <td>0</td>\n",
              "      <td>A/5. 3336</td>\n",
              "      <td>16.100000</td>\n",
              "      <td>B96 B98</td>\n",
              "      <td>S</td>\n",
              "      <td>2.839078</td>\n",
              "    </tr>\n",
              "    <tr>\n",
              "      <th>374</th>\n",
              "      <td>375</td>\n",
              "      <td>0</td>\n",
              "      <td>3</td>\n",
              "      <td>Palsson, Miss. Stina Viola</td>\n",
              "      <td>female</td>\n",
              "      <td>3.0</td>\n",
              "      <td>3</td>\n",
              "      <td>1</td>\n",
              "      <td>349909</td>\n",
              "      <td>21.075001</td>\n",
              "      <td>B96 B98</td>\n",
              "      <td>S</td>\n",
              "      <td>3.094446</td>\n",
              "    </tr>\n",
              "    <tr>\n",
              "      <th>...</th>\n",
              "      <td>...</td>\n",
              "      <td>...</td>\n",
              "      <td>...</td>\n",
              "      <td>...</td>\n",
              "      <td>...</td>\n",
              "      <td>...</td>\n",
              "      <td>...</td>\n",
              "      <td>...</td>\n",
              "      <td>...</td>\n",
              "      <td>...</td>\n",
              "      <td>...</td>\n",
              "      <td>...</td>\n",
              "      <td>...</td>\n",
              "    </tr>\n",
              "    <tr>\n",
              "      <th>770</th>\n",
              "      <td>771</td>\n",
              "      <td>0</td>\n",
              "      <td>3</td>\n",
              "      <td>Lievens, Mr. Rene Aime</td>\n",
              "      <td>male</td>\n",
              "      <td>24.0</td>\n",
              "      <td>0</td>\n",
              "      <td>0</td>\n",
              "      <td>345781</td>\n",
              "      <td>9.500000</td>\n",
              "      <td>B96 B98</td>\n",
              "      <td>S</td>\n",
              "      <td>2.351375</td>\n",
              "    </tr>\n",
              "    <tr>\n",
              "      <th>414</th>\n",
              "      <td>415</td>\n",
              "      <td>1</td>\n",
              "      <td>3</td>\n",
              "      <td>Sundman, Mr. Johan Julian</td>\n",
              "      <td>male</td>\n",
              "      <td>44.0</td>\n",
              "      <td>0</td>\n",
              "      <td>0</td>\n",
              "      <td>STON/O 2. 3101269</td>\n",
              "      <td>7.925000</td>\n",
              "      <td>B96 B98</td>\n",
              "      <td>S</td>\n",
              "      <td>2.188856</td>\n",
              "    </tr>\n",
              "    <tr>\n",
              "      <th>540</th>\n",
              "      <td>541</td>\n",
              "      <td>1</td>\n",
              "      <td>1</td>\n",
              "      <td>Crosby, Miss. Harriet R</td>\n",
              "      <td>female</td>\n",
              "      <td>36.0</td>\n",
              "      <td>0</td>\n",
              "      <td>2</td>\n",
              "      <td>WE/P 5735</td>\n",
              "      <td>71.000000</td>\n",
              "      <td>B22</td>\n",
              "      <td>S</td>\n",
              "      <td>4.276666</td>\n",
              "    </tr>\n",
              "    <tr>\n",
              "      <th>298</th>\n",
              "      <td>299</td>\n",
              "      <td>1</td>\n",
              "      <td>1</td>\n",
              "      <td>Saalfeld, Mr. Adolphe</td>\n",
              "      <td>male</td>\n",
              "      <td>24.0</td>\n",
              "      <td>0</td>\n",
              "      <td>0</td>\n",
              "      <td>19988</td>\n",
              "      <td>30.500000</td>\n",
              "      <td>C106</td>\n",
              "      <td>S</td>\n",
              "      <td>3.449988</td>\n",
              "    </tr>\n",
              "    <tr>\n",
              "      <th>489</th>\n",
              "      <td>490</td>\n",
              "      <td>1</td>\n",
              "      <td>3</td>\n",
              "      <td>Coutts, Master. Eden Leslie \"Neville\"</td>\n",
              "      <td>male</td>\n",
              "      <td>9.0</td>\n",
              "      <td>1</td>\n",
              "      <td>1</td>\n",
              "      <td>C.A. 37671</td>\n",
              "      <td>15.900000</td>\n",
              "      <td>B96 B98</td>\n",
              "      <td>S</td>\n",
              "      <td>2.827314</td>\n",
              "    </tr>\n",
              "  </tbody>\n",
              "</table>\n",
              "<p>891 rows × 13 columns</p>\n",
              "</div>\n",
              "      <button class=\"colab-df-convert\" onclick=\"convertToInteractive('df-5886f378-0405-4ec3-aa01-6394bd17962b')\"\n",
              "              title=\"Convert this dataframe to an interactive table.\"\n",
              "              style=\"display:none;\">\n",
              "        \n",
              "  <svg xmlns=\"http://www.w3.org/2000/svg\" height=\"24px\"viewBox=\"0 0 24 24\"\n",
              "       width=\"24px\">\n",
              "    <path d=\"M0 0h24v24H0V0z\" fill=\"none\"/>\n",
              "    <path d=\"M18.56 5.44l.94 2.06.94-2.06 2.06-.94-2.06-.94-.94-2.06-.94 2.06-2.06.94zm-11 1L8.5 8.5l.94-2.06 2.06-.94-2.06-.94L8.5 2.5l-.94 2.06-2.06.94zm10 10l.94 2.06.94-2.06 2.06-.94-2.06-.94-.94-2.06-.94 2.06-2.06.94z\"/><path d=\"M17.41 7.96l-1.37-1.37c-.4-.4-.92-.59-1.43-.59-.52 0-1.04.2-1.43.59L10.3 9.45l-7.72 7.72c-.78.78-.78 2.05 0 2.83L4 21.41c.39.39.9.59 1.41.59.51 0 1.02-.2 1.41-.59l7.78-7.78 2.81-2.81c.8-.78.8-2.07 0-2.86zM5.41 20L4 18.59l7.72-7.72 1.47 1.35L5.41 20z\"/>\n",
              "  </svg>\n",
              "      </button>\n",
              "      \n",
              "  <style>\n",
              "    .colab-df-container {\n",
              "      display:flex;\n",
              "      flex-wrap:wrap;\n",
              "      gap: 12px;\n",
              "    }\n",
              "\n",
              "    .colab-df-convert {\n",
              "      background-color: #E8F0FE;\n",
              "      border: none;\n",
              "      border-radius: 50%;\n",
              "      cursor: pointer;\n",
              "      display: none;\n",
              "      fill: #1967D2;\n",
              "      height: 32px;\n",
              "      padding: 0 0 0 0;\n",
              "      width: 32px;\n",
              "    }\n",
              "\n",
              "    .colab-df-convert:hover {\n",
              "      background-color: #E2EBFA;\n",
              "      box-shadow: 0px 1px 2px rgba(60, 64, 67, 0.3), 0px 1px 3px 1px rgba(60, 64, 67, 0.15);\n",
              "      fill: #174EA6;\n",
              "    }\n",
              "\n",
              "    [theme=dark] .colab-df-convert {\n",
              "      background-color: #3B4455;\n",
              "      fill: #D2E3FC;\n",
              "    }\n",
              "\n",
              "    [theme=dark] .colab-df-convert:hover {\n",
              "      background-color: #434B5C;\n",
              "      box-shadow: 0px 1px 3px 1px rgba(0, 0, 0, 0.15);\n",
              "      filter: drop-shadow(0px 1px 2px rgba(0, 0, 0, 0.3));\n",
              "      fill: #FFFFFF;\n",
              "    }\n",
              "  </style>\n",
              "\n",
              "      <script>\n",
              "        const buttonEl =\n",
              "          document.querySelector('#df-5886f378-0405-4ec3-aa01-6394bd17962b button.colab-df-convert');\n",
              "        buttonEl.style.display =\n",
              "          google.colab.kernel.accessAllowed ? 'block' : 'none';\n",
              "\n",
              "        async function convertToInteractive(key) {\n",
              "          const element = document.querySelector('#df-5886f378-0405-4ec3-aa01-6394bd17962b');\n",
              "          const dataTable =\n",
              "            await google.colab.kernel.invokeFunction('convertToInteractive',\n",
              "                                                     [key], {});\n",
              "          if (!dataTable) return;\n",
              "\n",
              "          const docLinkHtml = 'Like what you see? Visit the ' +\n",
              "            '<a target=\"_blank\" href=https://colab.research.google.com/notebooks/data_table.ipynb>data table notebook</a>'\n",
              "            + ' to learn more about interactive tables.';\n",
              "          element.innerHTML = '';\n",
              "          dataTable['output_type'] = 'display_data';\n",
              "          await google.colab.output.renderOutput(dataTable, element);\n",
              "          const docLink = document.createElement('div');\n",
              "          docLink.innerHTML = docLinkHtml;\n",
              "          element.appendChild(docLink);\n",
              "        }\n",
              "      </script>\n",
              "    </div>\n",
              "  </div>\n",
              "  "
            ]
          },
          "metadata": {},
          "execution_count": 59
        }
      ]
    },
    {
      "cell_type": "code",
      "source": [
        "len(to.train),len(to.valid)"
      ],
      "metadata": {
        "colab": {
          "base_uri": "https://localhost:8080/"
        },
        "id": "yLXDIOJKXifs",
        "outputId": "f6d7227b-d950-4954-b159-042cdb914d6a"
      },
      "execution_count": 58,
      "outputs": [
        {
          "output_type": "execute_result",
          "data": {
            "text/plain": [
              "(713, 178)"
            ]
          },
          "metadata": {},
          "execution_count": 58
        }
      ]
    },
    {
      "cell_type": "code",
      "source": [
        "to.train.xs"
      ],
      "metadata": {
        "colab": {
          "base_uri": "https://localhost:8080/",
          "height": 424
        },
        "id": "D2qAVrt3YUCx",
        "outputId": "36a4379a-1099-4ae8-e358-c6c6c244d526"
      },
      "execution_count": 71,
      "outputs": [
        {
          "output_type": "execute_result",
          "data": {
            "text/plain": [
              "    Pclass                        Name     Sex SibSp Parch             Ticket  \\\n",
              "788      3  Dean, Master. Bertram Vere    male     1     2          C.A. 2315   \n",
              "525      3          Farrell, Mr. James    male     0     0             367232   \n",
              "821      3           Lulic, Mr. Nikola    male     0     0             315098   \n",
              "253      3    Lobb, Mr. William Arthur    male     1     0          A/5. 3336   \n",
              "374      3  Palsson, Miss. Stina Viola  female     3     1             349909   \n",
              "..     ...                         ...     ...   ...   ...                ...   \n",
              "173      3   Sivola, Mr. Antti Wilhelm    male     0     0  STON/O 2. 3101280   \n",
              "462      1           Gee, Mr. Arthur H    male     0     0             111320   \n",
              "358      3        McGovern, Miss. Mary  female     0     0             330931   \n",
              "532      3        Elias, Mr. Joseph Jr    male     1     1               2690   \n",
              "344      2     Fox, Mr. Stanley Hubert    male     0     0             229236   \n",
              "\n",
              "       Cabin Embarked  PassengerId   Age       Fare  \n",
              "788  B96 B98        S          789   1.0  20.575001  \n",
              "525  B96 B98        Q          526  40.5   7.750000  \n",
              "821  B96 B98        S          822  27.0   8.662500  \n",
              "253  B96 B98        S          254  30.0  16.100000  \n",
              "374  B96 B98        S          375   3.0  21.075001  \n",
              "..       ...      ...          ...   ...        ...  \n",
              "173  B96 B98        S          174  21.0   7.925000  \n",
              "462      E63        S          463  47.0  38.500000  \n",
              "358  B96 B98        Q          359  24.0   7.879200  \n",
              "532  B96 B98        C          533  17.0   7.229200  \n",
              "344  B96 B98        S          345  36.0  13.000000  \n",
              "\n",
              "[713 rows x 11 columns]"
            ],
            "text/html": [
              "\n",
              "  <div id=\"df-cd9f2525-c3da-4bc7-b35e-6706b078834d\">\n",
              "    <div class=\"colab-df-container\">\n",
              "      <div>\n",
              "<style scoped>\n",
              "    .dataframe tbody tr th:only-of-type {\n",
              "        vertical-align: middle;\n",
              "    }\n",
              "\n",
              "    .dataframe tbody tr th {\n",
              "        vertical-align: top;\n",
              "    }\n",
              "\n",
              "    .dataframe thead th {\n",
              "        text-align: right;\n",
              "    }\n",
              "</style>\n",
              "<table border=\"1\" class=\"dataframe\">\n",
              "  <thead>\n",
              "    <tr style=\"text-align: right;\">\n",
              "      <th></th>\n",
              "      <th>Pclass</th>\n",
              "      <th>Name</th>\n",
              "      <th>Sex</th>\n",
              "      <th>SibSp</th>\n",
              "      <th>Parch</th>\n",
              "      <th>Ticket</th>\n",
              "      <th>Cabin</th>\n",
              "      <th>Embarked</th>\n",
              "      <th>PassengerId</th>\n",
              "      <th>Age</th>\n",
              "      <th>Fare</th>\n",
              "    </tr>\n",
              "  </thead>\n",
              "  <tbody>\n",
              "    <tr>\n",
              "      <th>788</th>\n",
              "      <td>3</td>\n",
              "      <td>Dean, Master. Bertram Vere</td>\n",
              "      <td>male</td>\n",
              "      <td>1</td>\n",
              "      <td>2</td>\n",
              "      <td>C.A. 2315</td>\n",
              "      <td>B96 B98</td>\n",
              "      <td>S</td>\n",
              "      <td>789</td>\n",
              "      <td>1.0</td>\n",
              "      <td>20.575001</td>\n",
              "    </tr>\n",
              "    <tr>\n",
              "      <th>525</th>\n",
              "      <td>3</td>\n",
              "      <td>Farrell, Mr. James</td>\n",
              "      <td>male</td>\n",
              "      <td>0</td>\n",
              "      <td>0</td>\n",
              "      <td>367232</td>\n",
              "      <td>B96 B98</td>\n",
              "      <td>Q</td>\n",
              "      <td>526</td>\n",
              "      <td>40.5</td>\n",
              "      <td>7.750000</td>\n",
              "    </tr>\n",
              "    <tr>\n",
              "      <th>821</th>\n",
              "      <td>3</td>\n",
              "      <td>Lulic, Mr. Nikola</td>\n",
              "      <td>male</td>\n",
              "      <td>0</td>\n",
              "      <td>0</td>\n",
              "      <td>315098</td>\n",
              "      <td>B96 B98</td>\n",
              "      <td>S</td>\n",
              "      <td>822</td>\n",
              "      <td>27.0</td>\n",
              "      <td>8.662500</td>\n",
              "    </tr>\n",
              "    <tr>\n",
              "      <th>253</th>\n",
              "      <td>3</td>\n",
              "      <td>Lobb, Mr. William Arthur</td>\n",
              "      <td>male</td>\n",
              "      <td>1</td>\n",
              "      <td>0</td>\n",
              "      <td>A/5. 3336</td>\n",
              "      <td>B96 B98</td>\n",
              "      <td>S</td>\n",
              "      <td>254</td>\n",
              "      <td>30.0</td>\n",
              "      <td>16.100000</td>\n",
              "    </tr>\n",
              "    <tr>\n",
              "      <th>374</th>\n",
              "      <td>3</td>\n",
              "      <td>Palsson, Miss. Stina Viola</td>\n",
              "      <td>female</td>\n",
              "      <td>3</td>\n",
              "      <td>1</td>\n",
              "      <td>349909</td>\n",
              "      <td>B96 B98</td>\n",
              "      <td>S</td>\n",
              "      <td>375</td>\n",
              "      <td>3.0</td>\n",
              "      <td>21.075001</td>\n",
              "    </tr>\n",
              "    <tr>\n",
              "      <th>...</th>\n",
              "      <td>...</td>\n",
              "      <td>...</td>\n",
              "      <td>...</td>\n",
              "      <td>...</td>\n",
              "      <td>...</td>\n",
              "      <td>...</td>\n",
              "      <td>...</td>\n",
              "      <td>...</td>\n",
              "      <td>...</td>\n",
              "      <td>...</td>\n",
              "      <td>...</td>\n",
              "    </tr>\n",
              "    <tr>\n",
              "      <th>173</th>\n",
              "      <td>3</td>\n",
              "      <td>Sivola, Mr. Antti Wilhelm</td>\n",
              "      <td>male</td>\n",
              "      <td>0</td>\n",
              "      <td>0</td>\n",
              "      <td>STON/O 2. 3101280</td>\n",
              "      <td>B96 B98</td>\n",
              "      <td>S</td>\n",
              "      <td>174</td>\n",
              "      <td>21.0</td>\n",
              "      <td>7.925000</td>\n",
              "    </tr>\n",
              "    <tr>\n",
              "      <th>462</th>\n",
              "      <td>1</td>\n",
              "      <td>Gee, Mr. Arthur H</td>\n",
              "      <td>male</td>\n",
              "      <td>0</td>\n",
              "      <td>0</td>\n",
              "      <td>111320</td>\n",
              "      <td>E63</td>\n",
              "      <td>S</td>\n",
              "      <td>463</td>\n",
              "      <td>47.0</td>\n",
              "      <td>38.500000</td>\n",
              "    </tr>\n",
              "    <tr>\n",
              "      <th>358</th>\n",
              "      <td>3</td>\n",
              "      <td>McGovern, Miss. Mary</td>\n",
              "      <td>female</td>\n",
              "      <td>0</td>\n",
              "      <td>0</td>\n",
              "      <td>330931</td>\n",
              "      <td>B96 B98</td>\n",
              "      <td>Q</td>\n",
              "      <td>359</td>\n",
              "      <td>24.0</td>\n",
              "      <td>7.879200</td>\n",
              "    </tr>\n",
              "    <tr>\n",
              "      <th>532</th>\n",
              "      <td>3</td>\n",
              "      <td>Elias, Mr. Joseph Jr</td>\n",
              "      <td>male</td>\n",
              "      <td>1</td>\n",
              "      <td>1</td>\n",
              "      <td>2690</td>\n",
              "      <td>B96 B98</td>\n",
              "      <td>C</td>\n",
              "      <td>533</td>\n",
              "      <td>17.0</td>\n",
              "      <td>7.229200</td>\n",
              "    </tr>\n",
              "    <tr>\n",
              "      <th>344</th>\n",
              "      <td>2</td>\n",
              "      <td>Fox, Mr. Stanley Hubert</td>\n",
              "      <td>male</td>\n",
              "      <td>0</td>\n",
              "      <td>0</td>\n",
              "      <td>229236</td>\n",
              "      <td>B96 B98</td>\n",
              "      <td>S</td>\n",
              "      <td>345</td>\n",
              "      <td>36.0</td>\n",
              "      <td>13.000000</td>\n",
              "    </tr>\n",
              "  </tbody>\n",
              "</table>\n",
              "<p>713 rows × 11 columns</p>\n",
              "</div>\n",
              "      <button class=\"colab-df-convert\" onclick=\"convertToInteractive('df-cd9f2525-c3da-4bc7-b35e-6706b078834d')\"\n",
              "              title=\"Convert this dataframe to an interactive table.\"\n",
              "              style=\"display:none;\">\n",
              "        \n",
              "  <svg xmlns=\"http://www.w3.org/2000/svg\" height=\"24px\"viewBox=\"0 0 24 24\"\n",
              "       width=\"24px\">\n",
              "    <path d=\"M0 0h24v24H0V0z\" fill=\"none\"/>\n",
              "    <path d=\"M18.56 5.44l.94 2.06.94-2.06 2.06-.94-2.06-.94-.94-2.06-.94 2.06-2.06.94zm-11 1L8.5 8.5l.94-2.06 2.06-.94-2.06-.94L8.5 2.5l-.94 2.06-2.06.94zm10 10l.94 2.06.94-2.06 2.06-.94-2.06-.94-.94-2.06-.94 2.06-2.06.94z\"/><path d=\"M17.41 7.96l-1.37-1.37c-.4-.4-.92-.59-1.43-.59-.52 0-1.04.2-1.43.59L10.3 9.45l-7.72 7.72c-.78.78-.78 2.05 0 2.83L4 21.41c.39.39.9.59 1.41.59.51 0 1.02-.2 1.41-.59l7.78-7.78 2.81-2.81c.8-.78.8-2.07 0-2.86zM5.41 20L4 18.59l7.72-7.72 1.47 1.35L5.41 20z\"/>\n",
              "  </svg>\n",
              "      </button>\n",
              "      \n",
              "  <style>\n",
              "    .colab-df-container {\n",
              "      display:flex;\n",
              "      flex-wrap:wrap;\n",
              "      gap: 12px;\n",
              "    }\n",
              "\n",
              "    .colab-df-convert {\n",
              "      background-color: #E8F0FE;\n",
              "      border: none;\n",
              "      border-radius: 50%;\n",
              "      cursor: pointer;\n",
              "      display: none;\n",
              "      fill: #1967D2;\n",
              "      height: 32px;\n",
              "      padding: 0 0 0 0;\n",
              "      width: 32px;\n",
              "    }\n",
              "\n",
              "    .colab-df-convert:hover {\n",
              "      background-color: #E2EBFA;\n",
              "      box-shadow: 0px 1px 2px rgba(60, 64, 67, 0.3), 0px 1px 3px 1px rgba(60, 64, 67, 0.15);\n",
              "      fill: #174EA6;\n",
              "    }\n",
              "\n",
              "    [theme=dark] .colab-df-convert {\n",
              "      background-color: #3B4455;\n",
              "      fill: #D2E3FC;\n",
              "    }\n",
              "\n",
              "    [theme=dark] .colab-df-convert:hover {\n",
              "      background-color: #434B5C;\n",
              "      box-shadow: 0px 1px 3px 1px rgba(0, 0, 0, 0.15);\n",
              "      filter: drop-shadow(0px 1px 2px rgba(0, 0, 0, 0.3));\n",
              "      fill: #FFFFFF;\n",
              "    }\n",
              "  </style>\n",
              "\n",
              "      <script>\n",
              "        const buttonEl =\n",
              "          document.querySelector('#df-cd9f2525-c3da-4bc7-b35e-6706b078834d button.colab-df-convert');\n",
              "        buttonEl.style.display =\n",
              "          google.colab.kernel.accessAllowed ? 'block' : 'none';\n",
              "\n",
              "        async function convertToInteractive(key) {\n",
              "          const element = document.querySelector('#df-cd9f2525-c3da-4bc7-b35e-6706b078834d');\n",
              "          const dataTable =\n",
              "            await google.colab.kernel.invokeFunction('convertToInteractive',\n",
              "                                                     [key], {});\n",
              "          if (!dataTable) return;\n",
              "\n",
              "          const docLinkHtml = 'Like what you see? Visit the ' +\n",
              "            '<a target=\"_blank\" href=https://colab.research.google.com/notebooks/data_table.ipynb>data table notebook</a>'\n",
              "            + ' to learn more about interactive tables.';\n",
              "          element.innerHTML = '';\n",
              "          dataTable['output_type'] = 'display_data';\n",
              "          await google.colab.output.renderOutput(dataTable, element);\n",
              "          const docLink = document.createElement('div');\n",
              "          docLink.innerHTML = docLinkHtml;\n",
              "          element.appendChild(docLink);\n",
              "        }\n",
              "      </script>\n",
              "    </div>\n",
              "  </div>\n",
              "  "
            ]
          },
          "metadata": {},
          "execution_count": 71
        }
      ]
    },
    {
      "cell_type": "code",
      "source": [
        "to.train.y"
      ],
      "metadata": {
        "colab": {
          "base_uri": "https://localhost:8080/"
        },
        "id": "2UQ194iFZH-4",
        "outputId": "54b92969-75bf-49e8-e338-6c06630876e4"
      },
      "execution_count": 72,
      "outputs": [
        {
          "output_type": "execute_result",
          "data": {
            "text/plain": [
              "788    1\n",
              "525    0\n",
              "821    1\n",
              "253    0\n",
              "374    0\n",
              "      ..\n",
              "173    0\n",
              "462    0\n",
              "358    1\n",
              "532    0\n",
              "344    0\n",
              "Name: Survived, Length: 713, dtype: int8"
            ]
          },
          "metadata": {},
          "execution_count": 72
        }
      ]
    },
    {
      "cell_type": "code",
      "source": [
        "to.valid.xs"
      ],
      "metadata": {
        "colab": {
          "base_uri": "https://localhost:8080/",
          "height": 424
        },
        "id": "RRLim9atZH8M",
        "outputId": "14d5088e-c7b2-4884-ef5f-95f8f2948e10"
      },
      "execution_count": 73,
      "outputs": [
        {
          "output_type": "execute_result",
          "data": {
            "text/plain": [
              "    Pclass                                   Name     Sex SibSp Parch  \\\n",
              "303      2                    Keane, Miss. Nora A  female     0     0   \n",
              "778      3                Kilgannon, Mr. Thomas J    male     0     0   \n",
              "531      3                      Toufik, Mr. Nakli    male     0     0   \n",
              "385      2              Davies, Mr. Charles Henry    male     0     0   \n",
              "134      2         Sobey, Mr. Samuel James Hayden    male     0     0   \n",
              "..     ...                                    ...     ...   ...   ...   \n",
              "770      3                 Lievens, Mr. Rene Aime    male     0     0   \n",
              "414      3              Sundman, Mr. Johan Julian    male     0     0   \n",
              "540      1                Crosby, Miss. Harriet R  female     0     2   \n",
              "298      1                  Saalfeld, Mr. Adolphe    male     0     0   \n",
              "489      3  Coutts, Master. Eden Leslie \"Neville\"    male     1     1   \n",
              "\n",
              "                Ticket    Cabin Embarked  PassengerId   Age     Fare  \n",
              "303             226593     E101        Q          304  24.0  12.3500  \n",
              "778              36865  B96 B98        Q          779  24.0   7.7375  \n",
              "531               2641  B96 B98        C          532  24.0   7.2292  \n",
              "385       S.O.C. 14879  B96 B98        S          386  18.0  73.5000  \n",
              "134         C.A. 29178  B96 B98        S          135  25.0  13.0000  \n",
              "..                 ...      ...      ...          ...   ...      ...  \n",
              "770             345781  B96 B98        S          771  24.0   9.5000  \n",
              "414  STON/O 2. 3101269  B96 B98        S          415  44.0   7.9250  \n",
              "540          WE/P 5735      B22        S          541  36.0  71.0000  \n",
              "298              19988     C106        S          299  24.0  30.5000  \n",
              "489         C.A. 37671  B96 B98        S          490   9.0  15.9000  \n",
              "\n",
              "[178 rows x 11 columns]"
            ],
            "text/html": [
              "\n",
              "  <div id=\"df-6aa85c61-8fdf-45ec-a5b3-6ae6344a2eae\">\n",
              "    <div class=\"colab-df-container\">\n",
              "      <div>\n",
              "<style scoped>\n",
              "    .dataframe tbody tr th:only-of-type {\n",
              "        vertical-align: middle;\n",
              "    }\n",
              "\n",
              "    .dataframe tbody tr th {\n",
              "        vertical-align: top;\n",
              "    }\n",
              "\n",
              "    .dataframe thead th {\n",
              "        text-align: right;\n",
              "    }\n",
              "</style>\n",
              "<table border=\"1\" class=\"dataframe\">\n",
              "  <thead>\n",
              "    <tr style=\"text-align: right;\">\n",
              "      <th></th>\n",
              "      <th>Pclass</th>\n",
              "      <th>Name</th>\n",
              "      <th>Sex</th>\n",
              "      <th>SibSp</th>\n",
              "      <th>Parch</th>\n",
              "      <th>Ticket</th>\n",
              "      <th>Cabin</th>\n",
              "      <th>Embarked</th>\n",
              "      <th>PassengerId</th>\n",
              "      <th>Age</th>\n",
              "      <th>Fare</th>\n",
              "    </tr>\n",
              "  </thead>\n",
              "  <tbody>\n",
              "    <tr>\n",
              "      <th>303</th>\n",
              "      <td>2</td>\n",
              "      <td>Keane, Miss. Nora A</td>\n",
              "      <td>female</td>\n",
              "      <td>0</td>\n",
              "      <td>0</td>\n",
              "      <td>226593</td>\n",
              "      <td>E101</td>\n",
              "      <td>Q</td>\n",
              "      <td>304</td>\n",
              "      <td>24.0</td>\n",
              "      <td>12.3500</td>\n",
              "    </tr>\n",
              "    <tr>\n",
              "      <th>778</th>\n",
              "      <td>3</td>\n",
              "      <td>Kilgannon, Mr. Thomas J</td>\n",
              "      <td>male</td>\n",
              "      <td>0</td>\n",
              "      <td>0</td>\n",
              "      <td>36865</td>\n",
              "      <td>B96 B98</td>\n",
              "      <td>Q</td>\n",
              "      <td>779</td>\n",
              "      <td>24.0</td>\n",
              "      <td>7.7375</td>\n",
              "    </tr>\n",
              "    <tr>\n",
              "      <th>531</th>\n",
              "      <td>3</td>\n",
              "      <td>Toufik, Mr. Nakli</td>\n",
              "      <td>male</td>\n",
              "      <td>0</td>\n",
              "      <td>0</td>\n",
              "      <td>2641</td>\n",
              "      <td>B96 B98</td>\n",
              "      <td>C</td>\n",
              "      <td>532</td>\n",
              "      <td>24.0</td>\n",
              "      <td>7.2292</td>\n",
              "    </tr>\n",
              "    <tr>\n",
              "      <th>385</th>\n",
              "      <td>2</td>\n",
              "      <td>Davies, Mr. Charles Henry</td>\n",
              "      <td>male</td>\n",
              "      <td>0</td>\n",
              "      <td>0</td>\n",
              "      <td>S.O.C. 14879</td>\n",
              "      <td>B96 B98</td>\n",
              "      <td>S</td>\n",
              "      <td>386</td>\n",
              "      <td>18.0</td>\n",
              "      <td>73.5000</td>\n",
              "    </tr>\n",
              "    <tr>\n",
              "      <th>134</th>\n",
              "      <td>2</td>\n",
              "      <td>Sobey, Mr. Samuel James Hayden</td>\n",
              "      <td>male</td>\n",
              "      <td>0</td>\n",
              "      <td>0</td>\n",
              "      <td>C.A. 29178</td>\n",
              "      <td>B96 B98</td>\n",
              "      <td>S</td>\n",
              "      <td>135</td>\n",
              "      <td>25.0</td>\n",
              "      <td>13.0000</td>\n",
              "    </tr>\n",
              "    <tr>\n",
              "      <th>...</th>\n",
              "      <td>...</td>\n",
              "      <td>...</td>\n",
              "      <td>...</td>\n",
              "      <td>...</td>\n",
              "      <td>...</td>\n",
              "      <td>...</td>\n",
              "      <td>...</td>\n",
              "      <td>...</td>\n",
              "      <td>...</td>\n",
              "      <td>...</td>\n",
              "      <td>...</td>\n",
              "    </tr>\n",
              "    <tr>\n",
              "      <th>770</th>\n",
              "      <td>3</td>\n",
              "      <td>Lievens, Mr. Rene Aime</td>\n",
              "      <td>male</td>\n",
              "      <td>0</td>\n",
              "      <td>0</td>\n",
              "      <td>345781</td>\n",
              "      <td>B96 B98</td>\n",
              "      <td>S</td>\n",
              "      <td>771</td>\n",
              "      <td>24.0</td>\n",
              "      <td>9.5000</td>\n",
              "    </tr>\n",
              "    <tr>\n",
              "      <th>414</th>\n",
              "      <td>3</td>\n",
              "      <td>Sundman, Mr. Johan Julian</td>\n",
              "      <td>male</td>\n",
              "      <td>0</td>\n",
              "      <td>0</td>\n",
              "      <td>STON/O 2. 3101269</td>\n",
              "      <td>B96 B98</td>\n",
              "      <td>S</td>\n",
              "      <td>415</td>\n",
              "      <td>44.0</td>\n",
              "      <td>7.9250</td>\n",
              "    </tr>\n",
              "    <tr>\n",
              "      <th>540</th>\n",
              "      <td>1</td>\n",
              "      <td>Crosby, Miss. Harriet R</td>\n",
              "      <td>female</td>\n",
              "      <td>0</td>\n",
              "      <td>2</td>\n",
              "      <td>WE/P 5735</td>\n",
              "      <td>B22</td>\n",
              "      <td>S</td>\n",
              "      <td>541</td>\n",
              "      <td>36.0</td>\n",
              "      <td>71.0000</td>\n",
              "    </tr>\n",
              "    <tr>\n",
              "      <th>298</th>\n",
              "      <td>1</td>\n",
              "      <td>Saalfeld, Mr. Adolphe</td>\n",
              "      <td>male</td>\n",
              "      <td>0</td>\n",
              "      <td>0</td>\n",
              "      <td>19988</td>\n",
              "      <td>C106</td>\n",
              "      <td>S</td>\n",
              "      <td>299</td>\n",
              "      <td>24.0</td>\n",
              "      <td>30.5000</td>\n",
              "    </tr>\n",
              "    <tr>\n",
              "      <th>489</th>\n",
              "      <td>3</td>\n",
              "      <td>Coutts, Master. Eden Leslie \"Neville\"</td>\n",
              "      <td>male</td>\n",
              "      <td>1</td>\n",
              "      <td>1</td>\n",
              "      <td>C.A. 37671</td>\n",
              "      <td>B96 B98</td>\n",
              "      <td>S</td>\n",
              "      <td>490</td>\n",
              "      <td>9.0</td>\n",
              "      <td>15.9000</td>\n",
              "    </tr>\n",
              "  </tbody>\n",
              "</table>\n",
              "<p>178 rows × 11 columns</p>\n",
              "</div>\n",
              "      <button class=\"colab-df-convert\" onclick=\"convertToInteractive('df-6aa85c61-8fdf-45ec-a5b3-6ae6344a2eae')\"\n",
              "              title=\"Convert this dataframe to an interactive table.\"\n",
              "              style=\"display:none;\">\n",
              "        \n",
              "  <svg xmlns=\"http://www.w3.org/2000/svg\" height=\"24px\"viewBox=\"0 0 24 24\"\n",
              "       width=\"24px\">\n",
              "    <path d=\"M0 0h24v24H0V0z\" fill=\"none\"/>\n",
              "    <path d=\"M18.56 5.44l.94 2.06.94-2.06 2.06-.94-2.06-.94-.94-2.06-.94 2.06-2.06.94zm-11 1L8.5 8.5l.94-2.06 2.06-.94-2.06-.94L8.5 2.5l-.94 2.06-2.06.94zm10 10l.94 2.06.94-2.06 2.06-.94-2.06-.94-.94-2.06-.94 2.06-2.06.94z\"/><path d=\"M17.41 7.96l-1.37-1.37c-.4-.4-.92-.59-1.43-.59-.52 0-1.04.2-1.43.59L10.3 9.45l-7.72 7.72c-.78.78-.78 2.05 0 2.83L4 21.41c.39.39.9.59 1.41.59.51 0 1.02-.2 1.41-.59l7.78-7.78 2.81-2.81c.8-.78.8-2.07 0-2.86zM5.41 20L4 18.59l7.72-7.72 1.47 1.35L5.41 20z\"/>\n",
              "  </svg>\n",
              "      </button>\n",
              "      \n",
              "  <style>\n",
              "    .colab-df-container {\n",
              "      display:flex;\n",
              "      flex-wrap:wrap;\n",
              "      gap: 12px;\n",
              "    }\n",
              "\n",
              "    .colab-df-convert {\n",
              "      background-color: #E8F0FE;\n",
              "      border: none;\n",
              "      border-radius: 50%;\n",
              "      cursor: pointer;\n",
              "      display: none;\n",
              "      fill: #1967D2;\n",
              "      height: 32px;\n",
              "      padding: 0 0 0 0;\n",
              "      width: 32px;\n",
              "    }\n",
              "\n",
              "    .colab-df-convert:hover {\n",
              "      background-color: #E2EBFA;\n",
              "      box-shadow: 0px 1px 2px rgba(60, 64, 67, 0.3), 0px 1px 3px 1px rgba(60, 64, 67, 0.15);\n",
              "      fill: #174EA6;\n",
              "    }\n",
              "\n",
              "    [theme=dark] .colab-df-convert {\n",
              "      background-color: #3B4455;\n",
              "      fill: #D2E3FC;\n",
              "    }\n",
              "\n",
              "    [theme=dark] .colab-df-convert:hover {\n",
              "      background-color: #434B5C;\n",
              "      box-shadow: 0px 1px 3px 1px rgba(0, 0, 0, 0.15);\n",
              "      filter: drop-shadow(0px 1px 2px rgba(0, 0, 0, 0.3));\n",
              "      fill: #FFFFFF;\n",
              "    }\n",
              "  </style>\n",
              "\n",
              "      <script>\n",
              "        const buttonEl =\n",
              "          document.querySelector('#df-6aa85c61-8fdf-45ec-a5b3-6ae6344a2eae button.colab-df-convert');\n",
              "        buttonEl.style.display =\n",
              "          google.colab.kernel.accessAllowed ? 'block' : 'none';\n",
              "\n",
              "        async function convertToInteractive(key) {\n",
              "          const element = document.querySelector('#df-6aa85c61-8fdf-45ec-a5b3-6ae6344a2eae');\n",
              "          const dataTable =\n",
              "            await google.colab.kernel.invokeFunction('convertToInteractive',\n",
              "                                                     [key], {});\n",
              "          if (!dataTable) return;\n",
              "\n",
              "          const docLinkHtml = 'Like what you see? Visit the ' +\n",
              "            '<a target=\"_blank\" href=https://colab.research.google.com/notebooks/data_table.ipynb>data table notebook</a>'\n",
              "            + ' to learn more about interactive tables.';\n",
              "          element.innerHTML = '';\n",
              "          dataTable['output_type'] = 'display_data';\n",
              "          await google.colab.output.renderOutput(dataTable, element);\n",
              "          const docLink = document.createElement('div');\n",
              "          docLink.innerHTML = docLinkHtml;\n",
              "          element.appendChild(docLink);\n",
              "        }\n",
              "      </script>\n",
              "    </div>\n",
              "  </div>\n",
              "  "
            ]
          },
          "metadata": {},
          "execution_count": 73
        }
      ]
    },
    {
      "cell_type": "code",
      "source": [
        "to.valid.y"
      ],
      "metadata": {
        "colab": {
          "base_uri": "https://localhost:8080/"
        },
        "id": "Yj0_7QXubUJn",
        "outputId": "5d48918b-90b8-408a-8944-7335ae96a654"
      },
      "execution_count": 74,
      "outputs": [
        {
          "output_type": "execute_result",
          "data": {
            "text/plain": [
              "303    1\n",
              "778    0\n",
              "531    0\n",
              "385    0\n",
              "134    0\n",
              "      ..\n",
              "770    0\n",
              "414    1\n",
              "540    1\n",
              "298    1\n",
              "489    1\n",
              "Name: Survived, Length: 178, dtype: int8"
            ]
          },
          "metadata": {},
          "execution_count": 74
        }
      ]
    },
    {
      "cell_type": "markdown",
      "source": [
        "for object `to`"
      ],
      "metadata": {
        "id": "hPiqD52VbYdG"
      }
    },
    {
      "cell_type": "code",
      "source": [
        "xs,y = to.train.xs,to.train.y\n",
        "valid_xs,valid_y = to.valid.xs,to.valid.y"
      ],
      "metadata": {
        "id": "M4XgCkGbbT_y"
      },
      "execution_count": 75,
      "outputs": []
    },
    {
      "cell_type": "markdown",
      "source": [
        "for object `to1`"
      ],
      "metadata": {
        "id": "mdQtneU1bcd5"
      }
    },
    {
      "cell_type": "code",
      "source": [
        "xs1,y1 = to1.train.xs,to1.train.y\n",
        "valid_xs1,valid_y1 = to1.valid.xs,to1.valid.y"
      ],
      "metadata": {
        "id": "qg1s-jQYbgKh"
      },
      "execution_count": 76,
      "outputs": []
    },
    {
      "cell_type": "code",
      "source": [],
      "metadata": {
        "id": "-qqo2v95bf8z"
      },
      "execution_count": null,
      "outputs": []
    },
    {
      "cell_type": "code",
      "source": [],
      "metadata": {
        "id": "_LZEGr2obf3-"
      },
      "execution_count": null,
      "outputs": []
    },
    {
      "cell_type": "code",
      "source": [],
      "metadata": {
        "id": "nK5xoWWSbfzi"
      },
      "execution_count": null,
      "outputs": []
    },
    {
      "cell_type": "code",
      "source": [],
      "metadata": {
        "id": "zftCE6ucVVsz"
      },
      "execution_count": null,
      "outputs": []
    },
    {
      "cell_type": "code",
      "source": [],
      "metadata": {
        "id": "Du4fD6SzVVlk"
      },
      "execution_count": null,
      "outputs": []
    },
    {
      "cell_type": "code",
      "source": [],
      "metadata": {
        "id": "HTr66JCNP3uN"
      },
      "execution_count": null,
      "outputs": []
    },
    {
      "cell_type": "markdown",
      "source": [
        "# Random Forest"
      ],
      "metadata": {
        "id": "cyXncHUtAPc2"
      }
    },
    {
      "cell_type": "code",
      "source": [
        "from sklearn.ensemble import RandomForestClassifier"
      ],
      "metadata": {
        "id": "FGjUChUdVV3b"
      },
      "execution_count": 60,
      "outputs": []
    },
    {
      "cell_type": "code",
      "source": [
        "from sklearn.metrics import accuracy_score\n",
        "#accuracy_score(y_true, y_pred)"
      ],
      "metadata": {
        "id": "uVmpUQOBVVx5"
      },
      "execution_count": 61,
      "outputs": []
    },
    {
      "cell_type": "markdown",
      "source": [
        "using obj `to`"
      ],
      "metadata": {
        "id": "CL73zpOwceG2"
      }
    },
    {
      "cell_type": "code",
      "source": [
        "rf = RandomForestClassifier(100, min_samples_leaf=5)\n",
        "rf.fit(xs, y);\n",
        "accuracy_score(valid_y, rf.predict(valid_xs))"
      ],
      "metadata": {
        "colab": {
          "base_uri": "https://localhost:8080/",
          "height": 345
        },
        "id": "-DayZnfWAeaJ",
        "outputId": "bb1ca862-06e9-42c3-a28a-2d274851a9b6"
      },
      "execution_count": 77,
      "outputs": [
        {
          "output_type": "error",
          "ename": "ValueError",
          "evalue": "ignored",
          "traceback": [
            "\u001b[0;31m---------------------------------------------------------------------------\u001b[0m",
            "\u001b[0;31mValueError\u001b[0m                                Traceback (most recent call last)",
            "\u001b[0;32m<ipython-input-77-718344b650fb>\u001b[0m in \u001b[0;36m<module>\u001b[0;34m\u001b[0m\n\u001b[1;32m      1\u001b[0m \u001b[0mrf\u001b[0m \u001b[0;34m=\u001b[0m \u001b[0mRandomForestClassifier\u001b[0m\u001b[0;34m(\u001b[0m\u001b[0;36m100\u001b[0m\u001b[0;34m,\u001b[0m \u001b[0mmin_samples_leaf\u001b[0m\u001b[0;34m=\u001b[0m\u001b[0;36m5\u001b[0m\u001b[0;34m)\u001b[0m\u001b[0;34m\u001b[0m\u001b[0;34m\u001b[0m\u001b[0m\n\u001b[0;32m----> 2\u001b[0;31m \u001b[0mrf\u001b[0m\u001b[0;34m.\u001b[0m\u001b[0mfit\u001b[0m\u001b[0;34m(\u001b[0m\u001b[0mxs\u001b[0m\u001b[0;34m,\u001b[0m \u001b[0my\u001b[0m\u001b[0;34m)\u001b[0m\u001b[0;34m;\u001b[0m\u001b[0;34m\u001b[0m\u001b[0;34m\u001b[0m\u001b[0m\n\u001b[0m\u001b[1;32m      3\u001b[0m \u001b[0maccuracy_score\u001b[0m\u001b[0;34m(\u001b[0m\u001b[0mvalid_y\u001b[0m\u001b[0;34m,\u001b[0m \u001b[0mrf\u001b[0m\u001b[0;34m.\u001b[0m\u001b[0mpredict\u001b[0m\u001b[0;34m(\u001b[0m\u001b[0mvalid_xs\u001b[0m\u001b[0;34m)\u001b[0m\u001b[0;34m)\u001b[0m\u001b[0;34m\u001b[0m\u001b[0;34m\u001b[0m\u001b[0m\n",
            "\u001b[0;32m/usr/local/lib/python3.7/dist-packages/sklearn/ensemble/_forest.py\u001b[0m in \u001b[0;36mfit\u001b[0;34m(self, X, y, sample_weight)\u001b[0m\n\u001b[1;32m    326\u001b[0m             \u001b[0;32mraise\u001b[0m \u001b[0mValueError\u001b[0m\u001b[0;34m(\u001b[0m\u001b[0;34m\"sparse multilabel-indicator for y is not supported.\"\u001b[0m\u001b[0;34m)\u001b[0m\u001b[0;34m\u001b[0m\u001b[0;34m\u001b[0m\u001b[0m\n\u001b[1;32m    327\u001b[0m         X, y = self._validate_data(\n\u001b[0;32m--> 328\u001b[0;31m             \u001b[0mX\u001b[0m\u001b[0;34m,\u001b[0m \u001b[0my\u001b[0m\u001b[0;34m,\u001b[0m \u001b[0mmulti_output\u001b[0m\u001b[0;34m=\u001b[0m\u001b[0;32mTrue\u001b[0m\u001b[0;34m,\u001b[0m \u001b[0maccept_sparse\u001b[0m\u001b[0;34m=\u001b[0m\u001b[0;34m\"csc\"\u001b[0m\u001b[0;34m,\u001b[0m \u001b[0mdtype\u001b[0m\u001b[0;34m=\u001b[0m\u001b[0mDTYPE\u001b[0m\u001b[0;34m\u001b[0m\u001b[0;34m\u001b[0m\u001b[0m\n\u001b[0m\u001b[1;32m    329\u001b[0m         )\n\u001b[1;32m    330\u001b[0m         \u001b[0;32mif\u001b[0m \u001b[0msample_weight\u001b[0m \u001b[0;32mis\u001b[0m \u001b[0;32mnot\u001b[0m \u001b[0;32mNone\u001b[0m\u001b[0;34m:\u001b[0m\u001b[0;34m\u001b[0m\u001b[0;34m\u001b[0m\u001b[0m\n",
            "\u001b[0;32m/usr/local/lib/python3.7/dist-packages/sklearn/base.py\u001b[0m in \u001b[0;36m_validate_data\u001b[0;34m(self, X, y, reset, validate_separately, **check_params)\u001b[0m\n\u001b[1;32m    579\u001b[0m                 \u001b[0my\u001b[0m \u001b[0;34m=\u001b[0m \u001b[0mcheck_array\u001b[0m\u001b[0;34m(\u001b[0m\u001b[0my\u001b[0m\u001b[0;34m,\u001b[0m \u001b[0;34m**\u001b[0m\u001b[0mcheck_y_params\u001b[0m\u001b[0;34m)\u001b[0m\u001b[0;34m\u001b[0m\u001b[0;34m\u001b[0m\u001b[0m\n\u001b[1;32m    580\u001b[0m             \u001b[0;32melse\u001b[0m\u001b[0;34m:\u001b[0m\u001b[0;34m\u001b[0m\u001b[0;34m\u001b[0m\u001b[0m\n\u001b[0;32m--> 581\u001b[0;31m                 \u001b[0mX\u001b[0m\u001b[0;34m,\u001b[0m \u001b[0my\u001b[0m \u001b[0;34m=\u001b[0m \u001b[0mcheck_X_y\u001b[0m\u001b[0;34m(\u001b[0m\u001b[0mX\u001b[0m\u001b[0;34m,\u001b[0m \u001b[0my\u001b[0m\u001b[0;34m,\u001b[0m \u001b[0;34m**\u001b[0m\u001b[0mcheck_params\u001b[0m\u001b[0;34m)\u001b[0m\u001b[0;34m\u001b[0m\u001b[0;34m\u001b[0m\u001b[0m\n\u001b[0m\u001b[1;32m    582\u001b[0m             \u001b[0mout\u001b[0m \u001b[0;34m=\u001b[0m \u001b[0mX\u001b[0m\u001b[0;34m,\u001b[0m \u001b[0my\u001b[0m\u001b[0;34m\u001b[0m\u001b[0;34m\u001b[0m\u001b[0m\n\u001b[1;32m    583\u001b[0m \u001b[0;34m\u001b[0m\u001b[0m\n",
            "\u001b[0;32m/usr/local/lib/python3.7/dist-packages/sklearn/utils/validation.py\u001b[0m in \u001b[0;36mcheck_X_y\u001b[0;34m(X, y, accept_sparse, accept_large_sparse, dtype, order, copy, force_all_finite, ensure_2d, allow_nd, multi_output, ensure_min_samples, ensure_min_features, y_numeric, estimator)\u001b[0m\n\u001b[1;32m    974\u001b[0m         \u001b[0mensure_min_samples\u001b[0m\u001b[0;34m=\u001b[0m\u001b[0mensure_min_samples\u001b[0m\u001b[0;34m,\u001b[0m\u001b[0;34m\u001b[0m\u001b[0;34m\u001b[0m\u001b[0m\n\u001b[1;32m    975\u001b[0m         \u001b[0mensure_min_features\u001b[0m\u001b[0;34m=\u001b[0m\u001b[0mensure_min_features\u001b[0m\u001b[0;34m,\u001b[0m\u001b[0;34m\u001b[0m\u001b[0;34m\u001b[0m\u001b[0m\n\u001b[0;32m--> 976\u001b[0;31m         \u001b[0mestimator\u001b[0m\u001b[0;34m=\u001b[0m\u001b[0mestimator\u001b[0m\u001b[0;34m,\u001b[0m\u001b[0;34m\u001b[0m\u001b[0;34m\u001b[0m\u001b[0m\n\u001b[0m\u001b[1;32m    977\u001b[0m     )\n\u001b[1;32m    978\u001b[0m \u001b[0;34m\u001b[0m\u001b[0m\n",
            "\u001b[0;32m/usr/local/lib/python3.7/dist-packages/sklearn/utils/validation.py\u001b[0m in \u001b[0;36mcheck_array\u001b[0;34m(array, accept_sparse, accept_large_sparse, dtype, order, copy, force_all_finite, ensure_2d, allow_nd, ensure_min_samples, ensure_min_features, estimator)\u001b[0m\n\u001b[1;32m    744\u001b[0m                     \u001b[0marray\u001b[0m \u001b[0;34m=\u001b[0m \u001b[0marray\u001b[0m\u001b[0;34m.\u001b[0m\u001b[0mastype\u001b[0m\u001b[0;34m(\u001b[0m\u001b[0mdtype\u001b[0m\u001b[0;34m,\u001b[0m \u001b[0mcasting\u001b[0m\u001b[0;34m=\u001b[0m\u001b[0;34m\"unsafe\"\u001b[0m\u001b[0;34m,\u001b[0m \u001b[0mcopy\u001b[0m\u001b[0;34m=\u001b[0m\u001b[0;32mFalse\u001b[0m\u001b[0;34m)\u001b[0m\u001b[0;34m\u001b[0m\u001b[0;34m\u001b[0m\u001b[0m\n\u001b[1;32m    745\u001b[0m                 \u001b[0;32melse\u001b[0m\u001b[0;34m:\u001b[0m\u001b[0;34m\u001b[0m\u001b[0;34m\u001b[0m\u001b[0m\n\u001b[0;32m--> 746\u001b[0;31m                     \u001b[0marray\u001b[0m \u001b[0;34m=\u001b[0m \u001b[0mnp\u001b[0m\u001b[0;34m.\u001b[0m\u001b[0masarray\u001b[0m\u001b[0;34m(\u001b[0m\u001b[0marray\u001b[0m\u001b[0;34m,\u001b[0m \u001b[0morder\u001b[0m\u001b[0;34m=\u001b[0m\u001b[0morder\u001b[0m\u001b[0;34m,\u001b[0m \u001b[0mdtype\u001b[0m\u001b[0;34m=\u001b[0m\u001b[0mdtype\u001b[0m\u001b[0;34m)\u001b[0m\u001b[0;34m\u001b[0m\u001b[0;34m\u001b[0m\u001b[0m\n\u001b[0m\u001b[1;32m    747\u001b[0m             \u001b[0;32mexcept\u001b[0m \u001b[0mComplexWarning\u001b[0m \u001b[0;32mas\u001b[0m \u001b[0mcomplex_warning\u001b[0m\u001b[0;34m:\u001b[0m\u001b[0;34m\u001b[0m\u001b[0;34m\u001b[0m\u001b[0m\n\u001b[1;32m    748\u001b[0m                 raise ValueError(\n",
            "\u001b[0;32m/usr/local/lib/python3.7/dist-packages/pandas/core/generic.py\u001b[0m in \u001b[0;36m__array__\u001b[0;34m(self, dtype)\u001b[0m\n\u001b[1;32m   1991\u001b[0m \u001b[0;34m\u001b[0m\u001b[0m\n\u001b[1;32m   1992\u001b[0m     \u001b[0;32mdef\u001b[0m \u001b[0m__array__\u001b[0m\u001b[0;34m(\u001b[0m\u001b[0mself\u001b[0m\u001b[0;34m,\u001b[0m \u001b[0mdtype\u001b[0m\u001b[0;34m:\u001b[0m \u001b[0mNpDtype\u001b[0m \u001b[0;34m|\u001b[0m \u001b[0;32mNone\u001b[0m \u001b[0;34m=\u001b[0m \u001b[0;32mNone\u001b[0m\u001b[0;34m)\u001b[0m \u001b[0;34m->\u001b[0m \u001b[0mnp\u001b[0m\u001b[0;34m.\u001b[0m\u001b[0mndarray\u001b[0m\u001b[0;34m:\u001b[0m\u001b[0;34m\u001b[0m\u001b[0;34m\u001b[0m\u001b[0m\n\u001b[0;32m-> 1993\u001b[0;31m         \u001b[0;32mreturn\u001b[0m \u001b[0mnp\u001b[0m\u001b[0;34m.\u001b[0m\u001b[0masarray\u001b[0m\u001b[0;34m(\u001b[0m\u001b[0mself\u001b[0m\u001b[0;34m.\u001b[0m\u001b[0m_values\u001b[0m\u001b[0;34m,\u001b[0m \u001b[0mdtype\u001b[0m\u001b[0;34m=\u001b[0m\u001b[0mdtype\u001b[0m\u001b[0;34m)\u001b[0m\u001b[0;34m\u001b[0m\u001b[0;34m\u001b[0m\u001b[0m\n\u001b[0m\u001b[1;32m   1994\u001b[0m \u001b[0;34m\u001b[0m\u001b[0m\n\u001b[1;32m   1995\u001b[0m     def __array_wrap__(\n",
            "\u001b[0;31mValueError\u001b[0m: could not convert string to float: 'Dean, Master. Bertram Vere'"
          ]
        }
      ]
    },
    {
      "cell_type": "markdown",
      "source": [
        "using obj `to1`"
      ],
      "metadata": {
        "id": "2w1Y7dZFcqLh"
      }
    },
    {
      "cell_type": "code",
      "source": [
        "rf1 = RandomForestClassifier(100, min_samples_leaf=5)\n",
        "rf1.fit(xs1, y1);\n",
        "accuracy_score(valid_y1, rf1.predict(valid_xs1))"
      ],
      "metadata": {
        "colab": {
          "base_uri": "https://localhost:8080/"
        },
        "id": "qPm07sq4YE2z",
        "outputId": "0a6e3751-fb35-4a92-b1d0-07dd9354eb22"
      },
      "execution_count": 78,
      "outputs": [
        {
          "output_type": "execute_result",
          "data": {
            "text/plain": [
              "0.8426966292134831"
            ]
          },
          "metadata": {},
          "execution_count": 78
        }
      ]
    },
    {
      "cell_type": "markdown",
      "source": [
        "better than the neral net in fastai22 chp 06"
      ],
      "metadata": {
        "id": "xsGlrkJ-dFnP"
      }
    },
    {
      "cell_type": "code",
      "source": [
        "rf1.get_params()"
      ],
      "metadata": {
        "colab": {
          "base_uri": "https://localhost:8080/"
        },
        "id": "Zagn7LrGYEsP",
        "outputId": "5881a73b-8735-4dfd-d180-a68752a13734"
      },
      "execution_count": 83,
      "outputs": [
        {
          "output_type": "execute_result",
          "data": {
            "text/plain": [
              "{'bootstrap': True,\n",
              " 'ccp_alpha': 0.0,\n",
              " 'class_weight': None,\n",
              " 'criterion': 'gini',\n",
              " 'max_depth': None,\n",
              " 'max_features': 'auto',\n",
              " 'max_leaf_nodes': None,\n",
              " 'max_samples': None,\n",
              " 'min_impurity_decrease': 0.0,\n",
              " 'min_samples_leaf': 5,\n",
              " 'min_samples_split': 2,\n",
              " 'min_weight_fraction_leaf': 0.0,\n",
              " 'n_estimators': 100,\n",
              " 'n_jobs': None,\n",
              " 'oob_score': False,\n",
              " 'random_state': None,\n",
              " 'verbose': 0,\n",
              " 'warm_start': False}"
            ]
          },
          "metadata": {},
          "execution_count": 83
        }
      ]
    },
    {
      "cell_type": "code",
      "source": [],
      "metadata": {
        "id": "T72Z5bk4dWOA"
      },
      "execution_count": null,
      "outputs": []
    },
    {
      "cell_type": "markdown",
      "source": [
        "# Random Forest grid search"
      ],
      "metadata": {
        "id": "DhxPDBtHAV1e"
      }
    },
    {
      "cell_type": "code",
      "source": [
        "rfc_params={\n",
        " 'bootstrap': [True,False],\n",
        " 'max_features': ['auto','sqrt'],\n",
        " 'min_samples_leaf': [4,5],\n",
        " 'min_samples_split': [2,5],\n",
        " 'n_estimators': [100,200]\n",
        "}"
      ],
      "metadata": {
        "id": "3wRFmLk5AT9d"
      },
      "execution_count": 92,
      "outputs": []
    },
    {
      "cell_type": "code",
      "source": [
        "# Using gridsearch to find the best params for SVC #\n",
        "from sklearn.model_selection import GridSearchCV"
      ],
      "metadata": {
        "id": "a8LCSFF_de4X"
      },
      "execution_count": 85,
      "outputs": []
    },
    {
      "cell_type": "code",
      "source": [
        "# creating a gridsearch with random forest classifier #\n",
        "grid_rcf = GridSearchCV(RandomForestClassifier(),rfc_params,verbose=3)"
      ],
      "metadata": {
        "id": "sW21pif9d8p5"
      },
      "execution_count": 94,
      "outputs": []
    },
    {
      "cell_type": "code",
      "source": [
        "# fitting model to training data #\n",
        "grid_rcf.fit(xs1, y1)"
      ],
      "metadata": {
        "colab": {
          "base_uri": "https://localhost:8080/"
        },
        "id": "p9ly5ilod8i_",
        "outputId": "d1257ad1-2073-4d2f-beb1-0e3f86e2d807"
      },
      "execution_count": 95,
      "outputs": [
        {
          "output_type": "stream",
          "name": "stdout",
          "text": [
            "Fitting 5 folds for each of 32 candidates, totalling 160 fits\n",
            "[CV 1/5] END bootstrap=True, max_features=auto, min_samples_leaf=4, min_samples_split=2, n_estimators=100;, score=0.860 total time=   0.2s\n",
            "[CV 2/5] END bootstrap=True, max_features=auto, min_samples_leaf=4, min_samples_split=2, n_estimators=100;, score=0.762 total time=   0.2s\n",
            "[CV 3/5] END bootstrap=True, max_features=auto, min_samples_leaf=4, min_samples_split=2, n_estimators=100;, score=0.832 total time=   0.2s\n",
            "[CV 4/5] END bootstrap=True, max_features=auto, min_samples_leaf=4, min_samples_split=2, n_estimators=100;, score=0.817 total time=   0.2s\n",
            "[CV 5/5] END bootstrap=True, max_features=auto, min_samples_leaf=4, min_samples_split=2, n_estimators=100;, score=0.859 total time=   0.2s\n",
            "[CV 1/5] END bootstrap=True, max_features=auto, min_samples_leaf=4, min_samples_split=2, n_estimators=200;, score=0.846 total time=   0.4s\n",
            "[CV 2/5] END bootstrap=True, max_features=auto, min_samples_leaf=4, min_samples_split=2, n_estimators=200;, score=0.769 total time=   0.4s\n",
            "[CV 3/5] END bootstrap=True, max_features=auto, min_samples_leaf=4, min_samples_split=2, n_estimators=200;, score=0.825 total time=   0.4s\n",
            "[CV 4/5] END bootstrap=True, max_features=auto, min_samples_leaf=4, min_samples_split=2, n_estimators=200;, score=0.817 total time=   0.4s\n",
            "[CV 5/5] END bootstrap=True, max_features=auto, min_samples_leaf=4, min_samples_split=2, n_estimators=200;, score=0.859 total time=   0.4s\n",
            "[CV 1/5] END bootstrap=True, max_features=auto, min_samples_leaf=4, min_samples_split=5, n_estimators=100;, score=0.846 total time=   0.2s\n",
            "[CV 2/5] END bootstrap=True, max_features=auto, min_samples_leaf=4, min_samples_split=5, n_estimators=100;, score=0.762 total time=   0.2s\n",
            "[CV 3/5] END bootstrap=True, max_features=auto, min_samples_leaf=4, min_samples_split=5, n_estimators=100;, score=0.818 total time=   0.2s\n",
            "[CV 4/5] END bootstrap=True, max_features=auto, min_samples_leaf=4, min_samples_split=5, n_estimators=100;, score=0.831 total time=   0.2s\n",
            "[CV 5/5] END bootstrap=True, max_features=auto, min_samples_leaf=4, min_samples_split=5, n_estimators=100;, score=0.859 total time=   0.2s\n",
            "[CV 1/5] END bootstrap=True, max_features=auto, min_samples_leaf=4, min_samples_split=5, n_estimators=200;, score=0.860 total time=   0.4s\n",
            "[CV 2/5] END bootstrap=True, max_features=auto, min_samples_leaf=4, min_samples_split=5, n_estimators=200;, score=0.755 total time=   0.4s\n",
            "[CV 3/5] END bootstrap=True, max_features=auto, min_samples_leaf=4, min_samples_split=5, n_estimators=200;, score=0.832 total time=   0.4s\n",
            "[CV 4/5] END bootstrap=True, max_features=auto, min_samples_leaf=4, min_samples_split=5, n_estimators=200;, score=0.803 total time=   0.4s\n",
            "[CV 5/5] END bootstrap=True, max_features=auto, min_samples_leaf=4, min_samples_split=5, n_estimators=200;, score=0.859 total time=   0.4s\n",
            "[CV 1/5] END bootstrap=True, max_features=auto, min_samples_leaf=5, min_samples_split=2, n_estimators=100;, score=0.839 total time=   0.2s\n",
            "[CV 2/5] END bootstrap=True, max_features=auto, min_samples_leaf=5, min_samples_split=2, n_estimators=100;, score=0.769 total time=   0.2s\n",
            "[CV 3/5] END bootstrap=True, max_features=auto, min_samples_leaf=5, min_samples_split=2, n_estimators=100;, score=0.825 total time=   0.2s\n",
            "[CV 4/5] END bootstrap=True, max_features=auto, min_samples_leaf=5, min_samples_split=2, n_estimators=100;, score=0.824 total time=   0.2s\n",
            "[CV 5/5] END bootstrap=True, max_features=auto, min_samples_leaf=5, min_samples_split=2, n_estimators=100;, score=0.866 total time=   0.2s\n",
            "[CV 1/5] END bootstrap=True, max_features=auto, min_samples_leaf=5, min_samples_split=2, n_estimators=200;, score=0.846 total time=   0.4s\n",
            "[CV 2/5] END bootstrap=True, max_features=auto, min_samples_leaf=5, min_samples_split=2, n_estimators=200;, score=0.755 total time=   0.4s\n",
            "[CV 3/5] END bootstrap=True, max_features=auto, min_samples_leaf=5, min_samples_split=2, n_estimators=200;, score=0.818 total time=   0.4s\n",
            "[CV 4/5] END bootstrap=True, max_features=auto, min_samples_leaf=5, min_samples_split=2, n_estimators=200;, score=0.838 total time=   0.4s\n",
            "[CV 5/5] END bootstrap=True, max_features=auto, min_samples_leaf=5, min_samples_split=2, n_estimators=200;, score=0.852 total time=   0.4s\n",
            "[CV 1/5] END bootstrap=True, max_features=auto, min_samples_leaf=5, min_samples_split=5, n_estimators=100;, score=0.846 total time=   0.2s\n",
            "[CV 2/5] END bootstrap=True, max_features=auto, min_samples_leaf=5, min_samples_split=5, n_estimators=100;, score=0.769 total time=   0.2s\n",
            "[CV 3/5] END bootstrap=True, max_features=auto, min_samples_leaf=5, min_samples_split=5, n_estimators=100;, score=0.811 total time=   0.2s\n",
            "[CV 4/5] END bootstrap=True, max_features=auto, min_samples_leaf=5, min_samples_split=5, n_estimators=100;, score=0.796 total time=   0.2s\n",
            "[CV 5/5] END bootstrap=True, max_features=auto, min_samples_leaf=5, min_samples_split=5, n_estimators=100;, score=0.845 total time=   0.2s\n",
            "[CV 1/5] END bootstrap=True, max_features=auto, min_samples_leaf=5, min_samples_split=5, n_estimators=200;, score=0.832 total time=   0.4s\n",
            "[CV 2/5] END bootstrap=True, max_features=auto, min_samples_leaf=5, min_samples_split=5, n_estimators=200;, score=0.769 total time=   0.4s\n",
            "[CV 3/5] END bootstrap=True, max_features=auto, min_samples_leaf=5, min_samples_split=5, n_estimators=200;, score=0.825 total time=   0.4s\n",
            "[CV 4/5] END bootstrap=True, max_features=auto, min_samples_leaf=5, min_samples_split=5, n_estimators=200;, score=0.810 total time=   0.4s\n",
            "[CV 5/5] END bootstrap=True, max_features=auto, min_samples_leaf=5, min_samples_split=5, n_estimators=200;, score=0.852 total time=   0.4s\n",
            "[CV 1/5] END bootstrap=True, max_features=sqrt, min_samples_leaf=4, min_samples_split=2, n_estimators=100;, score=0.853 total time=   0.2s\n",
            "[CV 2/5] END bootstrap=True, max_features=sqrt, min_samples_leaf=4, min_samples_split=2, n_estimators=100;, score=0.769 total time=   0.2s\n",
            "[CV 3/5] END bootstrap=True, max_features=sqrt, min_samples_leaf=4, min_samples_split=2, n_estimators=100;, score=0.832 total time=   0.2s\n",
            "[CV 4/5] END bootstrap=True, max_features=sqrt, min_samples_leaf=4, min_samples_split=2, n_estimators=100;, score=0.810 total time=   0.2s\n",
            "[CV 5/5] END bootstrap=True, max_features=sqrt, min_samples_leaf=4, min_samples_split=2, n_estimators=100;, score=0.859 total time=   0.2s\n",
            "[CV 1/5] END bootstrap=True, max_features=sqrt, min_samples_leaf=4, min_samples_split=2, n_estimators=200;, score=0.867 total time=   0.4s\n",
            "[CV 2/5] END bootstrap=True, max_features=sqrt, min_samples_leaf=4, min_samples_split=2, n_estimators=200;, score=0.776 total time=   0.4s\n",
            "[CV 3/5] END bootstrap=True, max_features=sqrt, min_samples_leaf=4, min_samples_split=2, n_estimators=200;, score=0.818 total time=   0.4s\n",
            "[CV 4/5] END bootstrap=True, max_features=sqrt, min_samples_leaf=4, min_samples_split=2, n_estimators=200;, score=0.810 total time=   0.4s\n",
            "[CV 5/5] END bootstrap=True, max_features=sqrt, min_samples_leaf=4, min_samples_split=2, n_estimators=200;, score=0.859 total time=   0.4s\n",
            "[CV 1/5] END bootstrap=True, max_features=sqrt, min_samples_leaf=4, min_samples_split=5, n_estimators=100;, score=0.832 total time=   0.2s\n",
            "[CV 2/5] END bootstrap=True, max_features=sqrt, min_samples_leaf=4, min_samples_split=5, n_estimators=100;, score=0.762 total time=   0.2s\n",
            "[CV 3/5] END bootstrap=True, max_features=sqrt, min_samples_leaf=4, min_samples_split=5, n_estimators=100;, score=0.825 total time=   0.2s\n",
            "[CV 4/5] END bootstrap=True, max_features=sqrt, min_samples_leaf=4, min_samples_split=5, n_estimators=100;, score=0.824 total time=   0.2s\n",
            "[CV 5/5] END bootstrap=True, max_features=sqrt, min_samples_leaf=4, min_samples_split=5, n_estimators=100;, score=0.859 total time=   0.2s\n",
            "[CV 1/5] END bootstrap=True, max_features=sqrt, min_samples_leaf=4, min_samples_split=5, n_estimators=200;, score=0.867 total time=   0.4s\n",
            "[CV 2/5] END bootstrap=True, max_features=sqrt, min_samples_leaf=4, min_samples_split=5, n_estimators=200;, score=0.762 total time=   0.4s\n",
            "[CV 3/5] END bootstrap=True, max_features=sqrt, min_samples_leaf=4, min_samples_split=5, n_estimators=200;, score=0.825 total time=   0.4s\n",
            "[CV 4/5] END bootstrap=True, max_features=sqrt, min_samples_leaf=4, min_samples_split=5, n_estimators=200;, score=0.810 total time=   0.4s\n",
            "[CV 5/5] END bootstrap=True, max_features=sqrt, min_samples_leaf=4, min_samples_split=5, n_estimators=200;, score=0.852 total time=   0.4s\n",
            "[CV 1/5] END bootstrap=True, max_features=sqrt, min_samples_leaf=5, min_samples_split=2, n_estimators=100;, score=0.811 total time=   0.2s\n",
            "[CV 2/5] END bootstrap=True, max_features=sqrt, min_samples_leaf=5, min_samples_split=2, n_estimators=100;, score=0.741 total time=   0.2s\n",
            "[CV 3/5] END bootstrap=True, max_features=sqrt, min_samples_leaf=5, min_samples_split=2, n_estimators=100;, score=0.818 total time=   0.2s\n",
            "[CV 4/5] END bootstrap=True, max_features=sqrt, min_samples_leaf=5, min_samples_split=2, n_estimators=100;, score=0.817 total time=   0.2s\n",
            "[CV 5/5] END bootstrap=True, max_features=sqrt, min_samples_leaf=5, min_samples_split=2, n_estimators=100;, score=0.845 total time=   0.2s\n",
            "[CV 1/5] END bootstrap=True, max_features=sqrt, min_samples_leaf=5, min_samples_split=2, n_estimators=200;, score=0.832 total time=   0.4s\n",
            "[CV 2/5] END bootstrap=True, max_features=sqrt, min_samples_leaf=5, min_samples_split=2, n_estimators=200;, score=0.762 total time=   0.4s\n",
            "[CV 3/5] END bootstrap=True, max_features=sqrt, min_samples_leaf=5, min_samples_split=2, n_estimators=200;, score=0.832 total time=   0.4s\n",
            "[CV 4/5] END bootstrap=True, max_features=sqrt, min_samples_leaf=5, min_samples_split=2, n_estimators=200;, score=0.803 total time=   0.4s\n",
            "[CV 5/5] END bootstrap=True, max_features=sqrt, min_samples_leaf=5, min_samples_split=2, n_estimators=200;, score=0.845 total time=   0.4s\n",
            "[CV 1/5] END bootstrap=True, max_features=sqrt, min_samples_leaf=5, min_samples_split=5, n_estimators=100;, score=0.853 total time=   0.2s\n",
            "[CV 2/5] END bootstrap=True, max_features=sqrt, min_samples_leaf=5, min_samples_split=5, n_estimators=100;, score=0.776 total time=   0.2s\n",
            "[CV 3/5] END bootstrap=True, max_features=sqrt, min_samples_leaf=5, min_samples_split=5, n_estimators=100;, score=0.811 total time=   0.2s\n",
            "[CV 4/5] END bootstrap=True, max_features=sqrt, min_samples_leaf=5, min_samples_split=5, n_estimators=100;, score=0.810 total time=   0.2s\n",
            "[CV 5/5] END bootstrap=True, max_features=sqrt, min_samples_leaf=5, min_samples_split=5, n_estimators=100;, score=0.859 total time=   0.2s\n",
            "[CV 1/5] END bootstrap=True, max_features=sqrt, min_samples_leaf=5, min_samples_split=5, n_estimators=200;, score=0.839 total time=   0.4s\n",
            "[CV 2/5] END bootstrap=True, max_features=sqrt, min_samples_leaf=5, min_samples_split=5, n_estimators=200;, score=0.762 total time=   0.4s\n",
            "[CV 3/5] END bootstrap=True, max_features=sqrt, min_samples_leaf=5, min_samples_split=5, n_estimators=200;, score=0.825 total time=   0.4s\n",
            "[CV 4/5] END bootstrap=True, max_features=sqrt, min_samples_leaf=5, min_samples_split=5, n_estimators=200;, score=0.803 total time=   0.4s\n",
            "[CV 5/5] END bootstrap=True, max_features=sqrt, min_samples_leaf=5, min_samples_split=5, n_estimators=200;, score=0.852 total time=   0.4s\n",
            "[CV 1/5] END bootstrap=False, max_features=auto, min_samples_leaf=4, min_samples_split=2, n_estimators=100;, score=0.860 total time=   0.2s\n",
            "[CV 2/5] END bootstrap=False, max_features=auto, min_samples_leaf=4, min_samples_split=2, n_estimators=100;, score=0.769 total time=   0.2s\n",
            "[CV 3/5] END bootstrap=False, max_features=auto, min_samples_leaf=4, min_samples_split=2, n_estimators=100;, score=0.811 total time=   0.2s\n",
            "[CV 4/5] END bootstrap=False, max_features=auto, min_samples_leaf=4, min_samples_split=2, n_estimators=100;, score=0.803 total time=   0.2s\n",
            "[CV 5/5] END bootstrap=False, max_features=auto, min_samples_leaf=4, min_samples_split=2, n_estimators=100;, score=0.845 total time=   0.2s\n",
            "[CV 1/5] END bootstrap=False, max_features=auto, min_samples_leaf=4, min_samples_split=2, n_estimators=200;, score=0.860 total time=   0.4s\n",
            "[CV 2/5] END bootstrap=False, max_features=auto, min_samples_leaf=4, min_samples_split=2, n_estimators=200;, score=0.783 total time=   0.4s\n",
            "[CV 3/5] END bootstrap=False, max_features=auto, min_samples_leaf=4, min_samples_split=2, n_estimators=200;, score=0.825 total time=   0.4s\n",
            "[CV 4/5] END bootstrap=False, max_features=auto, min_samples_leaf=4, min_samples_split=2, n_estimators=200;, score=0.803 total time=   0.4s\n",
            "[CV 5/5] END bootstrap=False, max_features=auto, min_samples_leaf=4, min_samples_split=2, n_estimators=200;, score=0.845 total time=   0.4s\n",
            "[CV 1/5] END bootstrap=False, max_features=auto, min_samples_leaf=4, min_samples_split=5, n_estimators=100;, score=0.846 total time=   0.2s\n",
            "[CV 2/5] END bootstrap=False, max_features=auto, min_samples_leaf=4, min_samples_split=5, n_estimators=100;, score=0.769 total time=   0.2s\n",
            "[CV 3/5] END bootstrap=False, max_features=auto, min_samples_leaf=4, min_samples_split=5, n_estimators=100;, score=0.825 total time=   0.2s\n",
            "[CV 4/5] END bootstrap=False, max_features=auto, min_samples_leaf=4, min_samples_split=5, n_estimators=100;, score=0.810 total time=   0.2s\n",
            "[CV 5/5] END bootstrap=False, max_features=auto, min_samples_leaf=4, min_samples_split=5, n_estimators=100;, score=0.859 total time=   0.2s\n",
            "[CV 1/5] END bootstrap=False, max_features=auto, min_samples_leaf=4, min_samples_split=5, n_estimators=200;, score=0.860 total time=   0.4s\n",
            "[CV 2/5] END bootstrap=False, max_features=auto, min_samples_leaf=4, min_samples_split=5, n_estimators=200;, score=0.769 total time=   0.4s\n",
            "[CV 3/5] END bootstrap=False, max_features=auto, min_samples_leaf=4, min_samples_split=5, n_estimators=200;, score=0.832 total time=   0.4s\n",
            "[CV 4/5] END bootstrap=False, max_features=auto, min_samples_leaf=4, min_samples_split=5, n_estimators=200;, score=0.796 total time=   0.4s\n",
            "[CV 5/5] END bootstrap=False, max_features=auto, min_samples_leaf=4, min_samples_split=5, n_estimators=200;, score=0.859 total time=   0.4s\n",
            "[CV 1/5] END bootstrap=False, max_features=auto, min_samples_leaf=5, min_samples_split=2, n_estimators=100;, score=0.867 total time=   0.2s\n",
            "[CV 2/5] END bootstrap=False, max_features=auto, min_samples_leaf=5, min_samples_split=2, n_estimators=100;, score=0.755 total time=   0.2s\n",
            "[CV 3/5] END bootstrap=False, max_features=auto, min_samples_leaf=5, min_samples_split=2, n_estimators=100;, score=0.832 total time=   0.2s\n",
            "[CV 4/5] END bootstrap=False, max_features=auto, min_samples_leaf=5, min_samples_split=2, n_estimators=100;, score=0.810 total time=   0.2s\n",
            "[CV 5/5] END bootstrap=False, max_features=auto, min_samples_leaf=5, min_samples_split=2, n_estimators=100;, score=0.866 total time=   0.2s\n",
            "[CV 1/5] END bootstrap=False, max_features=auto, min_samples_leaf=5, min_samples_split=2, n_estimators=200;, score=0.853 total time=   0.4s\n",
            "[CV 2/5] END bootstrap=False, max_features=auto, min_samples_leaf=5, min_samples_split=2, n_estimators=200;, score=0.776 total time=   0.4s\n",
            "[CV 3/5] END bootstrap=False, max_features=auto, min_samples_leaf=5, min_samples_split=2, n_estimators=200;, score=0.832 total time=   0.4s\n",
            "[CV 4/5] END bootstrap=False, max_features=auto, min_samples_leaf=5, min_samples_split=2, n_estimators=200;, score=0.817 total time=   0.4s\n",
            "[CV 5/5] END bootstrap=False, max_features=auto, min_samples_leaf=5, min_samples_split=2, n_estimators=200;, score=0.852 total time=   0.4s\n",
            "[CV 1/5] END bootstrap=False, max_features=auto, min_samples_leaf=5, min_samples_split=5, n_estimators=100;, score=0.853 total time=   0.2s\n",
            "[CV 2/5] END bootstrap=False, max_features=auto, min_samples_leaf=5, min_samples_split=5, n_estimators=100;, score=0.776 total time=   0.2s\n",
            "[CV 3/5] END bootstrap=False, max_features=auto, min_samples_leaf=5, min_samples_split=5, n_estimators=100;, score=0.818 total time=   0.2s\n",
            "[CV 4/5] END bootstrap=False, max_features=auto, min_samples_leaf=5, min_samples_split=5, n_estimators=100;, score=0.803 total time=   0.2s\n",
            "[CV 5/5] END bootstrap=False, max_features=auto, min_samples_leaf=5, min_samples_split=5, n_estimators=100;, score=0.859 total time=   0.2s\n",
            "[CV 1/5] END bootstrap=False, max_features=auto, min_samples_leaf=5, min_samples_split=5, n_estimators=200;, score=0.874 total time=   0.4s\n",
            "[CV 2/5] END bootstrap=False, max_features=auto, min_samples_leaf=5, min_samples_split=5, n_estimators=200;, score=0.769 total time=   0.4s\n",
            "[CV 3/5] END bootstrap=False, max_features=auto, min_samples_leaf=5, min_samples_split=5, n_estimators=200;, score=0.825 total time=   0.4s\n",
            "[CV 4/5] END bootstrap=False, max_features=auto, min_samples_leaf=5, min_samples_split=5, n_estimators=200;, score=0.810 total time=   0.4s\n",
            "[CV 5/5] END bootstrap=False, max_features=auto, min_samples_leaf=5, min_samples_split=5, n_estimators=200;, score=0.852 total time=   0.4s\n",
            "[CV 1/5] END bootstrap=False, max_features=sqrt, min_samples_leaf=4, min_samples_split=2, n_estimators=100;, score=0.846 total time=   0.2s\n",
            "[CV 2/5] END bootstrap=False, max_features=sqrt, min_samples_leaf=4, min_samples_split=2, n_estimators=100;, score=0.755 total time=   0.2s\n",
            "[CV 3/5] END bootstrap=False, max_features=sqrt, min_samples_leaf=4, min_samples_split=2, n_estimators=100;, score=0.825 total time=   0.2s\n",
            "[CV 4/5] END bootstrap=False, max_features=sqrt, min_samples_leaf=4, min_samples_split=2, n_estimators=100;, score=0.810 total time=   0.2s\n",
            "[CV 5/5] END bootstrap=False, max_features=sqrt, min_samples_leaf=4, min_samples_split=2, n_estimators=100;, score=0.852 total time=   0.2s\n",
            "[CV 1/5] END bootstrap=False, max_features=sqrt, min_samples_leaf=4, min_samples_split=2, n_estimators=200;, score=0.874 total time=   0.4s\n",
            "[CV 2/5] END bootstrap=False, max_features=sqrt, min_samples_leaf=4, min_samples_split=2, n_estimators=200;, score=0.769 total time=   0.4s\n",
            "[CV 3/5] END bootstrap=False, max_features=sqrt, min_samples_leaf=4, min_samples_split=2, n_estimators=200;, score=0.825 total time=   0.4s\n",
            "[CV 4/5] END bootstrap=False, max_features=sqrt, min_samples_leaf=4, min_samples_split=2, n_estimators=200;, score=0.810 total time=   0.4s\n",
            "[CV 5/5] END bootstrap=False, max_features=sqrt, min_samples_leaf=4, min_samples_split=2, n_estimators=200;, score=0.845 total time=   0.4s\n",
            "[CV 1/5] END bootstrap=False, max_features=sqrt, min_samples_leaf=4, min_samples_split=5, n_estimators=100;, score=0.867 total time=   0.2s\n",
            "[CV 2/5] END bootstrap=False, max_features=sqrt, min_samples_leaf=4, min_samples_split=5, n_estimators=100;, score=0.769 total time=   0.2s\n",
            "[CV 3/5] END bootstrap=False, max_features=sqrt, min_samples_leaf=4, min_samples_split=5, n_estimators=100;, score=0.825 total time=   0.2s\n",
            "[CV 4/5] END bootstrap=False, max_features=sqrt, min_samples_leaf=4, min_samples_split=5, n_estimators=100;, score=0.810 total time=   0.2s\n",
            "[CV 5/5] END bootstrap=False, max_features=sqrt, min_samples_leaf=4, min_samples_split=5, n_estimators=100;, score=0.852 total time=   0.2s\n",
            "[CV 1/5] END bootstrap=False, max_features=sqrt, min_samples_leaf=4, min_samples_split=5, n_estimators=200;, score=0.867 total time=   0.4s\n",
            "[CV 2/5] END bootstrap=False, max_features=sqrt, min_samples_leaf=4, min_samples_split=5, n_estimators=200;, score=0.769 total time=   0.4s\n",
            "[CV 3/5] END bootstrap=False, max_features=sqrt, min_samples_leaf=4, min_samples_split=5, n_estimators=200;, score=0.832 total time=   0.4s\n",
            "[CV 4/5] END bootstrap=False, max_features=sqrt, min_samples_leaf=4, min_samples_split=5, n_estimators=200;, score=0.796 total time=   0.4s\n",
            "[CV 5/5] END bootstrap=False, max_features=sqrt, min_samples_leaf=4, min_samples_split=5, n_estimators=200;, score=0.852 total time=   0.4s\n",
            "[CV 1/5] END bootstrap=False, max_features=sqrt, min_samples_leaf=5, min_samples_split=2, n_estimators=100;, score=0.853 total time=   0.2s\n",
            "[CV 2/5] END bootstrap=False, max_features=sqrt, min_samples_leaf=5, min_samples_split=2, n_estimators=100;, score=0.755 total time=   0.2s\n",
            "[CV 3/5] END bootstrap=False, max_features=sqrt, min_samples_leaf=5, min_samples_split=2, n_estimators=100;, score=0.832 total time=   0.2s\n",
            "[CV 4/5] END bootstrap=False, max_features=sqrt, min_samples_leaf=5, min_samples_split=2, n_estimators=100;, score=0.810 total time=   0.2s\n",
            "[CV 5/5] END bootstrap=False, max_features=sqrt, min_samples_leaf=5, min_samples_split=2, n_estimators=100;, score=0.866 total time=   0.2s\n",
            "[CV 1/5] END bootstrap=False, max_features=sqrt, min_samples_leaf=5, min_samples_split=2, n_estimators=200;, score=0.860 total time=   0.4s\n",
            "[CV 2/5] END bootstrap=False, max_features=sqrt, min_samples_leaf=5, min_samples_split=2, n_estimators=200;, score=0.762 total time=   0.4s\n",
            "[CV 3/5] END bootstrap=False, max_features=sqrt, min_samples_leaf=5, min_samples_split=2, n_estimators=200;, score=0.825 total time=   0.4s\n",
            "[CV 4/5] END bootstrap=False, max_features=sqrt, min_samples_leaf=5, min_samples_split=2, n_estimators=200;, score=0.810 total time=   0.4s\n",
            "[CV 5/5] END bootstrap=False, max_features=sqrt, min_samples_leaf=5, min_samples_split=2, n_estimators=200;, score=0.859 total time=   0.5s\n",
            "[CV 1/5] END bootstrap=False, max_features=sqrt, min_samples_leaf=5, min_samples_split=5, n_estimators=100;, score=0.846 total time=   0.2s\n",
            "[CV 2/5] END bootstrap=False, max_features=sqrt, min_samples_leaf=5, min_samples_split=5, n_estimators=100;, score=0.741 total time=   0.2s\n",
            "[CV 3/5] END bootstrap=False, max_features=sqrt, min_samples_leaf=5, min_samples_split=5, n_estimators=100;, score=0.825 total time=   0.2s\n",
            "[CV 4/5] END bootstrap=False, max_features=sqrt, min_samples_leaf=5, min_samples_split=5, n_estimators=100;, score=0.810 total time=   0.2s\n",
            "[CV 5/5] END bootstrap=False, max_features=sqrt, min_samples_leaf=5, min_samples_split=5, n_estimators=100;, score=0.859 total time=   0.2s\n",
            "[CV 1/5] END bootstrap=False, max_features=sqrt, min_samples_leaf=5, min_samples_split=5, n_estimators=200;, score=0.867 total time=   0.4s\n",
            "[CV 2/5] END bootstrap=False, max_features=sqrt, min_samples_leaf=5, min_samples_split=5, n_estimators=200;, score=0.762 total time=   0.4s\n",
            "[CV 3/5] END bootstrap=False, max_features=sqrt, min_samples_leaf=5, min_samples_split=5, n_estimators=200;, score=0.825 total time=   0.4s\n",
            "[CV 4/5] END bootstrap=False, max_features=sqrt, min_samples_leaf=5, min_samples_split=5, n_estimators=200;, score=0.803 total time=   0.4s\n",
            "[CV 5/5] END bootstrap=False, max_features=sqrt, min_samples_leaf=5, min_samples_split=5, n_estimators=200;, score=0.859 total time=   0.4s\n"
          ]
        },
        {
          "output_type": "execute_result",
          "data": {
            "text/plain": [
              "GridSearchCV(estimator=RandomForestClassifier(),\n",
              "             param_grid={'bootstrap': [True, False],\n",
              "                         'max_features': ['auto', 'sqrt'],\n",
              "                         'min_samples_leaf': [4, 5],\n",
              "                         'min_samples_split': [2, 5],\n",
              "                         'n_estimators': [100, 200]},\n",
              "             verbose=3)"
            ]
          },
          "metadata": {},
          "execution_count": 95
        }
      ]
    },
    {
      "cell_type": "code",
      "source": [
        "grid_rcf.best_params_"
      ],
      "metadata": {
        "colab": {
          "base_uri": "https://localhost:8080/"
        },
        "id": "xpTjCohadeo6",
        "outputId": "c0944a3a-28d6-48db-d7c3-e2b66fa8ec5d"
      },
      "execution_count": 96,
      "outputs": [
        {
          "output_type": "execute_result",
          "data": {
            "text/plain": [
              "{'bootstrap': True,\n",
              " 'max_features': 'auto',\n",
              " 'min_samples_leaf': 4,\n",
              " 'min_samples_split': 2,\n",
              " 'n_estimators': 100}"
            ]
          },
          "metadata": {},
          "execution_count": 96
        }
      ]
    },
    {
      "cell_type": "code",
      "source": [
        "grid_rcf.best_estimator_"
      ],
      "metadata": {
        "colab": {
          "base_uri": "https://localhost:8080/"
        },
        "id": "3DbhePEaeeqd",
        "outputId": "a32b8133-bbc4-4e20-9c13-44d4aa134776"
      },
      "execution_count": 97,
      "outputs": [
        {
          "output_type": "execute_result",
          "data": {
            "text/plain": [
              "RandomForestClassifier(min_samples_leaf=4)"
            ]
          },
          "metadata": {},
          "execution_count": 97
        }
      ]
    },
    {
      "cell_type": "code",
      "source": [
        "rf1.get_params()"
      ],
      "metadata": {
        "colab": {
          "base_uri": "https://localhost:8080/"
        },
        "id": "nfMzI453eebp",
        "outputId": "b4a078fb-6f86-41b9-aa6b-ae800940282b"
      },
      "execution_count": 98,
      "outputs": [
        {
          "output_type": "execute_result",
          "data": {
            "text/plain": [
              "{'bootstrap': True,\n",
              " 'ccp_alpha': 0.0,\n",
              " 'class_weight': None,\n",
              " 'criterion': 'gini',\n",
              " 'max_depth': None,\n",
              " 'max_features': 'auto',\n",
              " 'max_leaf_nodes': None,\n",
              " 'max_samples': None,\n",
              " 'min_impurity_decrease': 0.0,\n",
              " 'min_samples_leaf': 5,\n",
              " 'min_samples_split': 2,\n",
              " 'min_weight_fraction_leaf': 0.0,\n",
              " 'n_estimators': 100,\n",
              " 'n_jobs': None,\n",
              " 'oob_score': False,\n",
              " 'random_state': None,\n",
              " 'verbose': 0,\n",
              " 'warm_start': False}"
            ]
          },
          "metadata": {},
          "execution_count": 98
        }
      ]
    },
    {
      "cell_type": "code",
      "source": [
        "rf1"
      ],
      "metadata": {
        "colab": {
          "base_uri": "https://localhost:8080/"
        },
        "id": "-AkvBlG7obTJ",
        "outputId": "3f180348-3804-44b6-e4d9-af2f8e292e9a"
      },
      "execution_count": 99,
      "outputs": [
        {
          "output_type": "execute_result",
          "data": {
            "text/plain": [
              "RandomForestClassifier(min_samples_leaf=5)"
            ]
          },
          "metadata": {},
          "execution_count": 99
        }
      ]
    },
    {
      "cell_type": "code",
      "source": [
        "rf_with_grid = RandomForestClassifier(100, min_samples_leaf=1)\n",
        "rf_with_grid.fit(xs1, y1);\n",
        "accuracy_score(valid_y1, rf_with_grid.predict(valid_xs1))"
      ],
      "metadata": {
        "colab": {
          "base_uri": "https://localhost:8080/"
        },
        "id": "5WVj9oT1eeSp",
        "outputId": "ab11d2e7-d0b2-4a8c-e178-15d0870d5caf"
      },
      "execution_count": 108,
      "outputs": [
        {
          "output_type": "execute_result",
          "data": {
            "text/plain": [
              "0.8370786516853933"
            ]
          },
          "metadata": {},
          "execution_count": 108
        }
      ]
    },
    {
      "cell_type": "code",
      "source": [],
      "metadata": {
        "id": "IadzC0nKonXZ"
      },
      "execution_count": null,
      "outputs": []
    },
    {
      "cell_type": "code",
      "source": [],
      "metadata": {
        "id": "V0TYmCnponVE"
      },
      "execution_count": null,
      "outputs": []
    },
    {
      "cell_type": "code",
      "source": [],
      "metadata": {
        "id": "082GxXetonM2"
      },
      "execution_count": null,
      "outputs": []
    },
    {
      "cell_type": "markdown",
      "source": [
        "# feature_importances"
      ],
      "metadata": {
        "id": "BGqSqcgep6Ga"
      }
    },
    {
      "cell_type": "code",
      "source": [
        "xs1.columns"
      ],
      "metadata": {
        "colab": {
          "base_uri": "https://localhost:8080/"
        },
        "id": "T0ZRqHriqaPL",
        "outputId": "592141da-9167-4583-a480-59c6e238f0ae"
      },
      "execution_count": 109,
      "outputs": [
        {
          "output_type": "execute_result",
          "data": {
            "text/plain": [
              "Index(['Pclass', 'Name', 'Sex', 'SibSp', 'Parch', 'Ticket', 'Cabin',\n",
              "       'Embarked', 'PassengerId', 'Age', 'Fare'],\n",
              "      dtype='object')"
            ]
          },
          "metadata": {},
          "execution_count": 109
        }
      ]
    },
    {
      "cell_type": "code",
      "source": [
        "pd.DataFrame(dict(cols=xs1.columns, imp=rf_with_grid.feature_importances_)).plot('cols', 'imp', 'barh');"
      ],
      "metadata": {
        "colab": {
          "base_uri": "https://localhost:8080/",
          "height": 265
        },
        "id": "-E2_UkL-p6nA",
        "outputId": "1836a968-10ea-4693-d66a-6ad64b23814a"
      },
      "execution_count": 110,
      "outputs": [
        {
          "output_type": "display_data",
          "data": {
            "text/plain": [
              "<Figure size 432x288 with 1 Axes>"
            ],
            "image/png": "[encoded data removed]"
          },
          "metadata": {
            "needs_background": "light"
          }
        }
      ]
    },
    {
      "cell_type": "markdown",
      "source": [
        "## Removing Low-Importance Variables"
      ],
      "metadata": {
        "id": "cr4jknK4qzVs"
      }
    },
    {
      "cell_type": "code",
      "source": [
        "def rf_feat_importance(m, df):\n",
        "    return pd.DataFrame({'cols':df.columns, 'imp':m.feature_importances_}\n",
        "                       ).sort_values('imp', ascending=False)"
      ],
      "metadata": {
        "id": "elORMDkgrZcD"
      },
      "execution_count": 111,
      "outputs": []
    },
    {
      "cell_type": "code",
      "source": [
        "fi = rf_feat_importance(rf_with_grid, xs1)\n",
        "fi"
      ],
      "metadata": {
        "colab": {
          "base_uri": "https://localhost:8080/",
          "height": 394
        },
        "id": "RqfCVohCrKdG",
        "outputId": "242ebc7d-51ab-418b-f6c0-60f340ca02c9"
      },
      "execution_count": 112,
      "outputs": [
        {
          "output_type": "execute_result",
          "data": {
            "text/plain": [
              "           cols       imp\n",
              "2           Sex  0.242710\n",
              "5        Ticket  0.128027\n",
              "10         Fare  0.118065\n",
              "1          Name  0.109174\n",
              "8   PassengerId  0.108972\n",
              "9           Age  0.108418\n",
              "0        Pclass  0.060631\n",
              "6         Cabin  0.053905\n",
              "3         SibSp  0.025395\n",
              "4         Parch  0.024753\n",
              "7      Embarked  0.019953"
            ],
            "text/html": [
              "\n",
              "  <div id=\"df-b31eafc3-b17a-4786-8628-4a7744f634e5\">\n",
              "    <div class=\"colab-df-container\">\n",
              "      <div>\n",
              "<style scoped>\n",
              "    .dataframe tbody tr th:only-of-type {\n",
              "        vertical-align: middle;\n",
              "    }\n",
              "\n",
              "    .dataframe tbody tr th {\n",
              "        vertical-align: top;\n",
              "    }\n",
              "\n",
              "    .dataframe thead th {\n",
              "        text-align: right;\n",
              "    }\n",
              "</style>\n",
              "<table border=\"1\" class=\"dataframe\">\n",
              "  <thead>\n",
              "    <tr style=\"text-align: right;\">\n",
              "      <th></th>\n",
              "      <th>cols</th>\n",
              "      <th>imp</th>\n",
              "    </tr>\n",
              "  </thead>\n",
              "  <tbody>\n",
              "    <tr>\n",
              "      <th>2</th>\n",
              "      <td>Sex</td>\n",
              "      <td>0.242710</td>\n",
              "    </tr>\n",
              "    <tr>\n",
              "      <th>5</th>\n",
              "      <td>Ticket</td>\n",
              "      <td>0.128027</td>\n",
              "    </tr>\n",
              "    <tr>\n",
              "      <th>10</th>\n",
              "      <td>Fare</td>\n",
              "      <td>0.118065</td>\n",
              "    </tr>\n",
              "    <tr>\n",
              "      <th>1</th>\n",
              "      <td>Name</td>\n",
              "      <td>0.109174</td>\n",
              "    </tr>\n",
              "    <tr>\n",
              "      <th>8</th>\n",
              "      <td>PassengerId</td>\n",
              "      <td>0.108972</td>\n",
              "    </tr>\n",
              "    <tr>\n",
              "      <th>9</th>\n",
              "      <td>Age</td>\n",
              "      <td>0.108418</td>\n",
              "    </tr>\n",
              "    <tr>\n",
              "      <th>0</th>\n",
              "      <td>Pclass</td>\n",
              "      <td>0.060631</td>\n",
              "    </tr>\n",
              "    <tr>\n",
              "      <th>6</th>\n",
              "      <td>Cabin</td>\n",
              "      <td>0.053905</td>\n",
              "    </tr>\n",
              "    <tr>\n",
              "      <th>3</th>\n",
              "      <td>SibSp</td>\n",
              "      <td>0.025395</td>\n",
              "    </tr>\n",
              "    <tr>\n",
              "      <th>4</th>\n",
              "      <td>Parch</td>\n",
              "      <td>0.024753</td>\n",
              "    </tr>\n",
              "    <tr>\n",
              "      <th>7</th>\n",
              "      <td>Embarked</td>\n",
              "      <td>0.019953</td>\n",
              "    </tr>\n",
              "  </tbody>\n",
              "</table>\n",
              "</div>\n",
              "      <button class=\"colab-df-convert\" onclick=\"convertToInteractive('df-b31eafc3-b17a-4786-8628-4a7744f634e5')\"\n",
              "              title=\"Convert this dataframe to an interactive table.\"\n",
              "              style=\"display:none;\">\n",
              "        \n",
              "  <svg xmlns=\"http://www.w3.org/2000/svg\" height=\"24px\"viewBox=\"0 0 24 24\"\n",
              "       width=\"24px\">\n",
              "    <path d=\"M0 0h24v24H0V0z\" fill=\"none\"/>\n",
              "    <path d=\"M18.56 5.44l.94 2.06.94-2.06 2.06-.94-2.06-.94-.94-2.06-.94 2.06-2.06.94zm-11 1L8.5 8.5l.94-2.06 2.06-.94-2.06-.94L8.5 2.5l-.94 2.06-2.06.94zm10 10l.94 2.06.94-2.06 2.06-.94-2.06-.94-.94-2.06-.94 2.06-2.06.94z\"/><path d=\"M17.41 7.96l-1.37-1.37c-.4-.4-.92-.59-1.43-.59-.52 0-1.04.2-1.43.59L10.3 9.45l-7.72 7.72c-.78.78-.78 2.05 0 2.83L4 21.41c.39.39.9.59 1.41.59.51 0 1.02-.2 1.41-.59l7.78-7.78 2.81-2.81c.8-.78.8-2.07 0-2.86zM5.41 20L4 18.59l7.72-7.72 1.47 1.35L5.41 20z\"/>\n",
              "  </svg>\n",
              "      </button>\n",
              "      \n",
              "  <style>\n",
              "    .colab-df-container {\n",
              "      display:flex;\n",
              "      flex-wrap:wrap;\n",
              "      gap: 12px;\n",
              "    }\n",
              "\n",
              "    .colab-df-convert {\n",
              "      background-color: #E8F0FE;\n",
              "      border: none;\n",
              "      border-radius: 50%;\n",
              "      cursor: pointer;\n",
              "      display: none;\n",
              "      fill: #1967D2;\n",
              "      height: 32px;\n",
              "      padding: 0 0 0 0;\n",
              "      width: 32px;\n",
              "    }\n",
              "\n",
              "    .colab-df-convert:hover {\n",
              "      background-color: #E2EBFA;\n",
              "      box-shadow: 0px 1px 2px rgba(60, 64, 67, 0.3), 0px 1px 3px 1px rgba(60, 64, 67, 0.15);\n",
              "      fill: #174EA6;\n",
              "    }\n",
              "\n",
              "    [theme=dark] .colab-df-convert {\n",
              "      background-color: #3B4455;\n",
              "      fill: #D2E3FC;\n",
              "    }\n",
              "\n",
              "    [theme=dark] .colab-df-convert:hover {\n",
              "      background-color: #434B5C;\n",
              "      box-shadow: 0px 1px 3px 1px rgba(0, 0, 0, 0.15);\n",
              "      filter: drop-shadow(0px 1px 2px rgba(0, 0, 0, 0.3));\n",
              "      fill: #FFFFFF;\n",
              "    }\n",
              "  </style>\n",
              "\n",
              "      <script>\n",
              "        const buttonEl =\n",
              "          document.querySelector('#df-b31eafc3-b17a-4786-8628-4a7744f634e5 button.colab-df-convert');\n",
              "        buttonEl.style.display =\n",
              "          google.colab.kernel.accessAllowed ? 'block' : 'none';\n",
              "\n",
              "        async function convertToInteractive(key) {\n",
              "          const element = document.querySelector('#df-b31eafc3-b17a-4786-8628-4a7744f634e5');\n",
              "          const dataTable =\n",
              "            await google.colab.kernel.invokeFunction('convertToInteractive',\n",
              "                                                     [key], {});\n",
              "          if (!dataTable) return;\n",
              "\n",
              "          const docLinkHtml = 'Like what you see? Visit the ' +\n",
              "            '<a target=\"_blank\" href=https://colab.research.google.com/notebooks/data_table.ipynb>data table notebook</a>'\n",
              "            + ' to learn more about interactive tables.';\n",
              "          element.innerHTML = '';\n",
              "          dataTable['output_type'] = 'display_data';\n",
              "          await google.colab.output.renderOutput(dataTable, element);\n",
              "          const docLink = document.createElement('div');\n",
              "          docLink.innerHTML = docLinkHtml;\n",
              "          element.appendChild(docLink);\n",
              "        }\n",
              "      </script>\n",
              "    </div>\n",
              "  </div>\n",
              "  "
            ]
          },
          "metadata": {},
          "execution_count": 112
        }
      ]
    },
    {
      "cell_type": "code",
      "source": [
        "to_keep = fi[fi.imp>0.05].cols\n",
        "len(to_keep)"
      ],
      "metadata": {
        "colab": {
          "base_uri": "https://localhost:8080/"
        },
        "id": "SR8RBgBNqxvR",
        "outputId": "e97f02e4-e688-42ed-f7d5-105ca68372d1"
      },
      "execution_count": 113,
      "outputs": [
        {
          "output_type": "execute_result",
          "data": {
            "text/plain": [
              "8"
            ]
          },
          "metadata": {},
          "execution_count": 113
        }
      ]
    },
    {
      "cell_type": "code",
      "source": [
        "valid_xs1"
      ],
      "metadata": {
        "colab": {
          "base_uri": "https://localhost:8080/",
          "height": 424
        },
        "id": "1ZNKCm9KsAtO",
        "outputId": "a6a0f69a-db5a-4346-9e76-7447d9155ea1"
      },
      "execution_count": 114,
      "outputs": [
        {
          "output_type": "execute_result",
          "data": {
            "text/plain": [
              "     Pclass  Name  Sex  SibSp  Parch  Ticket  Cabin  Embarked  PassengerId  \\\n",
              "303       2   429    1      1      1     110    117         2    -0.546276   \n",
              "778       3   439    2      1      1     451     48         2     1.286214   \n",
              "531       3   819    2      1      1     182     48         1     0.333319   \n",
              "385       2   206    2      1      1     622     48         3    -0.229930   \n",
              "134       2   773    2      1      1     553     48         3    -1.198256   \n",
              "..      ...   ...  ...    ...    ...     ...    ...       ...          ...   \n",
              "770       3   481    2      1      1     314     48         3     1.255351   \n",
              "414       3   793    2      1      1     656     48         3    -0.118052   \n",
              "540       1   189    1      1      3     681     21         3     0.368040   \n",
              "298       1   715    2      1      1      99     52         3    -0.565565   \n",
              "489       3   183    2      2      2     563     48         3     0.171288   \n",
              "\n",
              "          Age      Fare  \n",
              "303 -0.343982 -0.387332  \n",
              "778 -0.343982 -0.477246  \n",
              "531 -0.343982 -0.487154  \n",
              "385 -0.800148  0.804687  \n",
              "134 -0.267954 -0.374662  \n",
              "..        ...       ...  \n",
              "770 -0.343982 -0.442889  \n",
              "414  1.176571 -0.473591  \n",
              "540  0.568350  0.755954  \n",
              "298 -0.343982 -0.033528  \n",
              "489 -1.484397 -0.318131  \n",
              "\n",
              "[178 rows x 11 columns]"
            ],
            "text/html": [
              "\n",
              "  <div id=\"df-b913fcf0-107b-4d95-bf2a-02688c89a62c\">\n",
              "    <div class=\"colab-df-container\">\n",
              "      <div>\n",
              "<style scoped>\n",
              "    .dataframe tbody tr th:only-of-type {\n",
              "        vertical-align: middle;\n",
              "    }\n",
              "\n",
              "    .dataframe tbody tr th {\n",
              "        vertical-align: top;\n",
              "    }\n",
              "\n",
              "    .dataframe thead th {\n",
              "        text-align: right;\n",
              "    }\n",
              "</style>\n",
              "<table border=\"1\" class=\"dataframe\">\n",
              "  <thead>\n",
              "    <tr style=\"text-align: right;\">\n",
              "      <th></th>\n",
              "      <th>Pclass</th>\n",
              "      <th>Name</th>\n",
              "      <th>Sex</th>\n",
              "      <th>SibSp</th>\n",
              "      <th>Parch</th>\n",
              "      <th>Ticket</th>\n",
              "      <th>Cabin</th>\n",
              "      <th>Embarked</th>\n",
              "      <th>PassengerId</th>\n",
              "      <th>Age</th>\n",
              "      <th>Fare</th>\n",
              "    </tr>\n",
              "  </thead>\n",
              "  <tbody>\n",
              "    <tr>\n",
              "      <th>303</th>\n",
              "      <td>2</td>\n",
              "      <td>429</td>\n",
              "      <td>1</td>\n",
              "      <td>1</td>\n",
              "      <td>1</td>\n",
              "      <td>110</td>\n",
              "      <td>117</td>\n",
              "      <td>2</td>\n",
              "      <td>-0.546276</td>\n",
              "      <td>-0.343982</td>\n",
              "      <td>-0.387332</td>\n",
              "    </tr>\n",
              "    <tr>\n",
              "      <th>778</th>\n",
              "      <td>3</td>\n",
              "      <td>439</td>\n",
              "      <td>2</td>\n",
              "      <td>1</td>\n",
              "      <td>1</td>\n",
              "      <td>451</td>\n",
              "      <td>48</td>\n",
              "      <td>2</td>\n",
              "      <td>1.286214</td>\n",
              "      <td>-0.343982</td>\n",
              "      <td>-0.477246</td>\n",
              "    </tr>\n",
              "    <tr>\n",
              "      <th>531</th>\n",
              "      <td>3</td>\n",
              "      <td>819</td>\n",
              "      <td>2</td>\n",
              "      <td>1</td>\n",
              "      <td>1</td>\n",
              "      <td>182</td>\n",
              "      <td>48</td>\n",
              "      <td>1</td>\n",
              "      <td>0.333319</td>\n",
              "      <td>-0.343982</td>\n",
              "      <td>-0.487154</td>\n",
              "    </tr>\n",
              "    <tr>\n",
              "      <th>385</th>\n",
              "      <td>2</td>\n",
              "      <td>206</td>\n",
              "      <td>2</td>\n",
              "      <td>1</td>\n",
              "      <td>1</td>\n",
              "      <td>622</td>\n",
              "      <td>48</td>\n",
              "      <td>3</td>\n",
              "      <td>-0.229930</td>\n",
              "      <td>-0.800148</td>\n",
              "      <td>0.804687</td>\n",
              "    </tr>\n",
              "    <tr>\n",
              "      <th>134</th>\n",
              "      <td>2</td>\n",
              "      <td>773</td>\n",
              "      <td>2</td>\n",
              "      <td>1</td>\n",
              "      <td>1</td>\n",
              "      <td>553</td>\n",
              "      <td>48</td>\n",
              "      <td>3</td>\n",
              "      <td>-1.198256</td>\n",
              "      <td>-0.267954</td>\n",
              "      <td>-0.374662</td>\n",
              "    </tr>\n",
              "    <tr>\n",
              "      <th>...</th>\n",
              "      <td>...</td>\n",
              "      <td>...</td>\n",
              "      <td>...</td>\n",
              "      <td>...</td>\n",
              "      <td>...</td>\n",
              "      <td>...</td>\n",
              "      <td>...</td>\n",
              "      <td>...</td>\n",
              "      <td>...</td>\n",
              "      <td>...</td>\n",
              "      <td>...</td>\n",
              "    </tr>\n",
              "    <tr>\n",
              "      <th>770</th>\n",
              "      <td>3</td>\n",
              "      <td>481</td>\n",
              "      <td>2</td>\n",
              "      <td>1</td>\n",
              "      <td>1</td>\n",
              "      <td>314</td>\n",
              "      <td>48</td>\n",
              "      <td>3</td>\n",
              "      <td>1.255351</td>\n",
              "      <td>-0.343982</td>\n",
              "      <td>-0.442889</td>\n",
              "    </tr>\n",
              "    <tr>\n",
              "      <th>414</th>\n",
              "      <td>3</td>\n",
              "      <td>793</td>\n",
              "      <td>2</td>\n",
              "      <td>1</td>\n",
              "      <td>1</td>\n",
              "      <td>656</td>\n",
              "      <td>48</td>\n",
              "      <td>3</td>\n",
              "      <td>-0.118052</td>\n",
              "      <td>1.176571</td>\n",
              "      <td>-0.473591</td>\n",
              "    </tr>\n",
              "    <tr>\n",
              "      <th>540</th>\n",
              "      <td>1</td>\n",
              "      <td>189</td>\n",
              "      <td>1</td>\n",
              "      <td>1</td>\n",
              "      <td>3</td>\n",
              "      <td>681</td>\n",
              "      <td>21</td>\n",
              "      <td>3</td>\n",
              "      <td>0.368040</td>\n",
              "      <td>0.568350</td>\n",
              "      <td>0.755954</td>\n",
              "    </tr>\n",
              "    <tr>\n",
              "      <th>298</th>\n",
              "      <td>1</td>\n",
              "      <td>715</td>\n",
              "      <td>2</td>\n",
              "      <td>1</td>\n",
              "      <td>1</td>\n",
              "      <td>99</td>\n",
              "      <td>52</td>\n",
              "      <td>3</td>\n",
              "      <td>-0.565565</td>\n",
              "      <td>-0.343982</td>\n",
              "      <td>-0.033528</td>\n",
              "    </tr>\n",
              "    <tr>\n",
              "      <th>489</th>\n",
              "      <td>3</td>\n",
              "      <td>183</td>\n",
              "      <td>2</td>\n",
              "      <td>2</td>\n",
              "      <td>2</td>\n",
              "      <td>563</td>\n",
              "      <td>48</td>\n",
              "      <td>3</td>\n",
              "      <td>0.171288</td>\n",
              "      <td>-1.484397</td>\n",
              "      <td>-0.318131</td>\n",
              "    </tr>\n",
              "  </tbody>\n",
              "</table>\n",
              "<p>178 rows × 11 columns</p>\n",
              "</div>\n",
              "      <button class=\"colab-df-convert\" onclick=\"convertToInteractive('df-b913fcf0-107b-4d95-bf2a-02688c89a62c')\"\n",
              "              title=\"Convert this dataframe to an interactive table.\"\n",
              "              style=\"display:none;\">\n",
              "        \n",
              "  <svg xmlns=\"http://www.w3.org/2000/svg\" height=\"24px\"viewBox=\"0 0 24 24\"\n",
              "       width=\"24px\">\n",
              "    <path d=\"M0 0h24v24H0V0z\" fill=\"none\"/>\n",
              "    <path d=\"M18.56 5.44l.94 2.06.94-2.06 2.06-.94-2.06-.94-.94-2.06-.94 2.06-2.06.94zm-11 1L8.5 8.5l.94-2.06 2.06-.94-2.06-.94L8.5 2.5l-.94 2.06-2.06.94zm10 10l.94 2.06.94-2.06 2.06-.94-2.06-.94-.94-2.06-.94 2.06-2.06.94z\"/><path d=\"M17.41 7.96l-1.37-1.37c-.4-.4-.92-.59-1.43-.59-.52 0-1.04.2-1.43.59L10.3 9.45l-7.72 7.72c-.78.78-.78 2.05 0 2.83L4 21.41c.39.39.9.59 1.41.59.51 0 1.02-.2 1.41-.59l7.78-7.78 2.81-2.81c.8-.78.8-2.07 0-2.86zM5.41 20L4 18.59l7.72-7.72 1.47 1.35L5.41 20z\"/>\n",
              "  </svg>\n",
              "      </button>\n",
              "      \n",
              "  <style>\n",
              "    .colab-df-container {\n",
              "      display:flex;\n",
              "      flex-wrap:wrap;\n",
              "      gap: 12px;\n",
              "    }\n",
              "\n",
              "    .colab-df-convert {\n",
              "      background-color: #E8F0FE;\n",
              "      border: none;\n",
              "      border-radius: 50%;\n",
              "      cursor: pointer;\n",
              "      display: none;\n",
              "      fill: #1967D2;\n",
              "      height: 32px;\n",
              "      padding: 0 0 0 0;\n",
              "      width: 32px;\n",
              "    }\n",
              "\n",
              "    .colab-df-convert:hover {\n",
              "      background-color: #E2EBFA;\n",
              "      box-shadow: 0px 1px 2px rgba(60, 64, 67, 0.3), 0px 1px 3px 1px rgba(60, 64, 67, 0.15);\n",
              "      fill: #174EA6;\n",
              "    }\n",
              "\n",
              "    [theme=dark] .colab-df-convert {\n",
              "      background-color: #3B4455;\n",
              "      fill: #D2E3FC;\n",
              "    }\n",
              "\n",
              "    [theme=dark] .colab-df-convert:hover {\n",
              "      background-color: #434B5C;\n",
              "      box-shadow: 0px 1px 3px 1px rgba(0, 0, 0, 0.15);\n",
              "      filter: drop-shadow(0px 1px 2px rgba(0, 0, 0, 0.3));\n",
              "      fill: #FFFFFF;\n",
              "    }\n",
              "  </style>\n",
              "\n",
              "      <script>\n",
              "        const buttonEl =\n",
              "          document.querySelector('#df-b913fcf0-107b-4d95-bf2a-02688c89a62c button.colab-df-convert');\n",
              "        buttonEl.style.display =\n",
              "          google.colab.kernel.accessAllowed ? 'block' : 'none';\n",
              "\n",
              "        async function convertToInteractive(key) {\n",
              "          const element = document.querySelector('#df-b913fcf0-107b-4d95-bf2a-02688c89a62c');\n",
              "          const dataTable =\n",
              "            await google.colab.kernel.invokeFunction('convertToInteractive',\n",
              "                                                     [key], {});\n",
              "          if (!dataTable) return;\n",
              "\n",
              "          const docLinkHtml = 'Like what you see? Visit the ' +\n",
              "            '<a target=\"_blank\" href=https://colab.research.google.com/notebooks/data_table.ipynb>data table notebook</a>'\n",
              "            + ' to learn more about interactive tables.';\n",
              "          element.innerHTML = '';\n",
              "          dataTable['output_type'] = 'display_data';\n",
              "          await google.colab.output.renderOutput(dataTable, element);\n",
              "          const docLink = document.createElement('div');\n",
              "          docLink.innerHTML = docLinkHtml;\n",
              "          element.appendChild(docLink);\n",
              "        }\n",
              "      </script>\n",
              "    </div>\n",
              "  </div>\n",
              "  "
            ]
          },
          "metadata": {},
          "execution_count": 114
        }
      ]
    },
    {
      "cell_type": "code",
      "source": [
        "xs_imp = xs1[to_keep]\n",
        "valid_xs_imp = valid_xs1[to_keep]"
      ],
      "metadata": {
        "id": "AaIloeqvqxoe"
      },
      "execution_count": 115,
      "outputs": []
    },
    {
      "cell_type": "code",
      "source": [
        "def rfc(xs, y, n_estimators=100, min_samples_leaf=4):\n",
        "  rf_with_grid = RandomForestClassifier(n_estimators=n_estimators, min_samples_leaf=min_samples_leaf)\n",
        "  rf_with_grid.fit(xs1, y1);\n",
        "  return accuracy_score(valid_y1, rf_with_grid.predict(valid_xs1))"
      ],
      "metadata": {
        "id": "AKITwJEYqxie"
      },
      "execution_count": 119,
      "outputs": []
    },
    {
      "cell_type": "code",
      "source": [
        "acc = rfc(xs_imp,valid_xs_imp)\n",
        "acc"
      ],
      "metadata": {
        "colab": {
          "base_uri": "https://localhost:8080/"
        },
        "id": "5CqrTq5UqxfX",
        "outputId": "c0fb216a-4772-4bd0-e885-82d49b214eac"
      },
      "execution_count": 121,
      "outputs": [
        {
          "output_type": "execute_result",
          "data": {
            "text/plain": [
              "0.8370786516853933"
            ]
          },
          "metadata": {},
          "execution_count": 121
        }
      ]
    },
    {
      "cell_type": "code",
      "source": [],
      "metadata": {
        "id": "NpNz3ZtwtcXG"
      },
      "execution_count": null,
      "outputs": []
    },
    {
      "cell_type": "markdown",
      "source": [
        "# Random forest Ensembling"
      ],
      "metadata": {
        "id": "LwFp2NruAe4i"
      }
    },
    {
      "cell_type": "code",
      "source": [],
      "metadata": {
        "id": "AhzhQ2i7Ay8I"
      },
      "execution_count": null,
      "outputs": []
    },
    {
      "cell_type": "code",
      "source": [],
      "metadata": {
        "id": "J11Kl2u_ptzn"
      },
      "execution_count": null,
      "outputs": []
    },
    {
      "cell_type": "code",
      "source": [],
      "metadata": {
        "id": "FkTZyJqZptqt"
      },
      "execution_count": null,
      "outputs": []
    }
  ]
}